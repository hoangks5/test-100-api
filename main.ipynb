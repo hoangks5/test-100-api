{
 "cells": [
  {
   "cell_type": "code",
   "execution_count": 1,
   "metadata": {},
   "outputs": [],
   "source": [
    "import requests"
   ]
  },
  {
   "cell_type": "code",
   "execution_count": 49,
   "metadata": {},
   "outputs": [],
   "source": [
    "def run_test(endpoint):\n",
    "    url = 'https://100api.orai.dev/{endpoint}'\n",
    "    files = {'input_source': open('./images.jpeg','rb')}\n",
    "    headers = {\n",
    "            'Authorization': 'ai_market'\n",
    "        }\n",
    "    response = requests.post(url, files=files, headers=headers)\n",
    "    with open('image.png', 'wb') as f:\n",
    "            for chunk in response:\n",
    "                f.write(chunk)"
   ]
  },
  {
   "cell_type": "code",
   "execution_count": 54,
   "metadata": {},
   "outputs": [],
   "source": [
    "url = 'https://100api.orai.dev/cv001'\n",
    "data = {'input_source_hash': 'QmVMFbKgoG2r1BZQW5hpiYUAt2ZTJFFBs6tW6UCRqeKRrM'}\n",
    "headers = {\n",
    "        'Authorization': 'ai_market'\n",
    "    }\n",
    "response = requests.post(url, data=data, headers=headers)\n",
    "print(response.json())"
   ]
  },
  {
   "cell_type": "code",
   "execution_count": 57,
   "metadata": {},
   "outputs": [
    {
     "data": {
      "text/plain": [
       "'https://gateway.ipfs.io/ipfs/QmQn8GzawA1LivdLmQsqTtcMSeqM44tKgEYAu1syo6NWoV'"
      ]
     },
     "execution_count": 57,
     "metadata": {},
     "output_type": "execute_result"
    }
   ],
   "source": [
    "r = 'https://gateway.ipfs.io/ipfs/'+response.json()['Hash']\n",
    "r"
   ]
  },
  {
   "cell_type": "code",
   "execution_count": null,
   "metadata": {},
   "outputs": [],
   "source": []
  }
 ],
 "metadata": {
  "kernelspec": {
   "display_name": "Python 3.10.5 64-bit",
   "language": "python",
   "name": "python3"
  },
  "language_info": {
   "codemirror_mode": {
    "name": "ipython",
    "version": 3
   },
   "file_extension": ".py",
   "mimetype": "text/x-python",
   "name": "python",
   "nbconvert_exporter": "python",
   "pygments_lexer": "ipython3",
   "version": "3.10.5"
  },
  "orig_nbformat": 4,
  "vscode": {
   "interpreter": {
    "hash": "aee8b7b246df8f9039afb4144a1f6fd8d2ca17a180786b69acc140d282b71a49"
   }
  }
 },
 "nbformat": 4,
 "nbformat_minor": 2
}
