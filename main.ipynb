{
 "cells": [
  {
   "cell_type": "code",
   "execution_count": 59,
   "metadata": {},
   "outputs": [],
   "source": [
    "import requests\n",
    "import os\n",
    "os.remove(\"image.png\")"
   ]
  },
  {
   "cell_type": "code",
   "execution_count": 64,
   "metadata": {},
   "outputs": [],
   "source": [
    "def run_test(endpoint):\n",
    "    url = 'https://100api.orai.dev/'+endpoint\n",
    "    files = {'input_source': open('./images.jpeg','rb')}\n",
    "    headers = {\n",
    "            'Authorization': 'ai_market'\n",
    "        }\n",
    "    response = requests.post(url, files=files, headers=headers)\n",
    "    with open('image.png', 'wb') as f:\n",
    "            for chunk in response:\n",
    "                f.write(chunk)\n",
    "\n",
    "def run_test1(endpoint):\n",
    "    data = {'input_source_hash': 'QmVMFbKgoG2r1BZQW5hpiYUAt2ZTJFFBs6tW6UCRqeKRrM'}\n",
    "    headers = {\n",
    "            'Authorization': 'ai_market'\n",
    "        }\n",
    "    response = requests.post(url, data=data, headers=headers)\n",
    "    print(response.json())"
   ]
  },
  {
   "cell_type": "code",
   "execution_count": 83,
   "metadata": {},
   "outputs": [
    {
     "name": "stdout",
     "output_type": "stream",
     "text": [
      "{'Hash': 'QmQn8GzawA1LivdLmQsqTtcMSeqM44tKgEYAu1syo6NWoV', 'Name': 'file', 'Size': '22006'}\n"
     ]
    }
   ],
   "source": [
    "run_test('cv001')"
   ]
  },
  {
   "cell_type": "code",
   "execution_count": null,
   "metadata": {},
   "outputs": [],
   "source": []
  }
 ],
 "metadata": {
  "kernelspec": {
   "display_name": "Python 3.10.5 64-bit",
   "language": "python",
   "name": "python3"
  },
  "language_info": {
   "codemirror_mode": {
    "name": "ipython",
    "version": 3
   },
   "file_extension": ".py",
   "mimetype": "text/x-python",
   "name": "python",
   "nbconvert_exporter": "python",
   "pygments_lexer": "ipython3",
   "version": "3.10.5"
  },
  "orig_nbformat": 4,
  "vscode": {
   "interpreter": {
    "hash": "aee8b7b246df8f9039afb4144a1f6fd8d2ca17a180786b69acc140d282b71a49"
   }
  }
 },
 "nbformat": 4,
 "nbformat_minor": 2
}
