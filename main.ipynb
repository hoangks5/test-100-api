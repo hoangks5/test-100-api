{
 "cells": [
  {
   "cell_type": "code",
   "execution_count": 1,
   "metadata": {},
   "outputs": [],
   "source": [
    "import requests"
   ]
  },
  {
   "cell_type": "code",
   "execution_count": 38,
   "metadata": {},
   "outputs": [],
   "source": [
    "url = 'https://100api.orai.dev/cv001'\n",
    "files = {'input_source': open('./images.jpeg','rb')}\n",
    "headers = {\n",
    "        'Authorization': 'ai_market'\n",
    "    }\n",
    "response = requests.post(url, files=files, headers=headers)\n",
    "with open('image.png', 'wb') as f:\n",
    "        for chunk in response:\n",
    "            f.write(chunk)"
   ]
  },
  {
   "cell_type": "code",
   "execution_count": 42,
   "metadata": {},
   "outputs": [
    {
     "ename": "TypeError",
     "evalue": "'str' object is not callable",
     "output_type": "error",
     "traceback": [
      "\u001b[0;31m---------------------------------------------------------------------------\u001b[0m",
      "\u001b[0;31mTypeError\u001b[0m                                 Traceback (most recent call last)",
      "\u001b[1;32m/Users/oraichain/Desktop/test 100 api/main.ipynb Cell 3\u001b[0m in \u001b[0;36m<cell line: 7>\u001b[0;34m()\u001b[0m\n\u001b[1;32m      <a href='vscode-notebook-cell:/Users/oraichain/Desktop/test%20100%20api/main.ipynb#ch0000005?line=2'>3</a>\u001b[0m headers \u001b[39m=\u001b[39m {\n\u001b[1;32m      <a href='vscode-notebook-cell:/Users/oraichain/Desktop/test%20100%20api/main.ipynb#ch0000005?line=3'>4</a>\u001b[0m         \u001b[39m'\u001b[39m\u001b[39mAuthorization\u001b[39m\u001b[39m'\u001b[39m: \u001b[39m'\u001b[39m\u001b[39mai_market\u001b[39m\u001b[39m'\u001b[39m\n\u001b[1;32m      <a href='vscode-notebook-cell:/Users/oraichain/Desktop/test%20100%20api/main.ipynb#ch0000005?line=4'>5</a>\u001b[0m     }\n\u001b[1;32m      <a href='vscode-notebook-cell:/Users/oraichain/Desktop/test%20100%20api/main.ipynb#ch0000005?line=5'>6</a>\u001b[0m response \u001b[39m=\u001b[39m requests\u001b[39m.\u001b[39mpost(url, files\u001b[39m=\u001b[39mfiles, headers\u001b[39m=\u001b[39mheaders)\n\u001b[0;32m----> <a href='vscode-notebook-cell:/Users/oraichain/Desktop/test%20100%20api/main.ipynb#ch0000005?line=6'>7</a>\u001b[0m response\u001b[39m.\u001b[39;49mtext()\n",
      "\u001b[0;31mTypeError\u001b[0m: 'str' object is not callable"
     ]
    }
   ],
   "source": [
    "url = 'https://100api.orai.dev/cv001'\n",
    "files = {'input_source_hash': 'QmVMFbKgoG2r1BZQW5hpiYUAt2ZTJFFBs6tW6UCRqeKRrM'}\n",
    "headers = {\n",
    "        'Authorization': 'ai_market'\n",
    "    }\n",
    "response = requests.post(url, files=files, headers=headers)\n",
    "response.text"
   ]
  },
  {
   "cell_type": "code",
   "execution_count": null,
   "metadata": {},
   "outputs": [],
   "source": []
  }
 ],
 "metadata": {
  "kernelspec": {
   "display_name": "Python 3.10.5 64-bit",
   "language": "python",
   "name": "python3"
  },
  "language_info": {
   "codemirror_mode": {
    "name": "ipython",
    "version": 3
   },
   "file_extension": ".py",
   "mimetype": "text/x-python",
   "name": "python",
   "nbconvert_exporter": "python",
   "pygments_lexer": "ipython3",
   "version": "3.10.5"
  },
  "orig_nbformat": 4,
  "vscode": {
   "interpreter": {
    "hash": "aee8b7b246df8f9039afb4144a1f6fd8d2ca17a180786b69acc140d282b71a49"
   }
  }
 },
 "nbformat": 4,
 "nbformat_minor": 2
}
