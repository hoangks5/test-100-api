{
 "cells": [
  {
   "cell_type": "code",
   "execution_count": 1,
   "metadata": {},
   "outputs": [],
   "source": [
    "import requests\n",
    "import threading"
   ]
  },
  {
   "cell_type": "code",
   "execution_count": 2,
   "metadata": {},
   "outputs": [
    {
     "ename": "FileNotFoundError",
     "evalue": "[Errno 2] No such file or directory: '.cach-chon-thit-vit-ngon-va-so-che-vit-sach-khong-hoi-tipsnote-800x450-6.jpeg'",
     "output_type": "error",
     "traceback": [
      "\u001b[0;31m---------------------------------------------------------------------------\u001b[0m",
      "\u001b[0;31mFileNotFoundError\u001b[0m                         Traceback (most recent call last)",
      "\u001b[1;32m/Users/oraichain/Desktop/test 100 api/main.ipynb Cell 2\u001b[0m in \u001b[0;36m<cell line: 2>\u001b[0;34m()\u001b[0m\n\u001b[1;32m      <a href='vscode-notebook-cell:/Users/oraichain/Desktop/test%20100%20api/main.ipynb#W1sZmlsZQ%3D%3D?line=0'>1</a>\u001b[0m url \u001b[39m=\u001b[39m \u001b[39m'\u001b[39m\u001b[39mhttp://128.199.70.52:5001/api/v0/add\u001b[39m\u001b[39m'\u001b[39m\n\u001b[0;32m----> <a href='vscode-notebook-cell:/Users/oraichain/Desktop/test%20100%20api/main.ipynb#W1sZmlsZQ%3D%3D?line=1'>2</a>\u001b[0m files \u001b[39m=\u001b[39m {\u001b[39m'\u001b[39m\u001b[39mfile\u001b[39m\u001b[39m'\u001b[39m: \u001b[39mopen\u001b[39;49m(\u001b[39m'\u001b[39;49m\u001b[39m.cach-chon-thit-vit-ngon-va-so-che-vit-sach-khong-hoi-tipsnote-800x450-6.jpeg\u001b[39;49m\u001b[39m'\u001b[39;49m,\u001b[39m'\u001b[39;49m\u001b[39mrb\u001b[39;49m\u001b[39m'\u001b[39;49m)}\n\u001b[1;32m      <a href='vscode-notebook-cell:/Users/oraichain/Desktop/test%20100%20api/main.ipynb#W1sZmlsZQ%3D%3D?line=2'>3</a>\u001b[0m response \u001b[39m=\u001b[39m requests\u001b[39m.\u001b[39mpost(url, files\u001b[39m=\u001b[39mfiles)\n\u001b[1;32m      <a href='vscode-notebook-cell:/Users/oraichain/Desktop/test%20100%20api/main.ipynb#W1sZmlsZQ%3D%3D?line=3'>4</a>\u001b[0m response\u001b[39m.\u001b[39mjson()\n",
      "\u001b[0;31mFileNotFoundError\u001b[0m: [Errno 2] No such file or directory: '.cach-chon-thit-vit-ngon-va-so-che-vit-sach-khong-hoi-tipsnote-800x450-6.jpeg'"
     ]
    }
   ],
   "source": [
    "url = 'http://128.199.70.52:5001/api/v0/add'\n",
    "files = {'file': open('./cach-chon-thit-vit-ngon-va-so-che-vit-sach-khong-hoi-tipsnote-800x450-6.jpeg','rb')}\n",
    "response = requests.post(url, files=files)\n",
    "response.json()"
   ]
  },
  {
   "cell_type": "code",
   "execution_count": 87,
   "metadata": {},
   "outputs": [],
   "source": [
    "def run_test(endpoint):\n",
    "    url = 'https://100api.orai.dev/'+endpoint\n",
    "    files = {'input_source': open('./images.jpeg','rb')}\n",
    "    headers = {\n",
    "            'Authorization': 'ai_market'\n",
    "        }\n",
    "    response = requests.post(url, files=files, headers=headers)\n",
    "    with open('image.png', 'wb') as f:\n",
    "            for chunk in response:\n",
    "                f.write(chunk)\n",
    "\n",
    "def run_test1(endpoint):\n",
    "    url = 'https://100api.orai.dev/'+endpoint\n",
    "    data = {'input_source_hash': 'QmVMFbKgoG2r1BZQW5hpiYUAt2ZTJFFBs6tW6UCRqeKRrM'}\n",
    "    headers = {\n",
    "            'Authorization': 'ai_market'\n",
    "        }\n",
    "    response = requests.post(url, data=data, headers=headers)\n",
    "    print(response.json())\n",
    "def run(endpoint):\n",
    "    x = []\n",
    "    x.append(threading.Thread(target=run_test,args={endpoint,}))\n",
    "    x.append(threading.Thread(target=run_test1,args={endpoint,}))\n",
    "    for x1 in x:\n",
    "        x1.start()\n"
   ]
  },
  {
   "cell_type": "code",
   "execution_count": 88,
   "metadata": {},
   "outputs": [],
   "source": [
    "run('cv001')"
   ]
  },
  {
   "cell_type": "code",
   "execution_count": null,
   "metadata": {},
   "outputs": [],
   "source": []
  }
 ],
 "metadata": {
  "kernelspec": {
   "display_name": "Python 3.10.5 64-bit",
   "language": "python",
   "name": "python3"
  },
  "language_info": {
   "codemirror_mode": {
    "name": "ipython",
    "version": 3
   },
   "file_extension": ".py",
   "mimetype": "text/x-python",
   "name": "python",
   "nbconvert_exporter": "python",
   "pygments_lexer": "ipython3",
   "version": "3.10.5"
  },
  "orig_nbformat": 4,
  "vscode": {
   "interpreter": {
    "hash": "aee8b7b246df8f9039afb4144a1f6fd8d2ca17a180786b69acc140d282b71a49"
   }
  }
 },
 "nbformat": 4,
 "nbformat_minor": 2
}
