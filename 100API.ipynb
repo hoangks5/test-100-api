{
 "cells": [
  {
   "cell_type": "code",
   "execution_count": 1,
   "metadata": {},
   "outputs": [],
   "source": [
    "import requests\n",
    "import os\n"
   ]
  },
  {
   "cell_type": "code",
   "execution_count": 16,
   "metadata": {},
   "outputs": [
    {
     "name": "stdout",
     "output_type": "stream",
     "text": [
      "{'input_source_hash': 'QmahGzqFngQnQ81gpWf5o6UkPWEH9BYWUigoeCTxSqAFsV'}\n",
      "{'Hash': 'QmZcMhLCSmXmboqhYfRrDLtTXdTkQPuPFYQS4fc9VLuAWP', 'Name': 'file', 'Size': '7922'}\n"
     ]
    }
   ],
   "source": [
    "#CV001\n",
    "url = 'https://100api.orai.dev/cv001'\n",
    "data = {'input_source_hash': 'QmahGzqFngQnQ81gpWf5o6UkPWEH9BYWUigoeCTxSqAFsV'}\n",
    "headers = {\n",
    "        'Authorization': 'ai_market'\n",
    "    }\n",
    "response = requests.post(url, data=data, headers=headers)\n",
    "print(data)\n",
    "print(response.json())"
   ]
  },
  {
   "cell_type": "code",
   "execution_count": 4,
   "metadata": {},
   "outputs": [
    {
     "name": "stdout",
     "output_type": "stream",
     "text": [
      "{'input_source_hash': 'QmahGzqFngQnQ81gpWf5o6UkPWEH9BYWUigoeCTxSqAFsV'}\n",
      "{'Hash': 'QmaQEmMm8C5tE7CQFoVk54bzEtTNUSH1u5iTprRkPLD6z8', 'Name': 'file', 'Size': '7294'}\n"
     ]
    }
   ],
   "source": [
    "#CV001_2\n",
    "url = 'https://100api.orai.dev/cv001_2'\n",
    "data = {'input_source_hash': 'QmahGzqFngQnQ81gpWf5o6UkPWEH9BYWUigoeCTxSqAFsV'}\n",
    "headers = {\n",
    "        'Authorization': 'ai_market'\n",
    "    }\n",
    "response = requests.post(url, data=data, headers=headers)\n",
    "print(data)\n",
    "print(response.json())"
   ]
  },
  {
   "cell_type": "code",
   "execution_count": 5,
   "metadata": {},
   "outputs": [
    {
     "name": "stdout",
     "output_type": "stream",
     "text": [
      "{'input_source_hash': 'QmahGzqFngQnQ81gpWf5o6UkPWEH9BYWUigoeCTxSqAFsV'}\n",
      "{'Hash': 'QmQ97rXSpoa31QSbKSrPWnwSBUrvkC1wM6QWYv63P6jtcs', 'Name': 'file', 'Size': '20296'}\n"
     ]
    }
   ],
   "source": [
    "#CV002\n",
    "url = 'https://100api.orai.dev/cv002'\n",
    "data = {'input_source_hash': 'QmahGzqFngQnQ81gpWf5o6UkPWEH9BYWUigoeCTxSqAFsV'}\n",
    "headers = { \n",
    "        'Authorization': 'ai_market'\n",
    "    }\n",
    "response = requests.post(url, data=data, headers=headers)\n",
    "print(data)\n",
    "print(response.json())"
   ]
  },
  {
   "cell_type": "code",
   "execution_count": 7,
   "metadata": {},
   "outputs": [
    {
     "name": "stdout",
     "output_type": "stream",
     "text": [
      "{'input_source_hash': 'QmahGzqFngQnQ81gpWf5o6UkPWEH9BYWUigoeCTxSqAFsV'}\n",
      "{'Hash': 'QmWYtM7zp3s698EKK1ybWkwpBKg8eNLvEf2bSRtLtzpBnw', 'Name': 'file', 'Size': '11918'}\n"
     ]
    }
   ],
   "source": [
    "#CV002_2\n",
    "url = 'https://100api.orai.dev/cv002_2'\n",
    "data = {'input_source_hash': 'QmahGzqFngQnQ81gpWf5o6UkPWEH9BYWUigoeCTxSqAFsV'}\n",
    "headers = {\n",
    "        'Authorization': 'ai_market'\n",
    "    }\n",
    "response = requests.post(url, data=data, headers=headers)\n",
    "print(data)\n",
    "print(response.json())"
   ]
  },
  {
   "cell_type": "code",
   "execution_count": 8,
   "metadata": {},
   "outputs": [
    {
     "name": "stdout",
     "output_type": "stream",
     "text": [
      "{'input_source_hash': 'QmahGzqFngQnQ81gpWf5o6UkPWEH9BYWUigoeCTxSqAFsV'}\n",
      "{'Hash': 'QmdD7TjPfwXYgJjLZQQ4dpaVAjZyCS4cv2o6vKJ5eB2P1k', 'Name': 'output_1661764306.6392357.jpg', 'Size': '25576'}\n"
     ]
    }
   ],
   "source": [
    "#CV002_3\n",
    "url = 'https://100api.orai.dev/cv002_3'\n",
    "data = {'input_source_hash': 'QmahGzqFngQnQ81gpWf5o6UkPWEH9BYWUigoeCTxSqAFsV'}\n",
    "headers = {\n",
    "        'Authorization': 'ai_market'\n",
    "    }\n",
    "response = requests.post(url, data=data, headers=headers)\n",
    "print(data)\n",
    "print(response.json())"
   ]
  },
  {
   "cell_type": "code",
   "execution_count": 14,
   "metadata": {},
   "outputs": [
    {
     "name": "stdout",
     "output_type": "stream",
     "text": [
      "{'input_source_hash': 'QmahGzqFngQnQ81gpWf5o6UkPWEH9BYWUigoeCTxSqAFsV'}\n",
      "{'data': 'empty range for randrange() (0, 0, 0)', 'status': 'error'}\n"
     ]
    }
   ],
   "source": [
    "#CV003_1\n",
    "url = 'https://100api.orai.dev/cv003_1'\n",
    "data = {'input_source_hash': 'QmahGzqFngQnQ81gpWf5o6UkPWEH9BYWUigoeCTxSqAFsV'}\n",
    "headers = {\n",
    "        'Authorization': 'ai_market'\n",
    "    }\n",
    "response = requests.post(url, data=data, headers=headers)\n",
    "print(data)\n",
    "print(response.json())"
   ]
  },
  {
   "cell_type": "code",
   "execution_count": 15,
   "metadata": {},
   "outputs": [
    {
     "name": "stdout",
     "output_type": "stream",
     "text": [
      "{'input_source_hash': 'QmahGzqFngQnQ81gpWf5o6UkPWEH9BYWUigoeCTxSqAFsV'}\n",
      "{'data': 'empty range for randrange() (0, 0, 0)', 'status': 'error'}\n"
     ]
    }
   ],
   "source": [
    "#CV003_2\n",
    "url = 'https://100api.orai.dev/cv003_2'\n",
    "data = {'input_source_hash': 'QmahGzqFngQnQ81gpWf5o6UkPWEH9BYWUigoeCTxSqAFsV'}\n",
    "headers = {\n",
    "        'Authorization': 'ai_market'\n",
    "    }\n",
    "response = requests.post(url, data=data, headers=headers)\n",
    "print(data)\n",
    "print(response.json())"
   ]
  },
  {
   "cell_type": "code",
   "execution_count": 18,
   "metadata": {},
   "outputs": [
    {
     "name": "stdout",
     "output_type": "stream",
     "text": [
      "{'input_source_hash': 'QmahGzqFngQnQ81gpWf5o6UkPWEH9BYWUigoeCTxSqAFsV', 'label': 'flower'}\n",
      "{'Hash': 'QmTtyNFLSshwpvC76a1tBa6tQaxGkoZSmPRLaVFdGyppqn', 'Name': 'file', 'Size': '8333'}\n"
     ]
    }
   ],
   "source": [
    "#CV004\n",
    "url = 'https://100api.orai.dev/cv004'\n",
    "data = {'input_source_hash': 'QmahGzqFngQnQ81gpWf5o6UkPWEH9BYWUigoeCTxSqAFsV',\n",
    "        'label':'flower'}\n",
    "headers = {\n",
    "        'Authorization': 'ai_market'\n",
    "    }\n",
    "response = requests.post(url, data=data, headers=headers)\n",
    "print(data)\n",
    "print(response.json())"
   ]
  },
  {
   "cell_type": "code",
   "execution_count": 3,
   "metadata": {},
   "outputs": [
    {
     "name": "stdout",
     "output_type": "stream",
     "text": [
      "{'input_source_hash': 'QmekXZPCVQcdeZsZiHrzjF2jxahWkktavV735DCvpxbVPj', 'lang': 'eng'}\n",
      "{'data': \"name 'os' is not defined\", 'status': 'error'}\n"
     ]
    }
   ],
   "source": [
    "#CV006\n",
    "# QmZyuS3R4k9RqPQQcVUTTHNmqZuRjyLygM72rdNYtYcQd6\n",
    "\n",
    "\n",
    "url = 'https://100api.orai.dev/cv006'\n",
    "data = {'input_source_hash': 'QmekXZPCVQcdeZsZiHrzjF2jxahWkktavV735DCvpxbVPj',\n",
    "        'lang':'eng'}\n",
    "headers = {\n",
    "        'Authorization': 'ai_market'\n",
    "    }\n",
    "response = requests.post(url, data=data, headers=headers)\n",
    "print(data)\n",
    "print(response.json())"
   ]
  },
  {
   "cell_type": "code",
   "execution_count": 29,
   "metadata": {},
   "outputs": [
    {
     "name": "stdout",
     "output_type": "stream",
     "text": [
      "{'input_source_hash': 'QmZcmLZdMShfEMyV5Z7wpSUyYmJLYMKLMWm9NEVNjSAiz4', 'input_ref_hash': 'QmPoXoBmDdkBeKUGWwGGCykPHVtfspWmFUWyd8T6VzAfJV'}\n"
     ]
    },
    {
     "ename": "JSONDecodeError",
     "evalue": "Expecting value: line 1 column 1 (char 0)",
     "output_type": "error",
     "traceback": [
      "\u001b[0;31m---------------------------------------------------------------------------\u001b[0m",
      "\u001b[0;31mJSONDecodeError\u001b[0m                           Traceback (most recent call last)",
      "File \u001b[0;32m/Library/Frameworks/Python.framework/Versions/3.10/lib/python3.10/site-packages/requests/models.py:971\u001b[0m, in \u001b[0;36mResponse.json\u001b[0;34m(self, **kwargs)\u001b[0m\n\u001b[1;32m    970\u001b[0m \u001b[39mtry\u001b[39;00m:\n\u001b[0;32m--> 971\u001b[0m     \u001b[39mreturn\u001b[39;00m complexjson\u001b[39m.\u001b[39;49mloads(\u001b[39mself\u001b[39;49m\u001b[39m.\u001b[39;49mtext, \u001b[39m*\u001b[39;49m\u001b[39m*\u001b[39;49mkwargs)\n\u001b[1;32m    972\u001b[0m \u001b[39mexcept\u001b[39;00m JSONDecodeError \u001b[39mas\u001b[39;00m e:\n\u001b[1;32m    973\u001b[0m     \u001b[39m# Catch JSON-related errors and raise as requests.JSONDecodeError\u001b[39;00m\n\u001b[1;32m    974\u001b[0m     \u001b[39m# This aliases json.JSONDecodeError and simplejson.JSONDecodeError\u001b[39;00m\n",
      "File \u001b[0;32m/Library/Frameworks/Python.framework/Versions/3.10/lib/python3.10/json/__init__.py:346\u001b[0m, in \u001b[0;36mloads\u001b[0;34m(s, cls, object_hook, parse_float, parse_int, parse_constant, object_pairs_hook, **kw)\u001b[0m\n\u001b[1;32m    343\u001b[0m \u001b[39mif\u001b[39;00m (\u001b[39mcls\u001b[39m \u001b[39mis\u001b[39;00m \u001b[39mNone\u001b[39;00m \u001b[39mand\u001b[39;00m object_hook \u001b[39mis\u001b[39;00m \u001b[39mNone\u001b[39;00m \u001b[39mand\u001b[39;00m\n\u001b[1;32m    344\u001b[0m         parse_int \u001b[39mis\u001b[39;00m \u001b[39mNone\u001b[39;00m \u001b[39mand\u001b[39;00m parse_float \u001b[39mis\u001b[39;00m \u001b[39mNone\u001b[39;00m \u001b[39mand\u001b[39;00m\n\u001b[1;32m    345\u001b[0m         parse_constant \u001b[39mis\u001b[39;00m \u001b[39mNone\u001b[39;00m \u001b[39mand\u001b[39;00m object_pairs_hook \u001b[39mis\u001b[39;00m \u001b[39mNone\u001b[39;00m \u001b[39mand\u001b[39;00m \u001b[39mnot\u001b[39;00m kw):\n\u001b[0;32m--> 346\u001b[0m     \u001b[39mreturn\u001b[39;00m _default_decoder\u001b[39m.\u001b[39;49mdecode(s)\n\u001b[1;32m    347\u001b[0m \u001b[39mif\u001b[39;00m \u001b[39mcls\u001b[39m \u001b[39mis\u001b[39;00m \u001b[39mNone\u001b[39;00m:\n",
      "File \u001b[0;32m/Library/Frameworks/Python.framework/Versions/3.10/lib/python3.10/json/decoder.py:337\u001b[0m, in \u001b[0;36mJSONDecoder.decode\u001b[0;34m(self, s, _w)\u001b[0m\n\u001b[1;32m    333\u001b[0m \u001b[39m\"\"\"Return the Python representation of ``s`` (a ``str`` instance\u001b[39;00m\n\u001b[1;32m    334\u001b[0m \u001b[39mcontaining a JSON document).\u001b[39;00m\n\u001b[1;32m    335\u001b[0m \n\u001b[1;32m    336\u001b[0m \u001b[39m\"\"\"\u001b[39;00m\n\u001b[0;32m--> 337\u001b[0m obj, end \u001b[39m=\u001b[39m \u001b[39mself\u001b[39;49m\u001b[39m.\u001b[39;49mraw_decode(s, idx\u001b[39m=\u001b[39;49m_w(s, \u001b[39m0\u001b[39;49m)\u001b[39m.\u001b[39;49mend())\n\u001b[1;32m    338\u001b[0m end \u001b[39m=\u001b[39m _w(s, end)\u001b[39m.\u001b[39mend()\n",
      "File \u001b[0;32m/Library/Frameworks/Python.framework/Versions/3.10/lib/python3.10/json/decoder.py:355\u001b[0m, in \u001b[0;36mJSONDecoder.raw_decode\u001b[0;34m(self, s, idx)\u001b[0m\n\u001b[1;32m    354\u001b[0m \u001b[39mexcept\u001b[39;00m \u001b[39mStopIteration\u001b[39;00m \u001b[39mas\u001b[39;00m err:\n\u001b[0;32m--> 355\u001b[0m     \u001b[39mraise\u001b[39;00m JSONDecodeError(\u001b[39m\"\u001b[39m\u001b[39mExpecting value\u001b[39m\u001b[39m\"\u001b[39m, s, err\u001b[39m.\u001b[39mvalue) \u001b[39mfrom\u001b[39;00m \u001b[39mNone\u001b[39m\n\u001b[1;32m    356\u001b[0m \u001b[39mreturn\u001b[39;00m obj, end\n",
      "\u001b[0;31mJSONDecodeError\u001b[0m: Expecting value: line 1 column 1 (char 0)",
      "\nDuring handling of the above exception, another exception occurred:\n",
      "\u001b[0;31mJSONDecodeError\u001b[0m                           Traceback (most recent call last)",
      "\u001b[1;32m/Users/oraichain/Desktop/test 100 api/100API.ipynb Cell 11\u001b[0m in \u001b[0;36m<cell line: 11>\u001b[0;34m()\u001b[0m\n\u001b[1;32m      <a href='vscode-notebook-cell:/Users/oraichain/Desktop/test%20100%20api/100API.ipynb#ch0000009?line=8'>9</a>\u001b[0m response \u001b[39m=\u001b[39m requests\u001b[39m.\u001b[39mpost(url, data\u001b[39m=\u001b[39mdata, headers\u001b[39m=\u001b[39mheaders)\n\u001b[1;32m     <a href='vscode-notebook-cell:/Users/oraichain/Desktop/test%20100%20api/100API.ipynb#ch0000009?line=9'>10</a>\u001b[0m \u001b[39mprint\u001b[39m(data)\n\u001b[0;32m---> <a href='vscode-notebook-cell:/Users/oraichain/Desktop/test%20100%20api/100API.ipynb#ch0000009?line=10'>11</a>\u001b[0m \u001b[39mprint\u001b[39m(response\u001b[39m.\u001b[39;49mjson())\n",
      "File \u001b[0;32m/Library/Frameworks/Python.framework/Versions/3.10/lib/python3.10/site-packages/requests/models.py:975\u001b[0m, in \u001b[0;36mResponse.json\u001b[0;34m(self, **kwargs)\u001b[0m\n\u001b[1;32m    971\u001b[0m     \u001b[39mreturn\u001b[39;00m complexjson\u001b[39m.\u001b[39mloads(\u001b[39mself\u001b[39m\u001b[39m.\u001b[39mtext, \u001b[39m*\u001b[39m\u001b[39m*\u001b[39mkwargs)\n\u001b[1;32m    972\u001b[0m \u001b[39mexcept\u001b[39;00m JSONDecodeError \u001b[39mas\u001b[39;00m e:\n\u001b[1;32m    973\u001b[0m     \u001b[39m# Catch JSON-related errors and raise as requests.JSONDecodeError\u001b[39;00m\n\u001b[1;32m    974\u001b[0m     \u001b[39m# This aliases json.JSONDecodeError and simplejson.JSONDecodeError\u001b[39;00m\n\u001b[0;32m--> 975\u001b[0m     \u001b[39mraise\u001b[39;00m RequestsJSONDecodeError(e\u001b[39m.\u001b[39mmsg, e\u001b[39m.\u001b[39mdoc, e\u001b[39m.\u001b[39mpos)\n",
      "\u001b[0;31mJSONDecodeError\u001b[0m: Expecting value: line 1 column 1 (char 0)"
     ]
    }
   ],
   "source": [
    "#CV007\n",
    "\n",
    "url = 'https://100api.orai.dev/cv007'\n",
    "data = {'input_source_hash': 'QmZcmLZdMShfEMyV5Z7wpSUyYmJLYMKLMWm9NEVNjSAiz4',\n",
    "        'input_ref_hash':'QmPoXoBmDdkBeKUGWwGGCykPHVtfspWmFUWyd8T6VzAfJV'}\n",
    "headers = {\n",
    "        'Authorization': 'ai_market'\n",
    "    }\n",
    "response = requests.post(url, data=data, headers=headers)\n",
    "print(data)\n",
    "print(response.json())"
   ]
  },
  {
   "cell_type": "code",
   "execution_count": 33,
   "metadata": {},
   "outputs": [
    {
     "name": "stdout",
     "output_type": "stream",
     "text": [
      "{'input_source_hash': 'QmZcmLZdMShfEMyV5Z7wpSUyYmJLYMKLMWm9NEVNjSAiz4'}\n",
      "{'Hash': 'QmRywaKNWuShXXMTeLq4edpxbm5fBfwxUeKbfThm46mgHk', 'Name': 'file', 'Size': '31453'}\n"
     ]
    }
   ],
   "source": [
    "#CV008\n",
    "\n",
    "url = 'https://100api.orai.dev/cv008'\n",
    "data = {'input_source_hash': 'QmZcmLZdMShfEMyV5Z7wpSUyYmJLYMKLMWm9NEVNjSAiz4'}\n",
    "headers = {\n",
    "        'Authorization': 'ai_market'\n",
    "    }\n",
    "response = requests.post(url, data=data, headers=headers)\n",
    "print(data)\n",
    "print(response.json())"
   ]
  },
  {
   "cell_type": "code",
   "execution_count": 36,
   "metadata": {},
   "outputs": [
    {
     "name": "stdout",
     "output_type": "stream",
     "text": [
      "{'input_source_hash': 'QmRV4JwvohUjzsW9x8Y8kdxiQdLLZvQqr6iy5jzbVWzUBQ'}\n",
      "{'data': [{'label': 'castle', 'score': 65.26073455810547}, {'label': 'palace', 'score': 10.183137893676758}, {'label': 'mosque', 'score': 8.16793441772461}, {'label': 'church', 'score': 7.302755832672119}, {'label': 'stupa', 'score': 1.5817433595657349}], 'status': 'success'}\n"
     ]
    }
   ],
   "source": [
    "#CV009\n",
    "\n",
    "url = 'https://100api.orai.dev/cv009'\n",
    "data = {'input_source_hash': 'QmRV4JwvohUjzsW9x8Y8kdxiQdLLZvQqr6iy5jzbVWzUBQ'}\n",
    "headers = {\n",
    "        'Authorization': 'ai_market'\n",
    "    }\n",
    "response = requests.post(url, data=data, headers=headers)\n",
    "print(data)\n",
    "print(response.json())"
   ]
  },
  {
   "cell_type": "code",
   "execution_count": 37,
   "metadata": {},
   "outputs": [
    {
     "name": "stdout",
     "output_type": "stream",
     "text": [
      "{'input_source_hash': 'QmRFw3YZhvx6F4VZr7AyJXcrnKDoZCrystWG72wRaGPpgN'}\n",
      "{'data': [{'label': 'garden phlox', 'score': 99}], 'status': 'success'}\n"
     ]
    }
   ],
   "source": [
    "#CV010\n",
    "\n",
    "url = 'https://100api.orai.dev/cv010'\n",
    "data = {'input_source_hash': 'QmRFw3YZhvx6F4VZr7AyJXcrnKDoZCrystWG72wRaGPpgN'}\n",
    "headers = {\n",
    "        'Authorization': 'ai_market'\n",
    "    }\n",
    "response = requests.post(url, data=data, headers=headers)\n",
    "print(data)\n",
    "print(response.json())"
   ]
  },
  {
   "cell_type": "code",
   "execution_count": 39,
   "metadata": {},
   "outputs": [
    {
     "name": "stdout",
     "output_type": "stream",
     "text": [
      "{'input_source_hash': 'QmbkxNwVFyMjzt2kJVAfxnvQsYZ42rN2CvtFigxFa8FgGD'}\n",
      "{'data': [{'label': 'surrealism', 'score': 65}, {'label': 'kitsch', 'score': 13}], 'status': 'success'}\n"
     ]
    }
   ],
   "source": [
    "#CV011\n",
    "\n",
    "url = 'https://100api.orai.dev/cv011'\n",
    "data = {'input_source_hash': 'QmbkxNwVFyMjzt2kJVAfxnvQsYZ42rN2CvtFigxFa8FgGD'}\n",
    "headers = {\n",
    "        'Authorization': 'ai_market'\n",
    "    }\n",
    "response = requests.post(url, data=data, headers=headers)\n",
    "print(data)\n",
    "print(response.json())"
   ]
  },
  {
   "cell_type": "code",
   "execution_count": 40,
   "metadata": {},
   "outputs": [
    {
     "name": "stdout",
     "output_type": "stream",
     "text": [
      "{'input_source_hash': 'QmU6F8uP65entJxU9BoQE6pMmE3EfmhK2Rooq4DdFK4ms8', 'mask_img_hash': 'QmS2VbpTzT4P4vYcm3dZH8JHsDd47xA7Lks4ncYHtsTdrn'}\n",
      "{'data': 'Device index must not be negative', 'status': 'error'}\n"
     ]
    }
   ],
   "source": [
    "#CV012\n",
    "\n",
    "url = 'https://100api.orai.dev/cv012'\n",
    "data = {'input_source_hash': 'QmU6F8uP65entJxU9BoQE6pMmE3EfmhK2Rooq4DdFK4ms8',\n",
    "        'mask_img_hash':'QmS2VbpTzT4P4vYcm3dZH8JHsDd47xA7Lks4ncYHtsTdrn'}\n",
    "headers = {\n",
    "        'Authorization': 'ai_market'\n",
    "    }\n",
    "response = requests.post(url, data=data, headers=headers)\n",
    "print(data)\n",
    "print(response.json())"
   ]
  },
  {
   "cell_type": "code",
   "execution_count": 41,
   "metadata": {},
   "outputs": [
    {
     "name": "stdout",
     "output_type": "stream",
     "text": [
      "{'input_source_hash': 'QmZcmLZdMShfEMyV5Z7wpSUyYmJLYMKLMWm9NEVNjSAiz4', 'mask_img_hash': 'QmRywaKNWuShXXMTeLq4edpxbm5fBfwxUeKbfThm46mgHk'}\n",
      "{'data': \"local variable 'image' referenced before assignment\", 'status': 'error'}\n"
     ]
    }
   ],
   "source": [
    "#CV013\n",
    "\n",
    "url = 'https://100api.orai.dev/cv013'\n",
    "data = {'input_source_hash': 'QmZcmLZdMShfEMyV5Z7wpSUyYmJLYMKLMWm9NEVNjSAiz4',\n",
    "        'mask_img_hash':'QmRywaKNWuShXXMTeLq4edpxbm5fBfwxUeKbfThm46mgHk'}\n",
    "headers = {\n",
    "        'Authorization': 'ai_market'\n",
    "    }\n",
    "response = requests.post(url, data=data, headers=headers)\n",
    "print(data)\n",
    "print(response.json())"
   ]
  },
  {
   "cell_type": "code",
   "execution_count": 42,
   "metadata": {},
   "outputs": [
    {
     "name": "stdout",
     "output_type": "stream",
     "text": [
      "{'input_source_hash': 'QmPu57nyGX2ty7cAgnEZZyqNNJ6FTMQcUY8KRBN2fP1ai2'}\n",
      "{'data': {'prediction': 'space', 'probability': '0.7877'}, 'status': 'success'}\n"
     ]
    }
   ],
   "source": [
    "#CV014\n",
    "\n",
    "url = 'https://100api.orai.dev/cv014'\n",
    "data = {'input_source_hash': 'QmPu57nyGX2ty7cAgnEZZyqNNJ6FTMQcUY8KRBN2fP1ai2'}\n",
    "headers = {\n",
    "        'Authorization': 'ai_market'\n",
    "    }\n",
    "response = requests.post(url, data=data, headers=headers)\n",
    "print(data)\n",
    "print(response.json())"
   ]
  },
  {
   "cell_type": "code",
   "execution_count": 43,
   "metadata": {},
   "outputs": [
    {
     "name": "stdout",
     "output_type": "stream",
     "text": [
      "{'input_source_hash': 'QmVvt8t6BCJhxCuAaq6PCzspAXJfDiDtoRPkqza6CGP8Y1'}\n",
      "{'data': \"Command './darknet detector test cfg/coco.data cfg/yolov4-tiny.cfg yolov4-tiny.weights /tmp/cv015_input_1661769607.682496.jpg -dont_show -ext_output ' returned non-zero exit status 127.\", 'status': 'error'}\n"
     ]
    }
   ],
   "source": [
    "#CV015\n",
    "\n",
    "url = 'https://100api.orai.dev/cv015'\n",
    "data = {'input_source_hash': 'QmVvt8t6BCJhxCuAaq6PCzspAXJfDiDtoRPkqza6CGP8Y1'}\n",
    "headers = {\n",
    "        'Authorization': 'ai_market'\n",
    "    }\n",
    "response = requests.post(url, data=data, headers=headers)\n",
    "print(data)\n",
    "print(response.json())"
   ]
  },
  {
   "cell_type": "code",
   "execution_count": 4,
   "metadata": {},
   "outputs": [
    {
     "name": "stdout",
     "output_type": "stream",
     "text": [
      "{'input_source_hash': 'QmQYvJE9Tg4mXNxP4e4n7Lau3LrgwCeZ7i2588Q1emqK8o'}\n",
      "{'data': {'h': None, 'label': None, 'w': None, 'x': None, 'y': None}, 'status': 'success'}\n"
     ]
    }
   ],
   "source": [
    "#CV016\n",
    "\n",
    "url = 'https://100api.orai.dev/cv016'\n",
    "data = {'input_source_hash': 'QmQYvJE9Tg4mXNxP4e4n7Lau3LrgwCeZ7i2588Q1emqK8o'}\n",
    "headers = {\n",
    "        'Authorization': 'ai_market'\n",
    "    }\n",
    "response = requests.post(url, data=data, headers=headers)\n",
    "print(data)\n",
    "print(response.json())"
   ]
  },
  {
   "cell_type": "code",
   "execution_count": 4,
   "metadata": {},
   "outputs": [
    {
     "name": "stdout",
     "output_type": "stream",
     "text": [
      "{'input_source_hash': 'QmcJMgBv9s3hDu9K9wNf1SJVSpueyivRqU2L3w8mtZ1xFM'}\n",
      "{'data': {'bounding_box': [], 'output_image': None}, 'status': 'success'}\n"
     ]
    }
   ],
   "source": [
    "#CV017\n",
    "\n",
    "url = 'https://100api.orai.dev/cv017'\n",
    "data = {'input_source_hash': 'QmcJMgBv9s3hDu9K9wNf1SJVSpueyivRqU2L3w8mtZ1xFM'}\n",
    "headers = {\n",
    "        'Authorization': 'ai_market'\n",
    "    }\n",
    "response = requests.post(url, data=data, headers=headers)\n",
    "print(data)\n",
    "print(response.json())"
   ]
  },
  {
   "cell_type": "code",
   "execution_count": 7,
   "metadata": {},
   "outputs": [
    {
     "name": "stdout",
     "output_type": "stream",
     "text": [
      "{'input_source_hash': 'Qmd5sAc8rHTgDzgqaKyWDiyNvJP94JErwtaHZFxRKSb3CA'}\n",
      "{'Hash': 'QmbedBrmtwo6VPZxVExymdH6d3qawDqRh9UsdZgtNENTAS', 'Name': 'file', 'Size': '8761'}\n"
     ]
    }
   ],
   "source": [
    "#CV018\n",
    "\n",
    "url = 'https://100api.orai.dev/cv018'\n",
    "data = {'input_source_hash': 'Qmd5sAc8rHTgDzgqaKyWDiyNvJP94JErwtaHZFxRKSb3CA'}\n",
    "headers = {\n",
    "        'Authorization': 'ai_market'\n",
    "    }\n",
    "response = requests.post(url, data=data, headers=headers)\n",
    "print(data)\n",
    "print(response.json())"
   ]
  },
  {
   "cell_type": "code",
   "execution_count": 8,
   "metadata": {},
   "outputs": [
    {
     "name": "stdout",
     "output_type": "stream",
     "text": [
      "{'input_source_hash': 'QmU6h69HavNH1CJas4FVtHREiVP7QPvDdAZ3dpr7oyDHSA'}\n",
      "{'data': 'empty range for randrange() (0, 0, 0)', 'status': 'error'}\n"
     ]
    }
   ],
   "source": [
    "#CV020\n",
    "url = 'https://100api.orai.dev/cv020'\n",
    "data = {'input_source_hash': 'QmU6h69HavNH1CJas4FVtHREiVP7QPvDdAZ3dpr7oyDHSA'}\n",
    "headers = {\n",
    "        'Authorization': 'ai_market'\n",
    "    }\n",
    "response = requests.post(url, data=data, headers=headers)\n",
    "print(data)\n",
    "print(response.json())"
   ]
  },
  {
   "cell_type": "code",
   "execution_count": 10,
   "metadata": {},
   "outputs": [
    {
     "name": "stdout",
     "output_type": "stream",
     "text": [
      "{'input_source_hash': 'QmU6h69HavNH1CJas4FVtHREiVP7QPvDdAZ3dpr7oyDHSA', 'iterations': 5, 'num_octaves': 5}\n"
     ]
    },
    {
     "ename": "JSONDecodeError",
     "evalue": "Expecting value: line 1 column 1 (char 0)",
     "output_type": "error",
     "traceback": [
      "\u001b[0;31m---------------------------------------------------------------------------\u001b[0m",
      "\u001b[0;31mJSONDecodeError\u001b[0m                           Traceback (most recent call last)",
      "File \u001b[0;32m/Library/Frameworks/Python.framework/Versions/3.10/lib/python3.10/site-packages/requests/models.py:971\u001b[0m, in \u001b[0;36mResponse.json\u001b[0;34m(self, **kwargs)\u001b[0m\n\u001b[1;32m    970\u001b[0m \u001b[39mtry\u001b[39;00m:\n\u001b[0;32m--> 971\u001b[0m     \u001b[39mreturn\u001b[39;00m complexjson\u001b[39m.\u001b[39;49mloads(\u001b[39mself\u001b[39;49m\u001b[39m.\u001b[39;49mtext, \u001b[39m*\u001b[39;49m\u001b[39m*\u001b[39;49mkwargs)\n\u001b[1;32m    972\u001b[0m \u001b[39mexcept\u001b[39;00m JSONDecodeError \u001b[39mas\u001b[39;00m e:\n\u001b[1;32m    973\u001b[0m     \u001b[39m# Catch JSON-related errors and raise as requests.JSONDecodeError\u001b[39;00m\n\u001b[1;32m    974\u001b[0m     \u001b[39m# This aliases json.JSONDecodeError and simplejson.JSONDecodeError\u001b[39;00m\n",
      "File \u001b[0;32m/Library/Frameworks/Python.framework/Versions/3.10/lib/python3.10/json/__init__.py:346\u001b[0m, in \u001b[0;36mloads\u001b[0;34m(s, cls, object_hook, parse_float, parse_int, parse_constant, object_pairs_hook, **kw)\u001b[0m\n\u001b[1;32m    343\u001b[0m \u001b[39mif\u001b[39;00m (\u001b[39mcls\u001b[39m \u001b[39mis\u001b[39;00m \u001b[39mNone\u001b[39;00m \u001b[39mand\u001b[39;00m object_hook \u001b[39mis\u001b[39;00m \u001b[39mNone\u001b[39;00m \u001b[39mand\u001b[39;00m\n\u001b[1;32m    344\u001b[0m         parse_int \u001b[39mis\u001b[39;00m \u001b[39mNone\u001b[39;00m \u001b[39mand\u001b[39;00m parse_float \u001b[39mis\u001b[39;00m \u001b[39mNone\u001b[39;00m \u001b[39mand\u001b[39;00m\n\u001b[1;32m    345\u001b[0m         parse_constant \u001b[39mis\u001b[39;00m \u001b[39mNone\u001b[39;00m \u001b[39mand\u001b[39;00m object_pairs_hook \u001b[39mis\u001b[39;00m \u001b[39mNone\u001b[39;00m \u001b[39mand\u001b[39;00m \u001b[39mnot\u001b[39;00m kw):\n\u001b[0;32m--> 346\u001b[0m     \u001b[39mreturn\u001b[39;00m _default_decoder\u001b[39m.\u001b[39;49mdecode(s)\n\u001b[1;32m    347\u001b[0m \u001b[39mif\u001b[39;00m \u001b[39mcls\u001b[39m \u001b[39mis\u001b[39;00m \u001b[39mNone\u001b[39;00m:\n",
      "File \u001b[0;32m/Library/Frameworks/Python.framework/Versions/3.10/lib/python3.10/json/decoder.py:337\u001b[0m, in \u001b[0;36mJSONDecoder.decode\u001b[0;34m(self, s, _w)\u001b[0m\n\u001b[1;32m    333\u001b[0m \u001b[39m\"\"\"Return the Python representation of ``s`` (a ``str`` instance\u001b[39;00m\n\u001b[1;32m    334\u001b[0m \u001b[39mcontaining a JSON document).\u001b[39;00m\n\u001b[1;32m    335\u001b[0m \n\u001b[1;32m    336\u001b[0m \u001b[39m\"\"\"\u001b[39;00m\n\u001b[0;32m--> 337\u001b[0m obj, end \u001b[39m=\u001b[39m \u001b[39mself\u001b[39;49m\u001b[39m.\u001b[39;49mraw_decode(s, idx\u001b[39m=\u001b[39;49m_w(s, \u001b[39m0\u001b[39;49m)\u001b[39m.\u001b[39;49mend())\n\u001b[1;32m    338\u001b[0m end \u001b[39m=\u001b[39m _w(s, end)\u001b[39m.\u001b[39mend()\n",
      "File \u001b[0;32m/Library/Frameworks/Python.framework/Versions/3.10/lib/python3.10/json/decoder.py:355\u001b[0m, in \u001b[0;36mJSONDecoder.raw_decode\u001b[0;34m(self, s, idx)\u001b[0m\n\u001b[1;32m    354\u001b[0m \u001b[39mexcept\u001b[39;00m \u001b[39mStopIteration\u001b[39;00m \u001b[39mas\u001b[39;00m err:\n\u001b[0;32m--> 355\u001b[0m     \u001b[39mraise\u001b[39;00m JSONDecodeError(\u001b[39m\"\u001b[39m\u001b[39mExpecting value\u001b[39m\u001b[39m\"\u001b[39m, s, err\u001b[39m.\u001b[39mvalue) \u001b[39mfrom\u001b[39;00m \u001b[39mNone\u001b[39m\n\u001b[1;32m    356\u001b[0m \u001b[39mreturn\u001b[39;00m obj, end\n",
      "\u001b[0;31mJSONDecodeError\u001b[0m: Expecting value: line 1 column 1 (char 0)",
      "\nDuring handling of the above exception, another exception occurred:\n",
      "\u001b[0;31mJSONDecodeError\u001b[0m                           Traceback (most recent call last)",
      "\u001b[1;32m/Users/oraichain/Desktop/test 100 api/100API.ipynb Cell 24\u001b[0m in \u001b[0;36m<cell line: 11>\u001b[0;34m()\u001b[0m\n\u001b[1;32m      <a href='vscode-notebook-cell:/Users/oraichain/Desktop/test%20100%20api/100API.ipynb#ch0000023?line=8'>9</a>\u001b[0m response \u001b[39m=\u001b[39m requests\u001b[39m.\u001b[39mpost(url, data\u001b[39m=\u001b[39mdata, headers\u001b[39m=\u001b[39mheaders)\n\u001b[1;32m     <a href='vscode-notebook-cell:/Users/oraichain/Desktop/test%20100%20api/100API.ipynb#ch0000023?line=9'>10</a>\u001b[0m \u001b[39mprint\u001b[39m(data)\n\u001b[0;32m---> <a href='vscode-notebook-cell:/Users/oraichain/Desktop/test%20100%20api/100API.ipynb#ch0000023?line=10'>11</a>\u001b[0m \u001b[39mprint\u001b[39m(response\u001b[39m.\u001b[39;49mjson())\n",
      "File \u001b[0;32m/Library/Frameworks/Python.framework/Versions/3.10/lib/python3.10/site-packages/requests/models.py:975\u001b[0m, in \u001b[0;36mResponse.json\u001b[0;34m(self, **kwargs)\u001b[0m\n\u001b[1;32m    971\u001b[0m     \u001b[39mreturn\u001b[39;00m complexjson\u001b[39m.\u001b[39mloads(\u001b[39mself\u001b[39m\u001b[39m.\u001b[39mtext, \u001b[39m*\u001b[39m\u001b[39m*\u001b[39mkwargs)\n\u001b[1;32m    972\u001b[0m \u001b[39mexcept\u001b[39;00m JSONDecodeError \u001b[39mas\u001b[39;00m e:\n\u001b[1;32m    973\u001b[0m     \u001b[39m# Catch JSON-related errors and raise as requests.JSONDecodeError\u001b[39;00m\n\u001b[1;32m    974\u001b[0m     \u001b[39m# This aliases json.JSONDecodeError and simplejson.JSONDecodeError\u001b[39;00m\n\u001b[0;32m--> 975\u001b[0m     \u001b[39mraise\u001b[39;00m RequestsJSONDecodeError(e\u001b[39m.\u001b[39mmsg, e\u001b[39m.\u001b[39mdoc, e\u001b[39m.\u001b[39mpos)\n",
      "\u001b[0;31mJSONDecodeError\u001b[0m: Expecting value: line 1 column 1 (char 0)"
     ]
    }
   ],
   "source": [
    "#CV021\n",
    "url = 'https://100api.orai.dev/cv021'\n",
    "data = {'input_source_hash': 'QmU6h69HavNH1CJas4FVtHREiVP7QPvDdAZ3dpr7oyDHSA',\n",
    "        'iterations': 5,\n",
    "        'num_octaves': 5}\n",
    "headers = {\n",
    "        'Authorization': 'ai_market'\n",
    "    }\n",
    "response = requests.post(url, data=data, headers=headers)\n",
    "print(data)\n",
    "print(response.json())"
   ]
  },
  {
   "cell_type": "code",
   "execution_count": 11,
   "metadata": {},
   "outputs": [
    {
     "name": "stdout",
     "output_type": "stream",
     "text": [
      "{'input_source_hash': 'QmU782k1ScVwtzFwD86Eq4KiGoh5xtnjXuC4CmMznBGVw6'}\n",
      "{'data': 'empty range for randrange() (0, 0, 0)', 'status': 'error'}\n"
     ]
    }
   ],
   "source": [
    "#CV022\n",
    "url = 'https://100api.orai.dev/cv022'\n",
    "data = {'input_source_hash': 'QmU782k1ScVwtzFwD86Eq4KiGoh5xtnjXuC4CmMznBGVw6'}\n",
    "headers = {\n",
    "        'Authorization': 'ai_market'\n",
    "    }\n",
    "response = requests.post(url, data=data, headers=headers)\n",
    "print(data)\n",
    "print(response.json())"
   ]
  },
  {
   "cell_type": "code",
   "execution_count": 13,
   "metadata": {},
   "outputs": [
    {
     "name": "stdout",
     "output_type": "stream",
     "text": [
      "{}\n",
      "{'Hash': 'QmYF1QjpX4wTeYnTeypPhwZX7bLajZLmsNrhU3Qmj6F1at', 'Name': 'file', 'Size': '11362'}\n"
     ]
    }
   ],
   "source": [
    "#CV023\n",
    "url = 'https://100api.orai.dev/cv023'\n",
    "data = {}\n",
    "headers = {\n",
    "        'Authorization': 'ai_market'\n",
    "    }\n",
    "response = requests.post(url, data=data, headers=headers)\n",
    "print(data)\n",
    "print(response.json())"
   ]
  },
  {
   "cell_type": "code",
   "execution_count": 14,
   "metadata": {},
   "outputs": [
    {
     "name": "stdout",
     "output_type": "stream",
     "text": [
      "{}\n",
      "{'Hash': 'QmazTomrUNFfaHoNVyCz5NKPQoqSQvLXKfgkYQVzPE44EN', 'Name': 'file', 'Size': '2158'}\n"
     ]
    }
   ],
   "source": [
    "#CV024\n",
    "url = 'https://100api.orai.dev/cv024'\n",
    "data = {}\n",
    "headers = {\n",
    "        'Authorization': 'ai_market'\n",
    "    }\n",
    "response = requests.post(url, data=data, headers=headers)\n",
    "print(data)\n",
    "print(response.json())"
   ]
  },
  {
   "cell_type": "code",
   "execution_count": 15,
   "metadata": {},
   "outputs": [
    {
     "name": "stdout",
     "output_type": "stream",
     "text": [
      "{'input_source_hash': 'QmbyhZfG1LYyMdCbuZTGpRQzd1rpfJUYLWhsKG8BaZDzoi'}\n",
      "{'Hash': 'Qmf1BEUuTJh9JkbCDpF6dHNFhV3Kv3Lqr38EpKunj86ZMo', 'Name': 'file', 'Size': '16880'}\n"
     ]
    }
   ],
   "source": [
    "#CV026\n",
    "url = 'https://100api.orai.dev/cv026'\n",
    "data = {'input_source_hash': 'QmbyhZfG1LYyMdCbuZTGpRQzd1rpfJUYLWhsKG8BaZDzoi'}\n",
    "headers = {\n",
    "        'Authorization': 'ai_market'\n",
    "    }\n",
    "response = requests.post(url, data=data, headers=headers)\n",
    "print(data)\n",
    "print(response.json())"
   ]
  },
  {
   "cell_type": "code",
   "execution_count": 18,
   "metadata": {},
   "outputs": [
    {
     "name": "stdout",
     "output_type": "stream",
     "text": [
      "{'input_source_hash': 'Qmf6aMDqz7hkGuxsfRhKnpw6R8M8jen44ZgqVfrdS9uhaA'}\n"
     ]
    },
    {
     "ename": "JSONDecodeError",
     "evalue": "Expecting value: line 1 column 1 (char 0)",
     "output_type": "error",
     "traceback": [
      "\u001b[0;31m---------------------------------------------------------------------------\u001b[0m",
      "\u001b[0;31mJSONDecodeError\u001b[0m                           Traceback (most recent call last)",
      "File \u001b[0;32m/Library/Frameworks/Python.framework/Versions/3.10/lib/python3.10/site-packages/requests/models.py:971\u001b[0m, in \u001b[0;36mResponse.json\u001b[0;34m(self, **kwargs)\u001b[0m\n\u001b[1;32m    970\u001b[0m \u001b[39mtry\u001b[39;00m:\n\u001b[0;32m--> 971\u001b[0m     \u001b[39mreturn\u001b[39;00m complexjson\u001b[39m.\u001b[39;49mloads(\u001b[39mself\u001b[39;49m\u001b[39m.\u001b[39;49mtext, \u001b[39m*\u001b[39;49m\u001b[39m*\u001b[39;49mkwargs)\n\u001b[1;32m    972\u001b[0m \u001b[39mexcept\u001b[39;00m JSONDecodeError \u001b[39mas\u001b[39;00m e:\n\u001b[1;32m    973\u001b[0m     \u001b[39m# Catch JSON-related errors and raise as requests.JSONDecodeError\u001b[39;00m\n\u001b[1;32m    974\u001b[0m     \u001b[39m# This aliases json.JSONDecodeError and simplejson.JSONDecodeError\u001b[39;00m\n",
      "File \u001b[0;32m/Library/Frameworks/Python.framework/Versions/3.10/lib/python3.10/json/__init__.py:346\u001b[0m, in \u001b[0;36mloads\u001b[0;34m(s, cls, object_hook, parse_float, parse_int, parse_constant, object_pairs_hook, **kw)\u001b[0m\n\u001b[1;32m    343\u001b[0m \u001b[39mif\u001b[39;00m (\u001b[39mcls\u001b[39m \u001b[39mis\u001b[39;00m \u001b[39mNone\u001b[39;00m \u001b[39mand\u001b[39;00m object_hook \u001b[39mis\u001b[39;00m \u001b[39mNone\u001b[39;00m \u001b[39mand\u001b[39;00m\n\u001b[1;32m    344\u001b[0m         parse_int \u001b[39mis\u001b[39;00m \u001b[39mNone\u001b[39;00m \u001b[39mand\u001b[39;00m parse_float \u001b[39mis\u001b[39;00m \u001b[39mNone\u001b[39;00m \u001b[39mand\u001b[39;00m\n\u001b[1;32m    345\u001b[0m         parse_constant \u001b[39mis\u001b[39;00m \u001b[39mNone\u001b[39;00m \u001b[39mand\u001b[39;00m object_pairs_hook \u001b[39mis\u001b[39;00m \u001b[39mNone\u001b[39;00m \u001b[39mand\u001b[39;00m \u001b[39mnot\u001b[39;00m kw):\n\u001b[0;32m--> 346\u001b[0m     \u001b[39mreturn\u001b[39;00m _default_decoder\u001b[39m.\u001b[39;49mdecode(s)\n\u001b[1;32m    347\u001b[0m \u001b[39mif\u001b[39;00m \u001b[39mcls\u001b[39m \u001b[39mis\u001b[39;00m \u001b[39mNone\u001b[39;00m:\n",
      "File \u001b[0;32m/Library/Frameworks/Python.framework/Versions/3.10/lib/python3.10/json/decoder.py:337\u001b[0m, in \u001b[0;36mJSONDecoder.decode\u001b[0;34m(self, s, _w)\u001b[0m\n\u001b[1;32m    333\u001b[0m \u001b[39m\"\"\"Return the Python representation of ``s`` (a ``str`` instance\u001b[39;00m\n\u001b[1;32m    334\u001b[0m \u001b[39mcontaining a JSON document).\u001b[39;00m\n\u001b[1;32m    335\u001b[0m \n\u001b[1;32m    336\u001b[0m \u001b[39m\"\"\"\u001b[39;00m\n\u001b[0;32m--> 337\u001b[0m obj, end \u001b[39m=\u001b[39m \u001b[39mself\u001b[39;49m\u001b[39m.\u001b[39;49mraw_decode(s, idx\u001b[39m=\u001b[39;49m_w(s, \u001b[39m0\u001b[39;49m)\u001b[39m.\u001b[39;49mend())\n\u001b[1;32m    338\u001b[0m end \u001b[39m=\u001b[39m _w(s, end)\u001b[39m.\u001b[39mend()\n",
      "File \u001b[0;32m/Library/Frameworks/Python.framework/Versions/3.10/lib/python3.10/json/decoder.py:355\u001b[0m, in \u001b[0;36mJSONDecoder.raw_decode\u001b[0;34m(self, s, idx)\u001b[0m\n\u001b[1;32m    354\u001b[0m \u001b[39mexcept\u001b[39;00m \u001b[39mStopIteration\u001b[39;00m \u001b[39mas\u001b[39;00m err:\n\u001b[0;32m--> 355\u001b[0m     \u001b[39mraise\u001b[39;00m JSONDecodeError(\u001b[39m\"\u001b[39m\u001b[39mExpecting value\u001b[39m\u001b[39m\"\u001b[39m, s, err\u001b[39m.\u001b[39mvalue) \u001b[39mfrom\u001b[39;00m \u001b[39mNone\u001b[39m\n\u001b[1;32m    356\u001b[0m \u001b[39mreturn\u001b[39;00m obj, end\n",
      "\u001b[0;31mJSONDecodeError\u001b[0m: Expecting value: line 1 column 1 (char 0)",
      "\nDuring handling of the above exception, another exception occurred:\n",
      "\u001b[0;31mJSONDecodeError\u001b[0m                           Traceback (most recent call last)",
      "\u001b[1;32m/Users/oraichain/Desktop/test 100 api/100API.ipynb Cell 29\u001b[0m in \u001b[0;36m<cell line: 9>\u001b[0;34m()\u001b[0m\n\u001b[1;32m      <a href='vscode-notebook-cell:/Users/oraichain/Desktop/test%20100%20api/100API.ipynb#ch0000028?line=6'>7</a>\u001b[0m response \u001b[39m=\u001b[39m requests\u001b[39m.\u001b[39mpost(url, data\u001b[39m=\u001b[39mdata, headers\u001b[39m=\u001b[39mheaders)\n\u001b[1;32m      <a href='vscode-notebook-cell:/Users/oraichain/Desktop/test%20100%20api/100API.ipynb#ch0000028?line=7'>8</a>\u001b[0m \u001b[39mprint\u001b[39m(data)\n\u001b[0;32m----> <a href='vscode-notebook-cell:/Users/oraichain/Desktop/test%20100%20api/100API.ipynb#ch0000028?line=8'>9</a>\u001b[0m \u001b[39mprint\u001b[39m(response\u001b[39m.\u001b[39;49mjson())\n",
      "File \u001b[0;32m/Library/Frameworks/Python.framework/Versions/3.10/lib/python3.10/site-packages/requests/models.py:975\u001b[0m, in \u001b[0;36mResponse.json\u001b[0;34m(self, **kwargs)\u001b[0m\n\u001b[1;32m    971\u001b[0m     \u001b[39mreturn\u001b[39;00m complexjson\u001b[39m.\u001b[39mloads(\u001b[39mself\u001b[39m\u001b[39m.\u001b[39mtext, \u001b[39m*\u001b[39m\u001b[39m*\u001b[39mkwargs)\n\u001b[1;32m    972\u001b[0m \u001b[39mexcept\u001b[39;00m JSONDecodeError \u001b[39mas\u001b[39;00m e:\n\u001b[1;32m    973\u001b[0m     \u001b[39m# Catch JSON-related errors and raise as requests.JSONDecodeError\u001b[39;00m\n\u001b[1;32m    974\u001b[0m     \u001b[39m# This aliases json.JSONDecodeError and simplejson.JSONDecodeError\u001b[39;00m\n\u001b[0;32m--> 975\u001b[0m     \u001b[39mraise\u001b[39;00m RequestsJSONDecodeError(e\u001b[39m.\u001b[39mmsg, e\u001b[39m.\u001b[39mdoc, e\u001b[39m.\u001b[39mpos)\n",
      "\u001b[0;31mJSONDecodeError\u001b[0m: Expecting value: line 1 column 1 (char 0)"
     ]
    }
   ],
   "source": [
    "#CV027\n",
    "url = 'https://100api.orai.dev/cv027'\n",
    "data = {'input_source_hash': 'Qmf6aMDqz7hkGuxsfRhKnpw6R8M8jen44ZgqVfrdS9uhaA'}\n",
    "headers = {\n",
    "        'Authorization': 'ai_market'\n",
    "    }\n",
    "response = requests.post(url, data=data, headers=headers)\n",
    "print(data)\n",
    "print(response.json())"
   ]
  },
  {
   "cell_type": "code",
   "execution_count": 19,
   "metadata": {},
   "outputs": [
    {
     "name": "stdout",
     "output_type": "stream",
     "text": [
      "{'input_source_hash': 'QmPoAqLmHcf7AAgrWwym2NseKdqUSLBKRmtgjaCMkdqBxh'}\n",
      "{'Hash': 'QmPiUNiukyvcLwXgYpiNFYbdhUurTMG8wQmDQSM53Hf3FG', 'Name': 'file', 'Size': '40993'}\n"
     ]
    }
   ],
   "source": [
    "#CV029_1\n",
    "url = 'https://100api.orai.dev/cv029_1'\n",
    "data = {'input_source_hash': 'QmPoAqLmHcf7AAgrWwym2NseKdqUSLBKRmtgjaCMkdqBxh'}\n",
    "headers = {\n",
    "        'Authorization': 'ai_market'\n",
    "    }\n",
    "response = requests.post(url, data=data, headers=headers)\n",
    "print(data)\n",
    "print(response.json())"
   ]
  },
  {
   "cell_type": "code",
   "execution_count": 20,
   "metadata": {},
   "outputs": [
    {
     "name": "stdout",
     "output_type": "stream",
     "text": [
      "{'input_source_hash': 'QmPoAqLmHcf7AAgrWwym2NseKdqUSLBKRmtgjaCMkdqBxh'}\n",
      "{'Hash': 'QmYRr9DRMqQ497oBGfytiEGp3QPcdLiukq5SmwDf2JsnVh', 'Name': 'file', 'Size': '36629'}\n"
     ]
    }
   ],
   "source": [
    "#CV029_2\n",
    "url = 'https://100api.orai.dev/cv029_2'\n",
    "data = {'input_source_hash': 'QmPoAqLmHcf7AAgrWwym2NseKdqUSLBKRmtgjaCMkdqBxh'}\n",
    "headers = {\n",
    "        'Authorization': 'ai_market'\n",
    "    }\n",
    "response = requests.post(url, data=data, headers=headers)\n",
    "print(data)\n",
    "print(response.json())"
   ]
  },
  {
   "cell_type": "code",
   "execution_count": 21,
   "metadata": {},
   "outputs": [
    {
     "name": "stdout",
     "output_type": "stream",
     "text": [
      "{'input_source_hash': 'QmPoAqLmHcf7AAgrWwym2NseKdqUSLBKRmtgjaCMkdqBxh'}\n",
      "{'Hash': 'QmWFyR7ko1BTWWPSMyithgBhC2oZtfdeDdDBRzLiPxwU92', 'Name': 'file', 'Size': '38806'}\n"
     ]
    }
   ],
   "source": [
    "#CV029_3\n",
    "url = 'https://100api.orai.dev/cv029_3'\n",
    "data = {'input_source_hash': 'QmPoAqLmHcf7AAgrWwym2NseKdqUSLBKRmtgjaCMkdqBxh'}\n",
    "headers = {\n",
    "        'Authorization': 'ai_market'\n",
    "    }\n",
    "response = requests.post(url, data=data, headers=headers)\n",
    "print(data)\n",
    "print(response.json())"
   ]
  },
  {
   "cell_type": "code",
   "execution_count": 22,
   "metadata": {},
   "outputs": [
    {
     "name": "stdout",
     "output_type": "stream",
     "text": [
      "{'input_source_hash': 'QmPoAqLmHcf7AAgrWwym2NseKdqUSLBKRmtgjaCMkdqBxh'}\n",
      "{'Hash': 'QmYm52ECijcYCEPfHaD51zhSTH3QgAHUJBXYa1ghbaJJU8', 'Name': 'file', 'Size': '48160'}\n"
     ]
    }
   ],
   "source": [
    "#CV029_4\n",
    "url = 'https://100api.orai.dev/cv029_4'\n",
    "data = {'input_source_hash': 'QmPoAqLmHcf7AAgrWwym2NseKdqUSLBKRmtgjaCMkdqBxh'}\n",
    "headers = {\n",
    "        'Authorization': 'ai_market'\n",
    "    }\n",
    "response = requests.post(url, data=data, headers=headers)\n",
    "print(data)\n",
    "print(response.json())"
   ]
  },
  {
   "cell_type": "code",
   "execution_count": 23,
   "metadata": {},
   "outputs": [
    {
     "name": "stdout",
     "output_type": "stream",
     "text": [
      "{'input_source_hash': 'QmezFG2Coe5d86Cd1UPdtwaqhjr1Mox6XrMNN9ATynJoge'}\n",
      "{'Hash': 'QmcEc3KVCay5yTosZyVSsyCNiBqLh3o4gSLFscWwkGrx2m', 'Name': 'file', 'Size': '14940'}\n"
     ]
    }
   ],
   "source": [
    "#CV030_1\n",
    "url = 'https://100api.orai.dev/cv030_1'\n",
    "data = {'input_source_hash': 'QmezFG2Coe5d86Cd1UPdtwaqhjr1Mox6XrMNN9ATynJoge'}\n",
    "headers = {\n",
    "        'Authorization': 'ai_market'\n",
    "    }\n",
    "response = requests.post(url, data=data, headers=headers)\n",
    "print(data)\n",
    "print(response.json())"
   ]
  },
  {
   "cell_type": "code",
   "execution_count": 25,
   "metadata": {},
   "outputs": [
    {
     "name": "stdout",
     "output_type": "stream",
     "text": [
      "{'input_source_hash': 'QmcEc3KVCay5yTosZyVSsyCNiBqLh3o4gSLFscWwkGrx2m'}\n",
      "{'Hash': 'QmXVRtZ9e36PWbA5rKynkEk6pcTJg7qRZA39U1UF4dczcB', 'Name': 'file', 'Size': '14705'}\n"
     ]
    }
   ],
   "source": [
    "#CV030_2\n",
    "url = 'https://100api.orai.dev/cv030_2'\n",
    "data = {'input_source_hash': 'QmcEc3KVCay5yTosZyVSsyCNiBqLh3o4gSLFscWwkGrx2m'}\n",
    "headers = {\n",
    "        'Authorization': 'ai_market'\n",
    "    }\n",
    "response = requests.post(url, data=data, headers=headers)\n",
    "print(data)\n",
    "print(response.json())"
   ]
  },
  {
   "cell_type": "code",
   "execution_count": 27,
   "metadata": {},
   "outputs": [
    {
     "name": "stdout",
     "output_type": "stream",
     "text": [
      "{'input_source_hash': 'QmPFpuSuUVGcMdVMWHwmT5qc7GmvXrsYqYDWuhgV2cfL8H'}\n",
      "{'Hash': 'QmWfxyxWFZJsarRV1E6nS47fEMtge4P4AAsAm8cWwgoAhL', 'Name': 'file', 'Size': '5490'}\n"
     ]
    }
   ],
   "source": [
    "#CV031\n",
    "url = 'https://100api.orai.dev/cv031'\n",
    "data = {'input_source_hash': 'QmPFpuSuUVGcMdVMWHwmT5qc7GmvXrsYqYDWuhgV2cfL8H'}\n",
    "headers = {\n",
    "        'Authorization': 'ai_market'\n",
    "    }\n",
    "response = requests.post(url, data=data, headers=headers)\n",
    "print(data)\n",
    "print(response.json())"
   ]
  },
  {
   "cell_type": "code",
   "execution_count": 28,
   "metadata": {},
   "outputs": [
    {
     "name": "stdout",
     "output_type": "stream",
     "text": [
      "{'input_source_hash': 'QmPXn1dDTTVTkCtiZFLQ639tYtpWwsNrym4CC8eisexub2'}\n",
      "{'data': [{'emotion': 'happy', 'position': [321, 284, 751, 714]}], 'status': 'success'}\n"
     ]
    }
   ],
   "source": [
    "#CV032\n",
    "url = 'https://100api.orai.dev/cv032'\n",
    "data = {'input_source_hash': 'QmPXn1dDTTVTkCtiZFLQ639tYtpWwsNrym4CC8eisexub2'}\n",
    "headers = {\n",
    "        'Authorization': 'ai_market'\n",
    "    }\n",
    "response = requests.post(url, data=data, headers=headers)\n",
    "print(data)\n",
    "print(response.json())"
   ]
  },
  {
   "cell_type": "code",
   "execution_count": 31,
   "metadata": {},
   "outputs": [
    {
     "name": "stdout",
     "output_type": "stream",
     "text": [
      "{'input_source_hash': 'QmNZKFu2fDTQKSG5JSXeTBe5vr7LoBP6CSd24HjyWozV2J'}\n",
      "{'data': '400 Bad Request: The browser (or proxy) sent a request that this server could not understand.', 'status': 'error'}\n"
     ]
    }
   ],
   "source": [
    "#CV036\n",
    "url = 'https://100api.orai.dev/cv036'\n",
    "data = {'input_source_hash': 'QmNZKFu2fDTQKSG5JSXeTBe5vr7LoBP6CSd24HjyWozV2J'}\n",
    "headers = {\n",
    "        'Authorization': 'ai_market'\n",
    "    }\n",
    "response = requests.post(url, data=data, headers=headers)\n",
    "print(data)\n",
    "print(response.json())"
   ]
  },
  {
   "cell_type": "code",
   "execution_count": 32,
   "metadata": {},
   "outputs": [
    {
     "name": "stdout",
     "output_type": "stream",
     "text": [
      "{'input_source_hash': 'Qmcde1aK8YdhoW7TvKfLg1Z4qWSvt6NYwc4W9XV1FMwmpC'}\n",
      "{'data': {'bounding_box': [{'max_x': 494, 'max_y': 45, 'min_x': 428, 'min_y': 17}, {'max_x': 397, 'max_y': 83, 'min_x': 267, 'min_y': 41}, {'max_x': 257, 'max_y': 99, 'min_x': 103, 'min_y': 65}, {'max_x': 505, 'max_y': 139, 'min_x': 400, 'min_y': 118}, {'max_x': 402, 'max_y': 151, 'min_x': 299, 'min_y': 127}, {'max_x': 291, 'max_y': 161, 'min_x': 144, 'min_y': 144}, {'max_x': 145, 'max_y': 174, 'min_x': 93, 'min_y': 148}, {'max_x': 584, 'max_y': 310, 'min_x': 568, 'min_y': 298}, {'max_x': 519, 'max_y': 362, 'min_x': 447, 'min_y': 340}, {'max_x': 398, 'max_y': 421, 'min_x': 246, 'min_y': 359}, {'max_x': 512, 'max_y': 387, 'min_x': 447, 'min_y': 362}, {'max_x': 226, 'max_y': 425, 'min_x': 46, 'min_y': 369}, {'max_x': 598, 'max_y': 636, 'min_x': 586, 'min_y': 624}]}, 'status': 'success'}\n"
     ]
    }
   ],
   "source": [
    "#CV037\n",
    "url = 'https://100api.orai.dev/cv037'\n",
    "data = {'input_source_hash': 'Qmcde1aK8YdhoW7TvKfLg1Z4qWSvt6NYwc4W9XV1FMwmpC'}\n",
    "headers = {\n",
    "        'Authorization': 'ai_market'\n",
    "    }\n",
    "response = requests.post(url, data=data, headers=headers)\n",
    "print(data)\n",
    "print(response.json())"
   ]
  },
  {
   "cell_type": "code",
   "execution_count": 33,
   "metadata": {},
   "outputs": [
    {
     "name": "stdout",
     "output_type": "stream",
     "text": [
      "{'input_source_hash': 'QmQHveDntnJquqDeKiSwRAbjDg1DiosQiqp7y6tAvmpL1b'}\n"
     ]
    },
    {
     "ename": "JSONDecodeError",
     "evalue": "Expecting value: line 1 column 1 (char 0)",
     "output_type": "error",
     "traceback": [
      "\u001b[0;31m---------------------------------------------------------------------------\u001b[0m",
      "\u001b[0;31mJSONDecodeError\u001b[0m                           Traceback (most recent call last)",
      "File \u001b[0;32m/Library/Frameworks/Python.framework/Versions/3.10/lib/python3.10/site-packages/requests/models.py:971\u001b[0m, in \u001b[0;36mResponse.json\u001b[0;34m(self, **kwargs)\u001b[0m\n\u001b[1;32m    970\u001b[0m \u001b[39mtry\u001b[39;00m:\n\u001b[0;32m--> 971\u001b[0m     \u001b[39mreturn\u001b[39;00m complexjson\u001b[39m.\u001b[39;49mloads(\u001b[39mself\u001b[39;49m\u001b[39m.\u001b[39;49mtext, \u001b[39m*\u001b[39;49m\u001b[39m*\u001b[39;49mkwargs)\n\u001b[1;32m    972\u001b[0m \u001b[39mexcept\u001b[39;00m JSONDecodeError \u001b[39mas\u001b[39;00m e:\n\u001b[1;32m    973\u001b[0m     \u001b[39m# Catch JSON-related errors and raise as requests.JSONDecodeError\u001b[39;00m\n\u001b[1;32m    974\u001b[0m     \u001b[39m# This aliases json.JSONDecodeError and simplejson.JSONDecodeError\u001b[39;00m\n",
      "File \u001b[0;32m/Library/Frameworks/Python.framework/Versions/3.10/lib/python3.10/json/__init__.py:346\u001b[0m, in \u001b[0;36mloads\u001b[0;34m(s, cls, object_hook, parse_float, parse_int, parse_constant, object_pairs_hook, **kw)\u001b[0m\n\u001b[1;32m    343\u001b[0m \u001b[39mif\u001b[39;00m (\u001b[39mcls\u001b[39m \u001b[39mis\u001b[39;00m \u001b[39mNone\u001b[39;00m \u001b[39mand\u001b[39;00m object_hook \u001b[39mis\u001b[39;00m \u001b[39mNone\u001b[39;00m \u001b[39mand\u001b[39;00m\n\u001b[1;32m    344\u001b[0m         parse_int \u001b[39mis\u001b[39;00m \u001b[39mNone\u001b[39;00m \u001b[39mand\u001b[39;00m parse_float \u001b[39mis\u001b[39;00m \u001b[39mNone\u001b[39;00m \u001b[39mand\u001b[39;00m\n\u001b[1;32m    345\u001b[0m         parse_constant \u001b[39mis\u001b[39;00m \u001b[39mNone\u001b[39;00m \u001b[39mand\u001b[39;00m object_pairs_hook \u001b[39mis\u001b[39;00m \u001b[39mNone\u001b[39;00m \u001b[39mand\u001b[39;00m \u001b[39mnot\u001b[39;00m kw):\n\u001b[0;32m--> 346\u001b[0m     \u001b[39mreturn\u001b[39;00m _default_decoder\u001b[39m.\u001b[39;49mdecode(s)\n\u001b[1;32m    347\u001b[0m \u001b[39mif\u001b[39;00m \u001b[39mcls\u001b[39m \u001b[39mis\u001b[39;00m \u001b[39mNone\u001b[39;00m:\n",
      "File \u001b[0;32m/Library/Frameworks/Python.framework/Versions/3.10/lib/python3.10/json/decoder.py:337\u001b[0m, in \u001b[0;36mJSONDecoder.decode\u001b[0;34m(self, s, _w)\u001b[0m\n\u001b[1;32m    333\u001b[0m \u001b[39m\"\"\"Return the Python representation of ``s`` (a ``str`` instance\u001b[39;00m\n\u001b[1;32m    334\u001b[0m \u001b[39mcontaining a JSON document).\u001b[39;00m\n\u001b[1;32m    335\u001b[0m \n\u001b[1;32m    336\u001b[0m \u001b[39m\"\"\"\u001b[39;00m\n\u001b[0;32m--> 337\u001b[0m obj, end \u001b[39m=\u001b[39m \u001b[39mself\u001b[39;49m\u001b[39m.\u001b[39;49mraw_decode(s, idx\u001b[39m=\u001b[39;49m_w(s, \u001b[39m0\u001b[39;49m)\u001b[39m.\u001b[39;49mend())\n\u001b[1;32m    338\u001b[0m end \u001b[39m=\u001b[39m _w(s, end)\u001b[39m.\u001b[39mend()\n",
      "File \u001b[0;32m/Library/Frameworks/Python.framework/Versions/3.10/lib/python3.10/json/decoder.py:355\u001b[0m, in \u001b[0;36mJSONDecoder.raw_decode\u001b[0;34m(self, s, idx)\u001b[0m\n\u001b[1;32m    354\u001b[0m \u001b[39mexcept\u001b[39;00m \u001b[39mStopIteration\u001b[39;00m \u001b[39mas\u001b[39;00m err:\n\u001b[0;32m--> 355\u001b[0m     \u001b[39mraise\u001b[39;00m JSONDecodeError(\u001b[39m\"\u001b[39m\u001b[39mExpecting value\u001b[39m\u001b[39m\"\u001b[39m, s, err\u001b[39m.\u001b[39mvalue) \u001b[39mfrom\u001b[39;00m \u001b[39mNone\u001b[39m\n\u001b[1;32m    356\u001b[0m \u001b[39mreturn\u001b[39;00m obj, end\n",
      "\u001b[0;31mJSONDecodeError\u001b[0m: Expecting value: line 1 column 1 (char 0)",
      "\nDuring handling of the above exception, another exception occurred:\n",
      "\u001b[0;31mJSONDecodeError\u001b[0m                           Traceback (most recent call last)",
      "\u001b[1;32m/Users/oraichain/Desktop/test 100 api/100API.ipynb Cell 40\u001b[0m in \u001b[0;36m<cell line: 9>\u001b[0;34m()\u001b[0m\n\u001b[1;32m      <a href='vscode-notebook-cell:/Users/oraichain/Desktop/test%20100%20api/100API.ipynb#ch0000039?line=6'>7</a>\u001b[0m response \u001b[39m=\u001b[39m requests\u001b[39m.\u001b[39mpost(url, data\u001b[39m=\u001b[39mdata, headers\u001b[39m=\u001b[39mheaders)\n\u001b[1;32m      <a href='vscode-notebook-cell:/Users/oraichain/Desktop/test%20100%20api/100API.ipynb#ch0000039?line=7'>8</a>\u001b[0m \u001b[39mprint\u001b[39m(data)\n\u001b[0;32m----> <a href='vscode-notebook-cell:/Users/oraichain/Desktop/test%20100%20api/100API.ipynb#ch0000039?line=8'>9</a>\u001b[0m \u001b[39mprint\u001b[39m(response\u001b[39m.\u001b[39;49mjson())\n",
      "File \u001b[0;32m/Library/Frameworks/Python.framework/Versions/3.10/lib/python3.10/site-packages/requests/models.py:975\u001b[0m, in \u001b[0;36mResponse.json\u001b[0;34m(self, **kwargs)\u001b[0m\n\u001b[1;32m    971\u001b[0m     \u001b[39mreturn\u001b[39;00m complexjson\u001b[39m.\u001b[39mloads(\u001b[39mself\u001b[39m\u001b[39m.\u001b[39mtext, \u001b[39m*\u001b[39m\u001b[39m*\u001b[39mkwargs)\n\u001b[1;32m    972\u001b[0m \u001b[39mexcept\u001b[39;00m JSONDecodeError \u001b[39mas\u001b[39;00m e:\n\u001b[1;32m    973\u001b[0m     \u001b[39m# Catch JSON-related errors and raise as requests.JSONDecodeError\u001b[39;00m\n\u001b[1;32m    974\u001b[0m     \u001b[39m# This aliases json.JSONDecodeError and simplejson.JSONDecodeError\u001b[39;00m\n\u001b[0;32m--> 975\u001b[0m     \u001b[39mraise\u001b[39;00m RequestsJSONDecodeError(e\u001b[39m.\u001b[39mmsg, e\u001b[39m.\u001b[39mdoc, e\u001b[39m.\u001b[39mpos)\n",
      "\u001b[0;31mJSONDecodeError\u001b[0m: Expecting value: line 1 column 1 (char 0)"
     ]
    }
   ],
   "source": [
    "#CV040\n",
    "url = 'https://100api.orai.dev/cv040'\n",
    "data = {'input_source_hash': 'QmQHveDntnJquqDeKiSwRAbjDg1DiosQiqp7y6tAvmpL1b'}\n",
    "headers = {\n",
    "        'Authorization': 'ai_market'\n",
    "    }\n",
    "response = requests.post(url, data=data, headers=headers)\n",
    "print(data)\n",
    "print(response.json())"
   ]
  },
  {
   "cell_type": "code",
   "execution_count": 34,
   "metadata": {},
   "outputs": [
    {
     "name": "stdout",
     "output_type": "stream",
     "text": [
      "{'input_source_hash': 'QmT28r31q3nZgL1AzoPRVnC8sXoEiWmjF9L7GNTfjSKsRF'}\n",
      "{'data': [{'label': 'table', 'max_x': 699, 'max_y': 321, 'min_x': 139, 'min_y': 8}], 'status': 'success'}\n"
     ]
    }
   ],
   "source": [
    "#CV043\n",
    "url = 'https://100api.orai.dev/cv043'\n",
    "data = {'input_source_hash': 'QmT28r31q3nZgL1AzoPRVnC8sXoEiWmjF9L7GNTfjSKsRF'}\n",
    "headers = {\n",
    "        'Authorization': 'ai_market'\n",
    "    }\n",
    "response = requests.post(url, data=data, headers=headers)\n",
    "print(data)\n",
    "print(response.json())"
   ]
  },
  {
   "cell_type": "code",
   "execution_count": 35,
   "metadata": {},
   "outputs": [
    {
     "name": "stdout",
     "output_type": "stream",
     "text": [
      "{'input_source_hash': 'QmTbwLaFyNHxLGjb1LMf6Y9kAYR96JPve69svZcQZJUCzZ'}\n",
      "{'data': [], 'status': 'success'}\n"
     ]
    }
   ],
   "source": [
    "#CV044\n",
    "url = 'https://100api.orai.dev/cv044'\n",
    "data = {'input_source_hash': 'QmTbwLaFyNHxLGjb1LMf6Y9kAYR96JPve69svZcQZJUCzZ'}\n",
    "headers = {\n",
    "        'Authorization': 'ai_market'\n",
    "    }\n",
    "response = requests.post(url, data=data, headers=headers)\n",
    "print(data)\n",
    "print(response.json())"
   ]
  },
  {
   "cell_type": "code",
   "execution_count": 36,
   "metadata": {},
   "outputs": [
    {
     "name": "stdout",
     "output_type": "stream",
     "text": [
      "{'input_source_hash': 'QmTbwLaFyNHxLGjb1LMf6Y9kAYR96JPve69svZcQZJUCzZ'}\n",
      "{'Hash': 'QmPocupXAExsCVENXPhjFKwjZ4aNTjQJSCNL3kmYFS1VG6', 'Name': 'file', 'Size': '95539'}\n"
     ]
    }
   ],
   "source": [
    "#CV047\n",
    "url = 'https://100api.orai.dev/cv047'\n",
    "data = {'input_source_hash': 'QmTbwLaFyNHxLGjb1LMf6Y9kAYR96JPve69svZcQZJUCzZ'}\n",
    "headers = {\n",
    "        'Authorization': 'ai_market'\n",
    "    }\n",
    "response = requests.post(url, data=data, headers=headers)\n",
    "print(data)\n",
    "print(response.json())"
   ]
  },
  {
   "cell_type": "code",
   "execution_count": 37,
   "metadata": {},
   "outputs": [
    {
     "name": "stdout",
     "output_type": "stream",
     "text": [
      "{'input_source_hash': 'QmTbwLaFyNHxLGjb1LMf6Y9kAYR96JPve69svZcQZJUCzZ'}\n",
      "{'data': 5.250391483306885, 'status': 'success'}\n"
     ]
    }
   ],
   "source": [
    "#CV049\n",
    "url = 'https://100api.orai.dev/cv049'\n",
    "data = {'input_source_hash': 'QmTbwLaFyNHxLGjb1LMf6Y9kAYR96JPve69svZcQZJUCzZ'}\n",
    "headers = {\n",
    "        'Authorization': 'ai_market'\n",
    "    }\n",
    "response = requests.post(url, data=data, headers=headers)\n",
    "print(data)\n",
    "print(response.json())"
   ]
  },
  {
   "cell_type": "code",
   "execution_count": 39,
   "metadata": {},
   "outputs": [
    {
     "name": "stdout",
     "output_type": "stream",
     "text": [
      "{'input_source_hash': 'QmPocupXAExsCVENXPhjFKwjZ4aNTjQJSCNL3kmYFS1VG6'}\n",
      "{'data': \"[Errno 2] No such file or directory: 'cv051(input_source)'\", 'status': 'error'}\n"
     ]
    }
   ],
   "source": [
    "#CV051\n",
    "url = 'https://100api.orai.dev/cv051'\n",
    "data = {'input_source_hash': 'QmPocupXAExsCVENXPhjFKwjZ4aNTjQJSCNL3kmYFS1VG6'}\n",
    "headers = {\n",
    "        'Authorization': 'ai_market'\n",
    "    }\n",
    "response = requests.post(url, data=data, headers=headers)\n",
    "print(data)\n",
    "print(response.json())"
   ]
  },
  {
   "cell_type": "code",
   "execution_count": 40,
   "metadata": {},
   "outputs": [
    {
     "name": "stdout",
     "output_type": "stream",
     "text": [
      "{'input_source_hash': 'QmYm52ECijcYCEPfHaD51zhSTH3QgAHUJBXYa1ghbaJJU8'}\n",
      "{'Hash': 'QmPtVvovwcSszs8Te9ZpWrVhtN2yHCJ5QYHdVBGZNpmxLE', 'Name': 'file', 'Size': '26379'}\n"
     ]
    }
   ],
   "source": [
    "#CV052\n",
    "url = 'https://100api.orai.dev/cv052'\n",
    "data = {'input_source_hash': 'QmYm52ECijcYCEPfHaD51zhSTH3QgAHUJBXYa1ghbaJJU8'}\n",
    "headers = {\n",
    "        'Authorization': 'ai_market'\n",
    "    }\n",
    "response = requests.post(url, data=data, headers=headers)\n",
    "print(data)\n",
    "print(response.json())"
   ]
  },
  {
   "cell_type": "code",
   "execution_count": 42,
   "metadata": {},
   "outputs": [
    {
     "name": "stdout",
     "output_type": "stream",
     "text": [
      "{'input_source_hash': 'QmZRUKPVU7EoH94hwhdA2RrJUrFq2DfLN9RjTCfCZ72t98'}\n",
      "{'data': '400 Bad Request: The browser (or proxy) sent a request that this server could not understand.', 'status': 'error'}\n"
     ]
    }
   ],
   "source": [
    "#CV053\n",
    "url = 'https://100api.orai.dev/cv053'\n",
    "data = {'input_source_hash': 'QmZRUKPVU7EoH94hwhdA2RrJUrFq2DfLN9RjTCfCZ72t98'}\n",
    "headers = {\n",
    "        'Authorization': 'ai_market'\n",
    "    }\n",
    "response = requests.post(url, data=data, headers=headers)\n",
    "print(data)\n",
    "print(response.json())"
   ]
  },
  {
   "cell_type": "code",
   "execution_count": 44,
   "metadata": {},
   "outputs": [
    {
     "name": "stdout",
     "output_type": "stream",
     "text": [
      "{'input_source_hash': 'QmWGzoZqXTMZuE17ZGh5eoNuh87J9eXq5YoTF47A52UUUv'}\n",
      "{'data': '400 Bad Request: The browser (or proxy) sent a request that this server could not understand.', 'status': 'error'}\n"
     ]
    }
   ],
   "source": [
    "#CV056\n",
    "url = 'https://100api.orai.dev/cv056'\n",
    "data = {'input_source_hash': 'QmWGzoZqXTMZuE17ZGh5eoNuh87J9eXq5YoTF47A52UUUv'}\n",
    "headers = {\n",
    "        'Authorization': 'ai_market'\n",
    "    }\n",
    "response = requests.post(url, data=data, headers=headers)\n",
    "print(data)\n",
    "print(response.json())"
   ]
  },
  {
   "cell_type": "code",
   "execution_count": 45,
   "metadata": {},
   "outputs": [
    {
     "name": "stdout",
     "output_type": "stream",
     "text": [
      "{'input_source_hash': 'QmSau37UqGpi5kwTrBHvxVzvwdxGSGPdgvfiatzmx7wBCZ'}\n",
      "{'Hash': 'QmZut1ddzstq21g3YGRSJKvewmk9kD8rf4RWSVSMokKoNj', 'Name': 'file', 'Size': '289650'}\n"
     ]
    }
   ],
   "source": [
    "#CV057\n",
    "url = 'https://100api.orai.dev/cv057'\n",
    "data = {'input_source_hash': 'QmSau37UqGpi5kwTrBHvxVzvwdxGSGPdgvfiatzmx7wBCZ'}\n",
    "headers = {\n",
    "        'Authorization': 'ai_market'\n",
    "    }\n",
    "response = requests.post(url, data=data, headers=headers)\n",
    "print(data)\n",
    "print(response.json())"
   ]
  },
  {
   "cell_type": "code",
   "execution_count": 3,
   "metadata": {},
   "outputs": [
    {
     "name": "stdout",
     "output_type": "stream",
     "text": [
      "{'input_source_hash': 'QmZRUKPVU7EoH94hwhdA2RrJUrFq2DfLN9RjTCfCZ72t98'}\n",
      "{'data': '400 Bad Request: The browser (or proxy) sent a request that this server could not understand.', 'status': 'error'}\n"
     ]
    }
   ],
   "source": [
    "#CV060\n",
    "url = 'https://100api.orai.dev/cv060'\n",
    "data = {'input_source_hash': 'QmZRUKPVU7EoH94hwhdA2RrJUrFq2DfLN9RjTCfCZ72t98'}\n",
    "headers = {\n",
    "        'Authorization': 'ai_market'\n",
    "    }\n",
    "response = requests.post(url, data=data, headers=headers)\n",
    "print(data)\n",
    "print(response.json())"
   ]
  },
  {
   "cell_type": "code",
   "execution_count": 7,
   "metadata": {},
   "outputs": [
    {
     "name": "stdout",
     "output_type": "stream",
     "text": [
      "{'input_source_hash': 'QmZRUKPVU7EoH94hwhdA2RrJUrFq2DfLN9RjTCfCZ72t98'}\n"
     ]
    },
    {
     "ename": "JSONDecodeError",
     "evalue": "Expecting value: line 1 column 1 (char 0)",
     "output_type": "error",
     "traceback": [
      "\u001b[0;31m---------------------------------------------------------------------------\u001b[0m",
      "\u001b[0;31mJSONDecodeError\u001b[0m                           Traceback (most recent call last)",
      "File \u001b[0;32m/Library/Frameworks/Python.framework/Versions/3.10/lib/python3.10/site-packages/requests/models.py:971\u001b[0m, in \u001b[0;36mResponse.json\u001b[0;34m(self, **kwargs)\u001b[0m\n\u001b[1;32m    970\u001b[0m \u001b[39mtry\u001b[39;00m:\n\u001b[0;32m--> 971\u001b[0m     \u001b[39mreturn\u001b[39;00m complexjson\u001b[39m.\u001b[39;49mloads(\u001b[39mself\u001b[39;49m\u001b[39m.\u001b[39;49mtext, \u001b[39m*\u001b[39;49m\u001b[39m*\u001b[39;49mkwargs)\n\u001b[1;32m    972\u001b[0m \u001b[39mexcept\u001b[39;00m JSONDecodeError \u001b[39mas\u001b[39;00m e:\n\u001b[1;32m    973\u001b[0m     \u001b[39m# Catch JSON-related errors and raise as requests.JSONDecodeError\u001b[39;00m\n\u001b[1;32m    974\u001b[0m     \u001b[39m# This aliases json.JSONDecodeError and simplejson.JSONDecodeError\u001b[39;00m\n",
      "File \u001b[0;32m/Library/Frameworks/Python.framework/Versions/3.10/lib/python3.10/json/__init__.py:346\u001b[0m, in \u001b[0;36mloads\u001b[0;34m(s, cls, object_hook, parse_float, parse_int, parse_constant, object_pairs_hook, **kw)\u001b[0m\n\u001b[1;32m    343\u001b[0m \u001b[39mif\u001b[39;00m (\u001b[39mcls\u001b[39m \u001b[39mis\u001b[39;00m \u001b[39mNone\u001b[39;00m \u001b[39mand\u001b[39;00m object_hook \u001b[39mis\u001b[39;00m \u001b[39mNone\u001b[39;00m \u001b[39mand\u001b[39;00m\n\u001b[1;32m    344\u001b[0m         parse_int \u001b[39mis\u001b[39;00m \u001b[39mNone\u001b[39;00m \u001b[39mand\u001b[39;00m parse_float \u001b[39mis\u001b[39;00m \u001b[39mNone\u001b[39;00m \u001b[39mand\u001b[39;00m\n\u001b[1;32m    345\u001b[0m         parse_constant \u001b[39mis\u001b[39;00m \u001b[39mNone\u001b[39;00m \u001b[39mand\u001b[39;00m object_pairs_hook \u001b[39mis\u001b[39;00m \u001b[39mNone\u001b[39;00m \u001b[39mand\u001b[39;00m \u001b[39mnot\u001b[39;00m kw):\n\u001b[0;32m--> 346\u001b[0m     \u001b[39mreturn\u001b[39;00m _default_decoder\u001b[39m.\u001b[39;49mdecode(s)\n\u001b[1;32m    347\u001b[0m \u001b[39mif\u001b[39;00m \u001b[39mcls\u001b[39m \u001b[39mis\u001b[39;00m \u001b[39mNone\u001b[39;00m:\n",
      "File \u001b[0;32m/Library/Frameworks/Python.framework/Versions/3.10/lib/python3.10/json/decoder.py:337\u001b[0m, in \u001b[0;36mJSONDecoder.decode\u001b[0;34m(self, s, _w)\u001b[0m\n\u001b[1;32m    333\u001b[0m \u001b[39m\"\"\"Return the Python representation of ``s`` (a ``str`` instance\u001b[39;00m\n\u001b[1;32m    334\u001b[0m \u001b[39mcontaining a JSON document).\u001b[39;00m\n\u001b[1;32m    335\u001b[0m \n\u001b[1;32m    336\u001b[0m \u001b[39m\"\"\"\u001b[39;00m\n\u001b[0;32m--> 337\u001b[0m obj, end \u001b[39m=\u001b[39m \u001b[39mself\u001b[39;49m\u001b[39m.\u001b[39;49mraw_decode(s, idx\u001b[39m=\u001b[39;49m_w(s, \u001b[39m0\u001b[39;49m)\u001b[39m.\u001b[39;49mend())\n\u001b[1;32m    338\u001b[0m end \u001b[39m=\u001b[39m _w(s, end)\u001b[39m.\u001b[39mend()\n",
      "File \u001b[0;32m/Library/Frameworks/Python.framework/Versions/3.10/lib/python3.10/json/decoder.py:355\u001b[0m, in \u001b[0;36mJSONDecoder.raw_decode\u001b[0;34m(self, s, idx)\u001b[0m\n\u001b[1;32m    354\u001b[0m \u001b[39mexcept\u001b[39;00m \u001b[39mStopIteration\u001b[39;00m \u001b[39mas\u001b[39;00m err:\n\u001b[0;32m--> 355\u001b[0m     \u001b[39mraise\u001b[39;00m JSONDecodeError(\u001b[39m\"\u001b[39m\u001b[39mExpecting value\u001b[39m\u001b[39m\"\u001b[39m, s, err\u001b[39m.\u001b[39mvalue) \u001b[39mfrom\u001b[39;00m \u001b[39mNone\u001b[39m\n\u001b[1;32m    356\u001b[0m \u001b[39mreturn\u001b[39;00m obj, end\n",
      "\u001b[0;31mJSONDecodeError\u001b[0m: Expecting value: line 1 column 1 (char 0)",
      "\nDuring handling of the above exception, another exception occurred:\n",
      "\u001b[0;31mJSONDecodeError\u001b[0m                           Traceback (most recent call last)",
      "\u001b[1;32m/Users/oraichain/Desktop/test 100 api/100API.ipynb Cell 51\u001b[0m in \u001b[0;36m<cell line: 9>\u001b[0;34m()\u001b[0m\n\u001b[1;32m      <a href='vscode-notebook-cell:/Users/oraichain/Desktop/test%20100%20api/100API.ipynb#ch0000050?line=6'>7</a>\u001b[0m response \u001b[39m=\u001b[39m requests\u001b[39m.\u001b[39mpost(url, data\u001b[39m=\u001b[39mdata, headers\u001b[39m=\u001b[39mheaders)\n\u001b[1;32m      <a href='vscode-notebook-cell:/Users/oraichain/Desktop/test%20100%20api/100API.ipynb#ch0000050?line=7'>8</a>\u001b[0m \u001b[39mprint\u001b[39m(data)\n\u001b[0;32m----> <a href='vscode-notebook-cell:/Users/oraichain/Desktop/test%20100%20api/100API.ipynb#ch0000050?line=8'>9</a>\u001b[0m \u001b[39mprint\u001b[39m(response\u001b[39m.\u001b[39;49mjson())\n",
      "File \u001b[0;32m/Library/Frameworks/Python.framework/Versions/3.10/lib/python3.10/site-packages/requests/models.py:975\u001b[0m, in \u001b[0;36mResponse.json\u001b[0;34m(self, **kwargs)\u001b[0m\n\u001b[1;32m    971\u001b[0m     \u001b[39mreturn\u001b[39;00m complexjson\u001b[39m.\u001b[39mloads(\u001b[39mself\u001b[39m\u001b[39m.\u001b[39mtext, \u001b[39m*\u001b[39m\u001b[39m*\u001b[39mkwargs)\n\u001b[1;32m    972\u001b[0m \u001b[39mexcept\u001b[39;00m JSONDecodeError \u001b[39mas\u001b[39;00m e:\n\u001b[1;32m    973\u001b[0m     \u001b[39m# Catch JSON-related errors and raise as requests.JSONDecodeError\u001b[39;00m\n\u001b[1;32m    974\u001b[0m     \u001b[39m# This aliases json.JSONDecodeError and simplejson.JSONDecodeError\u001b[39;00m\n\u001b[0;32m--> 975\u001b[0m     \u001b[39mraise\u001b[39;00m RequestsJSONDecodeError(e\u001b[39m.\u001b[39mmsg, e\u001b[39m.\u001b[39mdoc, e\u001b[39m.\u001b[39mpos)\n",
      "\u001b[0;31mJSONDecodeError\u001b[0m: Expecting value: line 1 column 1 (char 0)"
     ]
    }
   ],
   "source": [
    "#CV061\n",
    "url = 'https://100api.orai.dev/cv061'\n",
    "data = {'input_source_hash': 'QmZRUKPVU7EoH94hwhdA2RrJUrFq2DfLN9RjTCfCZ72t98'}\n",
    "headers = {\n",
    "        'Authorization': 'ai_market'\n",
    "    }\n",
    "response = requests.post(url, data=data, headers=headers)\n",
    "print(data)\n",
    "print(response.json())"
   ]
  },
  {
   "cell_type": "code",
   "execution_count": 8,
   "metadata": {},
   "outputs": [
    {
     "name": "stdout",
     "output_type": "stream",
     "text": [
      "{'input_source_hash': 'QmZRUKPVU7EoH94hwhdA2RrJUrFq2DfLN9RjTCfCZ72t98'}\n",
      "{'data': 'porn', 'status': 'success'}\n"
     ]
    }
   ],
   "source": [
    "#CV062\n",
    "url = 'https://100api.orai.dev/cv062'\n",
    "data = {'input_source_hash': 'QmZRUKPVU7EoH94hwhdA2RrJUrFq2DfLN9RjTCfCZ72t98'}\n",
    "headers = {\n",
    "        'Authorization': 'ai_market'\n",
    "    }\n",
    "response = requests.post(url, data=data, headers=headers)\n",
    "print(data)\n",
    "print(response.json())"
   ]
  },
  {
   "cell_type": "code",
   "execution_count": 9,
   "metadata": {},
   "outputs": [
    {
     "name": "stdout",
     "output_type": "stream",
     "text": [
      "{'input_source_hash': 'QmZRUKPVU7EoH94hwhdA2RrJUrFq2DfLN9RjTCfCZ72t98'}\n",
      "{'Hash': 'QmPW2zydgmeHsJmDeXjy1i9tcyFma5M2SWKqBqrnrHeS9o', 'Name': 'file', 'Size': '198940'}\n"
     ]
    }
   ],
   "source": [
    "#CV063\n",
    "url = 'https://100api.orai.dev/cv063'\n",
    "data = {'input_source_hash': 'QmZRUKPVU7EoH94hwhdA2RrJUrFq2DfLN9RjTCfCZ72t98'}\n",
    "headers = {\n",
    "        'Authorization': 'ai_market'\n",
    "    }\n",
    "response = requests.post(url, data=data, headers=headers)\n",
    "print(data)\n",
    "print(response.json())"
   ]
  },
  {
   "cell_type": "code",
   "execution_count": 10,
   "metadata": {},
   "outputs": [
    {
     "name": "stdout",
     "output_type": "stream",
     "text": [
      "{'input_source_hash': 'QmZRUKPVU7EoH94hwhdA2RrJUrFq2DfLN9RjTCfCZ72t98'}\n"
     ]
    },
    {
     "ename": "JSONDecodeError",
     "evalue": "Expecting value: line 1 column 1 (char 0)",
     "output_type": "error",
     "traceback": [
      "\u001b[0;31m---------------------------------------------------------------------------\u001b[0m",
      "\u001b[0;31mJSONDecodeError\u001b[0m                           Traceback (most recent call last)",
      "File \u001b[0;32m/Library/Frameworks/Python.framework/Versions/3.10/lib/python3.10/site-packages/requests/models.py:971\u001b[0m, in \u001b[0;36mResponse.json\u001b[0;34m(self, **kwargs)\u001b[0m\n\u001b[1;32m    970\u001b[0m \u001b[39mtry\u001b[39;00m:\n\u001b[0;32m--> 971\u001b[0m     \u001b[39mreturn\u001b[39;00m complexjson\u001b[39m.\u001b[39;49mloads(\u001b[39mself\u001b[39;49m\u001b[39m.\u001b[39;49mtext, \u001b[39m*\u001b[39;49m\u001b[39m*\u001b[39;49mkwargs)\n\u001b[1;32m    972\u001b[0m \u001b[39mexcept\u001b[39;00m JSONDecodeError \u001b[39mas\u001b[39;00m e:\n\u001b[1;32m    973\u001b[0m     \u001b[39m# Catch JSON-related errors and raise as requests.JSONDecodeError\u001b[39;00m\n\u001b[1;32m    974\u001b[0m     \u001b[39m# This aliases json.JSONDecodeError and simplejson.JSONDecodeError\u001b[39;00m\n",
      "File \u001b[0;32m/Library/Frameworks/Python.framework/Versions/3.10/lib/python3.10/json/__init__.py:346\u001b[0m, in \u001b[0;36mloads\u001b[0;34m(s, cls, object_hook, parse_float, parse_int, parse_constant, object_pairs_hook, **kw)\u001b[0m\n\u001b[1;32m    343\u001b[0m \u001b[39mif\u001b[39;00m (\u001b[39mcls\u001b[39m \u001b[39mis\u001b[39;00m \u001b[39mNone\u001b[39;00m \u001b[39mand\u001b[39;00m object_hook \u001b[39mis\u001b[39;00m \u001b[39mNone\u001b[39;00m \u001b[39mand\u001b[39;00m\n\u001b[1;32m    344\u001b[0m         parse_int \u001b[39mis\u001b[39;00m \u001b[39mNone\u001b[39;00m \u001b[39mand\u001b[39;00m parse_float \u001b[39mis\u001b[39;00m \u001b[39mNone\u001b[39;00m \u001b[39mand\u001b[39;00m\n\u001b[1;32m    345\u001b[0m         parse_constant \u001b[39mis\u001b[39;00m \u001b[39mNone\u001b[39;00m \u001b[39mand\u001b[39;00m object_pairs_hook \u001b[39mis\u001b[39;00m \u001b[39mNone\u001b[39;00m \u001b[39mand\u001b[39;00m \u001b[39mnot\u001b[39;00m kw):\n\u001b[0;32m--> 346\u001b[0m     \u001b[39mreturn\u001b[39;00m _default_decoder\u001b[39m.\u001b[39;49mdecode(s)\n\u001b[1;32m    347\u001b[0m \u001b[39mif\u001b[39;00m \u001b[39mcls\u001b[39m \u001b[39mis\u001b[39;00m \u001b[39mNone\u001b[39;00m:\n",
      "File \u001b[0;32m/Library/Frameworks/Python.framework/Versions/3.10/lib/python3.10/json/decoder.py:337\u001b[0m, in \u001b[0;36mJSONDecoder.decode\u001b[0;34m(self, s, _w)\u001b[0m\n\u001b[1;32m    333\u001b[0m \u001b[39m\"\"\"Return the Python representation of ``s`` (a ``str`` instance\u001b[39;00m\n\u001b[1;32m    334\u001b[0m \u001b[39mcontaining a JSON document).\u001b[39;00m\n\u001b[1;32m    335\u001b[0m \n\u001b[1;32m    336\u001b[0m \u001b[39m\"\"\"\u001b[39;00m\n\u001b[0;32m--> 337\u001b[0m obj, end \u001b[39m=\u001b[39m \u001b[39mself\u001b[39;49m\u001b[39m.\u001b[39;49mraw_decode(s, idx\u001b[39m=\u001b[39;49m_w(s, \u001b[39m0\u001b[39;49m)\u001b[39m.\u001b[39;49mend())\n\u001b[1;32m    338\u001b[0m end \u001b[39m=\u001b[39m _w(s, end)\u001b[39m.\u001b[39mend()\n",
      "File \u001b[0;32m/Library/Frameworks/Python.framework/Versions/3.10/lib/python3.10/json/decoder.py:355\u001b[0m, in \u001b[0;36mJSONDecoder.raw_decode\u001b[0;34m(self, s, idx)\u001b[0m\n\u001b[1;32m    354\u001b[0m \u001b[39mexcept\u001b[39;00m \u001b[39mStopIteration\u001b[39;00m \u001b[39mas\u001b[39;00m err:\n\u001b[0;32m--> 355\u001b[0m     \u001b[39mraise\u001b[39;00m JSONDecodeError(\u001b[39m\"\u001b[39m\u001b[39mExpecting value\u001b[39m\u001b[39m\"\u001b[39m, s, err\u001b[39m.\u001b[39mvalue) \u001b[39mfrom\u001b[39;00m \u001b[39mNone\u001b[39m\n\u001b[1;32m    356\u001b[0m \u001b[39mreturn\u001b[39;00m obj, end\n",
      "\u001b[0;31mJSONDecodeError\u001b[0m: Expecting value: line 1 column 1 (char 0)",
      "\nDuring handling of the above exception, another exception occurred:\n",
      "\u001b[0;31mJSONDecodeError\u001b[0m                           Traceback (most recent call last)",
      "\u001b[1;32m/Users/oraichain/Desktop/test 100 api/100API.ipynb Cell 54\u001b[0m in \u001b[0;36m<cell line: 9>\u001b[0;34m()\u001b[0m\n\u001b[1;32m      <a href='vscode-notebook-cell:/Users/oraichain/Desktop/test%20100%20api/100API.ipynb#ch0000053?line=6'>7</a>\u001b[0m response \u001b[39m=\u001b[39m requests\u001b[39m.\u001b[39mpost(url, data\u001b[39m=\u001b[39mdata, headers\u001b[39m=\u001b[39mheaders)\n\u001b[1;32m      <a href='vscode-notebook-cell:/Users/oraichain/Desktop/test%20100%20api/100API.ipynb#ch0000053?line=7'>8</a>\u001b[0m \u001b[39mprint\u001b[39m(data)\n\u001b[0;32m----> <a href='vscode-notebook-cell:/Users/oraichain/Desktop/test%20100%20api/100API.ipynb#ch0000053?line=8'>9</a>\u001b[0m \u001b[39mprint\u001b[39m(response\u001b[39m.\u001b[39;49mjson())\n",
      "File \u001b[0;32m/Library/Frameworks/Python.framework/Versions/3.10/lib/python3.10/site-packages/requests/models.py:975\u001b[0m, in \u001b[0;36mResponse.json\u001b[0;34m(self, **kwargs)\u001b[0m\n\u001b[1;32m    971\u001b[0m     \u001b[39mreturn\u001b[39;00m complexjson\u001b[39m.\u001b[39mloads(\u001b[39mself\u001b[39m\u001b[39m.\u001b[39mtext, \u001b[39m*\u001b[39m\u001b[39m*\u001b[39mkwargs)\n\u001b[1;32m    972\u001b[0m \u001b[39mexcept\u001b[39;00m JSONDecodeError \u001b[39mas\u001b[39;00m e:\n\u001b[1;32m    973\u001b[0m     \u001b[39m# Catch JSON-related errors and raise as requests.JSONDecodeError\u001b[39;00m\n\u001b[1;32m    974\u001b[0m     \u001b[39m# This aliases json.JSONDecodeError and simplejson.JSONDecodeError\u001b[39;00m\n\u001b[0;32m--> 975\u001b[0m     \u001b[39mraise\u001b[39;00m RequestsJSONDecodeError(e\u001b[39m.\u001b[39mmsg, e\u001b[39m.\u001b[39mdoc, e\u001b[39m.\u001b[39mpos)\n",
      "\u001b[0;31mJSONDecodeError\u001b[0m: Expecting value: line 1 column 1 (char 0)"
     ]
    }
   ],
   "source": [
    "#CV064\n",
    "url = 'https://100api.orai.dev/cv064'\n",
    "data = {'input_source_hash': 'QmZRUKPVU7EoH94hwhdA2RrJUrFq2DfLN9RjTCfCZ72t98'}\n",
    "headers = {\n",
    "        'Authorization': 'ai_market'\n",
    "    }\n",
    "response = requests.post(url, data=data, headers=headers)\n",
    "print(data)\n",
    "print(response.json())"
   ]
  },
  {
   "cell_type": "code",
   "execution_count": 12,
   "metadata": {},
   "outputs": [
    {
     "name": "stdout",
     "output_type": "stream",
     "text": [
      "{'input_source_hash': 'QmZRUKPVU7EoH94hwhdA2RrJUrFq2DfLN9RjTCfCZ72t98', 'input_style_hash': 'QmPW2zydgmeHsJmDeXjy1i9tcyFma5M2SWKqBqrnrHeS9o'}\n"
     ]
    },
    {
     "ename": "JSONDecodeError",
     "evalue": "Expecting value: line 1 column 1 (char 0)",
     "output_type": "error",
     "traceback": [
      "\u001b[0;31m---------------------------------------------------------------------------\u001b[0m",
      "\u001b[0;31mJSONDecodeError\u001b[0m                           Traceback (most recent call last)",
      "File \u001b[0;32m/Library/Frameworks/Python.framework/Versions/3.10/lib/python3.10/site-packages/requests/models.py:971\u001b[0m, in \u001b[0;36mResponse.json\u001b[0;34m(self, **kwargs)\u001b[0m\n\u001b[1;32m    970\u001b[0m \u001b[39mtry\u001b[39;00m:\n\u001b[0;32m--> 971\u001b[0m     \u001b[39mreturn\u001b[39;00m complexjson\u001b[39m.\u001b[39;49mloads(\u001b[39mself\u001b[39;49m\u001b[39m.\u001b[39;49mtext, \u001b[39m*\u001b[39;49m\u001b[39m*\u001b[39;49mkwargs)\n\u001b[1;32m    972\u001b[0m \u001b[39mexcept\u001b[39;00m JSONDecodeError \u001b[39mas\u001b[39;00m e:\n\u001b[1;32m    973\u001b[0m     \u001b[39m# Catch JSON-related errors and raise as requests.JSONDecodeError\u001b[39;00m\n\u001b[1;32m    974\u001b[0m     \u001b[39m# This aliases json.JSONDecodeError and simplejson.JSONDecodeError\u001b[39;00m\n",
      "File \u001b[0;32m/Library/Frameworks/Python.framework/Versions/3.10/lib/python3.10/json/__init__.py:346\u001b[0m, in \u001b[0;36mloads\u001b[0;34m(s, cls, object_hook, parse_float, parse_int, parse_constant, object_pairs_hook, **kw)\u001b[0m\n\u001b[1;32m    343\u001b[0m \u001b[39mif\u001b[39;00m (\u001b[39mcls\u001b[39m \u001b[39mis\u001b[39;00m \u001b[39mNone\u001b[39;00m \u001b[39mand\u001b[39;00m object_hook \u001b[39mis\u001b[39;00m \u001b[39mNone\u001b[39;00m \u001b[39mand\u001b[39;00m\n\u001b[1;32m    344\u001b[0m         parse_int \u001b[39mis\u001b[39;00m \u001b[39mNone\u001b[39;00m \u001b[39mand\u001b[39;00m parse_float \u001b[39mis\u001b[39;00m \u001b[39mNone\u001b[39;00m \u001b[39mand\u001b[39;00m\n\u001b[1;32m    345\u001b[0m         parse_constant \u001b[39mis\u001b[39;00m \u001b[39mNone\u001b[39;00m \u001b[39mand\u001b[39;00m object_pairs_hook \u001b[39mis\u001b[39;00m \u001b[39mNone\u001b[39;00m \u001b[39mand\u001b[39;00m \u001b[39mnot\u001b[39;00m kw):\n\u001b[0;32m--> 346\u001b[0m     \u001b[39mreturn\u001b[39;00m _default_decoder\u001b[39m.\u001b[39;49mdecode(s)\n\u001b[1;32m    347\u001b[0m \u001b[39mif\u001b[39;00m \u001b[39mcls\u001b[39m \u001b[39mis\u001b[39;00m \u001b[39mNone\u001b[39;00m:\n",
      "File \u001b[0;32m/Library/Frameworks/Python.framework/Versions/3.10/lib/python3.10/json/decoder.py:337\u001b[0m, in \u001b[0;36mJSONDecoder.decode\u001b[0;34m(self, s, _w)\u001b[0m\n\u001b[1;32m    333\u001b[0m \u001b[39m\"\"\"Return the Python representation of ``s`` (a ``str`` instance\u001b[39;00m\n\u001b[1;32m    334\u001b[0m \u001b[39mcontaining a JSON document).\u001b[39;00m\n\u001b[1;32m    335\u001b[0m \n\u001b[1;32m    336\u001b[0m \u001b[39m\"\"\"\u001b[39;00m\n\u001b[0;32m--> 337\u001b[0m obj, end \u001b[39m=\u001b[39m \u001b[39mself\u001b[39;49m\u001b[39m.\u001b[39;49mraw_decode(s, idx\u001b[39m=\u001b[39;49m_w(s, \u001b[39m0\u001b[39;49m)\u001b[39m.\u001b[39;49mend())\n\u001b[1;32m    338\u001b[0m end \u001b[39m=\u001b[39m _w(s, end)\u001b[39m.\u001b[39mend()\n",
      "File \u001b[0;32m/Library/Frameworks/Python.framework/Versions/3.10/lib/python3.10/json/decoder.py:355\u001b[0m, in \u001b[0;36mJSONDecoder.raw_decode\u001b[0;34m(self, s, idx)\u001b[0m\n\u001b[1;32m    354\u001b[0m \u001b[39mexcept\u001b[39;00m \u001b[39mStopIteration\u001b[39;00m \u001b[39mas\u001b[39;00m err:\n\u001b[0;32m--> 355\u001b[0m     \u001b[39mraise\u001b[39;00m JSONDecodeError(\u001b[39m\"\u001b[39m\u001b[39mExpecting value\u001b[39m\u001b[39m\"\u001b[39m, s, err\u001b[39m.\u001b[39mvalue) \u001b[39mfrom\u001b[39;00m \u001b[39mNone\u001b[39m\n\u001b[1;32m    356\u001b[0m \u001b[39mreturn\u001b[39;00m obj, end\n",
      "\u001b[0;31mJSONDecodeError\u001b[0m: Expecting value: line 1 column 1 (char 0)",
      "\nDuring handling of the above exception, another exception occurred:\n",
      "\u001b[0;31mJSONDecodeError\u001b[0m                           Traceback (most recent call last)",
      "\u001b[1;32m/Users/oraichain/Desktop/test 100 api/100API.ipynb Cell 55\u001b[0m in \u001b[0;36m<cell line: 10>\u001b[0;34m()\u001b[0m\n\u001b[1;32m      <a href='vscode-notebook-cell:/Users/oraichain/Desktop/test%20100%20api/100API.ipynb#ch0000054?line=7'>8</a>\u001b[0m response \u001b[39m=\u001b[39m requests\u001b[39m.\u001b[39mpost(url, data\u001b[39m=\u001b[39mdata, headers\u001b[39m=\u001b[39mheaders)\n\u001b[1;32m      <a href='vscode-notebook-cell:/Users/oraichain/Desktop/test%20100%20api/100API.ipynb#ch0000054?line=8'>9</a>\u001b[0m \u001b[39mprint\u001b[39m(data)\n\u001b[0;32m---> <a href='vscode-notebook-cell:/Users/oraichain/Desktop/test%20100%20api/100API.ipynb#ch0000054?line=9'>10</a>\u001b[0m \u001b[39mprint\u001b[39m(response\u001b[39m.\u001b[39;49mjson())\n",
      "File \u001b[0;32m/Library/Frameworks/Python.framework/Versions/3.10/lib/python3.10/site-packages/requests/models.py:975\u001b[0m, in \u001b[0;36mResponse.json\u001b[0;34m(self, **kwargs)\u001b[0m\n\u001b[1;32m    971\u001b[0m     \u001b[39mreturn\u001b[39;00m complexjson\u001b[39m.\u001b[39mloads(\u001b[39mself\u001b[39m\u001b[39m.\u001b[39mtext, \u001b[39m*\u001b[39m\u001b[39m*\u001b[39mkwargs)\n\u001b[1;32m    972\u001b[0m \u001b[39mexcept\u001b[39;00m JSONDecodeError \u001b[39mas\u001b[39;00m e:\n\u001b[1;32m    973\u001b[0m     \u001b[39m# Catch JSON-related errors and raise as requests.JSONDecodeError\u001b[39;00m\n\u001b[1;32m    974\u001b[0m     \u001b[39m# This aliases json.JSONDecodeError and simplejson.JSONDecodeError\u001b[39;00m\n\u001b[0;32m--> 975\u001b[0m     \u001b[39mraise\u001b[39;00m RequestsJSONDecodeError(e\u001b[39m.\u001b[39mmsg, e\u001b[39m.\u001b[39mdoc, e\u001b[39m.\u001b[39mpos)\n",
      "\u001b[0;31mJSONDecodeError\u001b[0m: Expecting value: line 1 column 1 (char 0)"
     ]
    }
   ],
   "source": [
    "#CV065_1\n",
    "url = 'https://100api.orai.dev/cv065_1'\n",
    "data = {'input_source_hash': 'QmZRUKPVU7EoH94hwhdA2RrJUrFq2DfLN9RjTCfCZ72t98',\n",
    "        'input_style_hash': 'QmPW2zydgmeHsJmDeXjy1i9tcyFma5M2SWKqBqrnrHeS9o'}\n",
    "headers = {\n",
    "        'Authorization': 'ai_market'\n",
    "    }\n",
    "response = requests.post(url, data=data, headers=headers)\n",
    "print(data)\n",
    "print(response.json())"
   ]
  },
  {
   "cell_type": "code",
   "execution_count": 13,
   "metadata": {},
   "outputs": [
    {
     "name": "stdout",
     "output_type": "stream",
     "text": [
      "{'input_source_hash': 'QmZRUKPVU7EoH94hwhdA2RrJUrFq2DfLN9RjTCfCZ72t98', 'input_style_hash': 'QmPW2zydgmeHsJmDeXjy1i9tcyFma5M2SWKqBqrnrHeS9o'}\n",
      "{'data': 'empty range for randrange() (0, 0, 0)', 'status': 'error'}\n"
     ]
    }
   ],
   "source": [
    "#CV065_2\n",
    "url = 'https://100api.orai.dev/cv065_2'\n",
    "data = {'input_source_hash': 'QmZRUKPVU7EoH94hwhdA2RrJUrFq2DfLN9RjTCfCZ72t98',\n",
    "        'input_style_hash': 'QmPW2zydgmeHsJmDeXjy1i9tcyFma5M2SWKqBqrnrHeS9o'}\n",
    "headers = {\n",
    "        'Authorization': 'ai_market'\n",
    "    }\n",
    "response = requests.post(url, data=data, headers=headers)\n",
    "print(data)\n",
    "print(response.json())"
   ]
  },
  {
   "cell_type": "code",
   "execution_count": 14,
   "metadata": {},
   "outputs": [
    {
     "name": "stdout",
     "output_type": "stream",
     "text": [
      "{'input_source_hash': 'QmZRUKPVU7EoH94hwhdA2RrJUrFq2DfLN9RjTCfCZ72t98', 'input_style_hash': 'QmPW2zydgmeHsJmDeXjy1i9tcyFma5M2SWKqBqrnrHeS9o'}\n",
      "{'data': 'empty range for randrange() (0, 0, 0)', 'status': 'error'}\n"
     ]
    }
   ],
   "source": [
    "#CV065_3\n",
    "url = 'https://100api.orai.dev/cv065_3'\n",
    "data = {'input_source_hash': 'QmZRUKPVU7EoH94hwhdA2RrJUrFq2DfLN9RjTCfCZ72t98',\n",
    "        'input_style_hash': 'QmPW2zydgmeHsJmDeXjy1i9tcyFma5M2SWKqBqrnrHeS9o'}\n",
    "headers = {\n",
    "        'Authorization': 'ai_market'\n",
    "    }\n",
    "response = requests.post(url, data=data, headers=headers)\n",
    "print(data)\n",
    "print(response.json())"
   ]
  },
  {
   "cell_type": "code",
   "execution_count": 15,
   "metadata": {},
   "outputs": [
    {
     "name": "stdout",
     "output_type": "stream",
     "text": [
      "{'input_source_hash': 'QmZRUKPVU7EoH94hwhdA2RrJUrFq2DfLN9RjTCfCZ72t98'}\n",
      "{'Hash': 'QmVbUuX2FXirJdKVtgRUdktThHx46dGnxy9f82yUdQ9qVg', 'Name': 'file', 'Size': '140626'}\n"
     ]
    }
   ],
   "source": [
    "#CV066\n",
    "url = 'https://100api.orai.dev/cv066'\n",
    "data = {'input_source_hash': 'QmZRUKPVU7EoH94hwhdA2RrJUrFq2DfLN9RjTCfCZ72t98'}\n",
    "headers = {\n",
    "        'Authorization': 'ai_market'\n",
    "    }\n",
    "response = requests.post(url, data=data, headers=headers)\n",
    "print(data)\n",
    "print(response.json())"
   ]
  },
  {
   "cell_type": "code",
   "execution_count": 16,
   "metadata": {},
   "outputs": [
    {
     "name": "stdout",
     "output_type": "stream",
     "text": [
      "{'input_source_hash': 'QmZRUKPVU7EoH94hwhdA2RrJUrFq2DfLN9RjTCfCZ72t98', 'input_background_hash': 'QmPoAqLmHcf7AAgrWwym2NseKdqUSLBKRmtgjaCMkdqBxh'}\n",
      "{'Hash': 'QmfU5AFZF1agQXoHGGHNS3o8Dz4dTnNYrF6vkkxfArdQZe', 'Name': 'file', 'Size': '8927'}\n"
     ]
    }
   ],
   "source": [
    "#CV067\n",
    "url = 'https://100api.orai.dev/cv067'\n",
    "data = {'input_source_hash': 'QmZRUKPVU7EoH94hwhdA2RrJUrFq2DfLN9RjTCfCZ72t98',\n",
    "        'input_background_hash': 'QmPoAqLmHcf7AAgrWwym2NseKdqUSLBKRmtgjaCMkdqBxh'}\n",
    "headers = {\n",
    "        'Authorization': 'ai_market'\n",
    "    }\n",
    "response = requests.post(url, data=data, headers=headers)\n",
    "print(data)\n",
    "print(response.json())"
   ]
  },
  {
   "cell_type": "code",
   "execution_count": 17,
   "metadata": {},
   "outputs": [
    {
     "name": "stdout",
     "output_type": "stream",
     "text": [
      "{'input_source_1_hash': 'QmZRUKPVU7EoH94hwhdA2RrJUrFq2DfLN9RjTCfCZ72t98', 'input_source_2_hash': 'QmPoAqLmHcf7AAgrWwym2NseKdqUSLBKRmtgjaCMkdqBxh', 'input_source_3_hash': 'QmSDyJG6YfpTWtto1thQDF66vJrZ4CpgBBWavLyjjpP9Zu', 'input_source_4_hash': 'QmPXn1dDTTVTkCtiZFLQ639tYtpWwsNrym4CC8eisexub2'}\n"
     ]
    },
    {
     "ename": "JSONDecodeError",
     "evalue": "Expecting value: line 1 column 1 (char 0)",
     "output_type": "error",
     "traceback": [
      "\u001b[0;31m---------------------------------------------------------------------------\u001b[0m",
      "\u001b[0;31mJSONDecodeError\u001b[0m                           Traceback (most recent call last)",
      "File \u001b[0;32m/Library/Frameworks/Python.framework/Versions/3.10/lib/python3.10/site-packages/requests/models.py:971\u001b[0m, in \u001b[0;36mResponse.json\u001b[0;34m(self, **kwargs)\u001b[0m\n\u001b[1;32m    970\u001b[0m \u001b[39mtry\u001b[39;00m:\n\u001b[0;32m--> 971\u001b[0m     \u001b[39mreturn\u001b[39;00m complexjson\u001b[39m.\u001b[39;49mloads(\u001b[39mself\u001b[39;49m\u001b[39m.\u001b[39;49mtext, \u001b[39m*\u001b[39;49m\u001b[39m*\u001b[39;49mkwargs)\n\u001b[1;32m    972\u001b[0m \u001b[39mexcept\u001b[39;00m JSONDecodeError \u001b[39mas\u001b[39;00m e:\n\u001b[1;32m    973\u001b[0m     \u001b[39m# Catch JSON-related errors and raise as requests.JSONDecodeError\u001b[39;00m\n\u001b[1;32m    974\u001b[0m     \u001b[39m# This aliases json.JSONDecodeError and simplejson.JSONDecodeError\u001b[39;00m\n",
      "File \u001b[0;32m/Library/Frameworks/Python.framework/Versions/3.10/lib/python3.10/json/__init__.py:346\u001b[0m, in \u001b[0;36mloads\u001b[0;34m(s, cls, object_hook, parse_float, parse_int, parse_constant, object_pairs_hook, **kw)\u001b[0m\n\u001b[1;32m    343\u001b[0m \u001b[39mif\u001b[39;00m (\u001b[39mcls\u001b[39m \u001b[39mis\u001b[39;00m \u001b[39mNone\u001b[39;00m \u001b[39mand\u001b[39;00m object_hook \u001b[39mis\u001b[39;00m \u001b[39mNone\u001b[39;00m \u001b[39mand\u001b[39;00m\n\u001b[1;32m    344\u001b[0m         parse_int \u001b[39mis\u001b[39;00m \u001b[39mNone\u001b[39;00m \u001b[39mand\u001b[39;00m parse_float \u001b[39mis\u001b[39;00m \u001b[39mNone\u001b[39;00m \u001b[39mand\u001b[39;00m\n\u001b[1;32m    345\u001b[0m         parse_constant \u001b[39mis\u001b[39;00m \u001b[39mNone\u001b[39;00m \u001b[39mand\u001b[39;00m object_pairs_hook \u001b[39mis\u001b[39;00m \u001b[39mNone\u001b[39;00m \u001b[39mand\u001b[39;00m \u001b[39mnot\u001b[39;00m kw):\n\u001b[0;32m--> 346\u001b[0m     \u001b[39mreturn\u001b[39;00m _default_decoder\u001b[39m.\u001b[39;49mdecode(s)\n\u001b[1;32m    347\u001b[0m \u001b[39mif\u001b[39;00m \u001b[39mcls\u001b[39m \u001b[39mis\u001b[39;00m \u001b[39mNone\u001b[39;00m:\n",
      "File \u001b[0;32m/Library/Frameworks/Python.framework/Versions/3.10/lib/python3.10/json/decoder.py:337\u001b[0m, in \u001b[0;36mJSONDecoder.decode\u001b[0;34m(self, s, _w)\u001b[0m\n\u001b[1;32m    333\u001b[0m \u001b[39m\"\"\"Return the Python representation of ``s`` (a ``str`` instance\u001b[39;00m\n\u001b[1;32m    334\u001b[0m \u001b[39mcontaining a JSON document).\u001b[39;00m\n\u001b[1;32m    335\u001b[0m \n\u001b[1;32m    336\u001b[0m \u001b[39m\"\"\"\u001b[39;00m\n\u001b[0;32m--> 337\u001b[0m obj, end \u001b[39m=\u001b[39m \u001b[39mself\u001b[39;49m\u001b[39m.\u001b[39;49mraw_decode(s, idx\u001b[39m=\u001b[39;49m_w(s, \u001b[39m0\u001b[39;49m)\u001b[39m.\u001b[39;49mend())\n\u001b[1;32m    338\u001b[0m end \u001b[39m=\u001b[39m _w(s, end)\u001b[39m.\u001b[39mend()\n",
      "File \u001b[0;32m/Library/Frameworks/Python.framework/Versions/3.10/lib/python3.10/json/decoder.py:355\u001b[0m, in \u001b[0;36mJSONDecoder.raw_decode\u001b[0;34m(self, s, idx)\u001b[0m\n\u001b[1;32m    354\u001b[0m \u001b[39mexcept\u001b[39;00m \u001b[39mStopIteration\u001b[39;00m \u001b[39mas\u001b[39;00m err:\n\u001b[0;32m--> 355\u001b[0m     \u001b[39mraise\u001b[39;00m JSONDecodeError(\u001b[39m\"\u001b[39m\u001b[39mExpecting value\u001b[39m\u001b[39m\"\u001b[39m, s, err\u001b[39m.\u001b[39mvalue) \u001b[39mfrom\u001b[39;00m \u001b[39mNone\u001b[39m\n\u001b[1;32m    356\u001b[0m \u001b[39mreturn\u001b[39;00m obj, end\n",
      "\u001b[0;31mJSONDecodeError\u001b[0m: Expecting value: line 1 column 1 (char 0)",
      "\nDuring handling of the above exception, another exception occurred:\n",
      "\u001b[0;31mJSONDecodeError\u001b[0m                           Traceback (most recent call last)",
      "\u001b[1;32m/Users/oraichain/Desktop/test 100 api/100API.ipynb Cell 60\u001b[0m in \u001b[0;36m<cell line: 12>\u001b[0;34m()\u001b[0m\n\u001b[1;32m     <a href='vscode-notebook-cell:/Users/oraichain/Desktop/test%20100%20api/100API.ipynb#ch0000059?line=9'>10</a>\u001b[0m response \u001b[39m=\u001b[39m requests\u001b[39m.\u001b[39mpost(url, data\u001b[39m=\u001b[39mdata, headers\u001b[39m=\u001b[39mheaders)\n\u001b[1;32m     <a href='vscode-notebook-cell:/Users/oraichain/Desktop/test%20100%20api/100API.ipynb#ch0000059?line=10'>11</a>\u001b[0m \u001b[39mprint\u001b[39m(data)\n\u001b[0;32m---> <a href='vscode-notebook-cell:/Users/oraichain/Desktop/test%20100%20api/100API.ipynb#ch0000059?line=11'>12</a>\u001b[0m \u001b[39mprint\u001b[39m(response\u001b[39m.\u001b[39;49mjson())\n",
      "File \u001b[0;32m/Library/Frameworks/Python.framework/Versions/3.10/lib/python3.10/site-packages/requests/models.py:975\u001b[0m, in \u001b[0;36mResponse.json\u001b[0;34m(self, **kwargs)\u001b[0m\n\u001b[1;32m    971\u001b[0m     \u001b[39mreturn\u001b[39;00m complexjson\u001b[39m.\u001b[39mloads(\u001b[39mself\u001b[39m\u001b[39m.\u001b[39mtext, \u001b[39m*\u001b[39m\u001b[39m*\u001b[39mkwargs)\n\u001b[1;32m    972\u001b[0m \u001b[39mexcept\u001b[39;00m JSONDecodeError \u001b[39mas\u001b[39;00m e:\n\u001b[1;32m    973\u001b[0m     \u001b[39m# Catch JSON-related errors and raise as requests.JSONDecodeError\u001b[39;00m\n\u001b[1;32m    974\u001b[0m     \u001b[39m# This aliases json.JSONDecodeError and simplejson.JSONDecodeError\u001b[39;00m\n\u001b[0;32m--> 975\u001b[0m     \u001b[39mraise\u001b[39;00m RequestsJSONDecodeError(e\u001b[39m.\u001b[39mmsg, e\u001b[39m.\u001b[39mdoc, e\u001b[39m.\u001b[39mpos)\n",
      "\u001b[0;31mJSONDecodeError\u001b[0m: Expecting value: line 1 column 1 (char 0)"
     ]
    }
   ],
   "source": [
    "#CV068\n",
    "url = 'https://100api.orai.dev/cv068'\n",
    "data = {'input_source_1_hash': 'QmZRUKPVU7EoH94hwhdA2RrJUrFq2DfLN9RjTCfCZ72t98',\n",
    "        'input_source_2_hash': 'QmPoAqLmHcf7AAgrWwym2NseKdqUSLBKRmtgjaCMkdqBxh',\n",
    "        'input_source_3_hash': 'QmSDyJG6YfpTWtto1thQDF66vJrZ4CpgBBWavLyjjpP9Zu',\n",
    "        'input_source_4_hash': 'QmPXn1dDTTVTkCtiZFLQ639tYtpWwsNrym4CC8eisexub2'}\n",
    "headers = {\n",
    "        'Authorization': 'ai_market'\n",
    "    }\n",
    "response = requests.post(url, data=data, headers=headers)\n",
    "print(data)\n",
    "print(response.json())"
   ]
  },
  {
   "cell_type": "code",
   "execution_count": 18,
   "metadata": {},
   "outputs": [
    {
     "name": "stdout",
     "output_type": "stream",
     "text": [
      "{'raw_output': 0}\n"
     ]
    },
    {
     "ename": "JSONDecodeError",
     "evalue": "Expecting value: line 1 column 1 (char 0)",
     "output_type": "error",
     "traceback": [
      "\u001b[0;31m---------------------------------------------------------------------------\u001b[0m",
      "\u001b[0;31mJSONDecodeError\u001b[0m                           Traceback (most recent call last)",
      "File \u001b[0;32m/Library/Frameworks/Python.framework/Versions/3.10/lib/python3.10/site-packages/requests/models.py:971\u001b[0m, in \u001b[0;36mResponse.json\u001b[0;34m(self, **kwargs)\u001b[0m\n\u001b[1;32m    970\u001b[0m \u001b[39mtry\u001b[39;00m:\n\u001b[0;32m--> 971\u001b[0m     \u001b[39mreturn\u001b[39;00m complexjson\u001b[39m.\u001b[39;49mloads(\u001b[39mself\u001b[39;49m\u001b[39m.\u001b[39;49mtext, \u001b[39m*\u001b[39;49m\u001b[39m*\u001b[39;49mkwargs)\n\u001b[1;32m    972\u001b[0m \u001b[39mexcept\u001b[39;00m JSONDecodeError \u001b[39mas\u001b[39;00m e:\n\u001b[1;32m    973\u001b[0m     \u001b[39m# Catch JSON-related errors and raise as requests.JSONDecodeError\u001b[39;00m\n\u001b[1;32m    974\u001b[0m     \u001b[39m# This aliases json.JSONDecodeError and simplejson.JSONDecodeError\u001b[39;00m\n",
      "File \u001b[0;32m/Library/Frameworks/Python.framework/Versions/3.10/lib/python3.10/json/__init__.py:346\u001b[0m, in \u001b[0;36mloads\u001b[0;34m(s, cls, object_hook, parse_float, parse_int, parse_constant, object_pairs_hook, **kw)\u001b[0m\n\u001b[1;32m    343\u001b[0m \u001b[39mif\u001b[39;00m (\u001b[39mcls\u001b[39m \u001b[39mis\u001b[39;00m \u001b[39mNone\u001b[39;00m \u001b[39mand\u001b[39;00m object_hook \u001b[39mis\u001b[39;00m \u001b[39mNone\u001b[39;00m \u001b[39mand\u001b[39;00m\n\u001b[1;32m    344\u001b[0m         parse_int \u001b[39mis\u001b[39;00m \u001b[39mNone\u001b[39;00m \u001b[39mand\u001b[39;00m parse_float \u001b[39mis\u001b[39;00m \u001b[39mNone\u001b[39;00m \u001b[39mand\u001b[39;00m\n\u001b[1;32m    345\u001b[0m         parse_constant \u001b[39mis\u001b[39;00m \u001b[39mNone\u001b[39;00m \u001b[39mand\u001b[39;00m object_pairs_hook \u001b[39mis\u001b[39;00m \u001b[39mNone\u001b[39;00m \u001b[39mand\u001b[39;00m \u001b[39mnot\u001b[39;00m kw):\n\u001b[0;32m--> 346\u001b[0m     \u001b[39mreturn\u001b[39;00m _default_decoder\u001b[39m.\u001b[39;49mdecode(s)\n\u001b[1;32m    347\u001b[0m \u001b[39mif\u001b[39;00m \u001b[39mcls\u001b[39m \u001b[39mis\u001b[39;00m \u001b[39mNone\u001b[39;00m:\n",
      "File \u001b[0;32m/Library/Frameworks/Python.framework/Versions/3.10/lib/python3.10/json/decoder.py:337\u001b[0m, in \u001b[0;36mJSONDecoder.decode\u001b[0;34m(self, s, _w)\u001b[0m\n\u001b[1;32m    333\u001b[0m \u001b[39m\"\"\"Return the Python representation of ``s`` (a ``str`` instance\u001b[39;00m\n\u001b[1;32m    334\u001b[0m \u001b[39mcontaining a JSON document).\u001b[39;00m\n\u001b[1;32m    335\u001b[0m \n\u001b[1;32m    336\u001b[0m \u001b[39m\"\"\"\u001b[39;00m\n\u001b[0;32m--> 337\u001b[0m obj, end \u001b[39m=\u001b[39m \u001b[39mself\u001b[39;49m\u001b[39m.\u001b[39;49mraw_decode(s, idx\u001b[39m=\u001b[39;49m_w(s, \u001b[39m0\u001b[39;49m)\u001b[39m.\u001b[39;49mend())\n\u001b[1;32m    338\u001b[0m end \u001b[39m=\u001b[39m _w(s, end)\u001b[39m.\u001b[39mend()\n",
      "File \u001b[0;32m/Library/Frameworks/Python.framework/Versions/3.10/lib/python3.10/json/decoder.py:355\u001b[0m, in \u001b[0;36mJSONDecoder.raw_decode\u001b[0;34m(self, s, idx)\u001b[0m\n\u001b[1;32m    354\u001b[0m \u001b[39mexcept\u001b[39;00m \u001b[39mStopIteration\u001b[39;00m \u001b[39mas\u001b[39;00m err:\n\u001b[0;32m--> 355\u001b[0m     \u001b[39mraise\u001b[39;00m JSONDecodeError(\u001b[39m\"\u001b[39m\u001b[39mExpecting value\u001b[39m\u001b[39m\"\u001b[39m, s, err\u001b[39m.\u001b[39mvalue) \u001b[39mfrom\u001b[39;00m \u001b[39mNone\u001b[39m\n\u001b[1;32m    356\u001b[0m \u001b[39mreturn\u001b[39;00m obj, end\n",
      "\u001b[0;31mJSONDecodeError\u001b[0m: Expecting value: line 1 column 1 (char 0)",
      "\nDuring handling of the above exception, another exception occurred:\n",
      "\u001b[0;31mJSONDecodeError\u001b[0m                           Traceback (most recent call last)",
      "\u001b[1;32m/Users/oraichain/Desktop/test 100 api/100API.ipynb Cell 61\u001b[0m in \u001b[0;36m<cell line: 9>\u001b[0;34m()\u001b[0m\n\u001b[1;32m      <a href='vscode-notebook-cell:/Users/oraichain/Desktop/test%20100%20api/100API.ipynb#ch0000060?line=6'>7</a>\u001b[0m response \u001b[39m=\u001b[39m requests\u001b[39m.\u001b[39mpost(url, data\u001b[39m=\u001b[39mdata, headers\u001b[39m=\u001b[39mheaders)\n\u001b[1;32m      <a href='vscode-notebook-cell:/Users/oraichain/Desktop/test%20100%20api/100API.ipynb#ch0000060?line=7'>8</a>\u001b[0m \u001b[39mprint\u001b[39m(data)\n\u001b[0;32m----> <a href='vscode-notebook-cell:/Users/oraichain/Desktop/test%20100%20api/100API.ipynb#ch0000060?line=8'>9</a>\u001b[0m \u001b[39mprint\u001b[39m(response\u001b[39m.\u001b[39;49mjson())\n",
      "File \u001b[0;32m/Library/Frameworks/Python.framework/Versions/3.10/lib/python3.10/site-packages/requests/models.py:975\u001b[0m, in \u001b[0;36mResponse.json\u001b[0;34m(self, **kwargs)\u001b[0m\n\u001b[1;32m    971\u001b[0m     \u001b[39mreturn\u001b[39;00m complexjson\u001b[39m.\u001b[39mloads(\u001b[39mself\u001b[39m\u001b[39m.\u001b[39mtext, \u001b[39m*\u001b[39m\u001b[39m*\u001b[39mkwargs)\n\u001b[1;32m    972\u001b[0m \u001b[39mexcept\u001b[39;00m JSONDecodeError \u001b[39mas\u001b[39;00m e:\n\u001b[1;32m    973\u001b[0m     \u001b[39m# Catch JSON-related errors and raise as requests.JSONDecodeError\u001b[39;00m\n\u001b[1;32m    974\u001b[0m     \u001b[39m# This aliases json.JSONDecodeError and simplejson.JSONDecodeError\u001b[39;00m\n\u001b[0;32m--> 975\u001b[0m     \u001b[39mraise\u001b[39;00m RequestsJSONDecodeError(e\u001b[39m.\u001b[39mmsg, e\u001b[39m.\u001b[39mdoc, e\u001b[39m.\u001b[39mpos)\n",
      "\u001b[0;31mJSONDecodeError\u001b[0m: Expecting value: line 1 column 1 (char 0)"
     ]
    }
   ],
   "source": [
    "#CV069\n",
    "url = 'https://100api.orai.dev/cv069'\n",
    "data = {'raw_output': 0}\n",
    "headers = {\n",
    "        'Authorization': 'ai_market'\n",
    "    }\n",
    "response = requests.post(url, data=data, headers=headers)\n",
    "print(data)\n",
    "print(response.json())"
   ]
  },
  {
   "cell_type": "code",
   "execution_count": 19,
   "metadata": {},
   "outputs": [
    {
     "name": "stdout",
     "output_type": "stream",
     "text": [
      "{'input_source_hash': 'QmPXn1dDTTVTkCtiZFLQ639tYtpWwsNrym4CC8eisexub2'}\n",
      "{'Hash': 'QmRGnfs3qpZX7siLr5vgwCp8XCgvQ4Q9mqzoh4mU1RWJvW', 'Name': 'output_1661916959.7345448.gif', 'Size': '10230281'}\n"
     ]
    }
   ],
   "source": [
    "#CV070\n",
    "url = 'https://100api.orai.dev/cv070'\n",
    "data = {'input_source_hash': 'QmPXn1dDTTVTkCtiZFLQ639tYtpWwsNrym4CC8eisexub2'}\n",
    "headers = {\n",
    "        'Authorization': 'ai_market'\n",
    "    }\n",
    "response = requests.post(url, data=data, headers=headers)\n",
    "print(data)\n",
    "print(response.json())"
   ]
  },
  {
   "cell_type": "code",
   "execution_count": 20,
   "metadata": {},
   "outputs": [
    {
     "name": "stdout",
     "output_type": "stream",
     "text": [
      "{'input_source_hash': 'QmPXn1dDTTVTkCtiZFLQ639tYtpWwsNrym4CC8eisexub2', 'style_number': 3}\n"
     ]
    },
    {
     "ename": "JSONDecodeError",
     "evalue": "Expecting value: line 1 column 1 (char 0)",
     "output_type": "error",
     "traceback": [
      "\u001b[0;31m---------------------------------------------------------------------------\u001b[0m",
      "\u001b[0;31mJSONDecodeError\u001b[0m                           Traceback (most recent call last)",
      "File \u001b[0;32m/Library/Frameworks/Python.framework/Versions/3.10/lib/python3.10/site-packages/requests/models.py:971\u001b[0m, in \u001b[0;36mResponse.json\u001b[0;34m(self, **kwargs)\u001b[0m\n\u001b[1;32m    970\u001b[0m \u001b[39mtry\u001b[39;00m:\n\u001b[0;32m--> 971\u001b[0m     \u001b[39mreturn\u001b[39;00m complexjson\u001b[39m.\u001b[39;49mloads(\u001b[39mself\u001b[39;49m\u001b[39m.\u001b[39;49mtext, \u001b[39m*\u001b[39;49m\u001b[39m*\u001b[39;49mkwargs)\n\u001b[1;32m    972\u001b[0m \u001b[39mexcept\u001b[39;00m JSONDecodeError \u001b[39mas\u001b[39;00m e:\n\u001b[1;32m    973\u001b[0m     \u001b[39m# Catch JSON-related errors and raise as requests.JSONDecodeError\u001b[39;00m\n\u001b[1;32m    974\u001b[0m     \u001b[39m# This aliases json.JSONDecodeError and simplejson.JSONDecodeError\u001b[39;00m\n",
      "File \u001b[0;32m/Library/Frameworks/Python.framework/Versions/3.10/lib/python3.10/json/__init__.py:346\u001b[0m, in \u001b[0;36mloads\u001b[0;34m(s, cls, object_hook, parse_float, parse_int, parse_constant, object_pairs_hook, **kw)\u001b[0m\n\u001b[1;32m    343\u001b[0m \u001b[39mif\u001b[39;00m (\u001b[39mcls\u001b[39m \u001b[39mis\u001b[39;00m \u001b[39mNone\u001b[39;00m \u001b[39mand\u001b[39;00m object_hook \u001b[39mis\u001b[39;00m \u001b[39mNone\u001b[39;00m \u001b[39mand\u001b[39;00m\n\u001b[1;32m    344\u001b[0m         parse_int \u001b[39mis\u001b[39;00m \u001b[39mNone\u001b[39;00m \u001b[39mand\u001b[39;00m parse_float \u001b[39mis\u001b[39;00m \u001b[39mNone\u001b[39;00m \u001b[39mand\u001b[39;00m\n\u001b[1;32m    345\u001b[0m         parse_constant \u001b[39mis\u001b[39;00m \u001b[39mNone\u001b[39;00m \u001b[39mand\u001b[39;00m object_pairs_hook \u001b[39mis\u001b[39;00m \u001b[39mNone\u001b[39;00m \u001b[39mand\u001b[39;00m \u001b[39mnot\u001b[39;00m kw):\n\u001b[0;32m--> 346\u001b[0m     \u001b[39mreturn\u001b[39;00m _default_decoder\u001b[39m.\u001b[39;49mdecode(s)\n\u001b[1;32m    347\u001b[0m \u001b[39mif\u001b[39;00m \u001b[39mcls\u001b[39m \u001b[39mis\u001b[39;00m \u001b[39mNone\u001b[39;00m:\n",
      "File \u001b[0;32m/Library/Frameworks/Python.framework/Versions/3.10/lib/python3.10/json/decoder.py:337\u001b[0m, in \u001b[0;36mJSONDecoder.decode\u001b[0;34m(self, s, _w)\u001b[0m\n\u001b[1;32m    333\u001b[0m \u001b[39m\"\"\"Return the Python representation of ``s`` (a ``str`` instance\u001b[39;00m\n\u001b[1;32m    334\u001b[0m \u001b[39mcontaining a JSON document).\u001b[39;00m\n\u001b[1;32m    335\u001b[0m \n\u001b[1;32m    336\u001b[0m \u001b[39m\"\"\"\u001b[39;00m\n\u001b[0;32m--> 337\u001b[0m obj, end \u001b[39m=\u001b[39m \u001b[39mself\u001b[39;49m\u001b[39m.\u001b[39;49mraw_decode(s, idx\u001b[39m=\u001b[39;49m_w(s, \u001b[39m0\u001b[39;49m)\u001b[39m.\u001b[39;49mend())\n\u001b[1;32m    338\u001b[0m end \u001b[39m=\u001b[39m _w(s, end)\u001b[39m.\u001b[39mend()\n",
      "File \u001b[0;32m/Library/Frameworks/Python.framework/Versions/3.10/lib/python3.10/json/decoder.py:355\u001b[0m, in \u001b[0;36mJSONDecoder.raw_decode\u001b[0;34m(self, s, idx)\u001b[0m\n\u001b[1;32m    354\u001b[0m \u001b[39mexcept\u001b[39;00m \u001b[39mStopIteration\u001b[39;00m \u001b[39mas\u001b[39;00m err:\n\u001b[0;32m--> 355\u001b[0m     \u001b[39mraise\u001b[39;00m JSONDecodeError(\u001b[39m\"\u001b[39m\u001b[39mExpecting value\u001b[39m\u001b[39m\"\u001b[39m, s, err\u001b[39m.\u001b[39mvalue) \u001b[39mfrom\u001b[39;00m \u001b[39mNone\u001b[39m\n\u001b[1;32m    356\u001b[0m \u001b[39mreturn\u001b[39;00m obj, end\n",
      "\u001b[0;31mJSONDecodeError\u001b[0m: Expecting value: line 1 column 1 (char 0)",
      "\nDuring handling of the above exception, another exception occurred:\n",
      "\u001b[0;31mJSONDecodeError\u001b[0m                           Traceback (most recent call last)",
      "\u001b[1;32m/Users/oraichain/Desktop/test 100 api/100API.ipynb Cell 63\u001b[0m in \u001b[0;36m<cell line: 10>\u001b[0;34m()\u001b[0m\n\u001b[1;32m      <a href='vscode-notebook-cell:/Users/oraichain/Desktop/test%20100%20api/100API.ipynb#ch0000062?line=7'>8</a>\u001b[0m response \u001b[39m=\u001b[39m requests\u001b[39m.\u001b[39mpost(url, data\u001b[39m=\u001b[39mdata, headers\u001b[39m=\u001b[39mheaders)\n\u001b[1;32m      <a href='vscode-notebook-cell:/Users/oraichain/Desktop/test%20100%20api/100API.ipynb#ch0000062?line=8'>9</a>\u001b[0m \u001b[39mprint\u001b[39m(data)\n\u001b[0;32m---> <a href='vscode-notebook-cell:/Users/oraichain/Desktop/test%20100%20api/100API.ipynb#ch0000062?line=9'>10</a>\u001b[0m \u001b[39mprint\u001b[39m(response\u001b[39m.\u001b[39;49mjson())\n",
      "File \u001b[0;32m/Library/Frameworks/Python.framework/Versions/3.10/lib/python3.10/site-packages/requests/models.py:975\u001b[0m, in \u001b[0;36mResponse.json\u001b[0;34m(self, **kwargs)\u001b[0m\n\u001b[1;32m    971\u001b[0m     \u001b[39mreturn\u001b[39;00m complexjson\u001b[39m.\u001b[39mloads(\u001b[39mself\u001b[39m\u001b[39m.\u001b[39mtext, \u001b[39m*\u001b[39m\u001b[39m*\u001b[39mkwargs)\n\u001b[1;32m    972\u001b[0m \u001b[39mexcept\u001b[39;00m JSONDecodeError \u001b[39mas\u001b[39;00m e:\n\u001b[1;32m    973\u001b[0m     \u001b[39m# Catch JSON-related errors and raise as requests.JSONDecodeError\u001b[39;00m\n\u001b[1;32m    974\u001b[0m     \u001b[39m# This aliases json.JSONDecodeError and simplejson.JSONDecodeError\u001b[39;00m\n\u001b[0;32m--> 975\u001b[0m     \u001b[39mraise\u001b[39;00m RequestsJSONDecodeError(e\u001b[39m.\u001b[39mmsg, e\u001b[39m.\u001b[39mdoc, e\u001b[39m.\u001b[39mpos)\n",
      "\u001b[0;31mJSONDecodeError\u001b[0m: Expecting value: line 1 column 1 (char 0)"
     ]
    }
   ],
   "source": [
    "#CV071\n",
    "url = 'https://100api.orai.dev/cv071'\n",
    "data = {'input_source_hash': 'QmPXn1dDTTVTkCtiZFLQ639tYtpWwsNrym4CC8eisexub2',\n",
    "        'style_number': 3}\n",
    "headers = {\n",
    "        'Authorization': 'ai_market'\n",
    "    }\n",
    "response = requests.post(url, data=data, headers=headers)\n",
    "print(data)\n",
    "print(response.json())"
   ]
  },
  {
   "cell_type": "code",
   "execution_count": 21,
   "metadata": {},
   "outputs": [
    {
     "name": "stdout",
     "output_type": "stream",
     "text": [
      "{'input_source_hash': 'QmPXn1dDTTVTkCtiZFLQ639tYtpWwsNrym4CC8eisexub2', 'input_background_hash': 'QmPoAqLmHcf7AAgrWwym2NseKdqUSLBKRmtgjaCMkdqBxh'}\n"
     ]
    },
    {
     "ename": "JSONDecodeError",
     "evalue": "Expecting value: line 1 column 1 (char 0)",
     "output_type": "error",
     "traceback": [
      "\u001b[0;31m---------------------------------------------------------------------------\u001b[0m",
      "\u001b[0;31mJSONDecodeError\u001b[0m                           Traceback (most recent call last)",
      "File \u001b[0;32m/Library/Frameworks/Python.framework/Versions/3.10/lib/python3.10/site-packages/requests/models.py:971\u001b[0m, in \u001b[0;36mResponse.json\u001b[0;34m(self, **kwargs)\u001b[0m\n\u001b[1;32m    970\u001b[0m \u001b[39mtry\u001b[39;00m:\n\u001b[0;32m--> 971\u001b[0m     \u001b[39mreturn\u001b[39;00m complexjson\u001b[39m.\u001b[39;49mloads(\u001b[39mself\u001b[39;49m\u001b[39m.\u001b[39;49mtext, \u001b[39m*\u001b[39;49m\u001b[39m*\u001b[39;49mkwargs)\n\u001b[1;32m    972\u001b[0m \u001b[39mexcept\u001b[39;00m JSONDecodeError \u001b[39mas\u001b[39;00m e:\n\u001b[1;32m    973\u001b[0m     \u001b[39m# Catch JSON-related errors and raise as requests.JSONDecodeError\u001b[39;00m\n\u001b[1;32m    974\u001b[0m     \u001b[39m# This aliases json.JSONDecodeError and simplejson.JSONDecodeError\u001b[39;00m\n",
      "File \u001b[0;32m/Library/Frameworks/Python.framework/Versions/3.10/lib/python3.10/json/__init__.py:346\u001b[0m, in \u001b[0;36mloads\u001b[0;34m(s, cls, object_hook, parse_float, parse_int, parse_constant, object_pairs_hook, **kw)\u001b[0m\n\u001b[1;32m    343\u001b[0m \u001b[39mif\u001b[39;00m (\u001b[39mcls\u001b[39m \u001b[39mis\u001b[39;00m \u001b[39mNone\u001b[39;00m \u001b[39mand\u001b[39;00m object_hook \u001b[39mis\u001b[39;00m \u001b[39mNone\u001b[39;00m \u001b[39mand\u001b[39;00m\n\u001b[1;32m    344\u001b[0m         parse_int \u001b[39mis\u001b[39;00m \u001b[39mNone\u001b[39;00m \u001b[39mand\u001b[39;00m parse_float \u001b[39mis\u001b[39;00m \u001b[39mNone\u001b[39;00m \u001b[39mand\u001b[39;00m\n\u001b[1;32m    345\u001b[0m         parse_constant \u001b[39mis\u001b[39;00m \u001b[39mNone\u001b[39;00m \u001b[39mand\u001b[39;00m object_pairs_hook \u001b[39mis\u001b[39;00m \u001b[39mNone\u001b[39;00m \u001b[39mand\u001b[39;00m \u001b[39mnot\u001b[39;00m kw):\n\u001b[0;32m--> 346\u001b[0m     \u001b[39mreturn\u001b[39;00m _default_decoder\u001b[39m.\u001b[39;49mdecode(s)\n\u001b[1;32m    347\u001b[0m \u001b[39mif\u001b[39;00m \u001b[39mcls\u001b[39m \u001b[39mis\u001b[39;00m \u001b[39mNone\u001b[39;00m:\n",
      "File \u001b[0;32m/Library/Frameworks/Python.framework/Versions/3.10/lib/python3.10/json/decoder.py:337\u001b[0m, in \u001b[0;36mJSONDecoder.decode\u001b[0;34m(self, s, _w)\u001b[0m\n\u001b[1;32m    333\u001b[0m \u001b[39m\"\"\"Return the Python representation of ``s`` (a ``str`` instance\u001b[39;00m\n\u001b[1;32m    334\u001b[0m \u001b[39mcontaining a JSON document).\u001b[39;00m\n\u001b[1;32m    335\u001b[0m \n\u001b[1;32m    336\u001b[0m \u001b[39m\"\"\"\u001b[39;00m\n\u001b[0;32m--> 337\u001b[0m obj, end \u001b[39m=\u001b[39m \u001b[39mself\u001b[39;49m\u001b[39m.\u001b[39;49mraw_decode(s, idx\u001b[39m=\u001b[39;49m_w(s, \u001b[39m0\u001b[39;49m)\u001b[39m.\u001b[39;49mend())\n\u001b[1;32m    338\u001b[0m end \u001b[39m=\u001b[39m _w(s, end)\u001b[39m.\u001b[39mend()\n",
      "File \u001b[0;32m/Library/Frameworks/Python.framework/Versions/3.10/lib/python3.10/json/decoder.py:355\u001b[0m, in \u001b[0;36mJSONDecoder.raw_decode\u001b[0;34m(self, s, idx)\u001b[0m\n\u001b[1;32m    354\u001b[0m \u001b[39mexcept\u001b[39;00m \u001b[39mStopIteration\u001b[39;00m \u001b[39mas\u001b[39;00m err:\n\u001b[0;32m--> 355\u001b[0m     \u001b[39mraise\u001b[39;00m JSONDecodeError(\u001b[39m\"\u001b[39m\u001b[39mExpecting value\u001b[39m\u001b[39m\"\u001b[39m, s, err\u001b[39m.\u001b[39mvalue) \u001b[39mfrom\u001b[39;00m \u001b[39mNone\u001b[39m\n\u001b[1;32m    356\u001b[0m \u001b[39mreturn\u001b[39;00m obj, end\n",
      "\u001b[0;31mJSONDecodeError\u001b[0m: Expecting value: line 1 column 1 (char 0)",
      "\nDuring handling of the above exception, another exception occurred:\n",
      "\u001b[0;31mJSONDecodeError\u001b[0m                           Traceback (most recent call last)",
      "\u001b[1;32m/Users/oraichain/Desktop/test 100 api/100API.ipynb Cell 64\u001b[0m in \u001b[0;36m<cell line: 10>\u001b[0;34m()\u001b[0m\n\u001b[1;32m      <a href='vscode-notebook-cell:/Users/oraichain/Desktop/test%20100%20api/100API.ipynb#ch0000063?line=7'>8</a>\u001b[0m response \u001b[39m=\u001b[39m requests\u001b[39m.\u001b[39mpost(url, data\u001b[39m=\u001b[39mdata, headers\u001b[39m=\u001b[39mheaders)\n\u001b[1;32m      <a href='vscode-notebook-cell:/Users/oraichain/Desktop/test%20100%20api/100API.ipynb#ch0000063?line=8'>9</a>\u001b[0m \u001b[39mprint\u001b[39m(data)\n\u001b[0;32m---> <a href='vscode-notebook-cell:/Users/oraichain/Desktop/test%20100%20api/100API.ipynb#ch0000063?line=9'>10</a>\u001b[0m \u001b[39mprint\u001b[39m(response\u001b[39m.\u001b[39;49mjson())\n",
      "File \u001b[0;32m/Library/Frameworks/Python.framework/Versions/3.10/lib/python3.10/site-packages/requests/models.py:975\u001b[0m, in \u001b[0;36mResponse.json\u001b[0;34m(self, **kwargs)\u001b[0m\n\u001b[1;32m    971\u001b[0m     \u001b[39mreturn\u001b[39;00m complexjson\u001b[39m.\u001b[39mloads(\u001b[39mself\u001b[39m\u001b[39m.\u001b[39mtext, \u001b[39m*\u001b[39m\u001b[39m*\u001b[39mkwargs)\n\u001b[1;32m    972\u001b[0m \u001b[39mexcept\u001b[39;00m JSONDecodeError \u001b[39mas\u001b[39;00m e:\n\u001b[1;32m    973\u001b[0m     \u001b[39m# Catch JSON-related errors and raise as requests.JSONDecodeError\u001b[39;00m\n\u001b[1;32m    974\u001b[0m     \u001b[39m# This aliases json.JSONDecodeError and simplejson.JSONDecodeError\u001b[39;00m\n\u001b[0;32m--> 975\u001b[0m     \u001b[39mraise\u001b[39;00m RequestsJSONDecodeError(e\u001b[39m.\u001b[39mmsg, e\u001b[39m.\u001b[39mdoc, e\u001b[39m.\u001b[39mpos)\n",
      "\u001b[0;31mJSONDecodeError\u001b[0m: Expecting value: line 1 column 1 (char 0)"
     ]
    }
   ],
   "source": [
    "#CV072\n",
    "url = 'https://100api.orai.dev/cv072'\n",
    "data = {'input_source_hash': 'QmPXn1dDTTVTkCtiZFLQ639tYtpWwsNrym4CC8eisexub2',\n",
    "        'input_background_hash': 'QmPoAqLmHcf7AAgrWwym2NseKdqUSLBKRmtgjaCMkdqBxh'}\n",
    "headers = {\n",
    "        'Authorization': 'ai_market'\n",
    "    }\n",
    "response = requests.post(url, data=data, headers=headers)\n",
    "print(data)\n",
    "print(response.json())"
   ]
  },
  {
   "cell_type": "code",
   "execution_count": 22,
   "metadata": {},
   "outputs": [
    {
     "name": "stdout",
     "output_type": "stream",
     "text": [
      "{'input_source_hash': 'QmPXn1dDTTVTkCtiZFLQ639tYtpWwsNrym4CC8eisexub2'}\n",
      "{'Hash': 'QmQunvjR8KbqmsvPrNW4tGDuy8Uxgkcm9f7YtcmjhWLXdN', 'Name': 'output_74_1661917396.8526025.gif', 'Size': '2186683'}\n"
     ]
    }
   ],
   "source": [
    "#CV074\n",
    "url = 'https://100api.orai.dev/cv074'\n",
    "data = {'input_source_hash': 'QmPXn1dDTTVTkCtiZFLQ639tYtpWwsNrym4CC8eisexub2'}\n",
    "headers = {\n",
    "        'Authorization': 'ai_market'\n",
    "    }\n",
    "response = requests.post(url, data=data, headers=headers)\n",
    "print(data)\n",
    "print(response.json())"
   ]
  },
  {
   "cell_type": "code",
   "execution_count": 23,
   "metadata": {},
   "outputs": [
    {
     "name": "stdout",
     "output_type": "stream",
     "text": [
      "{'input_source_hash': 'QmPXn1dDTTVTkCtiZFLQ639tYtpWwsNrym4CC8eisexub2'}\n",
      "{'Hash': 'QmURswd9pnMsTBUK3eJNse2R85qNXvWPgecbeyf9td7zBt', 'Name': 'cv075_output_1661917500.8061583.gif', 'Size': '926954'}\n"
     ]
    }
   ],
   "source": [
    "#CV075\n",
    "url = 'https://100api.orai.dev/cv075'\n",
    "data = {'input_source_hash': 'QmPXn1dDTTVTkCtiZFLQ639tYtpWwsNrym4CC8eisexub2'}\n",
    "headers = {\n",
    "        'Authorization': 'ai_market'\n",
    "    }\n",
    "response = requests.post(url, data=data, headers=headers)\n",
    "print(data)\n",
    "print(response.json())"
   ]
  },
  {
   "cell_type": "code",
   "execution_count": 24,
   "metadata": {},
   "outputs": [
    {
     "name": "stdout",
     "output_type": "stream",
     "text": [
      "{'input_source_hash': 'QmPXn1dDTTVTkCtiZFLQ639tYtpWwsNrym4CC8eisexub2'}\n",
      "{'Hash': 'QmTh8bV1XzT8U6tQo3oKHusJ73bH2CQucamyNW7QAJ4bML', 'Name': '1661917704.gif', 'Size': '16560738'}\n"
     ]
    }
   ],
   "source": [
    "#CV076\n",
    "url = 'https://100api.orai.dev/cv076'\n",
    "data = {'input_source_hash': 'QmPXn1dDTTVTkCtiZFLQ639tYtpWwsNrym4CC8eisexub2'}\n",
    "headers = {\n",
    "        'Authorization': 'ai_market'\n",
    "    }\n",
    "response = requests.post(url, data=data, headers=headers)\n",
    "print(data)\n",
    "print(response.json())"
   ]
  },
  {
   "cell_type": "code",
   "execution_count": 25,
   "metadata": {},
   "outputs": [
    {
     "name": "stdout",
     "output_type": "stream",
     "text": [
      "{'input_source': 'QmPXn1dDTTVTkCtiZFLQ639tYtpWwsNrym4CC8eisexub2', 'text_input': 'gray'}\n",
      "{'data': '400 Bad Request: The browser (or proxy) sent a request that this server could not understand.', 'status': 'error'}\n"
     ]
    }
   ],
   "source": [
    "#CV083 only upload file\n",
    "url = 'https://100api.orai.dev/cv083/image_encode'\n",
    "data = {'input_source': 'QmPXn1dDTTVTkCtiZFLQ639tYtpWwsNrym4CC8eisexub2',\n",
    "        'text_input':'gray'}\n",
    "headers = {\n",
    "        'Authorization': 'ai_market'\n",
    "    }\n",
    "response = requests.post(url, data=data, headers=headers)\n",
    "print(data)\n",
    "print(response.json())"
   ]
  },
  {
   "cell_type": "code",
   "execution_count": null,
   "metadata": {},
   "outputs": [],
   "source": [
    "#CV083 only upload file\n",
    "url = 'https://100api.orai.dev/cv083/image_decode'\n",
    "data = {'input_source': 'QmPXn1dDTTVTkCtiZFLQ639tYtpWwsNrym4CC8eisexub2',\n",
    "        'text_input':'gray'}\n",
    "headers = {\n",
    "        'Authorization': 'ai_market'\n",
    "    }\n",
    "response = requests.post(url, data=data, headers=headers)\n",
    "print(data)\n",
    "print(response.json())"
   ]
  },
  {
   "cell_type": "code",
   "execution_count": 26,
   "metadata": {},
   "outputs": [
    {
     "name": "stdout",
     "output_type": "stream",
     "text": [
      "{'pair': '0x0d4a11d5eeaac28ec3f61d100daf4d40471f1852', 'window_length': 5, 'method': 'prophet', 'predict_days': 14}\n",
      "{'data': {'current_price': 169978344.8694108, 'predict_days': 10, 'predict_method': 'prophet', 'predict_price': 222188111.2850132, 'predict_price_lower': 155661314.17579073, 'predict_price_upper': 290247930.64656645, 'predict_roi': 30.715539944640334, 'records': [{'additive_terms': 141474749.64788646, 'additive_terms_lower': 141474749.64788646, 'additive_terms_upper': 141474749.64788646, 'daily': 141474749.64788646, 'daily_lower': 141474749.64788646, 'daily_upper': 141474749.64788646, 'ds': 'Thu, 25 Aug 2022 06:48:11 GMT', 'multiplicative_terms': 0.0, 'multiplicative_terms_lower': 0.0, 'multiplicative_terms_upper': 0.0, 'trend': 35399999.434818834, 'trend_lower': 35399999.434818834, 'trend_upper': 35399999.434818834, 'yhat': 176874749.0827053, 'yhat_lower': 175562931.4688974, 'yhat_upper': 178108454.03280294}, {'additive_terms': 142143440.036142, 'additive_terms_lower': 142143440.036142, 'additive_terms_upper': 142143440.036142, 'daily': 142143440.036142, 'daily_lower': 142143440.036142, 'daily_upper': 142143440.036142, 'ds': 'Thu, 25 Aug 2022 12:48:11 GMT', 'multiplicative_terms': 0.0, 'multiplicative_terms_lower': 0.0, 'multiplicative_terms_upper': 0.0, 'trend': 34700742.7828936, 'trend_lower': 34700742.7828936, 'trend_upper': 34700742.7828936, 'yhat': 176844182.8190356, 'yhat_lower': 175538134.89115918, 'yhat_upper': 178013396.83990815}, {'additive_terms': 141795309.6301844, 'additive_terms_lower': 141795309.6301844, 'additive_terms_upper': 141795309.6301844, 'daily': 141795309.6301844, 'daily_lower': 141795309.6301844, 'daily_upper': 141795309.6301844, 'ds': 'Thu, 25 Aug 2022 18:48:11 GMT', 'multiplicative_terms': 0.0, 'multiplicative_terms_lower': 0.0, 'multiplicative_terms_upper': 0.0, 'trend': 34001486.10085854, 'trend_lower': 34001486.10085854, 'trend_upper': 34001486.10085854, 'yhat': 175796795.73104295, 'yhat_lower': 174571963.10210636, 'yhat_upper': 177060693.7103782}, {'additive_terms': 140983874.84027588, 'additive_terms_lower': 140983874.84027588, 'additive_terms_upper': 140983874.84027588, 'daily': 140983874.84027588, 'daily_lower': 140983874.84027588, 'daily_upper': 140983874.84027588, 'ds': 'Fri, 26 Aug 2022 00:48:11 GMT', 'multiplicative_terms': 0.0, 'multiplicative_terms_lower': 0.0, 'multiplicative_terms_upper': 0.0, 'trend': 33297547.455268197, 'trend_lower': 33297547.455268197, 'trend_upper': 33297547.455268197, 'yhat': 174281422.2955441, 'yhat_lower': 172967321.17068195, 'yhat_upper': 175567541.7394269}, {'additive_terms': 141474749.64789665, 'additive_terms_lower': 141474749.64789665, 'additive_terms_upper': 141474749.64789665, 'daily': 141474749.64789665, 'daily_lower': 141474749.64789665, 'daily_upper': 141474749.64789665, 'ds': 'Fri, 26 Aug 2022 06:48:11 GMT', 'multiplicative_terms': 0.0, 'multiplicative_terms_lower': 0.0, 'multiplicative_terms_upper': 0.0, 'trend': 32576174.162309825, 'trend_lower': 32576174.162309825, 'trend_upper': 32576174.162309825, 'yhat': 174050923.81020647, 'yhat_lower': 172749723.15659243, 'yhat_upper': 175359788.56830084}, {'additive_terms': 142143440.0361436, 'additive_terms_lower': 142143440.0361436, 'additive_terms_upper': 142143440.0361436, 'daily': 142143440.0361436, 'daily_lower': 142143440.0361436, 'daily_upper': 142143440.0361436, 'ds': 'Fri, 26 Aug 2022 12:48:11 GMT', 'multiplicative_terms': 0.0, 'multiplicative_terms_lower': 0.0, 'multiplicative_terms_upper': 0.0, 'trend': 30508193.01486781, 'trend_lower': 30508193.01486781, 'trend_upper': 30508193.01486781, 'yhat': 172651633.0510114, 'yhat_lower': 171379284.03767642, 'yhat_upper': 173916017.93127745}, {'additive_terms': 141795309.63017845, 'additive_terms_lower': 141795309.63017845, 'additive_terms_upper': 141795309.63017845, 'daily': 141795309.63017845, 'daily_lower': 141795309.63017845, 'daily_upper': 141795309.63017845, 'ds': 'Fri, 26 Aug 2022 18:48:11 GMT', 'multiplicative_terms': 0.0, 'multiplicative_terms_lower': 0.0, 'multiplicative_terms_upper': 0.0, 'trend': 28439209.85967436, 'trend_lower': 28439209.85967436, 'trend_upper': 28439209.85967436, 'yhat': 170234519.48985282, 'yhat_lower': 168930196.2865811, 'yhat_upper': 171500930.66339722}, {'additive_terms': 140983874.84027305, 'additive_terms_lower': 140983874.84027305, 'additive_terms_upper': 140983874.84027305, 'daily': 140983874.84027305, 'daily_lower': 140983874.84027305, 'daily_upper': 140983874.84027305, 'ds': 'Sat, 27 Aug 2022 00:48:11 GMT', 'multiplicative_terms': 0.0, 'multiplicative_terms_lower': 0.0, 'multiplicative_terms_upper': 0.0, 'trend': 26370226.7134638, 'trend_lower': 26370226.7134638, 'trend_upper': 26370226.7134638, 'yhat': 167354101.55373687, 'yhat_lower': 166142993.22225654, 'yhat_upper': 168517930.76363295}, {'additive_terms': 141474749.64788994, 'additive_terms_lower': 141474749.64788994, 'additive_terms_upper': 141474749.64788994, 'daily': 141474749.64788994, 'daily_lower': 141474749.64788994, 'daily_upper': 141474749.64788994, 'ds': 'Sat, 27 Aug 2022 06:48:11 GMT', 'multiplicative_terms': 0.0, 'multiplicative_terms_lower': 0.0, 'multiplicative_terms_upper': 0.0, 'trend': 24306019.862243913, 'trend_lower': 24306019.862243913, 'trend_upper': 24306019.862243913, 'yhat': 165780769.51013386, 'yhat_lower': 164553868.9628917, 'yhat_upper': 167005421.816223}, {'additive_terms': 142143440.03614175, 'additive_terms_lower': 142143440.03614175, 'additive_terms_upper': 142143440.03614175, 'daily': 142143440.03614175, 'daily_lower': 142143440.03614175, 'daily_upper': 142143440.03614175, 'ds': 'Sat, 27 Aug 2022 12:48:11 GMT', 'multiplicative_terms': 0.0, 'multiplicative_terms_lower': 0.0, 'multiplicative_terms_upper': 0.0, 'trend': 23867487.83791584, 'trend_lower': 23867487.83791584, 'trend_upper': 23867487.83791584, 'yhat': 166010927.8740576, 'yhat_lower': 164691628.63158005, 'yhat_upper': 167209907.84822994}, {'additive_terms': 141795309.63018516, 'additive_terms_lower': 141795309.63018516, 'additive_terms_upper': 141795309.63018516, 'daily': 141795309.63018516, 'daily_lower': 141795309.63018516, 'daily_upper': 141795309.63018516, 'ds': 'Sat, 27 Aug 2022 18:48:11 GMT', 'multiplicative_terms': 0.0, 'multiplicative_terms_lower': 0.0, 'multiplicative_terms_upper': 0.0, 'trend': 23433678.94455514, 'trend_lower': 23433678.94455514, 'trend_upper': 23433678.94455514, 'yhat': 165228988.5747403, 'yhat_lower': 163956992.54302987, 'yhat_upper': 166544476.6441135}, {'additive_terms': 140983874.8402761, 'additive_terms_lower': 140983874.8402761, 'additive_terms_upper': 140983874.8402761, 'daily': 140983874.8402761, 'daily_lower': 140983874.8402761, 'daily_upper': 140983874.8402761, 'ds': 'Sun, 28 Aug 2022 00:48:11 GMT', 'multiplicative_terms': 0.0, 'multiplicative_terms_lower': 0.0, 'multiplicative_terms_upper': 0.0, 'trend': 23002783.57310733, 'trend_lower': 23002783.57310733, 'trend_upper': 23002783.57310733, 'yhat': 163986658.41338342, 'yhat_lower': 162744403.79646412, 'yhat_upper': 165249944.04602885}, {'additive_terms': 141474749.6479001, 'additive_terms_lower': 141474749.6479001, 'additive_terms_upper': 141474749.6479001, 'daily': 141474749.6479001, 'daily_lower': 141474749.6479001, 'daily_upper': 141474749.6479001, 'ds': 'Sun, 28 Aug 2022 06:48:11 GMT', 'multiplicative_terms': 0.0, 'multiplicative_terms_lower': 0.0, 'multiplicative_terms_upper': 0.0, 'trend': 22571888.18579903, 'trend_lower': 22571888.18579903, 'trend_upper': 22571888.18579903, 'yhat': 164046637.83369914, 'yhat_lower': 162827753.3077424, 'yhat_upper': 165300649.22008213}, {'additive_terms': 142143440.03614458, 'additive_terms_lower': 142143440.03614458, 'additive_terms_upper': 142143440.03614458, 'daily': 142143440.03614458, 'daily_lower': 142143440.03614458, 'daily_upper': 142143440.03614458, 'ds': 'Sun, 28 Aug 2022 12:48:11 GMT', 'multiplicative_terms': 0.0, 'multiplicative_terms_lower': 0.0, 'multiplicative_terms_upper': 0.0, 'trend': 22140992.793885864, 'trend_lower': 22140992.793885864, 'trend_upper': 22140992.793885864, 'yhat': 164284432.83003044, 'yhat_lower': 163087275.18193924, 'yhat_upper': 165512695.20000425}, {'additive_terms': 141795309.63017502, 'additive_terms_lower': 141795309.63017502, 'additive_terms_upper': 141795309.63017502, 'daily': 141795309.63017502, 'daily_lower': 141795309.63017502, 'daily_upper': 141795309.63017502, 'ds': 'Sun, 28 Aug 2022 18:48:11 GMT', 'multiplicative_terms': 0.0, 'multiplicative_terms_lower': 0.0, 'multiplicative_terms_upper': 0.0, 'trend': 21710097.38611359, 'trend_lower': 21710097.38611359, 'trend_upper': 21710097.38611359, 'yhat': 163505407.0162886, 'yhat_lower': 162246249.53550914, 'yhat_upper': 164806494.31469342}, {'additive_terms': 140983874.84027794, 'additive_terms_lower': 140983874.84027794, 'additive_terms_upper': 140983874.84027794, 'daily': 140983874.84027794, 'daily_lower': 140983874.84027794, 'daily_upper': 140983874.84027794, 'ds': 'Mon, 29 Aug 2022 00:48:11 GMT', 'multiplicative_terms': 0.0, 'multiplicative_terms_lower': 0.0, 'multiplicative_terms_upper': 0.0, 'trend': 21279201.979413815, 'trend_lower': 21279201.979413815, 'trend_upper': 21279201.979413815, 'yhat': 162263076.81969175, 'yhat_lower': 160932045.42268017, 'yhat_upper': 163558737.43833733}, {'additive_terms': 141474749.64788914, 'additive_terms_lower': 141474749.64788914, 'additive_terms_upper': 141474749.64788914, 'daily': 141474749.64788914, 'daily_lower': 141474749.64788914, 'daily_upper': 141474749.64788914, 'ds': 'Mon, 29 Aug 2022 06:48:11 GMT', 'multiplicative_terms': 0.0, 'multiplicative_terms_lower': 0.0, 'multiplicative_terms_upper': 0.0, 'trend': 22599961.08291816, 'trend_lower': 22599961.08291816, 'trend_upper': 22599961.08291816, 'yhat': 164074710.7308073, 'yhat_lower': 162820818.994594, 'yhat_upper': 165268373.12689725}, {'additive_terms': 142143440.03614154, 'additive_terms_lower': 142143440.03614154, 'additive_terms_upper': 142143440.03614154, 'daily': 142143440.03614154, 'daily_lower': 142143440.03614154, 'daily_upper': 142143440.03614154, 'ds': 'Mon, 29 Aug 2022 12:48:11 GMT', 'multiplicative_terms': 0.0, 'multiplicative_terms_lower': 0.0, 'multiplicative_terms_upper': 0.0, 'trend': 23920720.1864225, 'trend_lower': 23920720.1864225, 'trend_upper': 23920720.1864225, 'yhat': 166064160.22256404, 'yhat_lower': 164802844.7166131, 'yhat_upper': 167331611.54147545}, {'additive_terms': 141795309.63018173, 'additive_terms_lower': 141795309.63018173, 'additive_terms_upper': 141795309.63018173, 'daily': 141795309.63018173, 'daily_lower': 141795309.63018173, 'daily_upper': 141795309.63018173, 'ds': 'Mon, 29 Aug 2022 18:48:11 GMT', 'multiplicative_terms': 0.0, 'multiplicative_terms_lower': 0.0, 'multiplicative_terms_upper': 0.0, 'trend': 25241479.289926846, 'trend_lower': 25241479.289926846, 'trend_upper': 25241479.289926846, 'yhat': 167036788.9201086, 'yhat_lower': 165734882.41027132, 'yhat_upper': 168336361.46916947}, {'additive_terms': 140983874.8402751, 'additive_terms_lower': 140983874.8402751, 'additive_terms_upper': 140983874.8402751, 'daily': 140983874.8402751, 'daily_lower': 140983874.8402751, 'daily_upper': 140983874.8402751, 'ds': 'Tue, 30 Aug 2022 00:48:11 GMT', 'multiplicative_terms': 0.0, 'multiplicative_terms_lower': 0.0, 'multiplicative_terms_upper': 0.0, 'trend': 26562238.393431187, 'trend_lower': 26562238.393431187, 'trend_upper': 26562238.393431187, 'yhat': 167546113.2337063, 'yhat_lower': 166243648.81403512, 'yhat_upper': 168790616.2694802}, {'additive_terms': 141474749.64789933, 'additive_terms_lower': 141474749.64789933, 'additive_terms_upper': 141474749.64789933, 'daily': 141474749.64789933, 'daily_lower': 141474749.64789933, 'daily_upper': 141474749.64789933, 'ds': 'Tue, 30 Aug 2022 06:48:11 GMT', 'multiplicative_terms': 0.0, 'multiplicative_terms_lower': 0.0, 'multiplicative_terms_upper': 0.0, 'trend': 27882997.49693553, 'trend_lower': 27882997.49693553, 'trend_upper': 27882997.49693553, 'yhat': 169357747.14483488, 'yhat_lower': 168148960.96947145, 'yhat_upper': 170549353.75416452}, {'additive_terms': 141474749.64789262, 'additive_terms_lower': 141474749.64789262, 'additive_terms_upper': 141474749.64789262, 'daily': 141474749.64789262, 'daily_lower': 141474749.64789262, 'daily_upper': 141474749.64789262, 'ds': 'Wed, 31 Aug 2022 06:48:11 GMT', 'multiplicative_terms': 0.0, 'multiplicative_terms_lower': 0.0, 'multiplicative_terms_upper': 0.0, 'trend': 33166033.910952907, 'trend_lower': 31104238.602265026, 'trend_upper': 34933131.75779252, 'yhat': 174640783.55884552, 'yhat_lower': 172304050.5910001, 'yhat_upper': 176855041.18273115}, {'additive_terms': 141474749.64789855, 'additive_terms_lower': 141474749.64789855, 'additive_terms_upper': 141474749.64789855, 'daily': 141474749.64789855, 'daily_lower': 141474749.64789855, 'daily_upper': 141474749.64789855, 'ds': 'Thu, 01 Sep 2022 06:48:11 GMT', 'multiplicative_terms': 0.0, 'multiplicative_terms_lower': 0.0, 'multiplicative_terms_upper': 0.0, 'trend': 38449070.32497028, 'trend_lower': 32071662.760635752, 'trend_upper': 44177377.191507414, 'yhat': 179923819.97286883, 'yhat_lower': 173706976.42136458, 'yhat_upper': 185482774.47371536}, {'additive_terms': 141474749.64789182, 'additive_terms_lower': 141474749.64789182, 'additive_terms_upper': 141474749.64789182, 'daily': 141474749.64789182, 'daily_lower': 141474749.64789182, 'daily_upper': 141474749.64789182, 'ds': 'Fri, 02 Sep 2022 06:48:11 GMT', 'multiplicative_terms': 0.0, 'multiplicative_terms_lower': 0.0, 'multiplicative_terms_upper': 0.0, 'trend': 43732106.73898766, 'trend_lower': 32253037.898998763, 'trend_upper': 54380862.92845812, 'yhat': 185206856.38687947, 'yhat_lower': 173972937.15353397, 'yhat_upper': 195764560.83150852}, {'additive_terms': 141474749.647902, 'additive_terms_lower': 141474749.647902, 'additive_terms_upper': 141474749.647902, 'daily': 141474749.647902, 'daily_lower': 141474749.647902, 'daily_upper': 141474749.647902, 'ds': 'Sat, 03 Sep 2022 06:48:11 GMT', 'multiplicative_terms': 0.0, 'multiplicative_terms_lower': 0.0, 'multiplicative_terms_upper': 0.0, 'trend': 49015143.15300504, 'trend_lower': 31826641.36537051, 'trend_upper': 66244619.33539319, 'yhat': 190489892.80090705, 'yhat_lower': 173248059.33593684, 'yhat_upper': 207572551.9158293}, {'additive_terms': 141474749.64789107, 'additive_terms_lower': 141474749.64789107, 'additive_terms_upper': 141474749.64789107, 'daily': 141474749.64789107, 'daily_lower': 141474749.64789107, 'daily_upper': 141474749.64789107, 'ds': 'Sun, 04 Sep 2022 06:48:11 GMT', 'multiplicative_terms': 0.0, 'multiplicative_terms_lower': 0.0, 'multiplicative_terms_upper': 0.0, 'trend': 54298179.567022406, 'trend_lower': 30642958.075613637, 'trend_upper': 77814096.32818307, 'yhat': 195772929.2149135, 'yhat_lower': 171630195.58719662, 'yhat_upper': 219472766.8344233}, {'additive_terms': 141474749.64790124, 'additive_terms_lower': 141474749.64790124, 'additive_terms_upper': 141474749.64790124, 'daily': 141474749.64790124, 'daily_lower': 141474749.64790124, 'daily_upper': 141474749.64790124, 'ds': 'Mon, 05 Sep 2022 06:48:11 GMT', 'multiplicative_terms': 0.0, 'multiplicative_terms_lower': 0.0, 'multiplicative_terms_upper': 0.0, 'trend': 59581215.98103979, 'trend_lower': 28440931.323767215, 'trend_upper': 90314451.74941427, 'yhat': 201055965.62894103, 'yhat_lower': 170155653.41093802, 'yhat_upper': 231939734.5912437}, {'additive_terms': 141474749.6478945, 'additive_terms_lower': 141474749.6478945, 'additive_terms_upper': 141474749.6478945, 'daily': 141474749.6478945, 'daily_lower': 141474749.6478945, 'daily_upper': 141474749.6478945, 'ds': 'Tue, 06 Sep 2022 06:48:11 GMT', 'multiplicative_terms': 0.0, 'multiplicative_terms_lower': 0.0, 'multiplicative_terms_upper': 0.0, 'trend': 64864252.39505716, 'trend_lower': 25100558.624245178, 'trend_upper': 103589499.61809553, 'yhat': 206339002.04295164, 'yhat_lower': 166788647.2127813, 'yhat_upper': 244890423.12097028}, {'additive_terms': 141474749.6479047, 'additive_terms_lower': 141474749.6479047, 'additive_terms_upper': 141474749.6479047, 'daily': 141474749.6479047, 'daily_lower': 141474749.6479047, 'daily_upper': 141474749.6479047, 'ds': 'Wed, 07 Sep 2022 06:48:11 GMT', 'multiplicative_terms': 0.0, 'multiplicative_terms_lower': 0.0, 'multiplicative_terms_upper': 0.0, 'trend': 70147288.80907454, 'trend_lower': 21056315.271976463, 'trend_upper': 117858695.0534598, 'yhat': 211622038.45697922, 'yhat_lower': 163165839.0063842, 'yhat_upper': 258496740.8652162}, {'additive_terms': 141474749.64789376, 'additive_terms_lower': 141474749.64789376, 'additive_terms_upper': 141474749.64789376, 'daily': 141474749.64789376, 'daily_lower': 141474749.64789376, 'daily_upper': 141474749.64789376, 'ds': 'Thu, 08 Sep 2022 06:48:11 GMT', 'multiplicative_terms': 0.0, 'multiplicative_terms_lower': 0.0, 'multiplicative_terms_upper': 0.0, 'trend': 75430325.2230919, 'trend_lower': 17841858.531172372, 'trend_upper': 131971346.66703992, 'yhat': 216905074.87098566, 'yhat_lower': 159260978.79521307, 'yhat_upper': 274191541.70539814}, {'additive_terms': 141474749.64790392, 'additive_terms_lower': 141474749.64790392, 'additive_terms_upper': 141474749.64790392, 'daily': 141474749.64790392, 'daily_lower': 141474749.64790392, 'daily_upper': 141474749.64790392, 'ds': 'Fri, 09 Sep 2022 06:48:11 GMT', 'multiplicative_terms': 0.0, 'multiplicative_terms_lower': 0.0, 'multiplicative_terms_upper': 0.0, 'trend': 80713361.63710928, 'trend_lower': 14232637.498255953, 'trend_upper': 148546003.9587554, 'yhat': 222188111.2850132, 'yhat_lower': 155661314.17579073, 'yhat_upper': 290247930.64656645}]}, 'status': 'success'}\n"
     ]
    }
   ],
   "source": [
    "#FI001\n",
    "url = 'https://100api.orai.dev/fi001'\n",
    "data = {'pair': '0x0d4a11d5eeaac28ec3f61d100daf4d40471f1852',\n",
    "        'window_length':5,\n",
    "        'method':'prophet',\n",
    "        'predict_days':14}\n",
    "headers = {\n",
    "        'Authorization': 'ai_market'\n",
    "    }\n",
    "response = requests.post(url, data=data, headers=headers)\n",
    "print(data)\n",
    "print(response.json())"
   ]
  },
  {
   "cell_type": "code",
   "execution_count": 27,
   "metadata": {},
   "outputs": [
    {
     "name": "stdout",
     "output_type": "stream",
     "text": [
      "{'input_source': '0 0 0 0 1 7 0 5 0 9 0 3 0 0 5 2 0 7 0 0 0 0 0 0 4 0 0 0 1 6 0 0 4 0 0 2 0 0 0 8 0 1 0 0 0 8 0 0 5 0 0 6 4 0 0 0 9 0 0 0 0 0 0 7 0 2 1 0 0 8 0 9 0 5 0 2 3 0 0 0 0'}\n",
      "{'data': [[2, 6, 4, 9, 1, 7, 3, 5, 8], [9, 8, 3, 6, 4, 5, 2, 1, 7], [5, 7, 1, 3, 8, 2, 4, 9, 6], [3, 1, 6, 7, 9, 4, 5, 8, 2], [4, 2, 5, 8, 6, 1, 9, 7, 3], [8, 9, 7, 5, 2, 3, 6, 4, 1], [6, 3, 9, 4, 7, 8, 1, 2, 5], [7, 4, 2, 1, 5, 6, 8, 3, 9], [1, 5, 8, 2, 3, 9, 7, 6, 4]], 'status': 'success'}\n"
     ]
    }
   ],
   "source": [
    "#ga001_1\n",
    "url = 'https://100api.orai.dev/ga001_1'\n",
    "data = {'input_source':'0 0 0 0 1 7 0 5 0 9 0 3 0 0 5 2 0 7 0 0 0 0 0 0 4 0 0 0 1 6 0 0 4 0 0 2 0 0 0 8 0 1 0 0 0 8 0 0 5 0 0 6 4 0 0 0 9 0 0 0 0 0 0 7 0 2 1 0 0 8 0 9 0 5 0 2 3 0 0 0 0'}\n",
    "headers = {\n",
    "        'Authorization': 'ai_market'\n",
    "    }\n",
    "response = requests.post(url, data=data, headers=headers)\n",
    "print(data)\n",
    "print(response.json())"
   ]
  },
  {
   "cell_type": "code",
   "execution_count": 29,
   "metadata": {},
   "outputs": [
    {
     "name": "stdout",
     "output_type": "stream",
     "text": [
      "{'input_source_hash': 'QmVwFK9qYnu5NaELS7UUqopPJWhwyaPox232ptLn8FvwmX'}\n",
      "{'Hash': 'QmaYkTFEMcCFkrqZXYqwXZYEBhqPb8ewCqm32Uku4dbEr6', 'Name': 'file', 'Size': '210116'}\n"
     ]
    }
   ],
   "source": [
    "#ga001_2\n",
    "url = 'https://100api.orai.dev/ga001_2'\n",
    "data = {'input_source_hash':'QmVwFK9qYnu5NaELS7UUqopPJWhwyaPox232ptLn8FvwmX'}\n",
    "headers = {\n",
    "        'Authorization': 'ai_market'\n",
    "    }\n",
    "response = requests.post(url, data=data, headers=headers)\n",
    "print(data)\n",
    "print(response.json())"
   ]
  },
  {
   "cell_type": "code",
   "execution_count": 30,
   "metadata": {},
   "outputs": [
    {
     "name": "stdout",
     "output_type": "stream",
     "text": [
      "{'input_source_hash': 'QmVwFK9qYnu5NaELS7UUqopPJWhwyaPox232ptLn8FvwmX'}\n",
      "{'data': [[5, 3, 2, 6, 7, 8, 9, 4, 1], [6, 7, 4, 1, 9, 5, 3, 2, 8], [1, 9, 8, 3, 4, 2, 5, 6, 7], [8, 2, 9, 7, 6, 1, 4, 5, 3], [4, 1, 6, 8, 5, 3, 7, 9, 2], [7, 5, 3, 9, 2, 4, 8, 1, 6], [9, 6, 1, 5, 3, 7, 2, 8, 4], [2, 8, 7, 4, 1, 9, 6, 3, 5], [3, 4, 5, 2, 8, 6, 1, 7, 9]], 'status': 'success'}\n"
     ]
    }
   ],
   "source": [
    "#ga001_3\n",
    "url = 'https://100api.orai.dev/ga001_3'\n",
    "data = {'input_source_hash':'QmVwFK9qYnu5NaELS7UUqopPJWhwyaPox232ptLn8FvwmX'}\n",
    "headers = {\n",
    "        'Authorization': 'ai_market'\n",
    "    }\n",
    "response = requests.post(url, data=data, headers=headers)\n",
    "print(data)\n",
    "print(response.json())"
   ]
  },
  {
   "cell_type": "code",
   "execution_count": 31,
   "metadata": {},
   "outputs": [
    {
     "name": "stdout",
     "output_type": "stream",
     "text": [
      "{'level': 'Hard'}\n",
      "{'data': [[0, 3, 0, 2, 0, 0, 0, 0, 0], [6, 0, 0, 5, 7, 0, 0, 0, 0], [0, 0, 4, 0, 1, 0, 0, 5, 0], [0, 0, 0, 8, 0, 4, 9, 1, 0], [1, 2, 0, 0, 0, 0, 0, 0, 0], [0, 0, 0, 0, 3, 0, 0, 0, 0], [0, 0, 0, 0, 0, 0, 0, 7, 4], [0, 1, 0, 0, 6, 0, 0, 0, 3], [3, 0, 0, 4, 0, 0, 2, 8, 6]], 'status': 'success'}\n"
     ]
    }
   ],
   "source": [
    "#ga002\n",
    "url = 'https://100api.orai.dev/ga002'\n",
    "data = {'level':'Hard'}\n",
    "headers = {\n",
    "        'Authorization': 'ai_market'\n",
    "    }\n",
    "response = requests.post(url, data=data, headers=headers)\n",
    "print(data)\n",
    "print(response.json())"
   ]
  },
  {
   "cell_type": "code",
   "execution_count": 34,
   "metadata": {},
   "outputs": [
    {
     "name": "stdout",
     "output_type": "stream",
     "text": [
      "{'data': [{'key': 'string', 'answer': 'string'}]}\n",
      "{'status': 'success', 'data': {'status': 200, 'message': 'Success', 'question_matrix': [[0, 0, 0, 0, 0, 0, 0, 0, 0, 0, 0, 0, 0, 0, 0, 0, 0], [0, 0, 0, 0, 0, 0, 0, 0, 0, 0, 0, 0, 0, 0, 0, 0, 0], [0, 0, 0, 0, 0, 0, 0, 0, 0, 0, 0, 0, 0, 0, 0, 0, 0], [0, 0, 0, 0, 0, 0, 0, 0, 0, 0, 0, 0, 0, 0, 0, 0, 0], [0, 0, 0, 0, 0, 0, 0, 0, 0, 0, 0, 0, 0, 0, 0, 0, 0], [0, 0, 0, 0, 0, 0, 0, 0, 0, 0, 0, 0, 0, 0, 0, 0, 0], [0, 0, 0, 0, 0, 0, 0, 0, 0, 0, 0, 0, 0, 0, 0, 0, 0], [1, 1, 1, 1, 1, 1, 0, 0, 0, 0, 0, 0, 0, 0, 0, 0, 0], [0, 0, 0, 0, 0, 0, 0, 0, 0, 0, 0, 0, 0, 0, 0, 0, 0], [0, 0, 0, 0, 0, 0, 0, 0, 0, 0, 0, 0, 0, 0, 0, 0, 0], [0, 0, 0, 0, 0, 0, 0, 0, 0, 0, 0, 0, 0, 0, 0, 0, 0], [0, 0, 0, 0, 0, 0, 0, 0, 0, 0, 0, 0, 0, 0, 0, 0, 0], [0, 0, 0, 0, 0, 0, 0, 0, 0, 0, 0, 0, 0, 0, 0, 0, 0], [0, 0, 0, 0, 0, 0, 0, 0, 0, 0, 0, 0, 0, 0, 0, 0, 0], [0, 0, 0, 0, 0, 0, 0, 0, 0, 0, 0, 0, 0, 0, 0, 0, 0], [0, 0, 0, 0, 0, 0, 0, 0, 0, 0, 0, 0, 0, 0, 0, 0, 0], [0, 0, 0, 0, 0, 0, 0, 0, 0, 0, 0, 0, 0, 0, 0, 0, 0]], 'answer_matrix': [[0, 0, 0, 0, 0, 0, 0, 0, 0, 0, 0, 0, 0, 0, 0, 0, 0], [0, 0, 0, 0, 0, 0, 0, 0, 0, 0, 0, 0, 0, 0, 0, 0, 0], [0, 0, 0, 0, 0, 0, 0, 0, 0, 0, 0, 0, 0, 0, 0, 0, 0], [0, 0, 0, 0, 0, 0, 0, 0, 0, 0, 0, 0, 0, 0, 0, 0, 0], [0, 0, 0, 0, 0, 0, 0, 0, 0, 0, 0, 0, 0, 0, 0, 0, 0], [0, 0, 0, 0, 0, 0, 0, 0, 0, 0, 0, 0, 0, 0, 0, 0, 0], [0, 0, 0, 0, 0, 0, 0, 0, 0, 0, 0, 0, 0, 0, 0, 0, 0], ['S', 'T', 'R', 'I', 'N', 'G', 0, 0, 0, 0, 0, 0, 0, 0, 0, 0, 0], [0, 0, 0, 0, 0, 0, 0, 0, 0, 0, 0, 0, 0, 0, 0, 0, 0], [0, 0, 0, 0, 0, 0, 0, 0, 0, 0, 0, 0, 0, 0, 0, 0, 0], [0, 0, 0, 0, 0, 0, 0, 0, 0, 0, 0, 0, 0, 0, 0, 0, 0], [0, 0, 0, 0, 0, 0, 0, 0, 0, 0, 0, 0, 0, 0, 0, 0, 0], [0, 0, 0, 0, 0, 0, 0, 0, 0, 0, 0, 0, 0, 0, 0, 0, 0], [0, 0, 0, 0, 0, 0, 0, 0, 0, 0, 0, 0, 0, 0, 0, 0, 0], [0, 0, 0, 0, 0, 0, 0, 0, 0, 0, 0, 0, 0, 0, 0, 0, 0], [0, 0, 0, 0, 0, 0, 0, 0, 0, 0, 0, 0, 0, 0, 0, 0, 0], [0, 0, 0, 0, 0, 0, 0, 0, 0, 0, 0, 0, 0, 0, 0, 0, 0]], 'questions_list': [[6, 'string', 7, 0, 0]]}}\n"
     ]
    }
   ],
   "source": [
    "#ga003\n",
    "url = 'https://100api.orai.dev/ga003'\n",
    "data = {'data':[\n",
    "    {\n",
    "      \"key\": \"string\",\n",
    "      \"answer\": \"string\"\n",
    "    }]}\n",
    "  \n",
    "headers = {\n",
    "        'Authorization': 'ai_market'\n",
    "    }\n",
    "response = requests.post(url, json=data, headers=headers)\n",
    "print(data)\n",
    "print(response.json())"
   ]
  },
  {
   "cell_type": "code",
   "execution_count": 36,
   "metadata": {},
   "outputs": [
    {
     "name": "stdout",
     "output_type": "stream",
     "text": [
      "{}\n"
     ]
    },
    {
     "ename": "JSONDecodeError",
     "evalue": "Expecting value: line 1 column 1 (char 0)",
     "output_type": "error",
     "traceback": [
      "\u001b[0;31m---------------------------------------------------------------------------\u001b[0m",
      "\u001b[0;31mJSONDecodeError\u001b[0m                           Traceback (most recent call last)",
      "File \u001b[0;32m/Library/Frameworks/Python.framework/Versions/3.10/lib/python3.10/site-packages/requests/models.py:971\u001b[0m, in \u001b[0;36mResponse.json\u001b[0;34m(self, **kwargs)\u001b[0m\n\u001b[1;32m    970\u001b[0m \u001b[39mtry\u001b[39;00m:\n\u001b[0;32m--> 971\u001b[0m     \u001b[39mreturn\u001b[39;00m complexjson\u001b[39m.\u001b[39;49mloads(\u001b[39mself\u001b[39;49m\u001b[39m.\u001b[39;49mtext, \u001b[39m*\u001b[39;49m\u001b[39m*\u001b[39;49mkwargs)\n\u001b[1;32m    972\u001b[0m \u001b[39mexcept\u001b[39;00m JSONDecodeError \u001b[39mas\u001b[39;00m e:\n\u001b[1;32m    973\u001b[0m     \u001b[39m# Catch JSON-related errors and raise as requests.JSONDecodeError\u001b[39;00m\n\u001b[1;32m    974\u001b[0m     \u001b[39m# This aliases json.JSONDecodeError and simplejson.JSONDecodeError\u001b[39;00m\n",
      "File \u001b[0;32m/Library/Frameworks/Python.framework/Versions/3.10/lib/python3.10/json/__init__.py:346\u001b[0m, in \u001b[0;36mloads\u001b[0;34m(s, cls, object_hook, parse_float, parse_int, parse_constant, object_pairs_hook, **kw)\u001b[0m\n\u001b[1;32m    343\u001b[0m \u001b[39mif\u001b[39;00m (\u001b[39mcls\u001b[39m \u001b[39mis\u001b[39;00m \u001b[39mNone\u001b[39;00m \u001b[39mand\u001b[39;00m object_hook \u001b[39mis\u001b[39;00m \u001b[39mNone\u001b[39;00m \u001b[39mand\u001b[39;00m\n\u001b[1;32m    344\u001b[0m         parse_int \u001b[39mis\u001b[39;00m \u001b[39mNone\u001b[39;00m \u001b[39mand\u001b[39;00m parse_float \u001b[39mis\u001b[39;00m \u001b[39mNone\u001b[39;00m \u001b[39mand\u001b[39;00m\n\u001b[1;32m    345\u001b[0m         parse_constant \u001b[39mis\u001b[39;00m \u001b[39mNone\u001b[39;00m \u001b[39mand\u001b[39;00m object_pairs_hook \u001b[39mis\u001b[39;00m \u001b[39mNone\u001b[39;00m \u001b[39mand\u001b[39;00m \u001b[39mnot\u001b[39;00m kw):\n\u001b[0;32m--> 346\u001b[0m     \u001b[39mreturn\u001b[39;00m _default_decoder\u001b[39m.\u001b[39;49mdecode(s)\n\u001b[1;32m    347\u001b[0m \u001b[39mif\u001b[39;00m \u001b[39mcls\u001b[39m \u001b[39mis\u001b[39;00m \u001b[39mNone\u001b[39;00m:\n",
      "File \u001b[0;32m/Library/Frameworks/Python.framework/Versions/3.10/lib/python3.10/json/decoder.py:337\u001b[0m, in \u001b[0;36mJSONDecoder.decode\u001b[0;34m(self, s, _w)\u001b[0m\n\u001b[1;32m    333\u001b[0m \u001b[39m\"\"\"Return the Python representation of ``s`` (a ``str`` instance\u001b[39;00m\n\u001b[1;32m    334\u001b[0m \u001b[39mcontaining a JSON document).\u001b[39;00m\n\u001b[1;32m    335\u001b[0m \n\u001b[1;32m    336\u001b[0m \u001b[39m\"\"\"\u001b[39;00m\n\u001b[0;32m--> 337\u001b[0m obj, end \u001b[39m=\u001b[39m \u001b[39mself\u001b[39;49m\u001b[39m.\u001b[39;49mraw_decode(s, idx\u001b[39m=\u001b[39;49m_w(s, \u001b[39m0\u001b[39;49m)\u001b[39m.\u001b[39;49mend())\n\u001b[1;32m    338\u001b[0m end \u001b[39m=\u001b[39m _w(s, end)\u001b[39m.\u001b[39mend()\n",
      "File \u001b[0;32m/Library/Frameworks/Python.framework/Versions/3.10/lib/python3.10/json/decoder.py:355\u001b[0m, in \u001b[0;36mJSONDecoder.raw_decode\u001b[0;34m(self, s, idx)\u001b[0m\n\u001b[1;32m    354\u001b[0m \u001b[39mexcept\u001b[39;00m \u001b[39mStopIteration\u001b[39;00m \u001b[39mas\u001b[39;00m err:\n\u001b[0;32m--> 355\u001b[0m     \u001b[39mraise\u001b[39;00m JSONDecodeError(\u001b[39m\"\u001b[39m\u001b[39mExpecting value\u001b[39m\u001b[39m\"\u001b[39m, s, err\u001b[39m.\u001b[39mvalue) \u001b[39mfrom\u001b[39;00m \u001b[39mNone\u001b[39m\n\u001b[1;32m    356\u001b[0m \u001b[39mreturn\u001b[39;00m obj, end\n",
      "\u001b[0;31mJSONDecodeError\u001b[0m: Expecting value: line 1 column 1 (char 0)",
      "\nDuring handling of the above exception, another exception occurred:\n",
      "\u001b[0;31mJSONDecodeError\u001b[0m                           Traceback (most recent call last)",
      "\u001b[1;32m/Users/oraichain/Desktop/test 100 api/100API.ipynb Cell 76\u001b[0m in \u001b[0;36m<cell line: 10>\u001b[0;34m()\u001b[0m\n\u001b[1;32m      <a href='vscode-notebook-cell:/Users/oraichain/Desktop/test%20100%20api/100API.ipynb#ch0000075?line=7'>8</a>\u001b[0m response \u001b[39m=\u001b[39m requests\u001b[39m.\u001b[39mpost(url, data\u001b[39m=\u001b[39mdata, headers\u001b[39m=\u001b[39mheaders)\n\u001b[1;32m      <a href='vscode-notebook-cell:/Users/oraichain/Desktop/test%20100%20api/100API.ipynb#ch0000075?line=8'>9</a>\u001b[0m \u001b[39mprint\u001b[39m(data)\n\u001b[0;32m---> <a href='vscode-notebook-cell:/Users/oraichain/Desktop/test%20100%20api/100API.ipynb#ch0000075?line=9'>10</a>\u001b[0m \u001b[39mprint\u001b[39m(response\u001b[39m.\u001b[39;49mjson())\n",
      "File \u001b[0;32m/Library/Frameworks/Python.framework/Versions/3.10/lib/python3.10/site-packages/requests/models.py:975\u001b[0m, in \u001b[0;36mResponse.json\u001b[0;34m(self, **kwargs)\u001b[0m\n\u001b[1;32m    971\u001b[0m     \u001b[39mreturn\u001b[39;00m complexjson\u001b[39m.\u001b[39mloads(\u001b[39mself\u001b[39m\u001b[39m.\u001b[39mtext, \u001b[39m*\u001b[39m\u001b[39m*\u001b[39mkwargs)\n\u001b[1;32m    972\u001b[0m \u001b[39mexcept\u001b[39;00m JSONDecodeError \u001b[39mas\u001b[39;00m e:\n\u001b[1;32m    973\u001b[0m     \u001b[39m# Catch JSON-related errors and raise as requests.JSONDecodeError\u001b[39;00m\n\u001b[1;32m    974\u001b[0m     \u001b[39m# This aliases json.JSONDecodeError and simplejson.JSONDecodeError\u001b[39;00m\n\u001b[0;32m--> 975\u001b[0m     \u001b[39mraise\u001b[39;00m RequestsJSONDecodeError(e\u001b[39m.\u001b[39mmsg, e\u001b[39m.\u001b[39mdoc, e\u001b[39m.\u001b[39mpos)\n",
      "\u001b[0;31mJSONDecodeError\u001b[0m: Expecting value: line 1 column 1 (char 0)"
     ]
    }
   ],
   "source": [
    "#mu002\n",
    "url = 'https://100api.orai.dev/mu002'\n",
    "data = {}\n",
    "  \n",
    "headers = {\n",
    "        'Authorization': 'ai_market'\n",
    "    }\n",
    "response = requests.post(url, data=data, headers=headers)\n",
    "print(data)\n",
    "print(response.json())"
   ]
  },
  {
   "cell_type": "code",
   "execution_count": 40,
   "metadata": {},
   "outputs": [
    {
     "name": "stdout",
     "output_type": "stream",
     "text": [
      "{'temperature': 1, 'length': 200, 'mp3_output': 'true'}\n"
     ]
    },
    {
     "ename": "JSONDecodeError",
     "evalue": "Expecting value: line 1 column 1 (char 0)",
     "output_type": "error",
     "traceback": [
      "\u001b[0;31m---------------------------------------------------------------------------\u001b[0m",
      "\u001b[0;31mJSONDecodeError\u001b[0m                           Traceback (most recent call last)",
      "File \u001b[0;32m/Library/Frameworks/Python.framework/Versions/3.10/lib/python3.10/site-packages/requests/models.py:971\u001b[0m, in \u001b[0;36mResponse.json\u001b[0;34m(self, **kwargs)\u001b[0m\n\u001b[1;32m    970\u001b[0m \u001b[39mtry\u001b[39;00m:\n\u001b[0;32m--> 971\u001b[0m     \u001b[39mreturn\u001b[39;00m complexjson\u001b[39m.\u001b[39;49mloads(\u001b[39mself\u001b[39;49m\u001b[39m.\u001b[39;49mtext, \u001b[39m*\u001b[39;49m\u001b[39m*\u001b[39;49mkwargs)\n\u001b[1;32m    972\u001b[0m \u001b[39mexcept\u001b[39;00m JSONDecodeError \u001b[39mas\u001b[39;00m e:\n\u001b[1;32m    973\u001b[0m     \u001b[39m# Catch JSON-related errors and raise as requests.JSONDecodeError\u001b[39;00m\n\u001b[1;32m    974\u001b[0m     \u001b[39m# This aliases json.JSONDecodeError and simplejson.JSONDecodeError\u001b[39;00m\n",
      "File \u001b[0;32m/Library/Frameworks/Python.framework/Versions/3.10/lib/python3.10/json/__init__.py:346\u001b[0m, in \u001b[0;36mloads\u001b[0;34m(s, cls, object_hook, parse_float, parse_int, parse_constant, object_pairs_hook, **kw)\u001b[0m\n\u001b[1;32m    343\u001b[0m \u001b[39mif\u001b[39;00m (\u001b[39mcls\u001b[39m \u001b[39mis\u001b[39;00m \u001b[39mNone\u001b[39;00m \u001b[39mand\u001b[39;00m object_hook \u001b[39mis\u001b[39;00m \u001b[39mNone\u001b[39;00m \u001b[39mand\u001b[39;00m\n\u001b[1;32m    344\u001b[0m         parse_int \u001b[39mis\u001b[39;00m \u001b[39mNone\u001b[39;00m \u001b[39mand\u001b[39;00m parse_float \u001b[39mis\u001b[39;00m \u001b[39mNone\u001b[39;00m \u001b[39mand\u001b[39;00m\n\u001b[1;32m    345\u001b[0m         parse_constant \u001b[39mis\u001b[39;00m \u001b[39mNone\u001b[39;00m \u001b[39mand\u001b[39;00m object_pairs_hook \u001b[39mis\u001b[39;00m \u001b[39mNone\u001b[39;00m \u001b[39mand\u001b[39;00m \u001b[39mnot\u001b[39;00m kw):\n\u001b[0;32m--> 346\u001b[0m     \u001b[39mreturn\u001b[39;00m _default_decoder\u001b[39m.\u001b[39;49mdecode(s)\n\u001b[1;32m    347\u001b[0m \u001b[39mif\u001b[39;00m \u001b[39mcls\u001b[39m \u001b[39mis\u001b[39;00m \u001b[39mNone\u001b[39;00m:\n",
      "File \u001b[0;32m/Library/Frameworks/Python.framework/Versions/3.10/lib/python3.10/json/decoder.py:337\u001b[0m, in \u001b[0;36mJSONDecoder.decode\u001b[0;34m(self, s, _w)\u001b[0m\n\u001b[1;32m    333\u001b[0m \u001b[39m\"\"\"Return the Python representation of ``s`` (a ``str`` instance\u001b[39;00m\n\u001b[1;32m    334\u001b[0m \u001b[39mcontaining a JSON document).\u001b[39;00m\n\u001b[1;32m    335\u001b[0m \n\u001b[1;32m    336\u001b[0m \u001b[39m\"\"\"\u001b[39;00m\n\u001b[0;32m--> 337\u001b[0m obj, end \u001b[39m=\u001b[39m \u001b[39mself\u001b[39;49m\u001b[39m.\u001b[39;49mraw_decode(s, idx\u001b[39m=\u001b[39;49m_w(s, \u001b[39m0\u001b[39;49m)\u001b[39m.\u001b[39;49mend())\n\u001b[1;32m    338\u001b[0m end \u001b[39m=\u001b[39m _w(s, end)\u001b[39m.\u001b[39mend()\n",
      "File \u001b[0;32m/Library/Frameworks/Python.framework/Versions/3.10/lib/python3.10/json/decoder.py:355\u001b[0m, in \u001b[0;36mJSONDecoder.raw_decode\u001b[0;34m(self, s, idx)\u001b[0m\n\u001b[1;32m    354\u001b[0m \u001b[39mexcept\u001b[39;00m \u001b[39mStopIteration\u001b[39;00m \u001b[39mas\u001b[39;00m err:\n\u001b[0;32m--> 355\u001b[0m     \u001b[39mraise\u001b[39;00m JSONDecodeError(\u001b[39m\"\u001b[39m\u001b[39mExpecting value\u001b[39m\u001b[39m\"\u001b[39m, s, err\u001b[39m.\u001b[39mvalue) \u001b[39mfrom\u001b[39;00m \u001b[39mNone\u001b[39m\n\u001b[1;32m    356\u001b[0m \u001b[39mreturn\u001b[39;00m obj, end\n",
      "\u001b[0;31mJSONDecodeError\u001b[0m: Expecting value: line 1 column 1 (char 0)",
      "\nDuring handling of the above exception, another exception occurred:\n",
      "\u001b[0;31mJSONDecodeError\u001b[0m                           Traceback (most recent call last)",
      "\u001b[1;32m/Users/oraichain/Desktop/test 100 api/100API.ipynb Cell 77\u001b[0m in \u001b[0;36m<cell line: 14>\u001b[0;34m()\u001b[0m\n\u001b[1;32m     <a href='vscode-notebook-cell:/Users/oraichain/Desktop/test%20100%20api/100API.ipynb#ch0000076?line=11'>12</a>\u001b[0m response \u001b[39m=\u001b[39m requests\u001b[39m.\u001b[39mpost(url, data\u001b[39m=\u001b[39mdata, headers\u001b[39m=\u001b[39mheaders)\n\u001b[1;32m     <a href='vscode-notebook-cell:/Users/oraichain/Desktop/test%20100%20api/100API.ipynb#ch0000076?line=12'>13</a>\u001b[0m \u001b[39mprint\u001b[39m(data)\n\u001b[0;32m---> <a href='vscode-notebook-cell:/Users/oraichain/Desktop/test%20100%20api/100API.ipynb#ch0000076?line=13'>14</a>\u001b[0m \u001b[39mprint\u001b[39m(response\u001b[39m.\u001b[39;49mjson())\n",
      "File \u001b[0;32m/Library/Frameworks/Python.framework/Versions/3.10/lib/python3.10/site-packages/requests/models.py:975\u001b[0m, in \u001b[0;36mResponse.json\u001b[0;34m(self, **kwargs)\u001b[0m\n\u001b[1;32m    971\u001b[0m     \u001b[39mreturn\u001b[39;00m complexjson\u001b[39m.\u001b[39mloads(\u001b[39mself\u001b[39m\u001b[39m.\u001b[39mtext, \u001b[39m*\u001b[39m\u001b[39m*\u001b[39mkwargs)\n\u001b[1;32m    972\u001b[0m \u001b[39mexcept\u001b[39;00m JSONDecodeError \u001b[39mas\u001b[39;00m e:\n\u001b[1;32m    973\u001b[0m     \u001b[39m# Catch JSON-related errors and raise as requests.JSONDecodeError\u001b[39;00m\n\u001b[1;32m    974\u001b[0m     \u001b[39m# This aliases json.JSONDecodeError and simplejson.JSONDecodeError\u001b[39;00m\n\u001b[0;32m--> 975\u001b[0m     \u001b[39mraise\u001b[39;00m RequestsJSONDecodeError(e\u001b[39m.\u001b[39mmsg, e\u001b[39m.\u001b[39mdoc, e\u001b[39m.\u001b[39mpos)\n",
      "\u001b[0;31mJSONDecodeError\u001b[0m: Expecting value: line 1 column 1 (char 0)"
     ]
    }
   ],
   "source": [
    "#mu006_1\n",
    "url = 'https://100api.orai.dev/mu006_1'\n",
    "data = {\n",
    "    'temperature': 1,\n",
    "    'length': 200,\n",
    "    'mp3_output': 'true',\n",
    "}\n",
    "  \n",
    "headers = {\n",
    "        'Authorization': 'ai_market'\n",
    "    }\n",
    "response = requests.post(url, data=data, headers=headers)\n",
    "print(data)\n",
    "print(response.json())"
   ]
  },
  {
   "cell_type": "code",
   "execution_count": null,
   "metadata": {},
   "outputs": [],
   "source": [
    "#mu006_2\n",
    "url = 'https://100api.orai.dev/mu006_2'\n",
    "data = {\n",
    "    'temperature': 1,\n",
    "    'length': 200,\n",
    "    'mp3_output': 'true',\n",
    "}\n",
    "  \n",
    "headers = {\n",
    "        'Authorization': 'ai_market'\n",
    "    }\n",
    "response = requests.post(url, data=data, headers=headers)\n",
    "print(data)\n",
    "print(response.json())"
   ]
  },
  {
   "cell_type": "code",
   "execution_count": 7,
   "metadata": {},
   "outputs": [
    {
     "name": "stdout",
     "output_type": "stream",
     "text": [
      "{'temperature': 1, 'length': 200, 'mp3_output': 'true'}\n"
     ]
    },
    {
     "ename": "JSONDecodeError",
     "evalue": "Expecting value: line 1 column 1 (char 0)",
     "output_type": "error",
     "traceback": [
      "\u001b[0;31m---------------------------------------------------------------------------\u001b[0m",
      "\u001b[0;31mJSONDecodeError\u001b[0m                           Traceback (most recent call last)",
      "File \u001b[0;32m/Library/Frameworks/Python.framework/Versions/3.10/lib/python3.10/site-packages/requests/models.py:971\u001b[0m, in \u001b[0;36mResponse.json\u001b[0;34m(self, **kwargs)\u001b[0m\n\u001b[1;32m    970\u001b[0m \u001b[39mtry\u001b[39;00m:\n\u001b[0;32m--> 971\u001b[0m     \u001b[39mreturn\u001b[39;00m complexjson\u001b[39m.\u001b[39;49mloads(\u001b[39mself\u001b[39;49m\u001b[39m.\u001b[39;49mtext, \u001b[39m*\u001b[39;49m\u001b[39m*\u001b[39;49mkwargs)\n\u001b[1;32m    972\u001b[0m \u001b[39mexcept\u001b[39;00m JSONDecodeError \u001b[39mas\u001b[39;00m e:\n\u001b[1;32m    973\u001b[0m     \u001b[39m# Catch JSON-related errors and raise as requests.JSONDecodeError\u001b[39;00m\n\u001b[1;32m    974\u001b[0m     \u001b[39m# This aliases json.JSONDecodeError and simplejson.JSONDecodeError\u001b[39;00m\n",
      "File \u001b[0;32m/Library/Frameworks/Python.framework/Versions/3.10/lib/python3.10/json/__init__.py:346\u001b[0m, in \u001b[0;36mloads\u001b[0;34m(s, cls, object_hook, parse_float, parse_int, parse_constant, object_pairs_hook, **kw)\u001b[0m\n\u001b[1;32m    343\u001b[0m \u001b[39mif\u001b[39;00m (\u001b[39mcls\u001b[39m \u001b[39mis\u001b[39;00m \u001b[39mNone\u001b[39;00m \u001b[39mand\u001b[39;00m object_hook \u001b[39mis\u001b[39;00m \u001b[39mNone\u001b[39;00m \u001b[39mand\u001b[39;00m\n\u001b[1;32m    344\u001b[0m         parse_int \u001b[39mis\u001b[39;00m \u001b[39mNone\u001b[39;00m \u001b[39mand\u001b[39;00m parse_float \u001b[39mis\u001b[39;00m \u001b[39mNone\u001b[39;00m \u001b[39mand\u001b[39;00m\n\u001b[1;32m    345\u001b[0m         parse_constant \u001b[39mis\u001b[39;00m \u001b[39mNone\u001b[39;00m \u001b[39mand\u001b[39;00m object_pairs_hook \u001b[39mis\u001b[39;00m \u001b[39mNone\u001b[39;00m \u001b[39mand\u001b[39;00m \u001b[39mnot\u001b[39;00m kw):\n\u001b[0;32m--> 346\u001b[0m     \u001b[39mreturn\u001b[39;00m _default_decoder\u001b[39m.\u001b[39;49mdecode(s)\n\u001b[1;32m    347\u001b[0m \u001b[39mif\u001b[39;00m \u001b[39mcls\u001b[39m \u001b[39mis\u001b[39;00m \u001b[39mNone\u001b[39;00m:\n",
      "File \u001b[0;32m/Library/Frameworks/Python.framework/Versions/3.10/lib/python3.10/json/decoder.py:337\u001b[0m, in \u001b[0;36mJSONDecoder.decode\u001b[0;34m(self, s, _w)\u001b[0m\n\u001b[1;32m    333\u001b[0m \u001b[39m\"\"\"Return the Python representation of ``s`` (a ``str`` instance\u001b[39;00m\n\u001b[1;32m    334\u001b[0m \u001b[39mcontaining a JSON document).\u001b[39;00m\n\u001b[1;32m    335\u001b[0m \n\u001b[1;32m    336\u001b[0m \u001b[39m\"\"\"\u001b[39;00m\n\u001b[0;32m--> 337\u001b[0m obj, end \u001b[39m=\u001b[39m \u001b[39mself\u001b[39;49m\u001b[39m.\u001b[39;49mraw_decode(s, idx\u001b[39m=\u001b[39;49m_w(s, \u001b[39m0\u001b[39;49m)\u001b[39m.\u001b[39;49mend())\n\u001b[1;32m    338\u001b[0m end \u001b[39m=\u001b[39m _w(s, end)\u001b[39m.\u001b[39mend()\n",
      "File \u001b[0;32m/Library/Frameworks/Python.framework/Versions/3.10/lib/python3.10/json/decoder.py:355\u001b[0m, in \u001b[0;36mJSONDecoder.raw_decode\u001b[0;34m(self, s, idx)\u001b[0m\n\u001b[1;32m    354\u001b[0m \u001b[39mexcept\u001b[39;00m \u001b[39mStopIteration\u001b[39;00m \u001b[39mas\u001b[39;00m err:\n\u001b[0;32m--> 355\u001b[0m     \u001b[39mraise\u001b[39;00m JSONDecodeError(\u001b[39m\"\u001b[39m\u001b[39mExpecting value\u001b[39m\u001b[39m\"\u001b[39m, s, err\u001b[39m.\u001b[39mvalue) \u001b[39mfrom\u001b[39;00m \u001b[39mNone\u001b[39m\n\u001b[1;32m    356\u001b[0m \u001b[39mreturn\u001b[39;00m obj, end\n",
      "\u001b[0;31mJSONDecodeError\u001b[0m: Expecting value: line 1 column 1 (char 0)",
      "\nDuring handling of the above exception, another exception occurred:\n",
      "\u001b[0;31mJSONDecodeError\u001b[0m                           Traceback (most recent call last)",
      "\u001b[1;32m/Users/oraichain/Desktop/test 100 api/100API.ipynb Cell 79\u001b[0m in \u001b[0;36m<cell line: 14>\u001b[0;34m()\u001b[0m\n\u001b[1;32m     <a href='vscode-notebook-cell:/Users/oraichain/Desktop/test%20100%20api/100API.ipynb#ch0000078?line=11'>12</a>\u001b[0m response \u001b[39m=\u001b[39m requests\u001b[39m.\u001b[39mpost(url, json\u001b[39m=\u001b[39mdata, headers\u001b[39m=\u001b[39mheaders)\n\u001b[1;32m     <a href='vscode-notebook-cell:/Users/oraichain/Desktop/test%20100%20api/100API.ipynb#ch0000078?line=12'>13</a>\u001b[0m \u001b[39mprint\u001b[39m(data)\n\u001b[0;32m---> <a href='vscode-notebook-cell:/Users/oraichain/Desktop/test%20100%20api/100API.ipynb#ch0000078?line=13'>14</a>\u001b[0m \u001b[39mprint\u001b[39m(response\u001b[39m.\u001b[39;49mjson())\n",
      "File \u001b[0;32m/Library/Frameworks/Python.framework/Versions/3.10/lib/python3.10/site-packages/requests/models.py:975\u001b[0m, in \u001b[0;36mResponse.json\u001b[0;34m(self, **kwargs)\u001b[0m\n\u001b[1;32m    971\u001b[0m     \u001b[39mreturn\u001b[39;00m complexjson\u001b[39m.\u001b[39mloads(\u001b[39mself\u001b[39m\u001b[39m.\u001b[39mtext, \u001b[39m*\u001b[39m\u001b[39m*\u001b[39mkwargs)\n\u001b[1;32m    972\u001b[0m \u001b[39mexcept\u001b[39;00m JSONDecodeError \u001b[39mas\u001b[39;00m e:\n\u001b[1;32m    973\u001b[0m     \u001b[39m# Catch JSON-related errors and raise as requests.JSONDecodeError\u001b[39;00m\n\u001b[1;32m    974\u001b[0m     \u001b[39m# This aliases json.JSONDecodeError and simplejson.JSONDecodeError\u001b[39;00m\n\u001b[0;32m--> 975\u001b[0m     \u001b[39mraise\u001b[39;00m RequestsJSONDecodeError(e\u001b[39m.\u001b[39mmsg, e\u001b[39m.\u001b[39mdoc, e\u001b[39m.\u001b[39mpos)\n",
      "\u001b[0;31mJSONDecodeError\u001b[0m: Expecting value: line 1 column 1 (char 0)"
     ]
    }
   ],
   "source": [
    "#mu006_2\n",
    "url = 'https://100api.orai.dev/mu006_2'\n",
    "data = {\n",
    "    'temperature': 1,\n",
    "    'length': 200,\n",
    "    'mp3_output': 'true',\n",
    "}\n",
    "  \n",
    "headers = {\n",
    "        'Authorization': 'ai_market'\n",
    "    }\n",
    "response = requests.post(url, json=data, headers=headers)\n",
    "print(data)\n",
    "print(response.json())"
   ]
  },
  {
   "cell_type": "code",
   "execution_count": 8,
   "metadata": {},
   "outputs": [
    {
     "name": "stdout",
     "output_type": "stream",
     "text": [
      "{'paragraph': 'my name is chain'}\n"
     ]
    },
    {
     "ename": "JSONDecodeError",
     "evalue": "Expecting value: line 1 column 1 (char 0)",
     "output_type": "error",
     "traceback": [
      "\u001b[0;31m---------------------------------------------------------------------------\u001b[0m",
      "\u001b[0;31mJSONDecodeError\u001b[0m                           Traceback (most recent call last)",
      "File \u001b[0;32m/Library/Frameworks/Python.framework/Versions/3.10/lib/python3.10/site-packages/requests/models.py:971\u001b[0m, in \u001b[0;36mResponse.json\u001b[0;34m(self, **kwargs)\u001b[0m\n\u001b[1;32m    970\u001b[0m \u001b[39mtry\u001b[39;00m:\n\u001b[0;32m--> 971\u001b[0m     \u001b[39mreturn\u001b[39;00m complexjson\u001b[39m.\u001b[39;49mloads(\u001b[39mself\u001b[39;49m\u001b[39m.\u001b[39;49mtext, \u001b[39m*\u001b[39;49m\u001b[39m*\u001b[39;49mkwargs)\n\u001b[1;32m    972\u001b[0m \u001b[39mexcept\u001b[39;00m JSONDecodeError \u001b[39mas\u001b[39;00m e:\n\u001b[1;32m    973\u001b[0m     \u001b[39m# Catch JSON-related errors and raise as requests.JSONDecodeError\u001b[39;00m\n\u001b[1;32m    974\u001b[0m     \u001b[39m# This aliases json.JSONDecodeError and simplejson.JSONDecodeError\u001b[39;00m\n",
      "File \u001b[0;32m/Library/Frameworks/Python.framework/Versions/3.10/lib/python3.10/json/__init__.py:346\u001b[0m, in \u001b[0;36mloads\u001b[0;34m(s, cls, object_hook, parse_float, parse_int, parse_constant, object_pairs_hook, **kw)\u001b[0m\n\u001b[1;32m    343\u001b[0m \u001b[39mif\u001b[39;00m (\u001b[39mcls\u001b[39m \u001b[39mis\u001b[39;00m \u001b[39mNone\u001b[39;00m \u001b[39mand\u001b[39;00m object_hook \u001b[39mis\u001b[39;00m \u001b[39mNone\u001b[39;00m \u001b[39mand\u001b[39;00m\n\u001b[1;32m    344\u001b[0m         parse_int \u001b[39mis\u001b[39;00m \u001b[39mNone\u001b[39;00m \u001b[39mand\u001b[39;00m parse_float \u001b[39mis\u001b[39;00m \u001b[39mNone\u001b[39;00m \u001b[39mand\u001b[39;00m\n\u001b[1;32m    345\u001b[0m         parse_constant \u001b[39mis\u001b[39;00m \u001b[39mNone\u001b[39;00m \u001b[39mand\u001b[39;00m object_pairs_hook \u001b[39mis\u001b[39;00m \u001b[39mNone\u001b[39;00m \u001b[39mand\u001b[39;00m \u001b[39mnot\u001b[39;00m kw):\n\u001b[0;32m--> 346\u001b[0m     \u001b[39mreturn\u001b[39;00m _default_decoder\u001b[39m.\u001b[39;49mdecode(s)\n\u001b[1;32m    347\u001b[0m \u001b[39mif\u001b[39;00m \u001b[39mcls\u001b[39m \u001b[39mis\u001b[39;00m \u001b[39mNone\u001b[39;00m:\n",
      "File \u001b[0;32m/Library/Frameworks/Python.framework/Versions/3.10/lib/python3.10/json/decoder.py:337\u001b[0m, in \u001b[0;36mJSONDecoder.decode\u001b[0;34m(self, s, _w)\u001b[0m\n\u001b[1;32m    333\u001b[0m \u001b[39m\"\"\"Return the Python representation of ``s`` (a ``str`` instance\u001b[39;00m\n\u001b[1;32m    334\u001b[0m \u001b[39mcontaining a JSON document).\u001b[39;00m\n\u001b[1;32m    335\u001b[0m \n\u001b[1;32m    336\u001b[0m \u001b[39m\"\"\"\u001b[39;00m\n\u001b[0;32m--> 337\u001b[0m obj, end \u001b[39m=\u001b[39m \u001b[39mself\u001b[39;49m\u001b[39m.\u001b[39;49mraw_decode(s, idx\u001b[39m=\u001b[39;49m_w(s, \u001b[39m0\u001b[39;49m)\u001b[39m.\u001b[39;49mend())\n\u001b[1;32m    338\u001b[0m end \u001b[39m=\u001b[39m _w(s, end)\u001b[39m.\u001b[39mend()\n",
      "File \u001b[0;32m/Library/Frameworks/Python.framework/Versions/3.10/lib/python3.10/json/decoder.py:355\u001b[0m, in \u001b[0;36mJSONDecoder.raw_decode\u001b[0;34m(self, s, idx)\u001b[0m\n\u001b[1;32m    354\u001b[0m \u001b[39mexcept\u001b[39;00m \u001b[39mStopIteration\u001b[39;00m \u001b[39mas\u001b[39;00m err:\n\u001b[0;32m--> 355\u001b[0m     \u001b[39mraise\u001b[39;00m JSONDecodeError(\u001b[39m\"\u001b[39m\u001b[39mExpecting value\u001b[39m\u001b[39m\"\u001b[39m, s, err\u001b[39m.\u001b[39mvalue) \u001b[39mfrom\u001b[39;00m \u001b[39mNone\u001b[39m\n\u001b[1;32m    356\u001b[0m \u001b[39mreturn\u001b[39;00m obj, end\n",
      "\u001b[0;31mJSONDecodeError\u001b[0m: Expecting value: line 1 column 1 (char 0)",
      "\nDuring handling of the above exception, another exception occurred:\n",
      "\u001b[0;31mJSONDecodeError\u001b[0m                           Traceback (most recent call last)",
      "\u001b[1;32m/Users/oraichain/Desktop/test 100 api/100API.ipynb Cell 80\u001b[0m in \u001b[0;36m<cell line: 12>\u001b[0;34m()\u001b[0m\n\u001b[1;32m     <a href='vscode-notebook-cell:/Users/oraichain/Desktop/test%20100%20api/100API.ipynb#ch0000079?line=9'>10</a>\u001b[0m response \u001b[39m=\u001b[39m requests\u001b[39m.\u001b[39mpost(url, json\u001b[39m=\u001b[39mdata, headers\u001b[39m=\u001b[39mheaders)\n\u001b[1;32m     <a href='vscode-notebook-cell:/Users/oraichain/Desktop/test%20100%20api/100API.ipynb#ch0000079?line=10'>11</a>\u001b[0m \u001b[39mprint\u001b[39m(data)\n\u001b[0;32m---> <a href='vscode-notebook-cell:/Users/oraichain/Desktop/test%20100%20api/100API.ipynb#ch0000079?line=11'>12</a>\u001b[0m \u001b[39mprint\u001b[39m(response\u001b[39m.\u001b[39;49mjson())\n",
      "File \u001b[0;32m/Library/Frameworks/Python.framework/Versions/3.10/lib/python3.10/site-packages/requests/models.py:975\u001b[0m, in \u001b[0;36mResponse.json\u001b[0;34m(self, **kwargs)\u001b[0m\n\u001b[1;32m    971\u001b[0m     \u001b[39mreturn\u001b[39;00m complexjson\u001b[39m.\u001b[39mloads(\u001b[39mself\u001b[39m\u001b[39m.\u001b[39mtext, \u001b[39m*\u001b[39m\u001b[39m*\u001b[39mkwargs)\n\u001b[1;32m    972\u001b[0m \u001b[39mexcept\u001b[39;00m JSONDecodeError \u001b[39mas\u001b[39;00m e:\n\u001b[1;32m    973\u001b[0m     \u001b[39m# Catch JSON-related errors and raise as requests.JSONDecodeError\u001b[39;00m\n\u001b[1;32m    974\u001b[0m     \u001b[39m# This aliases json.JSONDecodeError and simplejson.JSONDecodeError\u001b[39;00m\n\u001b[0;32m--> 975\u001b[0m     \u001b[39mraise\u001b[39;00m RequestsJSONDecodeError(e\u001b[39m.\u001b[39mmsg, e\u001b[39m.\u001b[39mdoc, e\u001b[39m.\u001b[39mpos)\n",
      "\u001b[0;31mJSONDecodeError\u001b[0m: Expecting value: line 1 column 1 (char 0)"
     ]
    }
   ],
   "source": [
    "#nl002\n",
    "url = 'https://100api.orai.dev/nl002'\n",
    "data = {\n",
    "  \"paragraph\": \"my name is chain\"\n",
    "}\n",
    "  \n",
    "headers = {\n",
    "        'Authorization': 'ai_market'\n",
    "    }\n",
    "response = requests.post(url, json=data, headers=headers)\n",
    "print(data)\n",
    "print(response.json())"
   ]
  },
  {
   "cell_type": "code",
   "execution_count": 9,
   "metadata": {},
   "outputs": [
    {
     "name": "stdout",
     "output_type": "stream",
     "text": [
      "{'sent1': 'my name is orai', 'sent2': 'This is my city'}\n"
     ]
    },
    {
     "ename": "JSONDecodeError",
     "evalue": "Expecting value: line 1 column 1 (char 0)",
     "output_type": "error",
     "traceback": [
      "\u001b[0;31m---------------------------------------------------------------------------\u001b[0m",
      "\u001b[0;31mJSONDecodeError\u001b[0m                           Traceback (most recent call last)",
      "File \u001b[0;32m/Library/Frameworks/Python.framework/Versions/3.10/lib/python3.10/site-packages/requests/models.py:971\u001b[0m, in \u001b[0;36mResponse.json\u001b[0;34m(self, **kwargs)\u001b[0m\n\u001b[1;32m    970\u001b[0m \u001b[39mtry\u001b[39;00m:\n\u001b[0;32m--> 971\u001b[0m     \u001b[39mreturn\u001b[39;00m complexjson\u001b[39m.\u001b[39;49mloads(\u001b[39mself\u001b[39;49m\u001b[39m.\u001b[39;49mtext, \u001b[39m*\u001b[39;49m\u001b[39m*\u001b[39;49mkwargs)\n\u001b[1;32m    972\u001b[0m \u001b[39mexcept\u001b[39;00m JSONDecodeError \u001b[39mas\u001b[39;00m e:\n\u001b[1;32m    973\u001b[0m     \u001b[39m# Catch JSON-related errors and raise as requests.JSONDecodeError\u001b[39;00m\n\u001b[1;32m    974\u001b[0m     \u001b[39m# This aliases json.JSONDecodeError and simplejson.JSONDecodeError\u001b[39;00m\n",
      "File \u001b[0;32m/Library/Frameworks/Python.framework/Versions/3.10/lib/python3.10/json/__init__.py:346\u001b[0m, in \u001b[0;36mloads\u001b[0;34m(s, cls, object_hook, parse_float, parse_int, parse_constant, object_pairs_hook, **kw)\u001b[0m\n\u001b[1;32m    343\u001b[0m \u001b[39mif\u001b[39;00m (\u001b[39mcls\u001b[39m \u001b[39mis\u001b[39;00m \u001b[39mNone\u001b[39;00m \u001b[39mand\u001b[39;00m object_hook \u001b[39mis\u001b[39;00m \u001b[39mNone\u001b[39;00m \u001b[39mand\u001b[39;00m\n\u001b[1;32m    344\u001b[0m         parse_int \u001b[39mis\u001b[39;00m \u001b[39mNone\u001b[39;00m \u001b[39mand\u001b[39;00m parse_float \u001b[39mis\u001b[39;00m \u001b[39mNone\u001b[39;00m \u001b[39mand\u001b[39;00m\n\u001b[1;32m    345\u001b[0m         parse_constant \u001b[39mis\u001b[39;00m \u001b[39mNone\u001b[39;00m \u001b[39mand\u001b[39;00m object_pairs_hook \u001b[39mis\u001b[39;00m \u001b[39mNone\u001b[39;00m \u001b[39mand\u001b[39;00m \u001b[39mnot\u001b[39;00m kw):\n\u001b[0;32m--> 346\u001b[0m     \u001b[39mreturn\u001b[39;00m _default_decoder\u001b[39m.\u001b[39;49mdecode(s)\n\u001b[1;32m    347\u001b[0m \u001b[39mif\u001b[39;00m \u001b[39mcls\u001b[39m \u001b[39mis\u001b[39;00m \u001b[39mNone\u001b[39;00m:\n",
      "File \u001b[0;32m/Library/Frameworks/Python.framework/Versions/3.10/lib/python3.10/json/decoder.py:337\u001b[0m, in \u001b[0;36mJSONDecoder.decode\u001b[0;34m(self, s, _w)\u001b[0m\n\u001b[1;32m    333\u001b[0m \u001b[39m\"\"\"Return the Python representation of ``s`` (a ``str`` instance\u001b[39;00m\n\u001b[1;32m    334\u001b[0m \u001b[39mcontaining a JSON document).\u001b[39;00m\n\u001b[1;32m    335\u001b[0m \n\u001b[1;32m    336\u001b[0m \u001b[39m\"\"\"\u001b[39;00m\n\u001b[0;32m--> 337\u001b[0m obj, end \u001b[39m=\u001b[39m \u001b[39mself\u001b[39;49m\u001b[39m.\u001b[39;49mraw_decode(s, idx\u001b[39m=\u001b[39;49m_w(s, \u001b[39m0\u001b[39;49m)\u001b[39m.\u001b[39;49mend())\n\u001b[1;32m    338\u001b[0m end \u001b[39m=\u001b[39m _w(s, end)\u001b[39m.\u001b[39mend()\n",
      "File \u001b[0;32m/Library/Frameworks/Python.framework/Versions/3.10/lib/python3.10/json/decoder.py:355\u001b[0m, in \u001b[0;36mJSONDecoder.raw_decode\u001b[0;34m(self, s, idx)\u001b[0m\n\u001b[1;32m    354\u001b[0m \u001b[39mexcept\u001b[39;00m \u001b[39mStopIteration\u001b[39;00m \u001b[39mas\u001b[39;00m err:\n\u001b[0;32m--> 355\u001b[0m     \u001b[39mraise\u001b[39;00m JSONDecodeError(\u001b[39m\"\u001b[39m\u001b[39mExpecting value\u001b[39m\u001b[39m\"\u001b[39m, s, err\u001b[39m.\u001b[39mvalue) \u001b[39mfrom\u001b[39;00m \u001b[39mNone\u001b[39m\n\u001b[1;32m    356\u001b[0m \u001b[39mreturn\u001b[39;00m obj, end\n",
      "\u001b[0;31mJSONDecodeError\u001b[0m: Expecting value: line 1 column 1 (char 0)",
      "\nDuring handling of the above exception, another exception occurred:\n",
      "\u001b[0;31mJSONDecodeError\u001b[0m                           Traceback (most recent call last)",
      "\u001b[1;32m/Users/oraichain/Desktop/test 100 api/100API.ipynb Cell 81\u001b[0m in \u001b[0;36m<cell line: 13>\u001b[0;34m()\u001b[0m\n\u001b[1;32m     <a href='vscode-notebook-cell:/Users/oraichain/Desktop/test%20100%20api/100API.ipynb#ch0000083?line=10'>11</a>\u001b[0m response \u001b[39m=\u001b[39m requests\u001b[39m.\u001b[39mpost(url, json\u001b[39m=\u001b[39mdata, headers\u001b[39m=\u001b[39mheaders)\n\u001b[1;32m     <a href='vscode-notebook-cell:/Users/oraichain/Desktop/test%20100%20api/100API.ipynb#ch0000083?line=11'>12</a>\u001b[0m \u001b[39mprint\u001b[39m(data)\n\u001b[0;32m---> <a href='vscode-notebook-cell:/Users/oraichain/Desktop/test%20100%20api/100API.ipynb#ch0000083?line=12'>13</a>\u001b[0m \u001b[39mprint\u001b[39m(response\u001b[39m.\u001b[39;49mjson())\n",
      "File \u001b[0;32m/Library/Frameworks/Python.framework/Versions/3.10/lib/python3.10/site-packages/requests/models.py:975\u001b[0m, in \u001b[0;36mResponse.json\u001b[0;34m(self, **kwargs)\u001b[0m\n\u001b[1;32m    971\u001b[0m     \u001b[39mreturn\u001b[39;00m complexjson\u001b[39m.\u001b[39mloads(\u001b[39mself\u001b[39m\u001b[39m.\u001b[39mtext, \u001b[39m*\u001b[39m\u001b[39m*\u001b[39mkwargs)\n\u001b[1;32m    972\u001b[0m \u001b[39mexcept\u001b[39;00m JSONDecodeError \u001b[39mas\u001b[39;00m e:\n\u001b[1;32m    973\u001b[0m     \u001b[39m# Catch JSON-related errors and raise as requests.JSONDecodeError\u001b[39;00m\n\u001b[1;32m    974\u001b[0m     \u001b[39m# This aliases json.JSONDecodeError and simplejson.JSONDecodeError\u001b[39;00m\n\u001b[0;32m--> 975\u001b[0m     \u001b[39mraise\u001b[39;00m RequestsJSONDecodeError(e\u001b[39m.\u001b[39mmsg, e\u001b[39m.\u001b[39mdoc, e\u001b[39m.\u001b[39mpos)\n",
      "\u001b[0;31mJSONDecodeError\u001b[0m: Expecting value: line 1 column 1 (char 0)"
     ]
    }
   ],
   "source": [
    "#nl005\n",
    "url = 'https://100api.orai.dev/nl005'\n",
    "data = {\n",
    "  \"sent1\": \"my name is orai\",\n",
    "  \"sent2\": \"This is my city\"\n",
    "}\n",
    "  \n",
    "headers = {\n",
    "        'Authorization': 'ai_market'\n",
    "    }\n",
    "response = requests.post(url, json=data, headers=headers)\n",
    "print(data)\n",
    "print(response.json())"
   ]
  },
  {
   "cell_type": "code",
   "execution_count": 10,
   "metadata": {},
   "outputs": [
    {
     "name": "stdout",
     "output_type": "stream",
     "text": [
      "{'sent1': 'Tôi là học sinh', 'sent2': 'Tôi là giáo viên'}\n"
     ]
    },
    {
     "ename": "JSONDecodeError",
     "evalue": "Expecting value: line 1 column 1 (char 0)",
     "output_type": "error",
     "traceback": [
      "\u001b[0;31m---------------------------------------------------------------------------\u001b[0m",
      "\u001b[0;31mJSONDecodeError\u001b[0m                           Traceback (most recent call last)",
      "File \u001b[0;32m/Library/Frameworks/Python.framework/Versions/3.10/lib/python3.10/site-packages/requests/models.py:971\u001b[0m, in \u001b[0;36mResponse.json\u001b[0;34m(self, **kwargs)\u001b[0m\n\u001b[1;32m    970\u001b[0m \u001b[39mtry\u001b[39;00m:\n\u001b[0;32m--> 971\u001b[0m     \u001b[39mreturn\u001b[39;00m complexjson\u001b[39m.\u001b[39;49mloads(\u001b[39mself\u001b[39;49m\u001b[39m.\u001b[39;49mtext, \u001b[39m*\u001b[39;49m\u001b[39m*\u001b[39;49mkwargs)\n\u001b[1;32m    972\u001b[0m \u001b[39mexcept\u001b[39;00m JSONDecodeError \u001b[39mas\u001b[39;00m e:\n\u001b[1;32m    973\u001b[0m     \u001b[39m# Catch JSON-related errors and raise as requests.JSONDecodeError\u001b[39;00m\n\u001b[1;32m    974\u001b[0m     \u001b[39m# This aliases json.JSONDecodeError and simplejson.JSONDecodeError\u001b[39;00m\n",
      "File \u001b[0;32m/Library/Frameworks/Python.framework/Versions/3.10/lib/python3.10/json/__init__.py:346\u001b[0m, in \u001b[0;36mloads\u001b[0;34m(s, cls, object_hook, parse_float, parse_int, parse_constant, object_pairs_hook, **kw)\u001b[0m\n\u001b[1;32m    343\u001b[0m \u001b[39mif\u001b[39;00m (\u001b[39mcls\u001b[39m \u001b[39mis\u001b[39;00m \u001b[39mNone\u001b[39;00m \u001b[39mand\u001b[39;00m object_hook \u001b[39mis\u001b[39;00m \u001b[39mNone\u001b[39;00m \u001b[39mand\u001b[39;00m\n\u001b[1;32m    344\u001b[0m         parse_int \u001b[39mis\u001b[39;00m \u001b[39mNone\u001b[39;00m \u001b[39mand\u001b[39;00m parse_float \u001b[39mis\u001b[39;00m \u001b[39mNone\u001b[39;00m \u001b[39mand\u001b[39;00m\n\u001b[1;32m    345\u001b[0m         parse_constant \u001b[39mis\u001b[39;00m \u001b[39mNone\u001b[39;00m \u001b[39mand\u001b[39;00m object_pairs_hook \u001b[39mis\u001b[39;00m \u001b[39mNone\u001b[39;00m \u001b[39mand\u001b[39;00m \u001b[39mnot\u001b[39;00m kw):\n\u001b[0;32m--> 346\u001b[0m     \u001b[39mreturn\u001b[39;00m _default_decoder\u001b[39m.\u001b[39;49mdecode(s)\n\u001b[1;32m    347\u001b[0m \u001b[39mif\u001b[39;00m \u001b[39mcls\u001b[39m \u001b[39mis\u001b[39;00m \u001b[39mNone\u001b[39;00m:\n",
      "File \u001b[0;32m/Library/Frameworks/Python.framework/Versions/3.10/lib/python3.10/json/decoder.py:337\u001b[0m, in \u001b[0;36mJSONDecoder.decode\u001b[0;34m(self, s, _w)\u001b[0m\n\u001b[1;32m    333\u001b[0m \u001b[39m\"\"\"Return the Python representation of ``s`` (a ``str`` instance\u001b[39;00m\n\u001b[1;32m    334\u001b[0m \u001b[39mcontaining a JSON document).\u001b[39;00m\n\u001b[1;32m    335\u001b[0m \n\u001b[1;32m    336\u001b[0m \u001b[39m\"\"\"\u001b[39;00m\n\u001b[0;32m--> 337\u001b[0m obj, end \u001b[39m=\u001b[39m \u001b[39mself\u001b[39;49m\u001b[39m.\u001b[39;49mraw_decode(s, idx\u001b[39m=\u001b[39;49m_w(s, \u001b[39m0\u001b[39;49m)\u001b[39m.\u001b[39;49mend())\n\u001b[1;32m    338\u001b[0m end \u001b[39m=\u001b[39m _w(s, end)\u001b[39m.\u001b[39mend()\n",
      "File \u001b[0;32m/Library/Frameworks/Python.framework/Versions/3.10/lib/python3.10/json/decoder.py:355\u001b[0m, in \u001b[0;36mJSONDecoder.raw_decode\u001b[0;34m(self, s, idx)\u001b[0m\n\u001b[1;32m    354\u001b[0m \u001b[39mexcept\u001b[39;00m \u001b[39mStopIteration\u001b[39;00m \u001b[39mas\u001b[39;00m err:\n\u001b[0;32m--> 355\u001b[0m     \u001b[39mraise\u001b[39;00m JSONDecodeError(\u001b[39m\"\u001b[39m\u001b[39mExpecting value\u001b[39m\u001b[39m\"\u001b[39m, s, err\u001b[39m.\u001b[39mvalue) \u001b[39mfrom\u001b[39;00m \u001b[39mNone\u001b[39m\n\u001b[1;32m    356\u001b[0m \u001b[39mreturn\u001b[39;00m obj, end\n",
      "\u001b[0;31mJSONDecodeError\u001b[0m: Expecting value: line 1 column 1 (char 0)",
      "\nDuring handling of the above exception, another exception occurred:\n",
      "\u001b[0;31mJSONDecodeError\u001b[0m                           Traceback (most recent call last)",
      "\u001b[1;32m/Users/oraichain/Desktop/test 100 api/100API.ipynb Cell 82\u001b[0m in \u001b[0;36m<cell line: 13>\u001b[0;34m()\u001b[0m\n\u001b[1;32m     <a href='vscode-notebook-cell:/Users/oraichain/Desktop/test%20100%20api/100API.ipynb#ch0000082?line=10'>11</a>\u001b[0m response \u001b[39m=\u001b[39m requests\u001b[39m.\u001b[39mpost(url, json\u001b[39m=\u001b[39mdata, headers\u001b[39m=\u001b[39mheaders)\n\u001b[1;32m     <a href='vscode-notebook-cell:/Users/oraichain/Desktop/test%20100%20api/100API.ipynb#ch0000082?line=11'>12</a>\u001b[0m \u001b[39mprint\u001b[39m(data)\n\u001b[0;32m---> <a href='vscode-notebook-cell:/Users/oraichain/Desktop/test%20100%20api/100API.ipynb#ch0000082?line=12'>13</a>\u001b[0m \u001b[39mprint\u001b[39m(response\u001b[39m.\u001b[39;49mjson())\n",
      "File \u001b[0;32m/Library/Frameworks/Python.framework/Versions/3.10/lib/python3.10/site-packages/requests/models.py:975\u001b[0m, in \u001b[0;36mResponse.json\u001b[0;34m(self, **kwargs)\u001b[0m\n\u001b[1;32m    971\u001b[0m     \u001b[39mreturn\u001b[39;00m complexjson\u001b[39m.\u001b[39mloads(\u001b[39mself\u001b[39m\u001b[39m.\u001b[39mtext, \u001b[39m*\u001b[39m\u001b[39m*\u001b[39mkwargs)\n\u001b[1;32m    972\u001b[0m \u001b[39mexcept\u001b[39;00m JSONDecodeError \u001b[39mas\u001b[39;00m e:\n\u001b[1;32m    973\u001b[0m     \u001b[39m# Catch JSON-related errors and raise as requests.JSONDecodeError\u001b[39;00m\n\u001b[1;32m    974\u001b[0m     \u001b[39m# This aliases json.JSONDecodeError and simplejson.JSONDecodeError\u001b[39;00m\n\u001b[0;32m--> 975\u001b[0m     \u001b[39mraise\u001b[39;00m RequestsJSONDecodeError(e\u001b[39m.\u001b[39mmsg, e\u001b[39m.\u001b[39mdoc, e\u001b[39m.\u001b[39mpos)\n",
      "\u001b[0;31mJSONDecodeError\u001b[0m: Expecting value: line 1 column 1 (char 0)"
     ]
    }
   ],
   "source": [
    "#nl006\n",
    "url = 'https://100api.orai.dev/nl006'\n",
    "data = {\n",
    "  \"sent1\": \"Tôi là học sinh\",\n",
    "  \"sent2\": \"Tôi là giáo viên\"\n",
    "}\n",
    "  \n",
    "headers = {\n",
    "        'Authorization': 'ai_market'\n",
    "    }\n",
    "response = requests.post(url, json=data, headers=headers)\n",
    "print(data)\n",
    "print(response.json())"
   ]
  },
  {
   "cell_type": "code",
   "execution_count": 11,
   "metadata": {},
   "outputs": [
    {
     "name": "stdout",
     "output_type": "stream",
     "text": [
      "{'input': 'hello my name is'}\n"
     ]
    },
    {
     "ename": "JSONDecodeError",
     "evalue": "Expecting value: line 1 column 1 (char 0)",
     "output_type": "error",
     "traceback": [
      "\u001b[0;31m---------------------------------------------------------------------------\u001b[0m",
      "\u001b[0;31mJSONDecodeError\u001b[0m                           Traceback (most recent call last)",
      "File \u001b[0;32m/Library/Frameworks/Python.framework/Versions/3.10/lib/python3.10/site-packages/requests/models.py:971\u001b[0m, in \u001b[0;36mResponse.json\u001b[0;34m(self, **kwargs)\u001b[0m\n\u001b[1;32m    970\u001b[0m \u001b[39mtry\u001b[39;00m:\n\u001b[0;32m--> 971\u001b[0m     \u001b[39mreturn\u001b[39;00m complexjson\u001b[39m.\u001b[39;49mloads(\u001b[39mself\u001b[39;49m\u001b[39m.\u001b[39;49mtext, \u001b[39m*\u001b[39;49m\u001b[39m*\u001b[39;49mkwargs)\n\u001b[1;32m    972\u001b[0m \u001b[39mexcept\u001b[39;00m JSONDecodeError \u001b[39mas\u001b[39;00m e:\n\u001b[1;32m    973\u001b[0m     \u001b[39m# Catch JSON-related errors and raise as requests.JSONDecodeError\u001b[39;00m\n\u001b[1;32m    974\u001b[0m     \u001b[39m# This aliases json.JSONDecodeError and simplejson.JSONDecodeError\u001b[39;00m\n",
      "File \u001b[0;32m/Library/Frameworks/Python.framework/Versions/3.10/lib/python3.10/json/__init__.py:346\u001b[0m, in \u001b[0;36mloads\u001b[0;34m(s, cls, object_hook, parse_float, parse_int, parse_constant, object_pairs_hook, **kw)\u001b[0m\n\u001b[1;32m    343\u001b[0m \u001b[39mif\u001b[39;00m (\u001b[39mcls\u001b[39m \u001b[39mis\u001b[39;00m \u001b[39mNone\u001b[39;00m \u001b[39mand\u001b[39;00m object_hook \u001b[39mis\u001b[39;00m \u001b[39mNone\u001b[39;00m \u001b[39mand\u001b[39;00m\n\u001b[1;32m    344\u001b[0m         parse_int \u001b[39mis\u001b[39;00m \u001b[39mNone\u001b[39;00m \u001b[39mand\u001b[39;00m parse_float \u001b[39mis\u001b[39;00m \u001b[39mNone\u001b[39;00m \u001b[39mand\u001b[39;00m\n\u001b[1;32m    345\u001b[0m         parse_constant \u001b[39mis\u001b[39;00m \u001b[39mNone\u001b[39;00m \u001b[39mand\u001b[39;00m object_pairs_hook \u001b[39mis\u001b[39;00m \u001b[39mNone\u001b[39;00m \u001b[39mand\u001b[39;00m \u001b[39mnot\u001b[39;00m kw):\n\u001b[0;32m--> 346\u001b[0m     \u001b[39mreturn\u001b[39;00m _default_decoder\u001b[39m.\u001b[39;49mdecode(s)\n\u001b[1;32m    347\u001b[0m \u001b[39mif\u001b[39;00m \u001b[39mcls\u001b[39m \u001b[39mis\u001b[39;00m \u001b[39mNone\u001b[39;00m:\n",
      "File \u001b[0;32m/Library/Frameworks/Python.framework/Versions/3.10/lib/python3.10/json/decoder.py:337\u001b[0m, in \u001b[0;36mJSONDecoder.decode\u001b[0;34m(self, s, _w)\u001b[0m\n\u001b[1;32m    333\u001b[0m \u001b[39m\"\"\"Return the Python representation of ``s`` (a ``str`` instance\u001b[39;00m\n\u001b[1;32m    334\u001b[0m \u001b[39mcontaining a JSON document).\u001b[39;00m\n\u001b[1;32m    335\u001b[0m \n\u001b[1;32m    336\u001b[0m \u001b[39m\"\"\"\u001b[39;00m\n\u001b[0;32m--> 337\u001b[0m obj, end \u001b[39m=\u001b[39m \u001b[39mself\u001b[39;49m\u001b[39m.\u001b[39;49mraw_decode(s, idx\u001b[39m=\u001b[39;49m_w(s, \u001b[39m0\u001b[39;49m)\u001b[39m.\u001b[39;49mend())\n\u001b[1;32m    338\u001b[0m end \u001b[39m=\u001b[39m _w(s, end)\u001b[39m.\u001b[39mend()\n",
      "File \u001b[0;32m/Library/Frameworks/Python.framework/Versions/3.10/lib/python3.10/json/decoder.py:355\u001b[0m, in \u001b[0;36mJSONDecoder.raw_decode\u001b[0;34m(self, s, idx)\u001b[0m\n\u001b[1;32m    354\u001b[0m \u001b[39mexcept\u001b[39;00m \u001b[39mStopIteration\u001b[39;00m \u001b[39mas\u001b[39;00m err:\n\u001b[0;32m--> 355\u001b[0m     \u001b[39mraise\u001b[39;00m JSONDecodeError(\u001b[39m\"\u001b[39m\u001b[39mExpecting value\u001b[39m\u001b[39m\"\u001b[39m, s, err\u001b[39m.\u001b[39mvalue) \u001b[39mfrom\u001b[39;00m \u001b[39mNone\u001b[39m\n\u001b[1;32m    356\u001b[0m \u001b[39mreturn\u001b[39;00m obj, end\n",
      "\u001b[0;31mJSONDecodeError\u001b[0m: Expecting value: line 1 column 1 (char 0)",
      "\nDuring handling of the above exception, another exception occurred:\n",
      "\u001b[0;31mJSONDecodeError\u001b[0m                           Traceback (most recent call last)",
      "\u001b[1;32m/Users/oraichain/Desktop/test 100 api/100API.ipynb Cell 83\u001b[0m in \u001b[0;36m<cell line: 12>\u001b[0;34m()\u001b[0m\n\u001b[1;32m     <a href='vscode-notebook-cell:/Users/oraichain/Desktop/test%20100%20api/100API.ipynb#ch0000081?line=9'>10</a>\u001b[0m response \u001b[39m=\u001b[39m requests\u001b[39m.\u001b[39mpost(url, json\u001b[39m=\u001b[39mdata, headers\u001b[39m=\u001b[39mheaders)\n\u001b[1;32m     <a href='vscode-notebook-cell:/Users/oraichain/Desktop/test%20100%20api/100API.ipynb#ch0000081?line=10'>11</a>\u001b[0m \u001b[39mprint\u001b[39m(data)\n\u001b[0;32m---> <a href='vscode-notebook-cell:/Users/oraichain/Desktop/test%20100%20api/100API.ipynb#ch0000081?line=11'>12</a>\u001b[0m \u001b[39mprint\u001b[39m(response\u001b[39m.\u001b[39;49mjson())\n",
      "File \u001b[0;32m/Library/Frameworks/Python.framework/Versions/3.10/lib/python3.10/site-packages/requests/models.py:975\u001b[0m, in \u001b[0;36mResponse.json\u001b[0;34m(self, **kwargs)\u001b[0m\n\u001b[1;32m    971\u001b[0m     \u001b[39mreturn\u001b[39;00m complexjson\u001b[39m.\u001b[39mloads(\u001b[39mself\u001b[39m\u001b[39m.\u001b[39mtext, \u001b[39m*\u001b[39m\u001b[39m*\u001b[39mkwargs)\n\u001b[1;32m    972\u001b[0m \u001b[39mexcept\u001b[39;00m JSONDecodeError \u001b[39mas\u001b[39;00m e:\n\u001b[1;32m    973\u001b[0m     \u001b[39m# Catch JSON-related errors and raise as requests.JSONDecodeError\u001b[39;00m\n\u001b[1;32m    974\u001b[0m     \u001b[39m# This aliases json.JSONDecodeError and simplejson.JSONDecodeError\u001b[39;00m\n\u001b[0;32m--> 975\u001b[0m     \u001b[39mraise\u001b[39;00m RequestsJSONDecodeError(e\u001b[39m.\u001b[39mmsg, e\u001b[39m.\u001b[39mdoc, e\u001b[39m.\u001b[39mpos)\n",
      "\u001b[0;31mJSONDecodeError\u001b[0m: Expecting value: line 1 column 1 (char 0)"
     ]
    }
   ],
   "source": [
    "#nl008\n",
    "url = 'https://100api.orai.dev/nl008'\n",
    "data = {\n",
    "  \"input\": \"hello my name is\"\n",
    "}\n",
    "  \n",
    "headers = {\n",
    "        'Authorization': 'ai_market'\n",
    "    }\n",
    "response = requests.post(url, json=data, headers=headers)\n",
    "print(data)\n",
    "print(response.json())"
   ]
  },
  {
   "cell_type": "code",
   "execution_count": 12,
   "metadata": {},
   "outputs": [
    {
     "name": "stdout",
     "output_type": "stream",
     "text": [
      "{'sentence': 'we are human'}\n"
     ]
    },
    {
     "ename": "JSONDecodeError",
     "evalue": "Expecting value: line 1 column 1 (char 0)",
     "output_type": "error",
     "traceback": [
      "\u001b[0;31m---------------------------------------------------------------------------\u001b[0m",
      "\u001b[0;31mJSONDecodeError\u001b[0m                           Traceback (most recent call last)",
      "File \u001b[0;32m/Library/Frameworks/Python.framework/Versions/3.10/lib/python3.10/site-packages/requests/models.py:971\u001b[0m, in \u001b[0;36mResponse.json\u001b[0;34m(self, **kwargs)\u001b[0m\n\u001b[1;32m    970\u001b[0m \u001b[39mtry\u001b[39;00m:\n\u001b[0;32m--> 971\u001b[0m     \u001b[39mreturn\u001b[39;00m complexjson\u001b[39m.\u001b[39;49mloads(\u001b[39mself\u001b[39;49m\u001b[39m.\u001b[39;49mtext, \u001b[39m*\u001b[39;49m\u001b[39m*\u001b[39;49mkwargs)\n\u001b[1;32m    972\u001b[0m \u001b[39mexcept\u001b[39;00m JSONDecodeError \u001b[39mas\u001b[39;00m e:\n\u001b[1;32m    973\u001b[0m     \u001b[39m# Catch JSON-related errors and raise as requests.JSONDecodeError\u001b[39;00m\n\u001b[1;32m    974\u001b[0m     \u001b[39m# This aliases json.JSONDecodeError and simplejson.JSONDecodeError\u001b[39;00m\n",
      "File \u001b[0;32m/Library/Frameworks/Python.framework/Versions/3.10/lib/python3.10/json/__init__.py:346\u001b[0m, in \u001b[0;36mloads\u001b[0;34m(s, cls, object_hook, parse_float, parse_int, parse_constant, object_pairs_hook, **kw)\u001b[0m\n\u001b[1;32m    343\u001b[0m \u001b[39mif\u001b[39;00m (\u001b[39mcls\u001b[39m \u001b[39mis\u001b[39;00m \u001b[39mNone\u001b[39;00m \u001b[39mand\u001b[39;00m object_hook \u001b[39mis\u001b[39;00m \u001b[39mNone\u001b[39;00m \u001b[39mand\u001b[39;00m\n\u001b[1;32m    344\u001b[0m         parse_int \u001b[39mis\u001b[39;00m \u001b[39mNone\u001b[39;00m \u001b[39mand\u001b[39;00m parse_float \u001b[39mis\u001b[39;00m \u001b[39mNone\u001b[39;00m \u001b[39mand\u001b[39;00m\n\u001b[1;32m    345\u001b[0m         parse_constant \u001b[39mis\u001b[39;00m \u001b[39mNone\u001b[39;00m \u001b[39mand\u001b[39;00m object_pairs_hook \u001b[39mis\u001b[39;00m \u001b[39mNone\u001b[39;00m \u001b[39mand\u001b[39;00m \u001b[39mnot\u001b[39;00m kw):\n\u001b[0;32m--> 346\u001b[0m     \u001b[39mreturn\u001b[39;00m _default_decoder\u001b[39m.\u001b[39;49mdecode(s)\n\u001b[1;32m    347\u001b[0m \u001b[39mif\u001b[39;00m \u001b[39mcls\u001b[39m \u001b[39mis\u001b[39;00m \u001b[39mNone\u001b[39;00m:\n",
      "File \u001b[0;32m/Library/Frameworks/Python.framework/Versions/3.10/lib/python3.10/json/decoder.py:337\u001b[0m, in \u001b[0;36mJSONDecoder.decode\u001b[0;34m(self, s, _w)\u001b[0m\n\u001b[1;32m    333\u001b[0m \u001b[39m\"\"\"Return the Python representation of ``s`` (a ``str`` instance\u001b[39;00m\n\u001b[1;32m    334\u001b[0m \u001b[39mcontaining a JSON document).\u001b[39;00m\n\u001b[1;32m    335\u001b[0m \n\u001b[1;32m    336\u001b[0m \u001b[39m\"\"\"\u001b[39;00m\n\u001b[0;32m--> 337\u001b[0m obj, end \u001b[39m=\u001b[39m \u001b[39mself\u001b[39;49m\u001b[39m.\u001b[39;49mraw_decode(s, idx\u001b[39m=\u001b[39;49m_w(s, \u001b[39m0\u001b[39;49m)\u001b[39m.\u001b[39;49mend())\n\u001b[1;32m    338\u001b[0m end \u001b[39m=\u001b[39m _w(s, end)\u001b[39m.\u001b[39mend()\n",
      "File \u001b[0;32m/Library/Frameworks/Python.framework/Versions/3.10/lib/python3.10/json/decoder.py:355\u001b[0m, in \u001b[0;36mJSONDecoder.raw_decode\u001b[0;34m(self, s, idx)\u001b[0m\n\u001b[1;32m    354\u001b[0m \u001b[39mexcept\u001b[39;00m \u001b[39mStopIteration\u001b[39;00m \u001b[39mas\u001b[39;00m err:\n\u001b[0;32m--> 355\u001b[0m     \u001b[39mraise\u001b[39;00m JSONDecodeError(\u001b[39m\"\u001b[39m\u001b[39mExpecting value\u001b[39m\u001b[39m\"\u001b[39m, s, err\u001b[39m.\u001b[39mvalue) \u001b[39mfrom\u001b[39;00m \u001b[39mNone\u001b[39m\n\u001b[1;32m    356\u001b[0m \u001b[39mreturn\u001b[39;00m obj, end\n",
      "\u001b[0;31mJSONDecodeError\u001b[0m: Expecting value: line 1 column 1 (char 0)",
      "\nDuring handling of the above exception, another exception occurred:\n",
      "\u001b[0;31mJSONDecodeError\u001b[0m                           Traceback (most recent call last)",
      "\u001b[1;32m/Users/oraichain/Desktop/test 100 api/100API.ipynb Cell 84\u001b[0m in \u001b[0;36m<cell line: 12>\u001b[0;34m()\u001b[0m\n\u001b[1;32m     <a href='vscode-notebook-cell:/Users/oraichain/Desktop/test%20100%20api/100API.ipynb#ch0000080?line=9'>10</a>\u001b[0m response \u001b[39m=\u001b[39m requests\u001b[39m.\u001b[39mpost(url, json\u001b[39m=\u001b[39mdata, headers\u001b[39m=\u001b[39mheaders)\n\u001b[1;32m     <a href='vscode-notebook-cell:/Users/oraichain/Desktop/test%20100%20api/100API.ipynb#ch0000080?line=10'>11</a>\u001b[0m \u001b[39mprint\u001b[39m(data)\n\u001b[0;32m---> <a href='vscode-notebook-cell:/Users/oraichain/Desktop/test%20100%20api/100API.ipynb#ch0000080?line=11'>12</a>\u001b[0m \u001b[39mprint\u001b[39m(response\u001b[39m.\u001b[39;49mjson())\n",
      "File \u001b[0;32m/Library/Frameworks/Python.framework/Versions/3.10/lib/python3.10/site-packages/requests/models.py:975\u001b[0m, in \u001b[0;36mResponse.json\u001b[0;34m(self, **kwargs)\u001b[0m\n\u001b[1;32m    971\u001b[0m     \u001b[39mreturn\u001b[39;00m complexjson\u001b[39m.\u001b[39mloads(\u001b[39mself\u001b[39m\u001b[39m.\u001b[39mtext, \u001b[39m*\u001b[39m\u001b[39m*\u001b[39mkwargs)\n\u001b[1;32m    972\u001b[0m \u001b[39mexcept\u001b[39;00m JSONDecodeError \u001b[39mas\u001b[39;00m e:\n\u001b[1;32m    973\u001b[0m     \u001b[39m# Catch JSON-related errors and raise as requests.JSONDecodeError\u001b[39;00m\n\u001b[1;32m    974\u001b[0m     \u001b[39m# This aliases json.JSONDecodeError and simplejson.JSONDecodeError\u001b[39;00m\n\u001b[0;32m--> 975\u001b[0m     \u001b[39mraise\u001b[39;00m RequestsJSONDecodeError(e\u001b[39m.\u001b[39mmsg, e\u001b[39m.\u001b[39mdoc, e\u001b[39m.\u001b[39mpos)\n",
      "\u001b[0;31mJSONDecodeError\u001b[0m: Expecting value: line 1 column 1 (char 0)"
     ]
    }
   ],
   "source": [
    "#nl009\n",
    "url = 'https://100api.orai.dev/nl009'\n",
    "data = {\n",
    "  \"sentence\": \"we are human\"\n",
    "}\n",
    "  \n",
    "headers = {\n",
    "        'Authorization': 'ai_market'\n",
    "    }\n",
    "response = requests.post(url, json=data, headers=headers)\n",
    "print(data)\n",
    "print(response.json())"
   ]
  },
  {
   "cell_type": "code",
   "execution_count": 13,
   "metadata": {},
   "outputs": [
    {
     "name": "stdout",
     "output_type": "stream",
     "text": [
      "{'sentence': 'my name is orai'}\n"
     ]
    },
    {
     "ename": "JSONDecodeError",
     "evalue": "Expecting value: line 1 column 1 (char 0)",
     "output_type": "error",
     "traceback": [
      "\u001b[0;31m---------------------------------------------------------------------------\u001b[0m",
      "\u001b[0;31mJSONDecodeError\u001b[0m                           Traceback (most recent call last)",
      "File \u001b[0;32m/Library/Frameworks/Python.framework/Versions/3.10/lib/python3.10/site-packages/requests/models.py:971\u001b[0m, in \u001b[0;36mResponse.json\u001b[0;34m(self, **kwargs)\u001b[0m\n\u001b[1;32m    970\u001b[0m \u001b[39mtry\u001b[39;00m:\n\u001b[0;32m--> 971\u001b[0m     \u001b[39mreturn\u001b[39;00m complexjson\u001b[39m.\u001b[39;49mloads(\u001b[39mself\u001b[39;49m\u001b[39m.\u001b[39;49mtext, \u001b[39m*\u001b[39;49m\u001b[39m*\u001b[39;49mkwargs)\n\u001b[1;32m    972\u001b[0m \u001b[39mexcept\u001b[39;00m JSONDecodeError \u001b[39mas\u001b[39;00m e:\n\u001b[1;32m    973\u001b[0m     \u001b[39m# Catch JSON-related errors and raise as requests.JSONDecodeError\u001b[39;00m\n\u001b[1;32m    974\u001b[0m     \u001b[39m# This aliases json.JSONDecodeError and simplejson.JSONDecodeError\u001b[39;00m\n",
      "File \u001b[0;32m/Library/Frameworks/Python.framework/Versions/3.10/lib/python3.10/json/__init__.py:346\u001b[0m, in \u001b[0;36mloads\u001b[0;34m(s, cls, object_hook, parse_float, parse_int, parse_constant, object_pairs_hook, **kw)\u001b[0m\n\u001b[1;32m    343\u001b[0m \u001b[39mif\u001b[39;00m (\u001b[39mcls\u001b[39m \u001b[39mis\u001b[39;00m \u001b[39mNone\u001b[39;00m \u001b[39mand\u001b[39;00m object_hook \u001b[39mis\u001b[39;00m \u001b[39mNone\u001b[39;00m \u001b[39mand\u001b[39;00m\n\u001b[1;32m    344\u001b[0m         parse_int \u001b[39mis\u001b[39;00m \u001b[39mNone\u001b[39;00m \u001b[39mand\u001b[39;00m parse_float \u001b[39mis\u001b[39;00m \u001b[39mNone\u001b[39;00m \u001b[39mand\u001b[39;00m\n\u001b[1;32m    345\u001b[0m         parse_constant \u001b[39mis\u001b[39;00m \u001b[39mNone\u001b[39;00m \u001b[39mand\u001b[39;00m object_pairs_hook \u001b[39mis\u001b[39;00m \u001b[39mNone\u001b[39;00m \u001b[39mand\u001b[39;00m \u001b[39mnot\u001b[39;00m kw):\n\u001b[0;32m--> 346\u001b[0m     \u001b[39mreturn\u001b[39;00m _default_decoder\u001b[39m.\u001b[39;49mdecode(s)\n\u001b[1;32m    347\u001b[0m \u001b[39mif\u001b[39;00m \u001b[39mcls\u001b[39m \u001b[39mis\u001b[39;00m \u001b[39mNone\u001b[39;00m:\n",
      "File \u001b[0;32m/Library/Frameworks/Python.framework/Versions/3.10/lib/python3.10/json/decoder.py:337\u001b[0m, in \u001b[0;36mJSONDecoder.decode\u001b[0;34m(self, s, _w)\u001b[0m\n\u001b[1;32m    333\u001b[0m \u001b[39m\"\"\"Return the Python representation of ``s`` (a ``str`` instance\u001b[39;00m\n\u001b[1;32m    334\u001b[0m \u001b[39mcontaining a JSON document).\u001b[39;00m\n\u001b[1;32m    335\u001b[0m \n\u001b[1;32m    336\u001b[0m \u001b[39m\"\"\"\u001b[39;00m\n\u001b[0;32m--> 337\u001b[0m obj, end \u001b[39m=\u001b[39m \u001b[39mself\u001b[39;49m\u001b[39m.\u001b[39;49mraw_decode(s, idx\u001b[39m=\u001b[39;49m_w(s, \u001b[39m0\u001b[39;49m)\u001b[39m.\u001b[39;49mend())\n\u001b[1;32m    338\u001b[0m end \u001b[39m=\u001b[39m _w(s, end)\u001b[39m.\u001b[39mend()\n",
      "File \u001b[0;32m/Library/Frameworks/Python.framework/Versions/3.10/lib/python3.10/json/decoder.py:355\u001b[0m, in \u001b[0;36mJSONDecoder.raw_decode\u001b[0;34m(self, s, idx)\u001b[0m\n\u001b[1;32m    354\u001b[0m \u001b[39mexcept\u001b[39;00m \u001b[39mStopIteration\u001b[39;00m \u001b[39mas\u001b[39;00m err:\n\u001b[0;32m--> 355\u001b[0m     \u001b[39mraise\u001b[39;00m JSONDecodeError(\u001b[39m\"\u001b[39m\u001b[39mExpecting value\u001b[39m\u001b[39m\"\u001b[39m, s, err\u001b[39m.\u001b[39mvalue) \u001b[39mfrom\u001b[39;00m \u001b[39mNone\u001b[39m\n\u001b[1;32m    356\u001b[0m \u001b[39mreturn\u001b[39;00m obj, end\n",
      "\u001b[0;31mJSONDecodeError\u001b[0m: Expecting value: line 1 column 1 (char 0)",
      "\nDuring handling of the above exception, another exception occurred:\n",
      "\u001b[0;31mJSONDecodeError\u001b[0m                           Traceback (most recent call last)",
      "\u001b[1;32m/Users/oraichain/Desktop/test 100 api/100API.ipynb Cell 85\u001b[0m in \u001b[0;36m<cell line: 12>\u001b[0;34m()\u001b[0m\n\u001b[1;32m     <a href='vscode-notebook-cell:/Users/oraichain/Desktop/test%20100%20api/100API.ipynb#ch0000084?line=9'>10</a>\u001b[0m response \u001b[39m=\u001b[39m requests\u001b[39m.\u001b[39mpost(url, json\u001b[39m=\u001b[39mdata, headers\u001b[39m=\u001b[39mheaders)\n\u001b[1;32m     <a href='vscode-notebook-cell:/Users/oraichain/Desktop/test%20100%20api/100API.ipynb#ch0000084?line=10'>11</a>\u001b[0m \u001b[39mprint\u001b[39m(data)\n\u001b[0;32m---> <a href='vscode-notebook-cell:/Users/oraichain/Desktop/test%20100%20api/100API.ipynb#ch0000084?line=11'>12</a>\u001b[0m \u001b[39mprint\u001b[39m(response\u001b[39m.\u001b[39;49mjson())\n",
      "File \u001b[0;32m/Library/Frameworks/Python.framework/Versions/3.10/lib/python3.10/site-packages/requests/models.py:975\u001b[0m, in \u001b[0;36mResponse.json\u001b[0;34m(self, **kwargs)\u001b[0m\n\u001b[1;32m    971\u001b[0m     \u001b[39mreturn\u001b[39;00m complexjson\u001b[39m.\u001b[39mloads(\u001b[39mself\u001b[39m\u001b[39m.\u001b[39mtext, \u001b[39m*\u001b[39m\u001b[39m*\u001b[39mkwargs)\n\u001b[1;32m    972\u001b[0m \u001b[39mexcept\u001b[39;00m JSONDecodeError \u001b[39mas\u001b[39;00m e:\n\u001b[1;32m    973\u001b[0m     \u001b[39m# Catch JSON-related errors and raise as requests.JSONDecodeError\u001b[39;00m\n\u001b[1;32m    974\u001b[0m     \u001b[39m# This aliases json.JSONDecodeError and simplejson.JSONDecodeError\u001b[39;00m\n\u001b[0;32m--> 975\u001b[0m     \u001b[39mraise\u001b[39;00m RequestsJSONDecodeError(e\u001b[39m.\u001b[39mmsg, e\u001b[39m.\u001b[39mdoc, e\u001b[39m.\u001b[39mpos)\n",
      "\u001b[0;31mJSONDecodeError\u001b[0m: Expecting value: line 1 column 1 (char 0)"
     ]
    }
   ],
   "source": [
    "#nl010\n",
    "url = 'https://100api.orai.dev/nl010'\n",
    "data = {\n",
    "  \"sentence\": \"my name is orai\"\n",
    "}\n",
    "  \n",
    "headers = {\n",
    "        'Authorization': 'ai_market'\n",
    "    }\n",
    "response = requests.post(url, json=data, headers=headers)\n",
    "print(data)\n",
    "print(response.json())"
   ]
  },
  {
   "cell_type": "code",
   "execution_count": 14,
   "metadata": {},
   "outputs": [
    {
     "name": "stdout",
     "output_type": "stream",
     "text": [
      "{'sentence': 'Tôi là học sinh'}\n"
     ]
    },
    {
     "ename": "JSONDecodeError",
     "evalue": "Expecting value: line 1 column 1 (char 0)",
     "output_type": "error",
     "traceback": [
      "\u001b[0;31m---------------------------------------------------------------------------\u001b[0m",
      "\u001b[0;31mJSONDecodeError\u001b[0m                           Traceback (most recent call last)",
      "File \u001b[0;32m/Library/Frameworks/Python.framework/Versions/3.10/lib/python3.10/site-packages/requests/models.py:971\u001b[0m, in \u001b[0;36mResponse.json\u001b[0;34m(self, **kwargs)\u001b[0m\n\u001b[1;32m    970\u001b[0m \u001b[39mtry\u001b[39;00m:\n\u001b[0;32m--> 971\u001b[0m     \u001b[39mreturn\u001b[39;00m complexjson\u001b[39m.\u001b[39;49mloads(\u001b[39mself\u001b[39;49m\u001b[39m.\u001b[39;49mtext, \u001b[39m*\u001b[39;49m\u001b[39m*\u001b[39;49mkwargs)\n\u001b[1;32m    972\u001b[0m \u001b[39mexcept\u001b[39;00m JSONDecodeError \u001b[39mas\u001b[39;00m e:\n\u001b[1;32m    973\u001b[0m     \u001b[39m# Catch JSON-related errors and raise as requests.JSONDecodeError\u001b[39;00m\n\u001b[1;32m    974\u001b[0m     \u001b[39m# This aliases json.JSONDecodeError and simplejson.JSONDecodeError\u001b[39;00m\n",
      "File \u001b[0;32m/Library/Frameworks/Python.framework/Versions/3.10/lib/python3.10/json/__init__.py:346\u001b[0m, in \u001b[0;36mloads\u001b[0;34m(s, cls, object_hook, parse_float, parse_int, parse_constant, object_pairs_hook, **kw)\u001b[0m\n\u001b[1;32m    343\u001b[0m \u001b[39mif\u001b[39;00m (\u001b[39mcls\u001b[39m \u001b[39mis\u001b[39;00m \u001b[39mNone\u001b[39;00m \u001b[39mand\u001b[39;00m object_hook \u001b[39mis\u001b[39;00m \u001b[39mNone\u001b[39;00m \u001b[39mand\u001b[39;00m\n\u001b[1;32m    344\u001b[0m         parse_int \u001b[39mis\u001b[39;00m \u001b[39mNone\u001b[39;00m \u001b[39mand\u001b[39;00m parse_float \u001b[39mis\u001b[39;00m \u001b[39mNone\u001b[39;00m \u001b[39mand\u001b[39;00m\n\u001b[1;32m    345\u001b[0m         parse_constant \u001b[39mis\u001b[39;00m \u001b[39mNone\u001b[39;00m \u001b[39mand\u001b[39;00m object_pairs_hook \u001b[39mis\u001b[39;00m \u001b[39mNone\u001b[39;00m \u001b[39mand\u001b[39;00m \u001b[39mnot\u001b[39;00m kw):\n\u001b[0;32m--> 346\u001b[0m     \u001b[39mreturn\u001b[39;00m _default_decoder\u001b[39m.\u001b[39;49mdecode(s)\n\u001b[1;32m    347\u001b[0m \u001b[39mif\u001b[39;00m \u001b[39mcls\u001b[39m \u001b[39mis\u001b[39;00m \u001b[39mNone\u001b[39;00m:\n",
      "File \u001b[0;32m/Library/Frameworks/Python.framework/Versions/3.10/lib/python3.10/json/decoder.py:337\u001b[0m, in \u001b[0;36mJSONDecoder.decode\u001b[0;34m(self, s, _w)\u001b[0m\n\u001b[1;32m    333\u001b[0m \u001b[39m\"\"\"Return the Python representation of ``s`` (a ``str`` instance\u001b[39;00m\n\u001b[1;32m    334\u001b[0m \u001b[39mcontaining a JSON document).\u001b[39;00m\n\u001b[1;32m    335\u001b[0m \n\u001b[1;32m    336\u001b[0m \u001b[39m\"\"\"\u001b[39;00m\n\u001b[0;32m--> 337\u001b[0m obj, end \u001b[39m=\u001b[39m \u001b[39mself\u001b[39;49m\u001b[39m.\u001b[39;49mraw_decode(s, idx\u001b[39m=\u001b[39;49m_w(s, \u001b[39m0\u001b[39;49m)\u001b[39m.\u001b[39;49mend())\n\u001b[1;32m    338\u001b[0m end \u001b[39m=\u001b[39m _w(s, end)\u001b[39m.\u001b[39mend()\n",
      "File \u001b[0;32m/Library/Frameworks/Python.framework/Versions/3.10/lib/python3.10/json/decoder.py:355\u001b[0m, in \u001b[0;36mJSONDecoder.raw_decode\u001b[0;34m(self, s, idx)\u001b[0m\n\u001b[1;32m    354\u001b[0m \u001b[39mexcept\u001b[39;00m \u001b[39mStopIteration\u001b[39;00m \u001b[39mas\u001b[39;00m err:\n\u001b[0;32m--> 355\u001b[0m     \u001b[39mraise\u001b[39;00m JSONDecodeError(\u001b[39m\"\u001b[39m\u001b[39mExpecting value\u001b[39m\u001b[39m\"\u001b[39m, s, err\u001b[39m.\u001b[39mvalue) \u001b[39mfrom\u001b[39;00m \u001b[39mNone\u001b[39m\n\u001b[1;32m    356\u001b[0m \u001b[39mreturn\u001b[39;00m obj, end\n",
      "\u001b[0;31mJSONDecodeError\u001b[0m: Expecting value: line 1 column 1 (char 0)",
      "\nDuring handling of the above exception, another exception occurred:\n",
      "\u001b[0;31mJSONDecodeError\u001b[0m                           Traceback (most recent call last)",
      "\u001b[1;32m/Users/oraichain/Desktop/test 100 api/100API.ipynb Cell 86\u001b[0m in \u001b[0;36m<cell line: 12>\u001b[0;34m()\u001b[0m\n\u001b[1;32m     <a href='vscode-notebook-cell:/Users/oraichain/Desktop/test%20100%20api/100API.ipynb#ch0000085?line=9'>10</a>\u001b[0m response \u001b[39m=\u001b[39m requests\u001b[39m.\u001b[39mpost(url, json\u001b[39m=\u001b[39mdata, headers\u001b[39m=\u001b[39mheaders)\n\u001b[1;32m     <a href='vscode-notebook-cell:/Users/oraichain/Desktop/test%20100%20api/100API.ipynb#ch0000085?line=10'>11</a>\u001b[0m \u001b[39mprint\u001b[39m(data)\n\u001b[0;32m---> <a href='vscode-notebook-cell:/Users/oraichain/Desktop/test%20100%20api/100API.ipynb#ch0000085?line=11'>12</a>\u001b[0m \u001b[39mprint\u001b[39m(response\u001b[39m.\u001b[39;49mjson())\n",
      "File \u001b[0;32m/Library/Frameworks/Python.framework/Versions/3.10/lib/python3.10/site-packages/requests/models.py:975\u001b[0m, in \u001b[0;36mResponse.json\u001b[0;34m(self, **kwargs)\u001b[0m\n\u001b[1;32m    971\u001b[0m     \u001b[39mreturn\u001b[39;00m complexjson\u001b[39m.\u001b[39mloads(\u001b[39mself\u001b[39m\u001b[39m.\u001b[39mtext, \u001b[39m*\u001b[39m\u001b[39m*\u001b[39mkwargs)\n\u001b[1;32m    972\u001b[0m \u001b[39mexcept\u001b[39;00m JSONDecodeError \u001b[39mas\u001b[39;00m e:\n\u001b[1;32m    973\u001b[0m     \u001b[39m# Catch JSON-related errors and raise as requests.JSONDecodeError\u001b[39;00m\n\u001b[1;32m    974\u001b[0m     \u001b[39m# This aliases json.JSONDecodeError and simplejson.JSONDecodeError\u001b[39;00m\n\u001b[0;32m--> 975\u001b[0m     \u001b[39mraise\u001b[39;00m RequestsJSONDecodeError(e\u001b[39m.\u001b[39mmsg, e\u001b[39m.\u001b[39mdoc, e\u001b[39m.\u001b[39mpos)\n",
      "\u001b[0;31mJSONDecodeError\u001b[0m: Expecting value: line 1 column 1 (char 0)"
     ]
    }
   ],
   "source": [
    "#nl011\n",
    "url = 'https://100api.orai.dev/nl011'\n",
    "data = {\n",
    "  \"sentence\": \"Tôi là học sinh\"\n",
    "}\n",
    "  \n",
    "headers = {\n",
    "        'Authorization': 'ai_market'\n",
    "    }\n",
    "response = requests.post(url, json=data, headers=headers)\n",
    "print(data)\n",
    "print(response.json())"
   ]
  },
  {
   "cell_type": "code",
   "execution_count": 15,
   "metadata": {},
   "outputs": [
    {
     "name": "stdout",
     "output_type": "stream",
     "text": [
      "{'text': 'my name is orai'}\n"
     ]
    },
    {
     "ename": "JSONDecodeError",
     "evalue": "Expecting value: line 1 column 1 (char 0)",
     "output_type": "error",
     "traceback": [
      "\u001b[0;31m---------------------------------------------------------------------------\u001b[0m",
      "\u001b[0;31mJSONDecodeError\u001b[0m                           Traceback (most recent call last)",
      "File \u001b[0;32m/Library/Frameworks/Python.framework/Versions/3.10/lib/python3.10/site-packages/requests/models.py:971\u001b[0m, in \u001b[0;36mResponse.json\u001b[0;34m(self, **kwargs)\u001b[0m\n\u001b[1;32m    970\u001b[0m \u001b[39mtry\u001b[39;00m:\n\u001b[0;32m--> 971\u001b[0m     \u001b[39mreturn\u001b[39;00m complexjson\u001b[39m.\u001b[39;49mloads(\u001b[39mself\u001b[39;49m\u001b[39m.\u001b[39;49mtext, \u001b[39m*\u001b[39;49m\u001b[39m*\u001b[39;49mkwargs)\n\u001b[1;32m    972\u001b[0m \u001b[39mexcept\u001b[39;00m JSONDecodeError \u001b[39mas\u001b[39;00m e:\n\u001b[1;32m    973\u001b[0m     \u001b[39m# Catch JSON-related errors and raise as requests.JSONDecodeError\u001b[39;00m\n\u001b[1;32m    974\u001b[0m     \u001b[39m# This aliases json.JSONDecodeError and simplejson.JSONDecodeError\u001b[39;00m\n",
      "File \u001b[0;32m/Library/Frameworks/Python.framework/Versions/3.10/lib/python3.10/json/__init__.py:346\u001b[0m, in \u001b[0;36mloads\u001b[0;34m(s, cls, object_hook, parse_float, parse_int, parse_constant, object_pairs_hook, **kw)\u001b[0m\n\u001b[1;32m    343\u001b[0m \u001b[39mif\u001b[39;00m (\u001b[39mcls\u001b[39m \u001b[39mis\u001b[39;00m \u001b[39mNone\u001b[39;00m \u001b[39mand\u001b[39;00m object_hook \u001b[39mis\u001b[39;00m \u001b[39mNone\u001b[39;00m \u001b[39mand\u001b[39;00m\n\u001b[1;32m    344\u001b[0m         parse_int \u001b[39mis\u001b[39;00m \u001b[39mNone\u001b[39;00m \u001b[39mand\u001b[39;00m parse_float \u001b[39mis\u001b[39;00m \u001b[39mNone\u001b[39;00m \u001b[39mand\u001b[39;00m\n\u001b[1;32m    345\u001b[0m         parse_constant \u001b[39mis\u001b[39;00m \u001b[39mNone\u001b[39;00m \u001b[39mand\u001b[39;00m object_pairs_hook \u001b[39mis\u001b[39;00m \u001b[39mNone\u001b[39;00m \u001b[39mand\u001b[39;00m \u001b[39mnot\u001b[39;00m kw):\n\u001b[0;32m--> 346\u001b[0m     \u001b[39mreturn\u001b[39;00m _default_decoder\u001b[39m.\u001b[39;49mdecode(s)\n\u001b[1;32m    347\u001b[0m \u001b[39mif\u001b[39;00m \u001b[39mcls\u001b[39m \u001b[39mis\u001b[39;00m \u001b[39mNone\u001b[39;00m:\n",
      "File \u001b[0;32m/Library/Frameworks/Python.framework/Versions/3.10/lib/python3.10/json/decoder.py:337\u001b[0m, in \u001b[0;36mJSONDecoder.decode\u001b[0;34m(self, s, _w)\u001b[0m\n\u001b[1;32m    333\u001b[0m \u001b[39m\"\"\"Return the Python representation of ``s`` (a ``str`` instance\u001b[39;00m\n\u001b[1;32m    334\u001b[0m \u001b[39mcontaining a JSON document).\u001b[39;00m\n\u001b[1;32m    335\u001b[0m \n\u001b[1;32m    336\u001b[0m \u001b[39m\"\"\"\u001b[39;00m\n\u001b[0;32m--> 337\u001b[0m obj, end \u001b[39m=\u001b[39m \u001b[39mself\u001b[39;49m\u001b[39m.\u001b[39;49mraw_decode(s, idx\u001b[39m=\u001b[39;49m_w(s, \u001b[39m0\u001b[39;49m)\u001b[39m.\u001b[39;49mend())\n\u001b[1;32m    338\u001b[0m end \u001b[39m=\u001b[39m _w(s, end)\u001b[39m.\u001b[39mend()\n",
      "File \u001b[0;32m/Library/Frameworks/Python.framework/Versions/3.10/lib/python3.10/json/decoder.py:355\u001b[0m, in \u001b[0;36mJSONDecoder.raw_decode\u001b[0;34m(self, s, idx)\u001b[0m\n\u001b[1;32m    354\u001b[0m \u001b[39mexcept\u001b[39;00m \u001b[39mStopIteration\u001b[39;00m \u001b[39mas\u001b[39;00m err:\n\u001b[0;32m--> 355\u001b[0m     \u001b[39mraise\u001b[39;00m JSONDecodeError(\u001b[39m\"\u001b[39m\u001b[39mExpecting value\u001b[39m\u001b[39m\"\u001b[39m, s, err\u001b[39m.\u001b[39mvalue) \u001b[39mfrom\u001b[39;00m \u001b[39mNone\u001b[39m\n\u001b[1;32m    356\u001b[0m \u001b[39mreturn\u001b[39;00m obj, end\n",
      "\u001b[0;31mJSONDecodeError\u001b[0m: Expecting value: line 1 column 1 (char 0)",
      "\nDuring handling of the above exception, another exception occurred:\n",
      "\u001b[0;31mJSONDecodeError\u001b[0m                           Traceback (most recent call last)",
      "\u001b[1;32m/Users/oraichain/Desktop/test 100 api/100API.ipynb Cell 87\u001b[0m in \u001b[0;36m<cell line: 12>\u001b[0;34m()\u001b[0m\n\u001b[1;32m     <a href='vscode-notebook-cell:/Users/oraichain/Desktop/test%20100%20api/100API.ipynb#ch0000086?line=9'>10</a>\u001b[0m response \u001b[39m=\u001b[39m requests\u001b[39m.\u001b[39mpost(url, json\u001b[39m=\u001b[39mdata, headers\u001b[39m=\u001b[39mheaders)\n\u001b[1;32m     <a href='vscode-notebook-cell:/Users/oraichain/Desktop/test%20100%20api/100API.ipynb#ch0000086?line=10'>11</a>\u001b[0m \u001b[39mprint\u001b[39m(data)\n\u001b[0;32m---> <a href='vscode-notebook-cell:/Users/oraichain/Desktop/test%20100%20api/100API.ipynb#ch0000086?line=11'>12</a>\u001b[0m \u001b[39mprint\u001b[39m(response\u001b[39m.\u001b[39;49mjson())\n",
      "File \u001b[0;32m/Library/Frameworks/Python.framework/Versions/3.10/lib/python3.10/site-packages/requests/models.py:975\u001b[0m, in \u001b[0;36mResponse.json\u001b[0;34m(self, **kwargs)\u001b[0m\n\u001b[1;32m    971\u001b[0m     \u001b[39mreturn\u001b[39;00m complexjson\u001b[39m.\u001b[39mloads(\u001b[39mself\u001b[39m\u001b[39m.\u001b[39mtext, \u001b[39m*\u001b[39m\u001b[39m*\u001b[39mkwargs)\n\u001b[1;32m    972\u001b[0m \u001b[39mexcept\u001b[39;00m JSONDecodeError \u001b[39mas\u001b[39;00m e:\n\u001b[1;32m    973\u001b[0m     \u001b[39m# Catch JSON-related errors and raise as requests.JSONDecodeError\u001b[39;00m\n\u001b[1;32m    974\u001b[0m     \u001b[39m# This aliases json.JSONDecodeError and simplejson.JSONDecodeError\u001b[39;00m\n\u001b[0;32m--> 975\u001b[0m     \u001b[39mraise\u001b[39;00m RequestsJSONDecodeError(e\u001b[39m.\u001b[39mmsg, e\u001b[39m.\u001b[39mdoc, e\u001b[39m.\u001b[39mpos)\n",
      "\u001b[0;31mJSONDecodeError\u001b[0m: Expecting value: line 1 column 1 (char 0)"
     ]
    }
   ],
   "source": [
    "#nl013\n",
    "url = 'https://100api.orai.dev/nl013'\n",
    "data = {\n",
    "  \"text\": \"my name is orai\"\n",
    "}\n",
    "  \n",
    "headers = {\n",
    "        'Authorization': 'ai_market'\n",
    "    }\n",
    "response = requests.post(url, json=data, headers=headers)\n",
    "print(data)\n",
    "print(response.json())"
   ]
  },
  {
   "cell_type": "code",
   "execution_count": 16,
   "metadata": {},
   "outputs": [
    {
     "name": "stdout",
     "output_type": "stream",
     "text": [
      "{'text': 'my name is orai'}\n"
     ]
    },
    {
     "ename": "JSONDecodeError",
     "evalue": "Expecting value: line 1 column 1 (char 0)",
     "output_type": "error",
     "traceback": [
      "\u001b[0;31m---------------------------------------------------------------------------\u001b[0m",
      "\u001b[0;31mJSONDecodeError\u001b[0m                           Traceback (most recent call last)",
      "File \u001b[0;32m/Library/Frameworks/Python.framework/Versions/3.10/lib/python3.10/site-packages/requests/models.py:971\u001b[0m, in \u001b[0;36mResponse.json\u001b[0;34m(self, **kwargs)\u001b[0m\n\u001b[1;32m    970\u001b[0m \u001b[39mtry\u001b[39;00m:\n\u001b[0;32m--> 971\u001b[0m     \u001b[39mreturn\u001b[39;00m complexjson\u001b[39m.\u001b[39;49mloads(\u001b[39mself\u001b[39;49m\u001b[39m.\u001b[39;49mtext, \u001b[39m*\u001b[39;49m\u001b[39m*\u001b[39;49mkwargs)\n\u001b[1;32m    972\u001b[0m \u001b[39mexcept\u001b[39;00m JSONDecodeError \u001b[39mas\u001b[39;00m e:\n\u001b[1;32m    973\u001b[0m     \u001b[39m# Catch JSON-related errors and raise as requests.JSONDecodeError\u001b[39;00m\n\u001b[1;32m    974\u001b[0m     \u001b[39m# This aliases json.JSONDecodeError and simplejson.JSONDecodeError\u001b[39;00m\n",
      "File \u001b[0;32m/Library/Frameworks/Python.framework/Versions/3.10/lib/python3.10/json/__init__.py:346\u001b[0m, in \u001b[0;36mloads\u001b[0;34m(s, cls, object_hook, parse_float, parse_int, parse_constant, object_pairs_hook, **kw)\u001b[0m\n\u001b[1;32m    343\u001b[0m \u001b[39mif\u001b[39;00m (\u001b[39mcls\u001b[39m \u001b[39mis\u001b[39;00m \u001b[39mNone\u001b[39;00m \u001b[39mand\u001b[39;00m object_hook \u001b[39mis\u001b[39;00m \u001b[39mNone\u001b[39;00m \u001b[39mand\u001b[39;00m\n\u001b[1;32m    344\u001b[0m         parse_int \u001b[39mis\u001b[39;00m \u001b[39mNone\u001b[39;00m \u001b[39mand\u001b[39;00m parse_float \u001b[39mis\u001b[39;00m \u001b[39mNone\u001b[39;00m \u001b[39mand\u001b[39;00m\n\u001b[1;32m    345\u001b[0m         parse_constant \u001b[39mis\u001b[39;00m \u001b[39mNone\u001b[39;00m \u001b[39mand\u001b[39;00m object_pairs_hook \u001b[39mis\u001b[39;00m \u001b[39mNone\u001b[39;00m \u001b[39mand\u001b[39;00m \u001b[39mnot\u001b[39;00m kw):\n\u001b[0;32m--> 346\u001b[0m     \u001b[39mreturn\u001b[39;00m _default_decoder\u001b[39m.\u001b[39;49mdecode(s)\n\u001b[1;32m    347\u001b[0m \u001b[39mif\u001b[39;00m \u001b[39mcls\u001b[39m \u001b[39mis\u001b[39;00m \u001b[39mNone\u001b[39;00m:\n",
      "File \u001b[0;32m/Library/Frameworks/Python.framework/Versions/3.10/lib/python3.10/json/decoder.py:337\u001b[0m, in \u001b[0;36mJSONDecoder.decode\u001b[0;34m(self, s, _w)\u001b[0m\n\u001b[1;32m    333\u001b[0m \u001b[39m\"\"\"Return the Python representation of ``s`` (a ``str`` instance\u001b[39;00m\n\u001b[1;32m    334\u001b[0m \u001b[39mcontaining a JSON document).\u001b[39;00m\n\u001b[1;32m    335\u001b[0m \n\u001b[1;32m    336\u001b[0m \u001b[39m\"\"\"\u001b[39;00m\n\u001b[0;32m--> 337\u001b[0m obj, end \u001b[39m=\u001b[39m \u001b[39mself\u001b[39;49m\u001b[39m.\u001b[39;49mraw_decode(s, idx\u001b[39m=\u001b[39;49m_w(s, \u001b[39m0\u001b[39;49m)\u001b[39m.\u001b[39;49mend())\n\u001b[1;32m    338\u001b[0m end \u001b[39m=\u001b[39m _w(s, end)\u001b[39m.\u001b[39mend()\n",
      "File \u001b[0;32m/Library/Frameworks/Python.framework/Versions/3.10/lib/python3.10/json/decoder.py:355\u001b[0m, in \u001b[0;36mJSONDecoder.raw_decode\u001b[0;34m(self, s, idx)\u001b[0m\n\u001b[1;32m    354\u001b[0m \u001b[39mexcept\u001b[39;00m \u001b[39mStopIteration\u001b[39;00m \u001b[39mas\u001b[39;00m err:\n\u001b[0;32m--> 355\u001b[0m     \u001b[39mraise\u001b[39;00m JSONDecodeError(\u001b[39m\"\u001b[39m\u001b[39mExpecting value\u001b[39m\u001b[39m\"\u001b[39m, s, err\u001b[39m.\u001b[39mvalue) \u001b[39mfrom\u001b[39;00m \u001b[39mNone\u001b[39m\n\u001b[1;32m    356\u001b[0m \u001b[39mreturn\u001b[39;00m obj, end\n",
      "\u001b[0;31mJSONDecodeError\u001b[0m: Expecting value: line 1 column 1 (char 0)",
      "\nDuring handling of the above exception, another exception occurred:\n",
      "\u001b[0;31mJSONDecodeError\u001b[0m                           Traceback (most recent call last)",
      "\u001b[1;32m/Users/oraichain/Desktop/test 100 api/100API.ipynb Cell 88\u001b[0m in \u001b[0;36m<cell line: 12>\u001b[0;34m()\u001b[0m\n\u001b[1;32m     <a href='vscode-notebook-cell:/Users/oraichain/Desktop/test%20100%20api/100API.ipynb#ch0000087?line=9'>10</a>\u001b[0m response \u001b[39m=\u001b[39m requests\u001b[39m.\u001b[39mpost(url, json\u001b[39m=\u001b[39mdata, headers\u001b[39m=\u001b[39mheaders)\n\u001b[1;32m     <a href='vscode-notebook-cell:/Users/oraichain/Desktop/test%20100%20api/100API.ipynb#ch0000087?line=10'>11</a>\u001b[0m \u001b[39mprint\u001b[39m(data)\n\u001b[0;32m---> <a href='vscode-notebook-cell:/Users/oraichain/Desktop/test%20100%20api/100API.ipynb#ch0000087?line=11'>12</a>\u001b[0m \u001b[39mprint\u001b[39m(response\u001b[39m.\u001b[39;49mjson())\n",
      "File \u001b[0;32m/Library/Frameworks/Python.framework/Versions/3.10/lib/python3.10/site-packages/requests/models.py:975\u001b[0m, in \u001b[0;36mResponse.json\u001b[0;34m(self, **kwargs)\u001b[0m\n\u001b[1;32m    971\u001b[0m     \u001b[39mreturn\u001b[39;00m complexjson\u001b[39m.\u001b[39mloads(\u001b[39mself\u001b[39m\u001b[39m.\u001b[39mtext, \u001b[39m*\u001b[39m\u001b[39m*\u001b[39mkwargs)\n\u001b[1;32m    972\u001b[0m \u001b[39mexcept\u001b[39;00m JSONDecodeError \u001b[39mas\u001b[39;00m e:\n\u001b[1;32m    973\u001b[0m     \u001b[39m# Catch JSON-related errors and raise as requests.JSONDecodeError\u001b[39;00m\n\u001b[1;32m    974\u001b[0m     \u001b[39m# This aliases json.JSONDecodeError and simplejson.JSONDecodeError\u001b[39;00m\n\u001b[0;32m--> 975\u001b[0m     \u001b[39mraise\u001b[39;00m RequestsJSONDecodeError(e\u001b[39m.\u001b[39mmsg, e\u001b[39m.\u001b[39mdoc, e\u001b[39m.\u001b[39mpos)\n",
      "\u001b[0;31mJSONDecodeError\u001b[0m: Expecting value: line 1 column 1 (char 0)"
     ]
    }
   ],
   "source": [
    "#nl014\n",
    "url = 'https://100api.orai.dev/nl014'\n",
    "data = {\n",
    "  \"text\": \"my name is orai\"\n",
    "}\n",
    "  \n",
    "headers = {\n",
    "        'Authorization': 'ai_market'\n",
    "    }\n",
    "response = requests.post(url, json=data, headers=headers)\n",
    "print(data)\n",
    "print(response.json())"
   ]
  },
  {
   "cell_type": "code",
   "execution_count": 17,
   "metadata": {},
   "outputs": [
    {
     "name": "stdout",
     "output_type": "stream",
     "text": [
      "{'text': 'Donald Trump sent his own plane to transport 200 stranded marines'}\n"
     ]
    },
    {
     "ename": "JSONDecodeError",
     "evalue": "Expecting value: line 1 column 1 (char 0)",
     "output_type": "error",
     "traceback": [
      "\u001b[0;31m---------------------------------------------------------------------------\u001b[0m",
      "\u001b[0;31mJSONDecodeError\u001b[0m                           Traceback (most recent call last)",
      "File \u001b[0;32m/Library/Frameworks/Python.framework/Versions/3.10/lib/python3.10/site-packages/requests/models.py:971\u001b[0m, in \u001b[0;36mResponse.json\u001b[0;34m(self, **kwargs)\u001b[0m\n\u001b[1;32m    970\u001b[0m \u001b[39mtry\u001b[39;00m:\n\u001b[0;32m--> 971\u001b[0m     \u001b[39mreturn\u001b[39;00m complexjson\u001b[39m.\u001b[39;49mloads(\u001b[39mself\u001b[39;49m\u001b[39m.\u001b[39;49mtext, \u001b[39m*\u001b[39;49m\u001b[39m*\u001b[39;49mkwargs)\n\u001b[1;32m    972\u001b[0m \u001b[39mexcept\u001b[39;00m JSONDecodeError \u001b[39mas\u001b[39;00m e:\n\u001b[1;32m    973\u001b[0m     \u001b[39m# Catch JSON-related errors and raise as requests.JSONDecodeError\u001b[39;00m\n\u001b[1;32m    974\u001b[0m     \u001b[39m# This aliases json.JSONDecodeError and simplejson.JSONDecodeError\u001b[39;00m\n",
      "File \u001b[0;32m/Library/Frameworks/Python.framework/Versions/3.10/lib/python3.10/json/__init__.py:346\u001b[0m, in \u001b[0;36mloads\u001b[0;34m(s, cls, object_hook, parse_float, parse_int, parse_constant, object_pairs_hook, **kw)\u001b[0m\n\u001b[1;32m    343\u001b[0m \u001b[39mif\u001b[39;00m (\u001b[39mcls\u001b[39m \u001b[39mis\u001b[39;00m \u001b[39mNone\u001b[39;00m \u001b[39mand\u001b[39;00m object_hook \u001b[39mis\u001b[39;00m \u001b[39mNone\u001b[39;00m \u001b[39mand\u001b[39;00m\n\u001b[1;32m    344\u001b[0m         parse_int \u001b[39mis\u001b[39;00m \u001b[39mNone\u001b[39;00m \u001b[39mand\u001b[39;00m parse_float \u001b[39mis\u001b[39;00m \u001b[39mNone\u001b[39;00m \u001b[39mand\u001b[39;00m\n\u001b[1;32m    345\u001b[0m         parse_constant \u001b[39mis\u001b[39;00m \u001b[39mNone\u001b[39;00m \u001b[39mand\u001b[39;00m object_pairs_hook \u001b[39mis\u001b[39;00m \u001b[39mNone\u001b[39;00m \u001b[39mand\u001b[39;00m \u001b[39mnot\u001b[39;00m kw):\n\u001b[0;32m--> 346\u001b[0m     \u001b[39mreturn\u001b[39;00m _default_decoder\u001b[39m.\u001b[39;49mdecode(s)\n\u001b[1;32m    347\u001b[0m \u001b[39mif\u001b[39;00m \u001b[39mcls\u001b[39m \u001b[39mis\u001b[39;00m \u001b[39mNone\u001b[39;00m:\n",
      "File \u001b[0;32m/Library/Frameworks/Python.framework/Versions/3.10/lib/python3.10/json/decoder.py:337\u001b[0m, in \u001b[0;36mJSONDecoder.decode\u001b[0;34m(self, s, _w)\u001b[0m\n\u001b[1;32m    333\u001b[0m \u001b[39m\"\"\"Return the Python representation of ``s`` (a ``str`` instance\u001b[39;00m\n\u001b[1;32m    334\u001b[0m \u001b[39mcontaining a JSON document).\u001b[39;00m\n\u001b[1;32m    335\u001b[0m \n\u001b[1;32m    336\u001b[0m \u001b[39m\"\"\"\u001b[39;00m\n\u001b[0;32m--> 337\u001b[0m obj, end \u001b[39m=\u001b[39m \u001b[39mself\u001b[39;49m\u001b[39m.\u001b[39;49mraw_decode(s, idx\u001b[39m=\u001b[39;49m_w(s, \u001b[39m0\u001b[39;49m)\u001b[39m.\u001b[39;49mend())\n\u001b[1;32m    338\u001b[0m end \u001b[39m=\u001b[39m _w(s, end)\u001b[39m.\u001b[39mend()\n",
      "File \u001b[0;32m/Library/Frameworks/Python.framework/Versions/3.10/lib/python3.10/json/decoder.py:355\u001b[0m, in \u001b[0;36mJSONDecoder.raw_decode\u001b[0;34m(self, s, idx)\u001b[0m\n\u001b[1;32m    354\u001b[0m \u001b[39mexcept\u001b[39;00m \u001b[39mStopIteration\u001b[39;00m \u001b[39mas\u001b[39;00m err:\n\u001b[0;32m--> 355\u001b[0m     \u001b[39mraise\u001b[39;00m JSONDecodeError(\u001b[39m\"\u001b[39m\u001b[39mExpecting value\u001b[39m\u001b[39m\"\u001b[39m, s, err\u001b[39m.\u001b[39mvalue) \u001b[39mfrom\u001b[39;00m \u001b[39mNone\u001b[39m\n\u001b[1;32m    356\u001b[0m \u001b[39mreturn\u001b[39;00m obj, end\n",
      "\u001b[0;31mJSONDecodeError\u001b[0m: Expecting value: line 1 column 1 (char 0)",
      "\nDuring handling of the above exception, another exception occurred:\n",
      "\u001b[0;31mJSONDecodeError\u001b[0m                           Traceback (most recent call last)",
      "\u001b[1;32m/Users/oraichain/Desktop/test 100 api/100API.ipynb Cell 89\u001b[0m in \u001b[0;36m<cell line: 12>\u001b[0;34m()\u001b[0m\n\u001b[1;32m     <a href='vscode-notebook-cell:/Users/oraichain/Desktop/test%20100%20api/100API.ipynb#ch0000088?line=9'>10</a>\u001b[0m response \u001b[39m=\u001b[39m requests\u001b[39m.\u001b[39mpost(url, json\u001b[39m=\u001b[39mdata, headers\u001b[39m=\u001b[39mheaders)\n\u001b[1;32m     <a href='vscode-notebook-cell:/Users/oraichain/Desktop/test%20100%20api/100API.ipynb#ch0000088?line=10'>11</a>\u001b[0m \u001b[39mprint\u001b[39m(data)\n\u001b[0;32m---> <a href='vscode-notebook-cell:/Users/oraichain/Desktop/test%20100%20api/100API.ipynb#ch0000088?line=11'>12</a>\u001b[0m \u001b[39mprint\u001b[39m(response\u001b[39m.\u001b[39;49mjson())\n",
      "File \u001b[0;32m/Library/Frameworks/Python.framework/Versions/3.10/lib/python3.10/site-packages/requests/models.py:975\u001b[0m, in \u001b[0;36mResponse.json\u001b[0;34m(self, **kwargs)\u001b[0m\n\u001b[1;32m    971\u001b[0m     \u001b[39mreturn\u001b[39;00m complexjson\u001b[39m.\u001b[39mloads(\u001b[39mself\u001b[39m\u001b[39m.\u001b[39mtext, \u001b[39m*\u001b[39m\u001b[39m*\u001b[39mkwargs)\n\u001b[1;32m    972\u001b[0m \u001b[39mexcept\u001b[39;00m JSONDecodeError \u001b[39mas\u001b[39;00m e:\n\u001b[1;32m    973\u001b[0m     \u001b[39m# Catch JSON-related errors and raise as requests.JSONDecodeError\u001b[39;00m\n\u001b[1;32m    974\u001b[0m     \u001b[39m# This aliases json.JSONDecodeError and simplejson.JSONDecodeError\u001b[39;00m\n\u001b[0;32m--> 975\u001b[0m     \u001b[39mraise\u001b[39;00m RequestsJSONDecodeError(e\u001b[39m.\u001b[39mmsg, e\u001b[39m.\u001b[39mdoc, e\u001b[39m.\u001b[39mpos)\n",
      "\u001b[0;31mJSONDecodeError\u001b[0m: Expecting value: line 1 column 1 (char 0)"
     ]
    }
   ],
   "source": [
    "#nl016\n",
    "url = 'https://100api.orai.dev/nl016'\n",
    "data = {\n",
    "  \"text\": \"Donald Trump sent his own plane to transport 200 stranded marines\"\n",
    "}\n",
    "  \n",
    "headers = {\n",
    "        'Authorization': 'ai_market'\n",
    "    }\n",
    "response = requests.post(url, json=data, headers=headers)\n",
    "print(data)\n",
    "print(response.json())"
   ]
  },
  {
   "cell_type": "code",
   "execution_count": 18,
   "metadata": {},
   "outputs": [
    {
     "name": "stdout",
     "output_type": "stream",
     "text": [
      "{'text_input': \"The Chrysler Building, the famous art deco New York skyscraper, will be sold for a small fraction of its previous sales price. The deal, first reported by The Real Deal, was for $150 million, according to a source familiar with the deal. Mubadala, an Abu Dhabi investment fund, purchased 90% of the building for $800 million in 2008. Real estate firm Tishman Speyer had owned the other 10%. The buyer is RFR Holding, a New York real estate company. Officials with Tishman and RFR did not immediately respond to a request for comments. It's unclear when the deal will close. The building sold fairly quickly after being publicly placed on the market only two months ago. The sale was handled by CBRE Group. The incentive to sell the building at such a huge loss was due to the soaring rent the owners pay to Cooper Union, a New York college, for the land under the building. The rent is rising from $7.75 million last year to $32.5 million this year to $41 million in 2028. Meantime, rents in the building itself are not rising nearly that fast. While the building is an iconic landmark in the New York skyline, it is competing against newer office towers with large floor-to-ceiling windows and all the modern amenities. Still the building is among the best known in the city, even to people who have never been to New York. It is famous for its triangle-shaped, vaulted windows worked into the stylized crown, along with its distinctive eagle gargoyles near the top. It has been featured prominently in many films, including Men in Black 3, Spider-Man, Armageddon, Two Weeks Notice and Independence Day. The previous sale took place just before the 2008 financial meltdown led to a plunge in real estate prices. Still there have been a number of high profile skyscrapers purchased for top dollar in recent years, including the Waldorf Astoria hotel, which Chinese firm Anbang Insurance purchased in 2016 for nearly $2 billion, and the Willis Tower in Chicago, which was formerly known as Sears Tower, once the world's tallest. Blackstone Group (BX) bought it for $1.3 billion 2015. The Chrysler Building was the headquarters of the American automaker until 1953, but it was named for and owned by Chrysler chief Walter Chrysler, not the company itself. Walter Chrysler had set out to build the tallest building in the world, a competition at that time with another Manhattan skyscraper under construction at 40 Wall Street at the south end of Manhattan. He kept secret the plans for the spire that would grace the top of the building, building it inside the structure and out of view of the public until 40 Wall Street was complete. Once the competitor could rise no higher, the spire of the Chrysler building was raised into view, giving it the title.\", 'number_sentence': 1}\n"
     ]
    },
    {
     "ename": "JSONDecodeError",
     "evalue": "Expecting value: line 1 column 1 (char 0)",
     "output_type": "error",
     "traceback": [
      "\u001b[0;31m---------------------------------------------------------------------------\u001b[0m",
      "\u001b[0;31mJSONDecodeError\u001b[0m                           Traceback (most recent call last)",
      "File \u001b[0;32m/Library/Frameworks/Python.framework/Versions/3.10/lib/python3.10/site-packages/requests/models.py:971\u001b[0m, in \u001b[0;36mResponse.json\u001b[0;34m(self, **kwargs)\u001b[0m\n\u001b[1;32m    970\u001b[0m \u001b[39mtry\u001b[39;00m:\n\u001b[0;32m--> 971\u001b[0m     \u001b[39mreturn\u001b[39;00m complexjson\u001b[39m.\u001b[39;49mloads(\u001b[39mself\u001b[39;49m\u001b[39m.\u001b[39;49mtext, \u001b[39m*\u001b[39;49m\u001b[39m*\u001b[39;49mkwargs)\n\u001b[1;32m    972\u001b[0m \u001b[39mexcept\u001b[39;00m JSONDecodeError \u001b[39mas\u001b[39;00m e:\n\u001b[1;32m    973\u001b[0m     \u001b[39m# Catch JSON-related errors and raise as requests.JSONDecodeError\u001b[39;00m\n\u001b[1;32m    974\u001b[0m     \u001b[39m# This aliases json.JSONDecodeError and simplejson.JSONDecodeError\u001b[39;00m\n",
      "File \u001b[0;32m/Library/Frameworks/Python.framework/Versions/3.10/lib/python3.10/json/__init__.py:346\u001b[0m, in \u001b[0;36mloads\u001b[0;34m(s, cls, object_hook, parse_float, parse_int, parse_constant, object_pairs_hook, **kw)\u001b[0m\n\u001b[1;32m    343\u001b[0m \u001b[39mif\u001b[39;00m (\u001b[39mcls\u001b[39m \u001b[39mis\u001b[39;00m \u001b[39mNone\u001b[39;00m \u001b[39mand\u001b[39;00m object_hook \u001b[39mis\u001b[39;00m \u001b[39mNone\u001b[39;00m \u001b[39mand\u001b[39;00m\n\u001b[1;32m    344\u001b[0m         parse_int \u001b[39mis\u001b[39;00m \u001b[39mNone\u001b[39;00m \u001b[39mand\u001b[39;00m parse_float \u001b[39mis\u001b[39;00m \u001b[39mNone\u001b[39;00m \u001b[39mand\u001b[39;00m\n\u001b[1;32m    345\u001b[0m         parse_constant \u001b[39mis\u001b[39;00m \u001b[39mNone\u001b[39;00m \u001b[39mand\u001b[39;00m object_pairs_hook \u001b[39mis\u001b[39;00m \u001b[39mNone\u001b[39;00m \u001b[39mand\u001b[39;00m \u001b[39mnot\u001b[39;00m kw):\n\u001b[0;32m--> 346\u001b[0m     \u001b[39mreturn\u001b[39;00m _default_decoder\u001b[39m.\u001b[39;49mdecode(s)\n\u001b[1;32m    347\u001b[0m \u001b[39mif\u001b[39;00m \u001b[39mcls\u001b[39m \u001b[39mis\u001b[39;00m \u001b[39mNone\u001b[39;00m:\n",
      "File \u001b[0;32m/Library/Frameworks/Python.framework/Versions/3.10/lib/python3.10/json/decoder.py:337\u001b[0m, in \u001b[0;36mJSONDecoder.decode\u001b[0;34m(self, s, _w)\u001b[0m\n\u001b[1;32m    333\u001b[0m \u001b[39m\"\"\"Return the Python representation of ``s`` (a ``str`` instance\u001b[39;00m\n\u001b[1;32m    334\u001b[0m \u001b[39mcontaining a JSON document).\u001b[39;00m\n\u001b[1;32m    335\u001b[0m \n\u001b[1;32m    336\u001b[0m \u001b[39m\"\"\"\u001b[39;00m\n\u001b[0;32m--> 337\u001b[0m obj, end \u001b[39m=\u001b[39m \u001b[39mself\u001b[39;49m\u001b[39m.\u001b[39;49mraw_decode(s, idx\u001b[39m=\u001b[39;49m_w(s, \u001b[39m0\u001b[39;49m)\u001b[39m.\u001b[39;49mend())\n\u001b[1;32m    338\u001b[0m end \u001b[39m=\u001b[39m _w(s, end)\u001b[39m.\u001b[39mend()\n",
      "File \u001b[0;32m/Library/Frameworks/Python.framework/Versions/3.10/lib/python3.10/json/decoder.py:355\u001b[0m, in \u001b[0;36mJSONDecoder.raw_decode\u001b[0;34m(self, s, idx)\u001b[0m\n\u001b[1;32m    354\u001b[0m \u001b[39mexcept\u001b[39;00m \u001b[39mStopIteration\u001b[39;00m \u001b[39mas\u001b[39;00m err:\n\u001b[0;32m--> 355\u001b[0m     \u001b[39mraise\u001b[39;00m JSONDecodeError(\u001b[39m\"\u001b[39m\u001b[39mExpecting value\u001b[39m\u001b[39m\"\u001b[39m, s, err\u001b[39m.\u001b[39mvalue) \u001b[39mfrom\u001b[39;00m \u001b[39mNone\u001b[39m\n\u001b[1;32m    356\u001b[0m \u001b[39mreturn\u001b[39;00m obj, end\n",
      "\u001b[0;31mJSONDecodeError\u001b[0m: Expecting value: line 1 column 1 (char 0)",
      "\nDuring handling of the above exception, another exception occurred:\n",
      "\u001b[0;31mJSONDecodeError\u001b[0m                           Traceback (most recent call last)",
      "\u001b[1;32m/Users/oraichain/Desktop/test 100 api/100API.ipynb Cell 90\u001b[0m in \u001b[0;36m<cell line: 13>\u001b[0;34m()\u001b[0m\n\u001b[1;32m     <a href='vscode-notebook-cell:/Users/oraichain/Desktop/test%20100%20api/100API.ipynb#ch0000093?line=10'>11</a>\u001b[0m response \u001b[39m=\u001b[39m requests\u001b[39m.\u001b[39mpost(url, json\u001b[39m=\u001b[39mdata, headers\u001b[39m=\u001b[39mheaders)\n\u001b[1;32m     <a href='vscode-notebook-cell:/Users/oraichain/Desktop/test%20100%20api/100API.ipynb#ch0000093?line=11'>12</a>\u001b[0m \u001b[39mprint\u001b[39m(data)\n\u001b[0;32m---> <a href='vscode-notebook-cell:/Users/oraichain/Desktop/test%20100%20api/100API.ipynb#ch0000093?line=12'>13</a>\u001b[0m \u001b[39mprint\u001b[39m(response\u001b[39m.\u001b[39;49mjson())\n",
      "File \u001b[0;32m/Library/Frameworks/Python.framework/Versions/3.10/lib/python3.10/site-packages/requests/models.py:975\u001b[0m, in \u001b[0;36mResponse.json\u001b[0;34m(self, **kwargs)\u001b[0m\n\u001b[1;32m    971\u001b[0m     \u001b[39mreturn\u001b[39;00m complexjson\u001b[39m.\u001b[39mloads(\u001b[39mself\u001b[39m\u001b[39m.\u001b[39mtext, \u001b[39m*\u001b[39m\u001b[39m*\u001b[39mkwargs)\n\u001b[1;32m    972\u001b[0m \u001b[39mexcept\u001b[39;00m JSONDecodeError \u001b[39mas\u001b[39;00m e:\n\u001b[1;32m    973\u001b[0m     \u001b[39m# Catch JSON-related errors and raise as requests.JSONDecodeError\u001b[39;00m\n\u001b[1;32m    974\u001b[0m     \u001b[39m# This aliases json.JSONDecodeError and simplejson.JSONDecodeError\u001b[39;00m\n\u001b[0;32m--> 975\u001b[0m     \u001b[39mraise\u001b[39;00m RequestsJSONDecodeError(e\u001b[39m.\u001b[39mmsg, e\u001b[39m.\u001b[39mdoc, e\u001b[39m.\u001b[39mpos)\n",
      "\u001b[0;31mJSONDecodeError\u001b[0m: Expecting value: line 1 column 1 (char 0)"
     ]
    }
   ],
   "source": [
    "#nl017\n",
    "url = 'https://100api.orai.dev/nl017'\n",
    "data = {\n",
    "  \"text_input\": \"The Chrysler Building, the famous art deco New York skyscraper, will be sold for a small fraction of its previous sales price. The deal, first reported by The Real Deal, was for $150 million, according to a source familiar with the deal. Mubadala, an Abu Dhabi investment fund, purchased 90% of the building for $800 million in 2008. Real estate firm Tishman Speyer had owned the other 10%. The buyer is RFR Holding, a New York real estate company. Officials with Tishman and RFR did not immediately respond to a request for comments. It's unclear when the deal will close. The building sold fairly quickly after being publicly placed on the market only two months ago. The sale was handled by CBRE Group. The incentive to sell the building at such a huge loss was due to the soaring rent the owners pay to Cooper Union, a New York college, for the land under the building. The rent is rising from $7.75 million last year to $32.5 million this year to $41 million in 2028. Meantime, rents in the building itself are not rising nearly that fast. While the building is an iconic landmark in the New York skyline, it is competing against newer office towers with large floor-to-ceiling windows and all the modern amenities. Still the building is among the best known in the city, even to people who have never been to New York. It is famous for its triangle-shaped, vaulted windows worked into the stylized crown, along with its distinctive eagle gargoyles near the top. It has been featured prominently in many films, including Men in Black 3, Spider-Man, Armageddon, Two Weeks Notice and Independence Day. The previous sale took place just before the 2008 financial meltdown led to a plunge in real estate prices. Still there have been a number of high profile skyscrapers purchased for top dollar in recent years, including the Waldorf Astoria hotel, which Chinese firm Anbang Insurance purchased in 2016 for nearly $2 billion, and the Willis Tower in Chicago, which was formerly known as Sears Tower, once the world's tallest. Blackstone Group (BX) bought it for $1.3 billion 2015. The Chrysler Building was the headquarters of the American automaker until 1953, but it was named for and owned by Chrysler chief Walter Chrysler, not the company itself. Walter Chrysler had set out to build the tallest building in the world, a competition at that time with another Manhattan skyscraper under construction at 40 Wall Street at the south end of Manhattan. He kept secret the plans for the spire that would grace the top of the building, building it inside the structure and out of view of the public until 40 Wall Street was complete. Once the competitor could rise no higher, the spire of the Chrysler building was raised into view, giving it the title.\",\n",
    "  \"number_sentence\": 1\n",
    "}\n",
    "  \n",
    "headers = {\n",
    "        'Authorization': 'ai_market'\n",
    "    }\n",
    "response = requests.post(url, json=data, headers=headers)\n",
    "print(data)\n",
    "print(response.json())"
   ]
  },
  {
   "cell_type": "code",
   "execution_count": 19,
   "metadata": {},
   "outputs": [
    {
     "name": "stdout",
     "output_type": "stream",
     "text": [
      "{'sentence': 'This question seems simple'}\n"
     ]
    },
    {
     "ename": "JSONDecodeError",
     "evalue": "Expecting value: line 1 column 1 (char 0)",
     "output_type": "error",
     "traceback": [
      "\u001b[0;31m---------------------------------------------------------------------------\u001b[0m",
      "\u001b[0;31mJSONDecodeError\u001b[0m                           Traceback (most recent call last)",
      "File \u001b[0;32m/Library/Frameworks/Python.framework/Versions/3.10/lib/python3.10/site-packages/requests/models.py:971\u001b[0m, in \u001b[0;36mResponse.json\u001b[0;34m(self, **kwargs)\u001b[0m\n\u001b[1;32m    970\u001b[0m \u001b[39mtry\u001b[39;00m:\n\u001b[0;32m--> 971\u001b[0m     \u001b[39mreturn\u001b[39;00m complexjson\u001b[39m.\u001b[39;49mloads(\u001b[39mself\u001b[39;49m\u001b[39m.\u001b[39;49mtext, \u001b[39m*\u001b[39;49m\u001b[39m*\u001b[39;49mkwargs)\n\u001b[1;32m    972\u001b[0m \u001b[39mexcept\u001b[39;00m JSONDecodeError \u001b[39mas\u001b[39;00m e:\n\u001b[1;32m    973\u001b[0m     \u001b[39m# Catch JSON-related errors and raise as requests.JSONDecodeError\u001b[39;00m\n\u001b[1;32m    974\u001b[0m     \u001b[39m# This aliases json.JSONDecodeError and simplejson.JSONDecodeError\u001b[39;00m\n",
      "File \u001b[0;32m/Library/Frameworks/Python.framework/Versions/3.10/lib/python3.10/json/__init__.py:346\u001b[0m, in \u001b[0;36mloads\u001b[0;34m(s, cls, object_hook, parse_float, parse_int, parse_constant, object_pairs_hook, **kw)\u001b[0m\n\u001b[1;32m    343\u001b[0m \u001b[39mif\u001b[39;00m (\u001b[39mcls\u001b[39m \u001b[39mis\u001b[39;00m \u001b[39mNone\u001b[39;00m \u001b[39mand\u001b[39;00m object_hook \u001b[39mis\u001b[39;00m \u001b[39mNone\u001b[39;00m \u001b[39mand\u001b[39;00m\n\u001b[1;32m    344\u001b[0m         parse_int \u001b[39mis\u001b[39;00m \u001b[39mNone\u001b[39;00m \u001b[39mand\u001b[39;00m parse_float \u001b[39mis\u001b[39;00m \u001b[39mNone\u001b[39;00m \u001b[39mand\u001b[39;00m\n\u001b[1;32m    345\u001b[0m         parse_constant \u001b[39mis\u001b[39;00m \u001b[39mNone\u001b[39;00m \u001b[39mand\u001b[39;00m object_pairs_hook \u001b[39mis\u001b[39;00m \u001b[39mNone\u001b[39;00m \u001b[39mand\u001b[39;00m \u001b[39mnot\u001b[39;00m kw):\n\u001b[0;32m--> 346\u001b[0m     \u001b[39mreturn\u001b[39;00m _default_decoder\u001b[39m.\u001b[39;49mdecode(s)\n\u001b[1;32m    347\u001b[0m \u001b[39mif\u001b[39;00m \u001b[39mcls\u001b[39m \u001b[39mis\u001b[39;00m \u001b[39mNone\u001b[39;00m:\n",
      "File \u001b[0;32m/Library/Frameworks/Python.framework/Versions/3.10/lib/python3.10/json/decoder.py:337\u001b[0m, in \u001b[0;36mJSONDecoder.decode\u001b[0;34m(self, s, _w)\u001b[0m\n\u001b[1;32m    333\u001b[0m \u001b[39m\"\"\"Return the Python representation of ``s`` (a ``str`` instance\u001b[39;00m\n\u001b[1;32m    334\u001b[0m \u001b[39mcontaining a JSON document).\u001b[39;00m\n\u001b[1;32m    335\u001b[0m \n\u001b[1;32m    336\u001b[0m \u001b[39m\"\"\"\u001b[39;00m\n\u001b[0;32m--> 337\u001b[0m obj, end \u001b[39m=\u001b[39m \u001b[39mself\u001b[39;49m\u001b[39m.\u001b[39;49mraw_decode(s, idx\u001b[39m=\u001b[39;49m_w(s, \u001b[39m0\u001b[39;49m)\u001b[39m.\u001b[39;49mend())\n\u001b[1;32m    338\u001b[0m end \u001b[39m=\u001b[39m _w(s, end)\u001b[39m.\u001b[39mend()\n",
      "File \u001b[0;32m/Library/Frameworks/Python.framework/Versions/3.10/lib/python3.10/json/decoder.py:355\u001b[0m, in \u001b[0;36mJSONDecoder.raw_decode\u001b[0;34m(self, s, idx)\u001b[0m\n\u001b[1;32m    354\u001b[0m \u001b[39mexcept\u001b[39;00m \u001b[39mStopIteration\u001b[39;00m \u001b[39mas\u001b[39;00m err:\n\u001b[0;32m--> 355\u001b[0m     \u001b[39mraise\u001b[39;00m JSONDecodeError(\u001b[39m\"\u001b[39m\u001b[39mExpecting value\u001b[39m\u001b[39m\"\u001b[39m, s, err\u001b[39m.\u001b[39mvalue) \u001b[39mfrom\u001b[39;00m \u001b[39mNone\u001b[39m\n\u001b[1;32m    356\u001b[0m \u001b[39mreturn\u001b[39;00m obj, end\n",
      "\u001b[0;31mJSONDecodeError\u001b[0m: Expecting value: line 1 column 1 (char 0)",
      "\nDuring handling of the above exception, another exception occurred:\n",
      "\u001b[0;31mJSONDecodeError\u001b[0m                           Traceback (most recent call last)",
      "\u001b[1;32m/Users/oraichain/Desktop/test 100 api/100API.ipynb Cell 91\u001b[0m in \u001b[0;36m<cell line: 12>\u001b[0;34m()\u001b[0m\n\u001b[1;32m     <a href='vscode-notebook-cell:/Users/oraichain/Desktop/test%20100%20api/100API.ipynb#ch0000092?line=9'>10</a>\u001b[0m response \u001b[39m=\u001b[39m requests\u001b[39m.\u001b[39mpost(url, json\u001b[39m=\u001b[39mdata, headers\u001b[39m=\u001b[39mheaders)\n\u001b[1;32m     <a href='vscode-notebook-cell:/Users/oraichain/Desktop/test%20100%20api/100API.ipynb#ch0000092?line=10'>11</a>\u001b[0m \u001b[39mprint\u001b[39m(data)\n\u001b[0;32m---> <a href='vscode-notebook-cell:/Users/oraichain/Desktop/test%20100%20api/100API.ipynb#ch0000092?line=11'>12</a>\u001b[0m \u001b[39mprint\u001b[39m(response\u001b[39m.\u001b[39;49mjson())\n",
      "File \u001b[0;32m/Library/Frameworks/Python.framework/Versions/3.10/lib/python3.10/site-packages/requests/models.py:975\u001b[0m, in \u001b[0;36mResponse.json\u001b[0;34m(self, **kwargs)\u001b[0m\n\u001b[1;32m    971\u001b[0m     \u001b[39mreturn\u001b[39;00m complexjson\u001b[39m.\u001b[39mloads(\u001b[39mself\u001b[39m\u001b[39m.\u001b[39mtext, \u001b[39m*\u001b[39m\u001b[39m*\u001b[39mkwargs)\n\u001b[1;32m    972\u001b[0m \u001b[39mexcept\u001b[39;00m JSONDecodeError \u001b[39mas\u001b[39;00m e:\n\u001b[1;32m    973\u001b[0m     \u001b[39m# Catch JSON-related errors and raise as requests.JSONDecodeError\u001b[39;00m\n\u001b[1;32m    974\u001b[0m     \u001b[39m# This aliases json.JSONDecodeError and simplejson.JSONDecodeError\u001b[39;00m\n\u001b[0;32m--> 975\u001b[0m     \u001b[39mraise\u001b[39;00m RequestsJSONDecodeError(e\u001b[39m.\u001b[39mmsg, e\u001b[39m.\u001b[39mdoc, e\u001b[39m.\u001b[39mpos)\n",
      "\u001b[0;31mJSONDecodeError\u001b[0m: Expecting value: line 1 column 1 (char 0)"
     ]
    }
   ],
   "source": [
    "#nl020\n",
    "url = 'https://100api.orai.dev/nl020'\n",
    "data = {\n",
    "  \"sentence\": \"This question seems simple\"\n",
    "}\n",
    "  \n",
    "headers = {\n",
    "        'Authorization': 'ai_market'\n",
    "    }\n",
    "response = requests.post(url, json=data, headers=headers)\n",
    "print(data)\n",
    "print(response.json())"
   ]
  },
  {
   "cell_type": "code",
   "execution_count": 20,
   "metadata": {},
   "outputs": [
    {
     "name": "stdout",
     "output_type": "stream",
     "text": [
      "{'paragraph': \"This question seems simple, so many people fail to prepare for it, but it’s crucial. Here's the deal: Don’t give your complete employment (or personal) history. Instead, give a pitch—one that’s concise and compelling and that shows exactly why you’re the right fit for the job. Muse writer and MIT career counselor Lily Zhang recommends using a present, past, future formula. Talk a little bit about your current role (including the scope and perhaps one big accomplishment), then give some background as to how you got there and experience you\", 'question': 'how you got there and experience you'}\n"
     ]
    },
    {
     "ename": "JSONDecodeError",
     "evalue": "Expecting value: line 1 column 1 (char 0)",
     "output_type": "error",
     "traceback": [
      "\u001b[0;31m---------------------------------------------------------------------------\u001b[0m",
      "\u001b[0;31mJSONDecodeError\u001b[0m                           Traceback (most recent call last)",
      "File \u001b[0;32m/Library/Frameworks/Python.framework/Versions/3.10/lib/python3.10/site-packages/requests/models.py:971\u001b[0m, in \u001b[0;36mResponse.json\u001b[0;34m(self, **kwargs)\u001b[0m\n\u001b[1;32m    970\u001b[0m \u001b[39mtry\u001b[39;00m:\n\u001b[0;32m--> 971\u001b[0m     \u001b[39mreturn\u001b[39;00m complexjson\u001b[39m.\u001b[39;49mloads(\u001b[39mself\u001b[39;49m\u001b[39m.\u001b[39;49mtext, \u001b[39m*\u001b[39;49m\u001b[39m*\u001b[39;49mkwargs)\n\u001b[1;32m    972\u001b[0m \u001b[39mexcept\u001b[39;00m JSONDecodeError \u001b[39mas\u001b[39;00m e:\n\u001b[1;32m    973\u001b[0m     \u001b[39m# Catch JSON-related errors and raise as requests.JSONDecodeError\u001b[39;00m\n\u001b[1;32m    974\u001b[0m     \u001b[39m# This aliases json.JSONDecodeError and simplejson.JSONDecodeError\u001b[39;00m\n",
      "File \u001b[0;32m/Library/Frameworks/Python.framework/Versions/3.10/lib/python3.10/json/__init__.py:346\u001b[0m, in \u001b[0;36mloads\u001b[0;34m(s, cls, object_hook, parse_float, parse_int, parse_constant, object_pairs_hook, **kw)\u001b[0m\n\u001b[1;32m    343\u001b[0m \u001b[39mif\u001b[39;00m (\u001b[39mcls\u001b[39m \u001b[39mis\u001b[39;00m \u001b[39mNone\u001b[39;00m \u001b[39mand\u001b[39;00m object_hook \u001b[39mis\u001b[39;00m \u001b[39mNone\u001b[39;00m \u001b[39mand\u001b[39;00m\n\u001b[1;32m    344\u001b[0m         parse_int \u001b[39mis\u001b[39;00m \u001b[39mNone\u001b[39;00m \u001b[39mand\u001b[39;00m parse_float \u001b[39mis\u001b[39;00m \u001b[39mNone\u001b[39;00m \u001b[39mand\u001b[39;00m\n\u001b[1;32m    345\u001b[0m         parse_constant \u001b[39mis\u001b[39;00m \u001b[39mNone\u001b[39;00m \u001b[39mand\u001b[39;00m object_pairs_hook \u001b[39mis\u001b[39;00m \u001b[39mNone\u001b[39;00m \u001b[39mand\u001b[39;00m \u001b[39mnot\u001b[39;00m kw):\n\u001b[0;32m--> 346\u001b[0m     \u001b[39mreturn\u001b[39;00m _default_decoder\u001b[39m.\u001b[39;49mdecode(s)\n\u001b[1;32m    347\u001b[0m \u001b[39mif\u001b[39;00m \u001b[39mcls\u001b[39m \u001b[39mis\u001b[39;00m \u001b[39mNone\u001b[39;00m:\n",
      "File \u001b[0;32m/Library/Frameworks/Python.framework/Versions/3.10/lib/python3.10/json/decoder.py:337\u001b[0m, in \u001b[0;36mJSONDecoder.decode\u001b[0;34m(self, s, _w)\u001b[0m\n\u001b[1;32m    333\u001b[0m \u001b[39m\"\"\"Return the Python representation of ``s`` (a ``str`` instance\u001b[39;00m\n\u001b[1;32m    334\u001b[0m \u001b[39mcontaining a JSON document).\u001b[39;00m\n\u001b[1;32m    335\u001b[0m \n\u001b[1;32m    336\u001b[0m \u001b[39m\"\"\"\u001b[39;00m\n\u001b[0;32m--> 337\u001b[0m obj, end \u001b[39m=\u001b[39m \u001b[39mself\u001b[39;49m\u001b[39m.\u001b[39;49mraw_decode(s, idx\u001b[39m=\u001b[39;49m_w(s, \u001b[39m0\u001b[39;49m)\u001b[39m.\u001b[39;49mend())\n\u001b[1;32m    338\u001b[0m end \u001b[39m=\u001b[39m _w(s, end)\u001b[39m.\u001b[39mend()\n",
      "File \u001b[0;32m/Library/Frameworks/Python.framework/Versions/3.10/lib/python3.10/json/decoder.py:355\u001b[0m, in \u001b[0;36mJSONDecoder.raw_decode\u001b[0;34m(self, s, idx)\u001b[0m\n\u001b[1;32m    354\u001b[0m \u001b[39mexcept\u001b[39;00m \u001b[39mStopIteration\u001b[39;00m \u001b[39mas\u001b[39;00m err:\n\u001b[0;32m--> 355\u001b[0m     \u001b[39mraise\u001b[39;00m JSONDecodeError(\u001b[39m\"\u001b[39m\u001b[39mExpecting value\u001b[39m\u001b[39m\"\u001b[39m, s, err\u001b[39m.\u001b[39mvalue) \u001b[39mfrom\u001b[39;00m \u001b[39mNone\u001b[39m\n\u001b[1;32m    356\u001b[0m \u001b[39mreturn\u001b[39;00m obj, end\n",
      "\u001b[0;31mJSONDecodeError\u001b[0m: Expecting value: line 1 column 1 (char 0)",
      "\nDuring handling of the above exception, another exception occurred:\n",
      "\u001b[0;31mJSONDecodeError\u001b[0m                           Traceback (most recent call last)",
      "\u001b[1;32m/Users/oraichain/Desktop/test 100 api/100API.ipynb Cell 92\u001b[0m in \u001b[0;36m<cell line: 13>\u001b[0;34m()\u001b[0m\n\u001b[1;32m     <a href='vscode-notebook-cell:/Users/oraichain/Desktop/test%20100%20api/100API.ipynb#ch0000091?line=10'>11</a>\u001b[0m response \u001b[39m=\u001b[39m requests\u001b[39m.\u001b[39mpost(url, json\u001b[39m=\u001b[39mdata, headers\u001b[39m=\u001b[39mheaders)\n\u001b[1;32m     <a href='vscode-notebook-cell:/Users/oraichain/Desktop/test%20100%20api/100API.ipynb#ch0000091?line=11'>12</a>\u001b[0m \u001b[39mprint\u001b[39m(data)\n\u001b[0;32m---> <a href='vscode-notebook-cell:/Users/oraichain/Desktop/test%20100%20api/100API.ipynb#ch0000091?line=12'>13</a>\u001b[0m \u001b[39mprint\u001b[39m(response\u001b[39m.\u001b[39;49mjson())\n",
      "File \u001b[0;32m/Library/Frameworks/Python.framework/Versions/3.10/lib/python3.10/site-packages/requests/models.py:975\u001b[0m, in \u001b[0;36mResponse.json\u001b[0;34m(self, **kwargs)\u001b[0m\n\u001b[1;32m    971\u001b[0m     \u001b[39mreturn\u001b[39;00m complexjson\u001b[39m.\u001b[39mloads(\u001b[39mself\u001b[39m\u001b[39m.\u001b[39mtext, \u001b[39m*\u001b[39m\u001b[39m*\u001b[39mkwargs)\n\u001b[1;32m    972\u001b[0m \u001b[39mexcept\u001b[39;00m JSONDecodeError \u001b[39mas\u001b[39;00m e:\n\u001b[1;32m    973\u001b[0m     \u001b[39m# Catch JSON-related errors and raise as requests.JSONDecodeError\u001b[39;00m\n\u001b[1;32m    974\u001b[0m     \u001b[39m# This aliases json.JSONDecodeError and simplejson.JSONDecodeError\u001b[39;00m\n\u001b[0;32m--> 975\u001b[0m     \u001b[39mraise\u001b[39;00m RequestsJSONDecodeError(e\u001b[39m.\u001b[39mmsg, e\u001b[39m.\u001b[39mdoc, e\u001b[39m.\u001b[39mpos)\n",
      "\u001b[0;31mJSONDecodeError\u001b[0m: Expecting value: line 1 column 1 (char 0)"
     ]
    }
   ],
   "source": [
    "#nl021\n",
    "url = 'https://100api.orai.dev/nl021'\n",
    "data = {\n",
    "  \"paragraph\": \"This question seems simple, so many people fail to prepare for it, but it’s crucial. Here's the deal: Don’t give your complete employment (or personal) history. Instead, give a pitch—one that’s concise and compelling and that shows exactly why you’re the right fit for the job. Muse writer and MIT career counselor Lily Zhang recommends using a present, past, future formula. Talk a little bit about your current role (including the scope and perhaps one big accomplishment), then give some background as to how you got there and experience you\",\n",
    "  \"question\": \"how you got there and experience you\"\n",
    "}\n",
    "  \n",
    "headers = {\n",
    "        'Authorization': 'ai_market'\n",
    "    }\n",
    "response = requests.post(url, json=data, headers=headers)\n",
    "print(data)\n",
    "print(response.json())"
   ]
  },
  {
   "cell_type": "code",
   "execution_count": 21,
   "metadata": {},
   "outputs": [
    {
     "name": "stdout",
     "output_type": "stream",
     "text": [
      "{'input_text': 'we are human'}\n"
     ]
    },
    {
     "ename": "JSONDecodeError",
     "evalue": "Expecting value: line 1 column 1 (char 0)",
     "output_type": "error",
     "traceback": [
      "\u001b[0;31m---------------------------------------------------------------------------\u001b[0m",
      "\u001b[0;31mJSONDecodeError\u001b[0m                           Traceback (most recent call last)",
      "File \u001b[0;32m/Library/Frameworks/Python.framework/Versions/3.10/lib/python3.10/site-packages/requests/models.py:971\u001b[0m, in \u001b[0;36mResponse.json\u001b[0;34m(self, **kwargs)\u001b[0m\n\u001b[1;32m    970\u001b[0m \u001b[39mtry\u001b[39;00m:\n\u001b[0;32m--> 971\u001b[0m     \u001b[39mreturn\u001b[39;00m complexjson\u001b[39m.\u001b[39;49mloads(\u001b[39mself\u001b[39;49m\u001b[39m.\u001b[39;49mtext, \u001b[39m*\u001b[39;49m\u001b[39m*\u001b[39;49mkwargs)\n\u001b[1;32m    972\u001b[0m \u001b[39mexcept\u001b[39;00m JSONDecodeError \u001b[39mas\u001b[39;00m e:\n\u001b[1;32m    973\u001b[0m     \u001b[39m# Catch JSON-related errors and raise as requests.JSONDecodeError\u001b[39;00m\n\u001b[1;32m    974\u001b[0m     \u001b[39m# This aliases json.JSONDecodeError and simplejson.JSONDecodeError\u001b[39;00m\n",
      "File \u001b[0;32m/Library/Frameworks/Python.framework/Versions/3.10/lib/python3.10/json/__init__.py:346\u001b[0m, in \u001b[0;36mloads\u001b[0;34m(s, cls, object_hook, parse_float, parse_int, parse_constant, object_pairs_hook, **kw)\u001b[0m\n\u001b[1;32m    343\u001b[0m \u001b[39mif\u001b[39;00m (\u001b[39mcls\u001b[39m \u001b[39mis\u001b[39;00m \u001b[39mNone\u001b[39;00m \u001b[39mand\u001b[39;00m object_hook \u001b[39mis\u001b[39;00m \u001b[39mNone\u001b[39;00m \u001b[39mand\u001b[39;00m\n\u001b[1;32m    344\u001b[0m         parse_int \u001b[39mis\u001b[39;00m \u001b[39mNone\u001b[39;00m \u001b[39mand\u001b[39;00m parse_float \u001b[39mis\u001b[39;00m \u001b[39mNone\u001b[39;00m \u001b[39mand\u001b[39;00m\n\u001b[1;32m    345\u001b[0m         parse_constant \u001b[39mis\u001b[39;00m \u001b[39mNone\u001b[39;00m \u001b[39mand\u001b[39;00m object_pairs_hook \u001b[39mis\u001b[39;00m \u001b[39mNone\u001b[39;00m \u001b[39mand\u001b[39;00m \u001b[39mnot\u001b[39;00m kw):\n\u001b[0;32m--> 346\u001b[0m     \u001b[39mreturn\u001b[39;00m _default_decoder\u001b[39m.\u001b[39;49mdecode(s)\n\u001b[1;32m    347\u001b[0m \u001b[39mif\u001b[39;00m \u001b[39mcls\u001b[39m \u001b[39mis\u001b[39;00m \u001b[39mNone\u001b[39;00m:\n",
      "File \u001b[0;32m/Library/Frameworks/Python.framework/Versions/3.10/lib/python3.10/json/decoder.py:337\u001b[0m, in \u001b[0;36mJSONDecoder.decode\u001b[0;34m(self, s, _w)\u001b[0m\n\u001b[1;32m    333\u001b[0m \u001b[39m\"\"\"Return the Python representation of ``s`` (a ``str`` instance\u001b[39;00m\n\u001b[1;32m    334\u001b[0m \u001b[39mcontaining a JSON document).\u001b[39;00m\n\u001b[1;32m    335\u001b[0m \n\u001b[1;32m    336\u001b[0m \u001b[39m\"\"\"\u001b[39;00m\n\u001b[0;32m--> 337\u001b[0m obj, end \u001b[39m=\u001b[39m \u001b[39mself\u001b[39;49m\u001b[39m.\u001b[39;49mraw_decode(s, idx\u001b[39m=\u001b[39;49m_w(s, \u001b[39m0\u001b[39;49m)\u001b[39m.\u001b[39;49mend())\n\u001b[1;32m    338\u001b[0m end \u001b[39m=\u001b[39m _w(s, end)\u001b[39m.\u001b[39mend()\n",
      "File \u001b[0;32m/Library/Frameworks/Python.framework/Versions/3.10/lib/python3.10/json/decoder.py:355\u001b[0m, in \u001b[0;36mJSONDecoder.raw_decode\u001b[0;34m(self, s, idx)\u001b[0m\n\u001b[1;32m    354\u001b[0m \u001b[39mexcept\u001b[39;00m \u001b[39mStopIteration\u001b[39;00m \u001b[39mas\u001b[39;00m err:\n\u001b[0;32m--> 355\u001b[0m     \u001b[39mraise\u001b[39;00m JSONDecodeError(\u001b[39m\"\u001b[39m\u001b[39mExpecting value\u001b[39m\u001b[39m\"\u001b[39m, s, err\u001b[39m.\u001b[39mvalue) \u001b[39mfrom\u001b[39;00m \u001b[39mNone\u001b[39m\n\u001b[1;32m    356\u001b[0m \u001b[39mreturn\u001b[39;00m obj, end\n",
      "\u001b[0;31mJSONDecodeError\u001b[0m: Expecting value: line 1 column 1 (char 0)",
      "\nDuring handling of the above exception, another exception occurred:\n",
      "\u001b[0;31mJSONDecodeError\u001b[0m                           Traceback (most recent call last)",
      "\u001b[1;32m/Users/oraichain/Desktop/test 100 api/100API.ipynb Cell 93\u001b[0m in \u001b[0;36m<cell line: 12>\u001b[0;34m()\u001b[0m\n\u001b[1;32m     <a href='vscode-notebook-cell:/Users/oraichain/Desktop/test%20100%20api/100API.ipynb#ch0000090?line=9'>10</a>\u001b[0m response \u001b[39m=\u001b[39m requests\u001b[39m.\u001b[39mpost(url, json\u001b[39m=\u001b[39mdata, headers\u001b[39m=\u001b[39mheaders)\n\u001b[1;32m     <a href='vscode-notebook-cell:/Users/oraichain/Desktop/test%20100%20api/100API.ipynb#ch0000090?line=10'>11</a>\u001b[0m \u001b[39mprint\u001b[39m(data)\n\u001b[0;32m---> <a href='vscode-notebook-cell:/Users/oraichain/Desktop/test%20100%20api/100API.ipynb#ch0000090?line=11'>12</a>\u001b[0m \u001b[39mprint\u001b[39m(response\u001b[39m.\u001b[39;49mjson())\n",
      "File \u001b[0;32m/Library/Frameworks/Python.framework/Versions/3.10/lib/python3.10/site-packages/requests/models.py:975\u001b[0m, in \u001b[0;36mResponse.json\u001b[0;34m(self, **kwargs)\u001b[0m\n\u001b[1;32m    971\u001b[0m     \u001b[39mreturn\u001b[39;00m complexjson\u001b[39m.\u001b[39mloads(\u001b[39mself\u001b[39m\u001b[39m.\u001b[39mtext, \u001b[39m*\u001b[39m\u001b[39m*\u001b[39mkwargs)\n\u001b[1;32m    972\u001b[0m \u001b[39mexcept\u001b[39;00m JSONDecodeError \u001b[39mas\u001b[39;00m e:\n\u001b[1;32m    973\u001b[0m     \u001b[39m# Catch JSON-related errors and raise as requests.JSONDecodeError\u001b[39;00m\n\u001b[1;32m    974\u001b[0m     \u001b[39m# This aliases json.JSONDecodeError and simplejson.JSONDecodeError\u001b[39;00m\n\u001b[0;32m--> 975\u001b[0m     \u001b[39mraise\u001b[39;00m RequestsJSONDecodeError(e\u001b[39m.\u001b[39mmsg, e\u001b[39m.\u001b[39mdoc, e\u001b[39m.\u001b[39mpos)\n",
      "\u001b[0;31mJSONDecodeError\u001b[0m: Expecting value: line 1 column 1 (char 0)"
     ]
    }
   ],
   "source": [
    "#nl023\n",
    "url = 'https://100api.orai.dev/nl023'\n",
    "data = {\n",
    "  \"input_text\": \"we are human\"\n",
    "}\n",
    "  \n",
    "headers = {\n",
    "        'Authorization': 'ai_market'\n",
    "    }\n",
    "response = requests.post(url, json=data, headers=headers)\n",
    "print(data)\n",
    "print(response.json())"
   ]
  },
  {
   "cell_type": "code",
   "execution_count": 22,
   "metadata": {},
   "outputs": [
    {
     "name": "stdout",
     "output_type": "stream",
     "text": [
      "{'text': 'my name is orai'}\n"
     ]
    },
    {
     "ename": "JSONDecodeError",
     "evalue": "Expecting value: line 1 column 1 (char 0)",
     "output_type": "error",
     "traceback": [
      "\u001b[0;31m---------------------------------------------------------------------------\u001b[0m",
      "\u001b[0;31mJSONDecodeError\u001b[0m                           Traceback (most recent call last)",
      "File \u001b[0;32m/Library/Frameworks/Python.framework/Versions/3.10/lib/python3.10/site-packages/requests/models.py:971\u001b[0m, in \u001b[0;36mResponse.json\u001b[0;34m(self, **kwargs)\u001b[0m\n\u001b[1;32m    970\u001b[0m \u001b[39mtry\u001b[39;00m:\n\u001b[0;32m--> 971\u001b[0m     \u001b[39mreturn\u001b[39;00m complexjson\u001b[39m.\u001b[39;49mloads(\u001b[39mself\u001b[39;49m\u001b[39m.\u001b[39;49mtext, \u001b[39m*\u001b[39;49m\u001b[39m*\u001b[39;49mkwargs)\n\u001b[1;32m    972\u001b[0m \u001b[39mexcept\u001b[39;00m JSONDecodeError \u001b[39mas\u001b[39;00m e:\n\u001b[1;32m    973\u001b[0m     \u001b[39m# Catch JSON-related errors and raise as requests.JSONDecodeError\u001b[39;00m\n\u001b[1;32m    974\u001b[0m     \u001b[39m# This aliases json.JSONDecodeError and simplejson.JSONDecodeError\u001b[39;00m\n",
      "File \u001b[0;32m/Library/Frameworks/Python.framework/Versions/3.10/lib/python3.10/json/__init__.py:346\u001b[0m, in \u001b[0;36mloads\u001b[0;34m(s, cls, object_hook, parse_float, parse_int, parse_constant, object_pairs_hook, **kw)\u001b[0m\n\u001b[1;32m    343\u001b[0m \u001b[39mif\u001b[39;00m (\u001b[39mcls\u001b[39m \u001b[39mis\u001b[39;00m \u001b[39mNone\u001b[39;00m \u001b[39mand\u001b[39;00m object_hook \u001b[39mis\u001b[39;00m \u001b[39mNone\u001b[39;00m \u001b[39mand\u001b[39;00m\n\u001b[1;32m    344\u001b[0m         parse_int \u001b[39mis\u001b[39;00m \u001b[39mNone\u001b[39;00m \u001b[39mand\u001b[39;00m parse_float \u001b[39mis\u001b[39;00m \u001b[39mNone\u001b[39;00m \u001b[39mand\u001b[39;00m\n\u001b[1;32m    345\u001b[0m         parse_constant \u001b[39mis\u001b[39;00m \u001b[39mNone\u001b[39;00m \u001b[39mand\u001b[39;00m object_pairs_hook \u001b[39mis\u001b[39;00m \u001b[39mNone\u001b[39;00m \u001b[39mand\u001b[39;00m \u001b[39mnot\u001b[39;00m kw):\n\u001b[0;32m--> 346\u001b[0m     \u001b[39mreturn\u001b[39;00m _default_decoder\u001b[39m.\u001b[39;49mdecode(s)\n\u001b[1;32m    347\u001b[0m \u001b[39mif\u001b[39;00m \u001b[39mcls\u001b[39m \u001b[39mis\u001b[39;00m \u001b[39mNone\u001b[39;00m:\n",
      "File \u001b[0;32m/Library/Frameworks/Python.framework/Versions/3.10/lib/python3.10/json/decoder.py:337\u001b[0m, in \u001b[0;36mJSONDecoder.decode\u001b[0;34m(self, s, _w)\u001b[0m\n\u001b[1;32m    333\u001b[0m \u001b[39m\"\"\"Return the Python representation of ``s`` (a ``str`` instance\u001b[39;00m\n\u001b[1;32m    334\u001b[0m \u001b[39mcontaining a JSON document).\u001b[39;00m\n\u001b[1;32m    335\u001b[0m \n\u001b[1;32m    336\u001b[0m \u001b[39m\"\"\"\u001b[39;00m\n\u001b[0;32m--> 337\u001b[0m obj, end \u001b[39m=\u001b[39m \u001b[39mself\u001b[39;49m\u001b[39m.\u001b[39;49mraw_decode(s, idx\u001b[39m=\u001b[39;49m_w(s, \u001b[39m0\u001b[39;49m)\u001b[39m.\u001b[39;49mend())\n\u001b[1;32m    338\u001b[0m end \u001b[39m=\u001b[39m _w(s, end)\u001b[39m.\u001b[39mend()\n",
      "File \u001b[0;32m/Library/Frameworks/Python.framework/Versions/3.10/lib/python3.10/json/decoder.py:355\u001b[0m, in \u001b[0;36mJSONDecoder.raw_decode\u001b[0;34m(self, s, idx)\u001b[0m\n\u001b[1;32m    354\u001b[0m \u001b[39mexcept\u001b[39;00m \u001b[39mStopIteration\u001b[39;00m \u001b[39mas\u001b[39;00m err:\n\u001b[0;32m--> 355\u001b[0m     \u001b[39mraise\u001b[39;00m JSONDecodeError(\u001b[39m\"\u001b[39m\u001b[39mExpecting value\u001b[39m\u001b[39m\"\u001b[39m, s, err\u001b[39m.\u001b[39mvalue) \u001b[39mfrom\u001b[39;00m \u001b[39mNone\u001b[39m\n\u001b[1;32m    356\u001b[0m \u001b[39mreturn\u001b[39;00m obj, end\n",
      "\u001b[0;31mJSONDecodeError\u001b[0m: Expecting value: line 1 column 1 (char 0)",
      "\nDuring handling of the above exception, another exception occurred:\n",
      "\u001b[0;31mJSONDecodeError\u001b[0m                           Traceback (most recent call last)",
      "\u001b[1;32m/Users/oraichain/Desktop/test 100 api/100API.ipynb Cell 94\u001b[0m in \u001b[0;36m<cell line: 12>\u001b[0;34m()\u001b[0m\n\u001b[1;32m     <a href='vscode-notebook-cell:/Users/oraichain/Desktop/test%20100%20api/100API.ipynb#ch0000089?line=9'>10</a>\u001b[0m response \u001b[39m=\u001b[39m requests\u001b[39m.\u001b[39mpost(url, json\u001b[39m=\u001b[39mdata, headers\u001b[39m=\u001b[39mheaders)\n\u001b[1;32m     <a href='vscode-notebook-cell:/Users/oraichain/Desktop/test%20100%20api/100API.ipynb#ch0000089?line=10'>11</a>\u001b[0m \u001b[39mprint\u001b[39m(data)\n\u001b[0;32m---> <a href='vscode-notebook-cell:/Users/oraichain/Desktop/test%20100%20api/100API.ipynb#ch0000089?line=11'>12</a>\u001b[0m \u001b[39mprint\u001b[39m(response\u001b[39m.\u001b[39;49mjson())\n",
      "File \u001b[0;32m/Library/Frameworks/Python.framework/Versions/3.10/lib/python3.10/site-packages/requests/models.py:975\u001b[0m, in \u001b[0;36mResponse.json\u001b[0;34m(self, **kwargs)\u001b[0m\n\u001b[1;32m    971\u001b[0m     \u001b[39mreturn\u001b[39;00m complexjson\u001b[39m.\u001b[39mloads(\u001b[39mself\u001b[39m\u001b[39m.\u001b[39mtext, \u001b[39m*\u001b[39m\u001b[39m*\u001b[39mkwargs)\n\u001b[1;32m    972\u001b[0m \u001b[39mexcept\u001b[39;00m JSONDecodeError \u001b[39mas\u001b[39;00m e:\n\u001b[1;32m    973\u001b[0m     \u001b[39m# Catch JSON-related errors and raise as requests.JSONDecodeError\u001b[39;00m\n\u001b[1;32m    974\u001b[0m     \u001b[39m# This aliases json.JSONDecodeError and simplejson.JSONDecodeError\u001b[39;00m\n\u001b[0;32m--> 975\u001b[0m     \u001b[39mraise\u001b[39;00m RequestsJSONDecodeError(e\u001b[39m.\u001b[39mmsg, e\u001b[39m.\u001b[39mdoc, e\u001b[39m.\u001b[39mpos)\n",
      "\u001b[0;31mJSONDecodeError\u001b[0m: Expecting value: line 1 column 1 (char 0)"
     ]
    }
   ],
   "source": [
    "#nl024\n",
    "url = 'https://100api.orai.dev/nl024'\n",
    "data = {\n",
    "  \"text\": \"my name is orai\"\n",
    "}\n",
    "  \n",
    "headers = {\n",
    "        'Authorization': 'ai_market'\n",
    "    }\n",
    "response = requests.post(url, json=data, headers=headers)\n",
    "print(data)\n",
    "print(response.json())"
   ]
  },
  {
   "cell_type": "code",
   "execution_count": 23,
   "metadata": {},
   "outputs": [
    {
     "name": "stdout",
     "output_type": "stream",
     "text": [
      "{'input_text': 'i love watching golf ! flag in hole ️ not'}\n"
     ]
    },
    {
     "ename": "JSONDecodeError",
     "evalue": "Expecting value: line 1 column 1 (char 0)",
     "output_type": "error",
     "traceback": [
      "\u001b[0;31m---------------------------------------------------------------------------\u001b[0m",
      "\u001b[0;31mJSONDecodeError\u001b[0m                           Traceback (most recent call last)",
      "File \u001b[0;32m/Library/Frameworks/Python.framework/Versions/3.10/lib/python3.10/site-packages/requests/models.py:971\u001b[0m, in \u001b[0;36mResponse.json\u001b[0;34m(self, **kwargs)\u001b[0m\n\u001b[1;32m    970\u001b[0m \u001b[39mtry\u001b[39;00m:\n\u001b[0;32m--> 971\u001b[0m     \u001b[39mreturn\u001b[39;00m complexjson\u001b[39m.\u001b[39;49mloads(\u001b[39mself\u001b[39;49m\u001b[39m.\u001b[39;49mtext, \u001b[39m*\u001b[39;49m\u001b[39m*\u001b[39;49mkwargs)\n\u001b[1;32m    972\u001b[0m \u001b[39mexcept\u001b[39;00m JSONDecodeError \u001b[39mas\u001b[39;00m e:\n\u001b[1;32m    973\u001b[0m     \u001b[39m# Catch JSON-related errors and raise as requests.JSONDecodeError\u001b[39;00m\n\u001b[1;32m    974\u001b[0m     \u001b[39m# This aliases json.JSONDecodeError and simplejson.JSONDecodeError\u001b[39;00m\n",
      "File \u001b[0;32m/Library/Frameworks/Python.framework/Versions/3.10/lib/python3.10/json/__init__.py:346\u001b[0m, in \u001b[0;36mloads\u001b[0;34m(s, cls, object_hook, parse_float, parse_int, parse_constant, object_pairs_hook, **kw)\u001b[0m\n\u001b[1;32m    343\u001b[0m \u001b[39mif\u001b[39;00m (\u001b[39mcls\u001b[39m \u001b[39mis\u001b[39;00m \u001b[39mNone\u001b[39;00m \u001b[39mand\u001b[39;00m object_hook \u001b[39mis\u001b[39;00m \u001b[39mNone\u001b[39;00m \u001b[39mand\u001b[39;00m\n\u001b[1;32m    344\u001b[0m         parse_int \u001b[39mis\u001b[39;00m \u001b[39mNone\u001b[39;00m \u001b[39mand\u001b[39;00m parse_float \u001b[39mis\u001b[39;00m \u001b[39mNone\u001b[39;00m \u001b[39mand\u001b[39;00m\n\u001b[1;32m    345\u001b[0m         parse_constant \u001b[39mis\u001b[39;00m \u001b[39mNone\u001b[39;00m \u001b[39mand\u001b[39;00m object_pairs_hook \u001b[39mis\u001b[39;00m \u001b[39mNone\u001b[39;00m \u001b[39mand\u001b[39;00m \u001b[39mnot\u001b[39;00m kw):\n\u001b[0;32m--> 346\u001b[0m     \u001b[39mreturn\u001b[39;00m _default_decoder\u001b[39m.\u001b[39;49mdecode(s)\n\u001b[1;32m    347\u001b[0m \u001b[39mif\u001b[39;00m \u001b[39mcls\u001b[39m \u001b[39mis\u001b[39;00m \u001b[39mNone\u001b[39;00m:\n",
      "File \u001b[0;32m/Library/Frameworks/Python.framework/Versions/3.10/lib/python3.10/json/decoder.py:337\u001b[0m, in \u001b[0;36mJSONDecoder.decode\u001b[0;34m(self, s, _w)\u001b[0m\n\u001b[1;32m    333\u001b[0m \u001b[39m\"\"\"Return the Python representation of ``s`` (a ``str`` instance\u001b[39;00m\n\u001b[1;32m    334\u001b[0m \u001b[39mcontaining a JSON document).\u001b[39;00m\n\u001b[1;32m    335\u001b[0m \n\u001b[1;32m    336\u001b[0m \u001b[39m\"\"\"\u001b[39;00m\n\u001b[0;32m--> 337\u001b[0m obj, end \u001b[39m=\u001b[39m \u001b[39mself\u001b[39;49m\u001b[39m.\u001b[39;49mraw_decode(s, idx\u001b[39m=\u001b[39;49m_w(s, \u001b[39m0\u001b[39;49m)\u001b[39m.\u001b[39;49mend())\n\u001b[1;32m    338\u001b[0m end \u001b[39m=\u001b[39m _w(s, end)\u001b[39m.\u001b[39mend()\n",
      "File \u001b[0;32m/Library/Frameworks/Python.framework/Versions/3.10/lib/python3.10/json/decoder.py:355\u001b[0m, in \u001b[0;36mJSONDecoder.raw_decode\u001b[0;34m(self, s, idx)\u001b[0m\n\u001b[1;32m    354\u001b[0m \u001b[39mexcept\u001b[39;00m \u001b[39mStopIteration\u001b[39;00m \u001b[39mas\u001b[39;00m err:\n\u001b[0;32m--> 355\u001b[0m     \u001b[39mraise\u001b[39;00m JSONDecodeError(\u001b[39m\"\u001b[39m\u001b[39mExpecting value\u001b[39m\u001b[39m\"\u001b[39m, s, err\u001b[39m.\u001b[39mvalue) \u001b[39mfrom\u001b[39;00m \u001b[39mNone\u001b[39m\n\u001b[1;32m    356\u001b[0m \u001b[39mreturn\u001b[39;00m obj, end\n",
      "\u001b[0;31mJSONDecodeError\u001b[0m: Expecting value: line 1 column 1 (char 0)",
      "\nDuring handling of the above exception, another exception occurred:\n",
      "\u001b[0;31mJSONDecodeError\u001b[0m                           Traceback (most recent call last)",
      "\u001b[1;32m/Users/oraichain/Desktop/test 100 api/100API.ipynb Cell 95\u001b[0m in \u001b[0;36m<cell line: 12>\u001b[0;34m()\u001b[0m\n\u001b[1;32m     <a href='vscode-notebook-cell:/Users/oraichain/Desktop/test%20100%20api/100API.ipynb#ch0000094?line=9'>10</a>\u001b[0m response \u001b[39m=\u001b[39m requests\u001b[39m.\u001b[39mpost(url, json\u001b[39m=\u001b[39mdata, headers\u001b[39m=\u001b[39mheaders)\n\u001b[1;32m     <a href='vscode-notebook-cell:/Users/oraichain/Desktop/test%20100%20api/100API.ipynb#ch0000094?line=10'>11</a>\u001b[0m \u001b[39mprint\u001b[39m(data)\n\u001b[0;32m---> <a href='vscode-notebook-cell:/Users/oraichain/Desktop/test%20100%20api/100API.ipynb#ch0000094?line=11'>12</a>\u001b[0m \u001b[39mprint\u001b[39m(response\u001b[39m.\u001b[39;49mjson())\n",
      "File \u001b[0;32m/Library/Frameworks/Python.framework/Versions/3.10/lib/python3.10/site-packages/requests/models.py:975\u001b[0m, in \u001b[0;36mResponse.json\u001b[0;34m(self, **kwargs)\u001b[0m\n\u001b[1;32m    971\u001b[0m     \u001b[39mreturn\u001b[39;00m complexjson\u001b[39m.\u001b[39mloads(\u001b[39mself\u001b[39m\u001b[39m.\u001b[39mtext, \u001b[39m*\u001b[39m\u001b[39m*\u001b[39mkwargs)\n\u001b[1;32m    972\u001b[0m \u001b[39mexcept\u001b[39;00m JSONDecodeError \u001b[39mas\u001b[39;00m e:\n\u001b[1;32m    973\u001b[0m     \u001b[39m# Catch JSON-related errors and raise as requests.JSONDecodeError\u001b[39;00m\n\u001b[1;32m    974\u001b[0m     \u001b[39m# This aliases json.JSONDecodeError and simplejson.JSONDecodeError\u001b[39;00m\n\u001b[0;32m--> 975\u001b[0m     \u001b[39mraise\u001b[39;00m RequestsJSONDecodeError(e\u001b[39m.\u001b[39mmsg, e\u001b[39m.\u001b[39mdoc, e\u001b[39m.\u001b[39mpos)\n",
      "\u001b[0;31mJSONDecodeError\u001b[0m: Expecting value: line 1 column 1 (char 0)"
     ]
    }
   ],
   "source": [
    "#nl025\n",
    "url = 'https://100api.orai.dev/nl025'\n",
    "data = {\n",
    "  \"input_text\": \"i love watching golf ! flag in hole ️ not\"\n",
    "}\n",
    "  \n",
    "headers = {\n",
    "        'Authorization': 'ai_market'\n",
    "    }\n",
    "response = requests.post(url, json=data, headers=headers)\n",
    "print(data)\n",
    "print(response.json())"
   ]
  },
  {
   "cell_type": "code",
   "execution_count": 24,
   "metadata": {},
   "outputs": [
    {
     "name": "stdout",
     "output_type": "stream",
     "text": [
      "{'sentence': 'He was the son of Máel Dúin mac Máele Fithrich, and gra'}\n"
     ]
    },
    {
     "ename": "JSONDecodeError",
     "evalue": "Expecting value: line 1 column 1 (char 0)",
     "output_type": "error",
     "traceback": [
      "\u001b[0;31m---------------------------------------------------------------------------\u001b[0m",
      "\u001b[0;31mJSONDecodeError\u001b[0m                           Traceback (most recent call last)",
      "File \u001b[0;32m/Library/Frameworks/Python.framework/Versions/3.10/lib/python3.10/site-packages/requests/models.py:971\u001b[0m, in \u001b[0;36mResponse.json\u001b[0;34m(self, **kwargs)\u001b[0m\n\u001b[1;32m    970\u001b[0m \u001b[39mtry\u001b[39;00m:\n\u001b[0;32m--> 971\u001b[0m     \u001b[39mreturn\u001b[39;00m complexjson\u001b[39m.\u001b[39;49mloads(\u001b[39mself\u001b[39;49m\u001b[39m.\u001b[39;49mtext, \u001b[39m*\u001b[39;49m\u001b[39m*\u001b[39;49mkwargs)\n\u001b[1;32m    972\u001b[0m \u001b[39mexcept\u001b[39;00m JSONDecodeError \u001b[39mas\u001b[39;00m e:\n\u001b[1;32m    973\u001b[0m     \u001b[39m# Catch JSON-related errors and raise as requests.JSONDecodeError\u001b[39;00m\n\u001b[1;32m    974\u001b[0m     \u001b[39m# This aliases json.JSONDecodeError and simplejson.JSONDecodeError\u001b[39;00m\n",
      "File \u001b[0;32m/Library/Frameworks/Python.framework/Versions/3.10/lib/python3.10/json/__init__.py:346\u001b[0m, in \u001b[0;36mloads\u001b[0;34m(s, cls, object_hook, parse_float, parse_int, parse_constant, object_pairs_hook, **kw)\u001b[0m\n\u001b[1;32m    343\u001b[0m \u001b[39mif\u001b[39;00m (\u001b[39mcls\u001b[39m \u001b[39mis\u001b[39;00m \u001b[39mNone\u001b[39;00m \u001b[39mand\u001b[39;00m object_hook \u001b[39mis\u001b[39;00m \u001b[39mNone\u001b[39;00m \u001b[39mand\u001b[39;00m\n\u001b[1;32m    344\u001b[0m         parse_int \u001b[39mis\u001b[39;00m \u001b[39mNone\u001b[39;00m \u001b[39mand\u001b[39;00m parse_float \u001b[39mis\u001b[39;00m \u001b[39mNone\u001b[39;00m \u001b[39mand\u001b[39;00m\n\u001b[1;32m    345\u001b[0m         parse_constant \u001b[39mis\u001b[39;00m \u001b[39mNone\u001b[39;00m \u001b[39mand\u001b[39;00m object_pairs_hook \u001b[39mis\u001b[39;00m \u001b[39mNone\u001b[39;00m \u001b[39mand\u001b[39;00m \u001b[39mnot\u001b[39;00m kw):\n\u001b[0;32m--> 346\u001b[0m     \u001b[39mreturn\u001b[39;00m _default_decoder\u001b[39m.\u001b[39;49mdecode(s)\n\u001b[1;32m    347\u001b[0m \u001b[39mif\u001b[39;00m \u001b[39mcls\u001b[39m \u001b[39mis\u001b[39;00m \u001b[39mNone\u001b[39;00m:\n",
      "File \u001b[0;32m/Library/Frameworks/Python.framework/Versions/3.10/lib/python3.10/json/decoder.py:337\u001b[0m, in \u001b[0;36mJSONDecoder.decode\u001b[0;34m(self, s, _w)\u001b[0m\n\u001b[1;32m    333\u001b[0m \u001b[39m\"\"\"Return the Python representation of ``s`` (a ``str`` instance\u001b[39;00m\n\u001b[1;32m    334\u001b[0m \u001b[39mcontaining a JSON document).\u001b[39;00m\n\u001b[1;32m    335\u001b[0m \n\u001b[1;32m    336\u001b[0m \u001b[39m\"\"\"\u001b[39;00m\n\u001b[0;32m--> 337\u001b[0m obj, end \u001b[39m=\u001b[39m \u001b[39mself\u001b[39;49m\u001b[39m.\u001b[39;49mraw_decode(s, idx\u001b[39m=\u001b[39;49m_w(s, \u001b[39m0\u001b[39;49m)\u001b[39m.\u001b[39;49mend())\n\u001b[1;32m    338\u001b[0m end \u001b[39m=\u001b[39m _w(s, end)\u001b[39m.\u001b[39mend()\n",
      "File \u001b[0;32m/Library/Frameworks/Python.framework/Versions/3.10/lib/python3.10/json/decoder.py:355\u001b[0m, in \u001b[0;36mJSONDecoder.raw_decode\u001b[0;34m(self, s, idx)\u001b[0m\n\u001b[1;32m    354\u001b[0m \u001b[39mexcept\u001b[39;00m \u001b[39mStopIteration\u001b[39;00m \u001b[39mas\u001b[39;00m err:\n\u001b[0;32m--> 355\u001b[0m     \u001b[39mraise\u001b[39;00m JSONDecodeError(\u001b[39m\"\u001b[39m\u001b[39mExpecting value\u001b[39m\u001b[39m\"\u001b[39m, s, err\u001b[39m.\u001b[39mvalue) \u001b[39mfrom\u001b[39;00m \u001b[39mNone\u001b[39m\n\u001b[1;32m    356\u001b[0m \u001b[39mreturn\u001b[39;00m obj, end\n",
      "\u001b[0;31mJSONDecodeError\u001b[0m: Expecting value: line 1 column 1 (char 0)",
      "\nDuring handling of the above exception, another exception occurred:\n",
      "\u001b[0;31mJSONDecodeError\u001b[0m                           Traceback (most recent call last)",
      "\u001b[1;32m/Users/oraichain/Desktop/test 100 api/100API.ipynb Cell 96\u001b[0m in \u001b[0;36m<cell line: 12>\u001b[0;34m()\u001b[0m\n\u001b[1;32m     <a href='vscode-notebook-cell:/Users/oraichain/Desktop/test%20100%20api/100API.ipynb#ch0000099?line=9'>10</a>\u001b[0m response \u001b[39m=\u001b[39m requests\u001b[39m.\u001b[39mpost(url, json\u001b[39m=\u001b[39mdata, headers\u001b[39m=\u001b[39mheaders)\n\u001b[1;32m     <a href='vscode-notebook-cell:/Users/oraichain/Desktop/test%20100%20api/100API.ipynb#ch0000099?line=10'>11</a>\u001b[0m \u001b[39mprint\u001b[39m(data)\n\u001b[0;32m---> <a href='vscode-notebook-cell:/Users/oraichain/Desktop/test%20100%20api/100API.ipynb#ch0000099?line=11'>12</a>\u001b[0m \u001b[39mprint\u001b[39m(response\u001b[39m.\u001b[39;49mjson())\n",
      "File \u001b[0;32m/Library/Frameworks/Python.framework/Versions/3.10/lib/python3.10/site-packages/requests/models.py:975\u001b[0m, in \u001b[0;36mResponse.json\u001b[0;34m(self, **kwargs)\u001b[0m\n\u001b[1;32m    971\u001b[0m     \u001b[39mreturn\u001b[39;00m complexjson\u001b[39m.\u001b[39mloads(\u001b[39mself\u001b[39m\u001b[39m.\u001b[39mtext, \u001b[39m*\u001b[39m\u001b[39m*\u001b[39mkwargs)\n\u001b[1;32m    972\u001b[0m \u001b[39mexcept\u001b[39;00m JSONDecodeError \u001b[39mas\u001b[39;00m e:\n\u001b[1;32m    973\u001b[0m     \u001b[39m# Catch JSON-related errors and raise as requests.JSONDecodeError\u001b[39;00m\n\u001b[1;32m    974\u001b[0m     \u001b[39m# This aliases json.JSONDecodeError and simplejson.JSONDecodeError\u001b[39;00m\n\u001b[0;32m--> 975\u001b[0m     \u001b[39mraise\u001b[39;00m RequestsJSONDecodeError(e\u001b[39m.\u001b[39mmsg, e\u001b[39m.\u001b[39mdoc, e\u001b[39m.\u001b[39mpos)\n",
      "\u001b[0;31mJSONDecodeError\u001b[0m: Expecting value: line 1 column 1 (char 0)"
     ]
    }
   ],
   "source": [
    "#nl026\n",
    "url = 'https://100api.orai.dev/nl026'\n",
    "data = {\n",
    "  \"sentence\": \"He was the son of Máel Dúin mac Máele Fithrich, and gra\"\n",
    "}\n",
    "  \n",
    "headers = {\n",
    "        'Authorization': 'ai_market'\n",
    "    }\n",
    "response = requests.post(url, json=data, headers=headers)\n",
    "print(data)\n",
    "print(response.json())"
   ]
  },
  {
   "cell_type": "code",
   "execution_count": 25,
   "metadata": {},
   "outputs": [
    {
     "name": "stdout",
     "output_type": "stream",
     "text": [
      "{'sentence': 'Barack Obama was born in Honolulu, Hawaii.'}\n"
     ]
    },
    {
     "ename": "JSONDecodeError",
     "evalue": "Expecting value: line 1 column 1 (char 0)",
     "output_type": "error",
     "traceback": [
      "\u001b[0;31m---------------------------------------------------------------------------\u001b[0m",
      "\u001b[0;31mJSONDecodeError\u001b[0m                           Traceback (most recent call last)",
      "File \u001b[0;32m/Library/Frameworks/Python.framework/Versions/3.10/lib/python3.10/site-packages/requests/models.py:971\u001b[0m, in \u001b[0;36mResponse.json\u001b[0;34m(self, **kwargs)\u001b[0m\n\u001b[1;32m    970\u001b[0m \u001b[39mtry\u001b[39;00m:\n\u001b[0;32m--> 971\u001b[0m     \u001b[39mreturn\u001b[39;00m complexjson\u001b[39m.\u001b[39;49mloads(\u001b[39mself\u001b[39;49m\u001b[39m.\u001b[39;49mtext, \u001b[39m*\u001b[39;49m\u001b[39m*\u001b[39;49mkwargs)\n\u001b[1;32m    972\u001b[0m \u001b[39mexcept\u001b[39;00m JSONDecodeError \u001b[39mas\u001b[39;00m e:\n\u001b[1;32m    973\u001b[0m     \u001b[39m# Catch JSON-related errors and raise as requests.JSONDecodeError\u001b[39;00m\n\u001b[1;32m    974\u001b[0m     \u001b[39m# This aliases json.JSONDecodeError and simplejson.JSONDecodeError\u001b[39;00m\n",
      "File \u001b[0;32m/Library/Frameworks/Python.framework/Versions/3.10/lib/python3.10/json/__init__.py:346\u001b[0m, in \u001b[0;36mloads\u001b[0;34m(s, cls, object_hook, parse_float, parse_int, parse_constant, object_pairs_hook, **kw)\u001b[0m\n\u001b[1;32m    343\u001b[0m \u001b[39mif\u001b[39;00m (\u001b[39mcls\u001b[39m \u001b[39mis\u001b[39;00m \u001b[39mNone\u001b[39;00m \u001b[39mand\u001b[39;00m object_hook \u001b[39mis\u001b[39;00m \u001b[39mNone\u001b[39;00m \u001b[39mand\u001b[39;00m\n\u001b[1;32m    344\u001b[0m         parse_int \u001b[39mis\u001b[39;00m \u001b[39mNone\u001b[39;00m \u001b[39mand\u001b[39;00m parse_float \u001b[39mis\u001b[39;00m \u001b[39mNone\u001b[39;00m \u001b[39mand\u001b[39;00m\n\u001b[1;32m    345\u001b[0m         parse_constant \u001b[39mis\u001b[39;00m \u001b[39mNone\u001b[39;00m \u001b[39mand\u001b[39;00m object_pairs_hook \u001b[39mis\u001b[39;00m \u001b[39mNone\u001b[39;00m \u001b[39mand\u001b[39;00m \u001b[39mnot\u001b[39;00m kw):\n\u001b[0;32m--> 346\u001b[0m     \u001b[39mreturn\u001b[39;00m _default_decoder\u001b[39m.\u001b[39;49mdecode(s)\n\u001b[1;32m    347\u001b[0m \u001b[39mif\u001b[39;00m \u001b[39mcls\u001b[39m \u001b[39mis\u001b[39;00m \u001b[39mNone\u001b[39;00m:\n",
      "File \u001b[0;32m/Library/Frameworks/Python.framework/Versions/3.10/lib/python3.10/json/decoder.py:337\u001b[0m, in \u001b[0;36mJSONDecoder.decode\u001b[0;34m(self, s, _w)\u001b[0m\n\u001b[1;32m    333\u001b[0m \u001b[39m\"\"\"Return the Python representation of ``s`` (a ``str`` instance\u001b[39;00m\n\u001b[1;32m    334\u001b[0m \u001b[39mcontaining a JSON document).\u001b[39;00m\n\u001b[1;32m    335\u001b[0m \n\u001b[1;32m    336\u001b[0m \u001b[39m\"\"\"\u001b[39;00m\n\u001b[0;32m--> 337\u001b[0m obj, end \u001b[39m=\u001b[39m \u001b[39mself\u001b[39;49m\u001b[39m.\u001b[39;49mraw_decode(s, idx\u001b[39m=\u001b[39;49m_w(s, \u001b[39m0\u001b[39;49m)\u001b[39m.\u001b[39;49mend())\n\u001b[1;32m    338\u001b[0m end \u001b[39m=\u001b[39m _w(s, end)\u001b[39m.\u001b[39mend()\n",
      "File \u001b[0;32m/Library/Frameworks/Python.framework/Versions/3.10/lib/python3.10/json/decoder.py:355\u001b[0m, in \u001b[0;36mJSONDecoder.raw_decode\u001b[0;34m(self, s, idx)\u001b[0m\n\u001b[1;32m    354\u001b[0m \u001b[39mexcept\u001b[39;00m \u001b[39mStopIteration\u001b[39;00m \u001b[39mas\u001b[39;00m err:\n\u001b[0;32m--> 355\u001b[0m     \u001b[39mraise\u001b[39;00m JSONDecodeError(\u001b[39m\"\u001b[39m\u001b[39mExpecting value\u001b[39m\u001b[39m\"\u001b[39m, s, err\u001b[39m.\u001b[39mvalue) \u001b[39mfrom\u001b[39;00m \u001b[39mNone\u001b[39m\n\u001b[1;32m    356\u001b[0m \u001b[39mreturn\u001b[39;00m obj, end\n",
      "\u001b[0;31mJSONDecodeError\u001b[0m: Expecting value: line 1 column 1 (char 0)",
      "\nDuring handling of the above exception, another exception occurred:\n",
      "\u001b[0;31mJSONDecodeError\u001b[0m                           Traceback (most recent call last)",
      "\u001b[1;32m/Users/oraichain/Desktop/test 100 api/100API.ipynb Cell 97\u001b[0m in \u001b[0;36m<cell line: 12>\u001b[0;34m()\u001b[0m\n\u001b[1;32m     <a href='vscode-notebook-cell:/Users/oraichain/Desktop/test%20100%20api/100API.ipynb#ch0000098?line=9'>10</a>\u001b[0m response \u001b[39m=\u001b[39m requests\u001b[39m.\u001b[39mpost(url, json\u001b[39m=\u001b[39mdata, headers\u001b[39m=\u001b[39mheaders)\n\u001b[1;32m     <a href='vscode-notebook-cell:/Users/oraichain/Desktop/test%20100%20api/100API.ipynb#ch0000098?line=10'>11</a>\u001b[0m \u001b[39mprint\u001b[39m(data)\n\u001b[0;32m---> <a href='vscode-notebook-cell:/Users/oraichain/Desktop/test%20100%20api/100API.ipynb#ch0000098?line=11'>12</a>\u001b[0m \u001b[39mprint\u001b[39m(response\u001b[39m.\u001b[39;49mjson())\n",
      "File \u001b[0;32m/Library/Frameworks/Python.framework/Versions/3.10/lib/python3.10/site-packages/requests/models.py:975\u001b[0m, in \u001b[0;36mResponse.json\u001b[0;34m(self, **kwargs)\u001b[0m\n\u001b[1;32m    971\u001b[0m     \u001b[39mreturn\u001b[39;00m complexjson\u001b[39m.\u001b[39mloads(\u001b[39mself\u001b[39m\u001b[39m.\u001b[39mtext, \u001b[39m*\u001b[39m\u001b[39m*\u001b[39mkwargs)\n\u001b[1;32m    972\u001b[0m \u001b[39mexcept\u001b[39;00m JSONDecodeError \u001b[39mas\u001b[39;00m e:\n\u001b[1;32m    973\u001b[0m     \u001b[39m# Catch JSON-related errors and raise as requests.JSONDecodeError\u001b[39;00m\n\u001b[1;32m    974\u001b[0m     \u001b[39m# This aliases json.JSONDecodeError and simplejson.JSONDecodeError\u001b[39;00m\n\u001b[0;32m--> 975\u001b[0m     \u001b[39mraise\u001b[39;00m RequestsJSONDecodeError(e\u001b[39m.\u001b[39mmsg, e\u001b[39m.\u001b[39mdoc, e\u001b[39m.\u001b[39mpos)\n",
      "\u001b[0;31mJSONDecodeError\u001b[0m: Expecting value: line 1 column 1 (char 0)"
     ]
    }
   ],
   "source": [
    "#nl027\n",
    "url = 'https://100api.orai.dev/nl027'\n",
    "data = {\n",
    "  \"sentence\": \"Barack Obama was born in Honolulu, Hawaii.\"\n",
    "}\n",
    "  \n",
    "headers = {\n",
    "        'Authorization': 'ai_market'\n",
    "    }\n",
    "response = requests.post(url, json=data, headers=headers)\n",
    "print(data)\n",
    "print(response.json())"
   ]
  },
  {
   "cell_type": "code",
   "execution_count": 26,
   "metadata": {},
   "outputs": [
    {
     "name": "stdout",
     "output_type": "stream",
     "text": [
      "{'sentence': 'i go to scoolll'}\n"
     ]
    },
    {
     "ename": "JSONDecodeError",
     "evalue": "Expecting value: line 1 column 1 (char 0)",
     "output_type": "error",
     "traceback": [
      "\u001b[0;31m---------------------------------------------------------------------------\u001b[0m",
      "\u001b[0;31mJSONDecodeError\u001b[0m                           Traceback (most recent call last)",
      "File \u001b[0;32m/Library/Frameworks/Python.framework/Versions/3.10/lib/python3.10/site-packages/requests/models.py:971\u001b[0m, in \u001b[0;36mResponse.json\u001b[0;34m(self, **kwargs)\u001b[0m\n\u001b[1;32m    970\u001b[0m \u001b[39mtry\u001b[39;00m:\n\u001b[0;32m--> 971\u001b[0m     \u001b[39mreturn\u001b[39;00m complexjson\u001b[39m.\u001b[39;49mloads(\u001b[39mself\u001b[39;49m\u001b[39m.\u001b[39;49mtext, \u001b[39m*\u001b[39;49m\u001b[39m*\u001b[39;49mkwargs)\n\u001b[1;32m    972\u001b[0m \u001b[39mexcept\u001b[39;00m JSONDecodeError \u001b[39mas\u001b[39;00m e:\n\u001b[1;32m    973\u001b[0m     \u001b[39m# Catch JSON-related errors and raise as requests.JSONDecodeError\u001b[39;00m\n\u001b[1;32m    974\u001b[0m     \u001b[39m# This aliases json.JSONDecodeError and simplejson.JSONDecodeError\u001b[39;00m\n",
      "File \u001b[0;32m/Library/Frameworks/Python.framework/Versions/3.10/lib/python3.10/json/__init__.py:346\u001b[0m, in \u001b[0;36mloads\u001b[0;34m(s, cls, object_hook, parse_float, parse_int, parse_constant, object_pairs_hook, **kw)\u001b[0m\n\u001b[1;32m    343\u001b[0m \u001b[39mif\u001b[39;00m (\u001b[39mcls\u001b[39m \u001b[39mis\u001b[39;00m \u001b[39mNone\u001b[39;00m \u001b[39mand\u001b[39;00m object_hook \u001b[39mis\u001b[39;00m \u001b[39mNone\u001b[39;00m \u001b[39mand\u001b[39;00m\n\u001b[1;32m    344\u001b[0m         parse_int \u001b[39mis\u001b[39;00m \u001b[39mNone\u001b[39;00m \u001b[39mand\u001b[39;00m parse_float \u001b[39mis\u001b[39;00m \u001b[39mNone\u001b[39;00m \u001b[39mand\u001b[39;00m\n\u001b[1;32m    345\u001b[0m         parse_constant \u001b[39mis\u001b[39;00m \u001b[39mNone\u001b[39;00m \u001b[39mand\u001b[39;00m object_pairs_hook \u001b[39mis\u001b[39;00m \u001b[39mNone\u001b[39;00m \u001b[39mand\u001b[39;00m \u001b[39mnot\u001b[39;00m kw):\n\u001b[0;32m--> 346\u001b[0m     \u001b[39mreturn\u001b[39;00m _default_decoder\u001b[39m.\u001b[39;49mdecode(s)\n\u001b[1;32m    347\u001b[0m \u001b[39mif\u001b[39;00m \u001b[39mcls\u001b[39m \u001b[39mis\u001b[39;00m \u001b[39mNone\u001b[39;00m:\n",
      "File \u001b[0;32m/Library/Frameworks/Python.framework/Versions/3.10/lib/python3.10/json/decoder.py:337\u001b[0m, in \u001b[0;36mJSONDecoder.decode\u001b[0;34m(self, s, _w)\u001b[0m\n\u001b[1;32m    333\u001b[0m \u001b[39m\"\"\"Return the Python representation of ``s`` (a ``str`` instance\u001b[39;00m\n\u001b[1;32m    334\u001b[0m \u001b[39mcontaining a JSON document).\u001b[39;00m\n\u001b[1;32m    335\u001b[0m \n\u001b[1;32m    336\u001b[0m \u001b[39m\"\"\"\u001b[39;00m\n\u001b[0;32m--> 337\u001b[0m obj, end \u001b[39m=\u001b[39m \u001b[39mself\u001b[39;49m\u001b[39m.\u001b[39;49mraw_decode(s, idx\u001b[39m=\u001b[39;49m_w(s, \u001b[39m0\u001b[39;49m)\u001b[39m.\u001b[39;49mend())\n\u001b[1;32m    338\u001b[0m end \u001b[39m=\u001b[39m _w(s, end)\u001b[39m.\u001b[39mend()\n",
      "File \u001b[0;32m/Library/Frameworks/Python.framework/Versions/3.10/lib/python3.10/json/decoder.py:355\u001b[0m, in \u001b[0;36mJSONDecoder.raw_decode\u001b[0;34m(self, s, idx)\u001b[0m\n\u001b[1;32m    354\u001b[0m \u001b[39mexcept\u001b[39;00m \u001b[39mStopIteration\u001b[39;00m \u001b[39mas\u001b[39;00m err:\n\u001b[0;32m--> 355\u001b[0m     \u001b[39mraise\u001b[39;00m JSONDecodeError(\u001b[39m\"\u001b[39m\u001b[39mExpecting value\u001b[39m\u001b[39m\"\u001b[39m, s, err\u001b[39m.\u001b[39mvalue) \u001b[39mfrom\u001b[39;00m \u001b[39mNone\u001b[39m\n\u001b[1;32m    356\u001b[0m \u001b[39mreturn\u001b[39;00m obj, end\n",
      "\u001b[0;31mJSONDecodeError\u001b[0m: Expecting value: line 1 column 1 (char 0)",
      "\nDuring handling of the above exception, another exception occurred:\n",
      "\u001b[0;31mJSONDecodeError\u001b[0m                           Traceback (most recent call last)",
      "\u001b[1;32m/Users/oraichain/Desktop/test 100 api/100API.ipynb Cell 98\u001b[0m in \u001b[0;36m<cell line: 12>\u001b[0;34m()\u001b[0m\n\u001b[1;32m     <a href='vscode-notebook-cell:/Users/oraichain/Desktop/test%20100%20api/100API.ipynb#ch0000097?line=9'>10</a>\u001b[0m response \u001b[39m=\u001b[39m requests\u001b[39m.\u001b[39mpost(url, json\u001b[39m=\u001b[39mdata, headers\u001b[39m=\u001b[39mheaders)\n\u001b[1;32m     <a href='vscode-notebook-cell:/Users/oraichain/Desktop/test%20100%20api/100API.ipynb#ch0000097?line=10'>11</a>\u001b[0m \u001b[39mprint\u001b[39m(data)\n\u001b[0;32m---> <a href='vscode-notebook-cell:/Users/oraichain/Desktop/test%20100%20api/100API.ipynb#ch0000097?line=11'>12</a>\u001b[0m \u001b[39mprint\u001b[39m(response\u001b[39m.\u001b[39;49mjson())\n",
      "File \u001b[0;32m/Library/Frameworks/Python.framework/Versions/3.10/lib/python3.10/site-packages/requests/models.py:975\u001b[0m, in \u001b[0;36mResponse.json\u001b[0;34m(self, **kwargs)\u001b[0m\n\u001b[1;32m    971\u001b[0m     \u001b[39mreturn\u001b[39;00m complexjson\u001b[39m.\u001b[39mloads(\u001b[39mself\u001b[39m\u001b[39m.\u001b[39mtext, \u001b[39m*\u001b[39m\u001b[39m*\u001b[39mkwargs)\n\u001b[1;32m    972\u001b[0m \u001b[39mexcept\u001b[39;00m JSONDecodeError \u001b[39mas\u001b[39;00m e:\n\u001b[1;32m    973\u001b[0m     \u001b[39m# Catch JSON-related errors and raise as requests.JSONDecodeError\u001b[39;00m\n\u001b[1;32m    974\u001b[0m     \u001b[39m# This aliases json.JSONDecodeError and simplejson.JSONDecodeError\u001b[39;00m\n\u001b[0;32m--> 975\u001b[0m     \u001b[39mraise\u001b[39;00m RequestsJSONDecodeError(e\u001b[39m.\u001b[39mmsg, e\u001b[39m.\u001b[39mdoc, e\u001b[39m.\u001b[39mpos)\n",
      "\u001b[0;31mJSONDecodeError\u001b[0m: Expecting value: line 1 column 1 (char 0)"
     ]
    }
   ],
   "source": [
    "#nl028\n",
    "url = 'https://100api.orai.dev/nl028'\n",
    "data = {\n",
    "  \"sentence\": \"i go to scoolll\"\n",
    "}\n",
    "  \n",
    "headers = {\n",
    "        'Authorization': 'ai_market'\n",
    "    }\n",
    "response = requests.post(url, json=data, headers=headers)\n",
    "print(data)\n",
    "print(response.json())"
   ]
  },
  {
   "cell_type": "code",
   "execution_count": 27,
   "metadata": {},
   "outputs": [
    {
     "name": "stdout",
     "output_type": "stream",
     "text": [
      "{'sentence': 'tôi đi học'}\n",
      "{'status': 'success', 'data': {'status': 200, 'message': 'Thành công', 'sentence': 'tôi đi học', 'intent': 'chinh_tri_xa_hoi'}}\n"
     ]
    }
   ],
   "source": [
    "#nl031\n",
    "url = 'https://100api.orai.dev/nl031'\n",
    "data = {\n",
    "  \"sentence\": \"tôi đi học\"\n",
    "}\n",
    "  \n",
    "headers = {\n",
    "        'Authorization': 'ai_market'\n",
    "    }\n",
    "response = requests.post(url, json=data, headers=headers)\n",
    "print(data)\n",
    "print(response.json())"
   ]
  },
  {
   "cell_type": "code",
   "execution_count": 28,
   "metadata": {},
   "outputs": [
    {
     "name": "stdout",
     "output_type": "stream",
     "text": [
      "{'input': 'thanh minh trong tiết tháng 3', 'number_word': 10}\n",
      "{'data': ['thanh minh trong tiết tháng 3', 'ba hàn mông trần duyên mê', 'ở đây trêu thiu thiu nối', 'niềm thai hai bề sang quan', 'khao giở ngày đông phím soi'], 'status': 'success'}\n"
     ]
    }
   ],
   "source": [
    "#nl033_1\n",
    "url = 'https://100api.orai.dev/nl033_1'\n",
    "data = {\n",
    "  \"input\": \"thanh minh trong tiết tháng 3\",\n",
    "  \"number_word\": 10\n",
    "}\n",
    "  \n",
    "headers = {\n",
    "        'Authorization': 'ai_market'\n",
    "    }\n",
    "response = requests.post(url, json=data, headers=headers)\n",
    "print(data)\n",
    "print(response.json())"
   ]
  },
  {
   "cell_type": "code",
   "execution_count": 29,
   "metadata": {},
   "outputs": [
    {
     "name": "stdout",
     "output_type": "stream",
     "text": [
      "{'input': 'i am a good boy', 'number_word': 10}\n",
      "{'data': ['i am a good boy', 'so much in the bed', 'at home gleaming music to', 'neck to stare to neck', 'days so i has emotions'], 'status': 'success'}\n"
     ]
    }
   ],
   "source": [
    "#nl033_2\n",
    "url = 'https://100api.orai.dev/nl033_2'\n",
    "data = {\n",
    "  \"input\": \"i am a good boy\",\n",
    "  \"number_word\": 10\n",
    "}\n",
    "  \n",
    "headers = {\n",
    "        'Authorization': 'ai_market'\n",
    "    }\n",
    "response = requests.post(url, json=data, headers=headers)\n",
    "print(data)\n",
    "print(response.json())"
   ]
  },
  {
   "cell_type": "code",
   "execution_count": 35,
   "metadata": {},
   "outputs": [
    {
     "name": "stdout",
     "output_type": "stream",
     "text": [
      "{'input_source_hash': 'QmbUftpYPE1eTRz8bKa4RvNkUtbYCZYm7uf826ZxZgnw58'}\n",
      "{'data': '400 Bad Request: The browser (or proxy) sent a request that this server could not understand.', 'status': 'error'}\n"
     ]
    }
   ],
   "source": [
    "#sp001\n",
    "url = 'https://100api.orai.dev/sp001'\n",
    "data = {\n",
    "  \"input_source_hash\": \"QmbUftpYPE1eTRz8bKa4RvNkUtbYCZYm7uf826ZxZgnw58\"\n",
    "}\n",
    "  \n",
    "headers = {\n",
    "        'Authorization': 'ai_market'\n",
    "    }\n",
    "response = requests.post(url, data=data, headers=headers)\n",
    "print(data)\n",
    "print(response.json())"
   ]
  },
  {
   "cell_type": "code",
   "execution_count": 36,
   "metadata": {},
   "outputs": [
    {
     "name": "stdout",
     "output_type": "stream",
     "text": [
      "{'input_source_hash': 'QmbUftpYPE1eTRz8bKa4RvNkUtbYCZYm7uf826ZxZgnw58'}\n",
      "{'data': '400 Bad Request: The browser (or proxy) sent a request that this server could not understand.', 'status': 'error'}\n"
     ]
    }
   ],
   "source": [
    "#sp002\n",
    "url = 'https://100api.orai.dev/sp002'\n",
    "data = {\n",
    "  \"input_source_hash\": \"QmbUftpYPE1eTRz8bKa4RvNkUtbYCZYm7uf826ZxZgnw58\"\n",
    "}\n",
    "  \n",
    "headers = {\n",
    "        'Authorization': 'ai_market'\n",
    "    }\n",
    "response = requests.post(url, data=data, headers=headers)\n",
    "print(data)\n",
    "print(response.json())"
   ]
  },
  {
   "cell_type": "code",
   "execution_count": 53,
   "metadata": {},
   "outputs": [
    {
     "name": "stdout",
     "output_type": "stream",
     "text": [
      "{'input_text': 'like object on which you can call functions read or read'}\n",
      "<Response [200]>\n"
     ]
    }
   ],
   "source": [
    "#sp003\n",
    "url = 'https://100api.orai.dev/sp003'\n",
    "data = {\n",
    "  \"input_text\": \"like object on which you can call functions read or read\"\n",
    "}\n",
    "  \n",
    "headers = {\n",
    "        'accept': 'audio/wav',\n",
    "        'Authorization': 'ai_market'\n",
    "    }\n",
    "response = requests.post(url, json=data, headers=headers)\n",
    "print(data)\n",
    "print(response)"
   ]
  },
  {
   "cell_type": "code",
   "execution_count": 54,
   "metadata": {},
   "outputs": [
    {
     "name": "stdout",
     "output_type": "stream",
     "text": [
      "{'input_source_hash': 'QmbUftpYPE1eTRz8bKa4RvNkUtbYCZYm7uf826ZxZgnw58'}\n",
      "{'data': '400 Bad Request: The browser (or proxy) sent a request that this server could not understand.', 'status': 'error'}\n"
     ]
    }
   ],
   "source": [
    "#sp004\n",
    "url = 'https://100api.orai.dev/sp004'\n",
    "data = {\n",
    "  \"input_source_hash\": \"QmbUftpYPE1eTRz8bKa4RvNkUtbYCZYm7uf826ZxZgnw58\"\n",
    "}\n",
    "  \n",
    "headers = {\n",
    "        'Authorization': 'ai_market'\n",
    "    }\n",
    "response = requests.post(url, data=data, headers=headers)\n",
    "print(data)\n",
    "print(response.json())"
   ]
  },
  {
   "cell_type": "code",
   "execution_count": 55,
   "metadata": {},
   "outputs": [
    {
     "name": "stdout",
     "output_type": "stream",
     "text": [
      "{'input_source_hash': 'QmbUftpYPE1eTRz8bKa4RvNkUtbYCZYm7uf826ZxZgnw58'}\n",
      "{'data': '400 Bad Request: The browser (or proxy) sent a request that this server could not understand.', 'status': 'error'}\n"
     ]
    }
   ],
   "source": [
    "#sp005\n",
    "url = 'https://100api.orai.dev/sp005'\n",
    "data = {\n",
    "  \"input_source_hash\": \"QmbUftpYPE1eTRz8bKa4RvNkUtbYCZYm7uf826ZxZgnw58\"\n",
    "}\n",
    "  \n",
    "headers = {\n",
    "        'Authorization': 'ai_market'\n",
    "    }\n",
    "response = requests.post(url, data=data, headers=headers)\n",
    "print(data)\n",
    "print(response.json())"
   ]
  },
  {
   "cell_type": "code",
   "execution_count": 56,
   "metadata": {},
   "outputs": [
    {
     "name": "stdout",
     "output_type": "stream",
     "text": [
      "{'input_source_hash': 'QmbUftpYPE1eTRz8bKa4RvNkUtbYCZYm7uf826ZxZgnw58'}\n",
      "{'data': '400 Bad Request: The browser (or proxy) sent a request that this server could not understand.', 'status': 'error'}\n"
     ]
    }
   ],
   "source": [
    "#sp006_1\n",
    "url = 'https://100api.orai.dev/sp006_1'\n",
    "data = {\n",
    "  \"input_source_hash\": \"QmbUftpYPE1eTRz8bKa4RvNkUtbYCZYm7uf826ZxZgnw58\"\n",
    "}\n",
    "  \n",
    "headers = {\n",
    "        'Authorization': 'ai_market'\n",
    "    }\n",
    "response = requests.post(url, data=data, headers=headers)\n",
    "print(data)\n",
    "print(response.json())"
   ]
  },
  {
   "cell_type": "code",
   "execution_count": null,
   "metadata": {},
   "outputs": [],
   "source": [
    "#sp006_2\n",
    "url = 'https://100api.orai.dev/sp006_2'\n",
    "data = {\n",
    "  \"input_source_hash\": \"QmbUftpYPE1eTRz8bKa4RvNkUtbYCZYm7uf826ZxZgnw58\"\n",
    "}\n",
    "  \n",
    "headers = {\n",
    "        'Authorization': 'ai_market'\n",
    "    }\n",
    "response = requests.post(url, data=data, headers=headers)\n",
    "print(data)\n",
    "print(response.json())"
   ]
  },
  {
   "cell_type": "code",
   "execution_count": 57,
   "metadata": {},
   "outputs": [
    {
     "name": "stdout",
     "output_type": "stream",
     "text": [
      "{'input_source_hash': 'QmbUftpYPE1eTRz8bKa4RvNkUtbYCZYm7uf826ZxZgnw58'}\n",
      "{'data': '400 Bad Request: The browser (or proxy) sent a request that this server could not understand.', 'status': 'error'}\n"
     ]
    }
   ],
   "source": [
    "#sp006_3\n",
    "url = 'https://100api.orai.dev/sp006_3'\n",
    "data = {\n",
    "  \"input_source_hash\": \"QmbUftpYPE1eTRz8bKa4RvNkUtbYCZYm7uf826ZxZgnw58\"\n",
    "}\n",
    "  \n",
    "headers = {\n",
    "        'Authorization': 'ai_market'\n",
    "    }\n",
    "response = requests.post(url, data=data, headers=headers)\n",
    "print(data)\n",
    "print(response.json())"
   ]
  },
  {
   "cell_type": "code",
   "execution_count": 58,
   "metadata": {},
   "outputs": [
    {
     "name": "stdout",
     "output_type": "stream",
     "text": [
      "{'input_source_hash': 'QmbUftpYPE1eTRz8bKa4RvNkUtbYCZYm7uf826ZxZgnw58', 'input_target_hash': 'QmY8BgYUtRqRgK5NF6TwQkhVVZ9BtWp4noNS9LrDwizynr'}\n"
     ]
    },
    {
     "ename": "JSONDecodeError",
     "evalue": "Expecting value: line 1 column 1 (char 0)",
     "output_type": "error",
     "traceback": [
      "\u001b[0;31m---------------------------------------------------------------------------\u001b[0m",
      "\u001b[0;31mJSONDecodeError\u001b[0m                           Traceback (most recent call last)",
      "File \u001b[0;32m/Library/Frameworks/Python.framework/Versions/3.10/lib/python3.10/site-packages/requests/models.py:971\u001b[0m, in \u001b[0;36mResponse.json\u001b[0;34m(self, **kwargs)\u001b[0m\n\u001b[1;32m    970\u001b[0m \u001b[39mtry\u001b[39;00m:\n\u001b[0;32m--> 971\u001b[0m     \u001b[39mreturn\u001b[39;00m complexjson\u001b[39m.\u001b[39;49mloads(\u001b[39mself\u001b[39;49m\u001b[39m.\u001b[39;49mtext, \u001b[39m*\u001b[39;49m\u001b[39m*\u001b[39;49mkwargs)\n\u001b[1;32m    972\u001b[0m \u001b[39mexcept\u001b[39;00m JSONDecodeError \u001b[39mas\u001b[39;00m e:\n\u001b[1;32m    973\u001b[0m     \u001b[39m# Catch JSON-related errors and raise as requests.JSONDecodeError\u001b[39;00m\n\u001b[1;32m    974\u001b[0m     \u001b[39m# This aliases json.JSONDecodeError and simplejson.JSONDecodeError\u001b[39;00m\n",
      "File \u001b[0;32m/Library/Frameworks/Python.framework/Versions/3.10/lib/python3.10/json/__init__.py:346\u001b[0m, in \u001b[0;36mloads\u001b[0;34m(s, cls, object_hook, parse_float, parse_int, parse_constant, object_pairs_hook, **kw)\u001b[0m\n\u001b[1;32m    343\u001b[0m \u001b[39mif\u001b[39;00m (\u001b[39mcls\u001b[39m \u001b[39mis\u001b[39;00m \u001b[39mNone\u001b[39;00m \u001b[39mand\u001b[39;00m object_hook \u001b[39mis\u001b[39;00m \u001b[39mNone\u001b[39;00m \u001b[39mand\u001b[39;00m\n\u001b[1;32m    344\u001b[0m         parse_int \u001b[39mis\u001b[39;00m \u001b[39mNone\u001b[39;00m \u001b[39mand\u001b[39;00m parse_float \u001b[39mis\u001b[39;00m \u001b[39mNone\u001b[39;00m \u001b[39mand\u001b[39;00m\n\u001b[1;32m    345\u001b[0m         parse_constant \u001b[39mis\u001b[39;00m \u001b[39mNone\u001b[39;00m \u001b[39mand\u001b[39;00m object_pairs_hook \u001b[39mis\u001b[39;00m \u001b[39mNone\u001b[39;00m \u001b[39mand\u001b[39;00m \u001b[39mnot\u001b[39;00m kw):\n\u001b[0;32m--> 346\u001b[0m     \u001b[39mreturn\u001b[39;00m _default_decoder\u001b[39m.\u001b[39;49mdecode(s)\n\u001b[1;32m    347\u001b[0m \u001b[39mif\u001b[39;00m \u001b[39mcls\u001b[39m \u001b[39mis\u001b[39;00m \u001b[39mNone\u001b[39;00m:\n",
      "File \u001b[0;32m/Library/Frameworks/Python.framework/Versions/3.10/lib/python3.10/json/decoder.py:337\u001b[0m, in \u001b[0;36mJSONDecoder.decode\u001b[0;34m(self, s, _w)\u001b[0m\n\u001b[1;32m    333\u001b[0m \u001b[39m\"\"\"Return the Python representation of ``s`` (a ``str`` instance\u001b[39;00m\n\u001b[1;32m    334\u001b[0m \u001b[39mcontaining a JSON document).\u001b[39;00m\n\u001b[1;32m    335\u001b[0m \n\u001b[1;32m    336\u001b[0m \u001b[39m\"\"\"\u001b[39;00m\n\u001b[0;32m--> 337\u001b[0m obj, end \u001b[39m=\u001b[39m \u001b[39mself\u001b[39;49m\u001b[39m.\u001b[39;49mraw_decode(s, idx\u001b[39m=\u001b[39;49m_w(s, \u001b[39m0\u001b[39;49m)\u001b[39m.\u001b[39;49mend())\n\u001b[1;32m    338\u001b[0m end \u001b[39m=\u001b[39m _w(s, end)\u001b[39m.\u001b[39mend()\n",
      "File \u001b[0;32m/Library/Frameworks/Python.framework/Versions/3.10/lib/python3.10/json/decoder.py:355\u001b[0m, in \u001b[0;36mJSONDecoder.raw_decode\u001b[0;34m(self, s, idx)\u001b[0m\n\u001b[1;32m    354\u001b[0m \u001b[39mexcept\u001b[39;00m \u001b[39mStopIteration\u001b[39;00m \u001b[39mas\u001b[39;00m err:\n\u001b[0;32m--> 355\u001b[0m     \u001b[39mraise\u001b[39;00m JSONDecodeError(\u001b[39m\"\u001b[39m\u001b[39mExpecting value\u001b[39m\u001b[39m\"\u001b[39m, s, err\u001b[39m.\u001b[39mvalue) \u001b[39mfrom\u001b[39;00m \u001b[39mNone\u001b[39m\n\u001b[1;32m    356\u001b[0m \u001b[39mreturn\u001b[39;00m obj, end\n",
      "\u001b[0;31mJSONDecodeError\u001b[0m: Expecting value: line 1 column 1 (char 0)",
      "\nDuring handling of the above exception, another exception occurred:\n",
      "\u001b[0;31mJSONDecodeError\u001b[0m                           Traceback (most recent call last)",
      "\u001b[1;32m/Users/oraichain/Desktop/test 100 api/100API.ipynb Cell 110\u001b[0m in \u001b[0;36m<cell line: 13>\u001b[0;34m()\u001b[0m\n\u001b[1;32m     <a href='vscode-notebook-cell:/Users/oraichain/Desktop/test%20100%20api/100API.ipynb#ch0000110?line=10'>11</a>\u001b[0m response \u001b[39m=\u001b[39m requests\u001b[39m.\u001b[39mpost(url, data\u001b[39m=\u001b[39mdata, headers\u001b[39m=\u001b[39mheaders)\n\u001b[1;32m     <a href='vscode-notebook-cell:/Users/oraichain/Desktop/test%20100%20api/100API.ipynb#ch0000110?line=11'>12</a>\u001b[0m \u001b[39mprint\u001b[39m(data)\n\u001b[0;32m---> <a href='vscode-notebook-cell:/Users/oraichain/Desktop/test%20100%20api/100API.ipynb#ch0000110?line=12'>13</a>\u001b[0m \u001b[39mprint\u001b[39m(response\u001b[39m.\u001b[39;49mjson())\n",
      "File \u001b[0;32m/Library/Frameworks/Python.framework/Versions/3.10/lib/python3.10/site-packages/requests/models.py:975\u001b[0m, in \u001b[0;36mResponse.json\u001b[0;34m(self, **kwargs)\u001b[0m\n\u001b[1;32m    971\u001b[0m     \u001b[39mreturn\u001b[39;00m complexjson\u001b[39m.\u001b[39mloads(\u001b[39mself\u001b[39m\u001b[39m.\u001b[39mtext, \u001b[39m*\u001b[39m\u001b[39m*\u001b[39mkwargs)\n\u001b[1;32m    972\u001b[0m \u001b[39mexcept\u001b[39;00m JSONDecodeError \u001b[39mas\u001b[39;00m e:\n\u001b[1;32m    973\u001b[0m     \u001b[39m# Catch JSON-related errors and raise as requests.JSONDecodeError\u001b[39;00m\n\u001b[1;32m    974\u001b[0m     \u001b[39m# This aliases json.JSONDecodeError and simplejson.JSONDecodeError\u001b[39;00m\n\u001b[0;32m--> 975\u001b[0m     \u001b[39mraise\u001b[39;00m RequestsJSONDecodeError(e\u001b[39m.\u001b[39mmsg, e\u001b[39m.\u001b[39mdoc, e\u001b[39m.\u001b[39mpos)\n",
      "\u001b[0;31mJSONDecodeError\u001b[0m: Expecting value: line 1 column 1 (char 0)"
     ]
    }
   ],
   "source": [
    "#sp007\n",
    "url = 'https://100api.orai.dev/sp007'\n",
    "data = {\n",
    "  \"input_source_hash\": \"QmbUftpYPE1eTRz8bKa4RvNkUtbYCZYm7uf826ZxZgnw58\",\n",
    "  \"input_target_hash\": \"QmY8BgYUtRqRgK5NF6TwQkhVVZ9BtWp4noNS9LrDwizynr\"\n",
    "}\n",
    "  \n",
    "headers = {\n",
    "        'Authorization': 'ai_market'\n",
    "    }\n",
    "response = requests.post(url, data=data, headers=headers)\n",
    "print(data)\n",
    "print(response.json())"
   ]
  },
  {
   "cell_type": "code",
   "execution_count": 59,
   "metadata": {},
   "outputs": [
    {
     "name": "stdout",
     "output_type": "stream",
     "text": [
      "{'input_source_hash': 'QmbUftpYPE1eTRz8bKa4RvNkUtbYCZYm7uf826ZxZgnw58'}\n",
      "{'data': '400 Bad Request: The browser (or proxy) sent a request that this server could not understand.', 'status': 'error'}\n"
     ]
    }
   ],
   "source": [
    "#sp008\n",
    "url = 'https://100api.orai.dev/sp008'\n",
    "data = {\n",
    "  \"input_source_hash\": \"QmbUftpYPE1eTRz8bKa4RvNkUtbYCZYm7uf826ZxZgnw58\"\n",
    "}\n",
    "  \n",
    "headers = {\n",
    "        'Authorization': 'ai_market'\n",
    "    }\n",
    "response = requests.post(url, data=data, headers=headers)\n",
    "print(data)\n",
    "print(response.json())"
   ]
  },
  {
   "cell_type": "code",
   "execution_count": 69,
   "metadata": {},
   "outputs": [
    {
     "name": "stdout",
     "output_type": "stream",
     "text": [
      "{'input_source_hash': 'QmbUftpYPE1eTRz8bKa4RvNkUtbYCZYm7uf826ZxZgnw58'}\n",
      "<Response [200]>\n"
     ]
    }
   ],
   "source": [
    "#sp009\n",
    "url = 'https://100api.orai.dev/sp009'\n",
    "data = {\n",
    "  \"input_source_hash\": \"QmbUftpYPE1eTRz8bKa4RvNkUtbYCZYm7uf826ZxZgnw58\"\n",
    "}\n",
    "  \n",
    "headers = {\n",
    "        'Authorization': 'ai_market'\n",
    "    }\n",
    "response = requests.post(url, data=data, headers=headers)\n",
    "\n",
    "print(data)\n",
    "print(response)"
   ]
  },
  {
   "cell_type": "code",
   "execution_count": 75,
   "metadata": {},
   "outputs": [
    {
     "name": "stdout",
     "output_type": "stream",
     "text": [
      "{'time_col': 'Month', 'value_col': '#Passengers', 'predict_length': 1, 'input_source_hash': 'QmTrkyp54aRpSq1zsg4rtYckpFj9dfShD2ZrjXUm4j1VXo'}\n",
      "{'data': '400 Bad Request: The browser (or proxy) sent a request that this server could not understand.', 'status': 'error'}\n"
     ]
    }
   ],
   "source": [
    "#ts001\n",
    "url = 'https://100api.orai.dev/ts001'\n",
    "data = {\n",
    "    \"time_col\": \"Month\",\n",
    "    \"value_col\": \"#Passengers\",\n",
    "    \"predict_length\": 1,\n",
    "  \"input_source_hash\": \"QmTrkyp54aRpSq1zsg4rtYckpFj9dfShD2ZrjXUm4j1VXo\"\n",
    "}\n",
    "  \n",
    "headers = {\n",
    "        'Authorization': 'ai_market'\n",
    "    }\n",
    "response = requests.post(url, params=data, headers=headers)\n",
    "\n",
    "print(data)\n",
    "print(response.json())"
   ]
  },
  {
   "cell_type": "code",
   "execution_count": 78,
   "metadata": {},
   "outputs": [],
   "source": [
    "import requests\n",
    "\n",
    "headers = {\n",
    "    'accept': 'application/json',\n",
    "    'Authorization': 'ai_market'\n",
    "    # requests won't add a boundary if this header is set when you pass files=\n",
    "    # 'Content-Type': 'multipart/form-data',\n",
    "}\n",
    "\n",
    "files = {\n",
    "    'time_col': (None, 'Month'),\n",
    "    'value_col': (None, '#Passengers'),\n",
    "    'predict_length': (None, '1'),\n",
    "    'input_source': open('data.csv', 'rb'),\n",
    "}\n",
    "\n",
    "response = requests.post('https://100api.orai.dev/ts001', headers=headers, files=files)\n"
   ]
  },
  {
   "cell_type": "code",
   "execution_count": 79,
   "metadata": {},
   "outputs": [
    {
     "data": {
      "text/plain": [
       "{'data': [{'additive_terms': -21.935881955098147,\n",
       "   'additive_terms_lower': -21.935881955098147,\n",
       "   'additive_terms_upper': -21.935881955098147,\n",
       "   'ds': 'Sat, 01 Jan 1949 00:00:00 GMT',\n",
       "   'multiplicative_terms': 0.0,\n",
       "   'multiplicative_terms_lower': 0.0,\n",
       "   'multiplicative_terms_upper': 0.0,\n",
       "   'trend': 106.76302926388706,\n",
       "   'trend_lower': 106.76302926388706,\n",
       "   'trend_upper': 106.76302926388706,\n",
       "   'yearly': -21.935881955098147,\n",
       "   'yearly_lower': -21.935881955098147,\n",
       "   'yearly_upper': -21.935881955098147,\n",
       "   'yhat': 84.82714730878891,\n",
       "   'yhat_lower': 57.00399937936917,\n",
       "   'yhat_upper': 113.66674943436664},\n",
       "  {'additive_terms': -30.68995599864789,\n",
       "   'additive_terms_lower': -30.68995599864789,\n",
       "   'additive_terms_upper': -30.68995599864789,\n",
       "   'ds': 'Tue, 01 Feb 1949 00:00:00 GMT',\n",
       "   'multiplicative_terms': 0.0,\n",
       "   'multiplicative_terms_lower': 0.0,\n",
       "   'multiplicative_terms_upper': 0.0,\n",
       "   'trend': 108.93553578141247,\n",
       "   'trend_lower': 108.93553578141247,\n",
       "   'trend_upper': 108.93553578141247,\n",
       "   'yearly': -30.68995599864789,\n",
       "   'yearly_lower': -30.68995599864789,\n",
       "   'yearly_upper': -30.68995599864789,\n",
       "   'yhat': 78.24557978276458,\n",
       "   'yhat_lower': 51.09128575518625,\n",
       "   'yhat_upper': 106.14474892964141},\n",
       "  {'additive_terms': -0.5027205910519493,\n",
       "   'additive_terms_lower': -0.5027205910519493,\n",
       "   'additive_terms_upper': -0.5027205910519493,\n",
       "   'ds': 'Tue, 01 Mar 1949 00:00:00 GMT',\n",
       "   'multiplicative_terms': 0.0,\n",
       "   'multiplicative_terms_lower': 0.0,\n",
       "   'multiplicative_terms_upper': 0.0,\n",
       "   'trend': 110.89779973272573,\n",
       "   'trend_lower': 110.89779973272573,\n",
       "   'trend_upper': 110.89779973272573,\n",
       "   'yearly': -0.5027205910519493,\n",
       "   'yearly_lower': -0.5027205910519493,\n",
       "   'yearly_upper': -0.5027205910519493,\n",
       "   'yhat': 110.39507914167378,\n",
       "   'yhat_lower': 81.47403099706743,\n",
       "   'yhat_upper': 140.9840211143973},\n",
       "  {'additive_terms': -5.177145054561227,\n",
       "   'additive_terms_lower': -5.177145054561227,\n",
       "   'additive_terms_upper': -5.177145054561227,\n",
       "   'ds': 'Fri, 01 Apr 1949 00:00:00 GMT',\n",
       "   'multiplicative_terms': 0.0,\n",
       "   'multiplicative_terms_lower': 0.0,\n",
       "   'multiplicative_terms_upper': 0.0,\n",
       "   'trend': 113.07030625025115,\n",
       "   'trend_lower': 113.07030625025115,\n",
       "   'trend_upper': 113.07030625025115,\n",
       "   'yearly': -5.177145054561227,\n",
       "   'yearly_lower': -5.177145054561227,\n",
       "   'yearly_upper': -5.177145054561227,\n",
       "   'yhat': 107.89316119568993,\n",
       "   'yhat_lower': 80.22884231371879,\n",
       "   'yhat_upper': 136.18281957614923},\n",
       "  {'additive_terms': -3.7713563477135446,\n",
       "   'additive_terms_lower': -3.7713563477135446,\n",
       "   'additive_terms_upper': -3.7713563477135446,\n",
       "   'ds': 'Sun, 01 May 1949 00:00:00 GMT',\n",
       "   'multiplicative_terms': 0.0,\n",
       "   'multiplicative_terms_lower': 0.0,\n",
       "   'multiplicative_terms_upper': 0.0,\n",
       "   'trend': 115.1727319123725,\n",
       "   'trend_lower': 115.1727319123725,\n",
       "   'trend_upper': 115.1727319123725,\n",
       "   'yearly': -3.7713563477135446,\n",
       "   'yearly_lower': -3.7713563477135446,\n",
       "   'yearly_upper': -3.7713563477135446,\n",
       "   'yhat': 111.40137556465895,\n",
       "   'yhat_lower': 82.15533586506682,\n",
       "   'yhat_upper': 142.19685686343144},\n",
       "  {'additive_terms': 34.02135422751285,\n",
       "   'additive_terms_lower': 34.02135422751285,\n",
       "   'additive_terms_upper': 34.02135422751285,\n",
       "   'ds': 'Wed, 01 Jun 1949 00:00:00 GMT',\n",
       "   'multiplicative_terms': 0.0,\n",
       "   'multiplicative_terms_lower': 0.0,\n",
       "   'multiplicative_terms_upper': 0.0,\n",
       "   'trend': 117.34523842989792,\n",
       "   'trend_lower': 117.34523842989792,\n",
       "   'trend_upper': 117.34523842989792,\n",
       "   'yearly': 34.02135422751285,\n",
       "   'yearly_lower': 34.02135422751285,\n",
       "   'yearly_upper': 34.02135422751285,\n",
       "   'yhat': 151.36659265741076,\n",
       "   'yhat_lower': 122.21766262830053,\n",
       "   'yhat_upper': 181.1562915399233},\n",
       "  {'additive_terms': 70.64155754712351,\n",
       "   'additive_terms_lower': 70.64155754712351,\n",
       "   'additive_terms_upper': 70.64155754712351,\n",
       "   'ds': 'Fri, 01 Jul 1949 00:00:00 GMT',\n",
       "   'multiplicative_terms': 0.0,\n",
       "   'multiplicative_terms_lower': 0.0,\n",
       "   'multiplicative_terms_upper': 0.0,\n",
       "   'trend': 119.44766409651253,\n",
       "   'trend_lower': 119.44766409651253,\n",
       "   'trend_upper': 119.44766409651253,\n",
       "   'yearly': 70.64155754712351,\n",
       "   'yearly_lower': 70.64155754712351,\n",
       "   'yearly_upper': 70.64155754712351,\n",
       "   'yhat': 190.08922164363605,\n",
       "   'yhat_lower': 162.42275526454708,\n",
       "   'yhat_upper': 218.36021960411117},\n",
       "  {'additive_terms': 67.9436169559471,\n",
       "   'additive_terms_lower': 67.9436169559471,\n",
       "   'additive_terms_upper': 67.9436169559471,\n",
       "   'ds': 'Mon, 01 Aug 1949 00:00:00 GMT',\n",
       "   'multiplicative_terms': 0.0,\n",
       "   'multiplicative_terms_lower': 0.0,\n",
       "   'multiplicative_terms_upper': 0.0,\n",
       "   'trend': 121.62017061868096,\n",
       "   'trend_lower': 121.62017061868096,\n",
       "   'trend_upper': 121.62017061868096,\n",
       "   'yearly': 67.9436169559471,\n",
       "   'yearly_lower': 67.9436169559471,\n",
       "   'yearly_upper': 67.9436169559471,\n",
       "   'yhat': 189.56378757462807,\n",
       "   'yhat_lower': 159.7377621854671,\n",
       "   'yhat_upper': 219.90393855219492},\n",
       "  {'additive_terms': 16.33411081454736,\n",
       "   'additive_terms_lower': 16.33411081454736,\n",
       "   'additive_terms_upper': 16.33411081454736,\n",
       "   'ds': 'Thu, 01 Sep 1949 00:00:00 GMT',\n",
       "   'multiplicative_terms': 0.0,\n",
       "   'multiplicative_terms_lower': 0.0,\n",
       "   'multiplicative_terms_upper': 0.0,\n",
       "   'trend': 123.79267714084939,\n",
       "   'trend_lower': 123.79267714084939,\n",
       "   'trend_upper': 123.79267714084939,\n",
       "   'yearly': 16.33411081454736,\n",
       "   'yearly_lower': 16.33411081454736,\n",
       "   'yearly_upper': 16.33411081454736,\n",
       "   'yhat': 140.12678795539676,\n",
       "   'yhat_lower': 110.65299016163281,\n",
       "   'yhat_upper': 167.22894035031155},\n",
       "  {'additive_terms': -21.91932104690931,\n",
       "   'additive_terms_lower': -21.91932104690931,\n",
       "   'additive_terms_upper': -21.91932104690931,\n",
       "   'ds': 'Sat, 01 Oct 1949 00:00:00 GMT',\n",
       "   'multiplicative_terms': 0.0,\n",
       "   'multiplicative_terms_lower': 0.0,\n",
       "   'multiplicative_terms_upper': 0.0,\n",
       "   'trend': 125.89510280746401,\n",
       "   'trend_lower': 125.89510280746401,\n",
       "   'trend_upper': 125.89510280746401,\n",
       "   'yearly': -21.91932104690931,\n",
       "   'yearly_lower': -21.91932104690931,\n",
       "   'yearly_upper': -21.91932104690931,\n",
       "   'yhat': 103.9757817605547,\n",
       "   'yhat_lower': 74.43223500099876,\n",
       "   'yhat_upper': 133.53082057776777},\n",
       "  {'additive_terms': -58.862043158603356,\n",
       "   'additive_terms_lower': -58.862043158603356,\n",
       "   'additive_terms_upper': -58.862043158603356,\n",
       "   'ds': 'Tue, 01 Nov 1949 00:00:00 GMT',\n",
       "   'multiplicative_terms': 0.0,\n",
       "   'multiplicative_terms_lower': 0.0,\n",
       "   'multiplicative_terms_upper': 0.0,\n",
       "   'trend': 128.06760933054292,\n",
       "   'trend_lower': 128.06760933054292,\n",
       "   'trend_upper': 128.06760933054292,\n",
       "   'yearly': -58.862043158603356,\n",
       "   'yearly_lower': -58.862043158603356,\n",
       "   'yearly_upper': -58.862043158603356,\n",
       "   'yhat': 69.20556617193957,\n",
       "   'yhat_lower': 39.15141242240221,\n",
       "   'yhat_upper': 98.638514244227},\n",
       "  {'additive_terms': -32.52803105951419,\n",
       "   'additive_terms_lower': -32.52803105951419,\n",
       "   'additive_terms_upper': -32.52803105951419,\n",
       "   'ds': 'Thu, 01 Dec 1949 00:00:00 GMT',\n",
       "   'multiplicative_terms': 0.0,\n",
       "   'multiplicative_terms_lower': 0.0,\n",
       "   'multiplicative_terms_upper': 0.0,\n",
       "   'trend': 130.17003499803863,\n",
       "   'trend_lower': 130.17003499803863,\n",
       "   'trend_upper': 130.17003499803863,\n",
       "   'yearly': -32.52803105951419,\n",
       "   'yearly_lower': -32.52803105951419,\n",
       "   'yearly_upper': -32.52803105951419,\n",
       "   'yhat': 97.64200393852444,\n",
       "   'yhat_lower': 67.61803786840827,\n",
       "   'yhat_upper': 126.44256733170126},\n",
       "  {'additive_terms': -22.755467151874733,\n",
       "   'additive_terms_lower': -22.755467151874733,\n",
       "   'additive_terms_upper': -22.755467151874733,\n",
       "   'ds': 'Sun, 01 Jan 1950 00:00:00 GMT',\n",
       "   'multiplicative_terms': 0.0,\n",
       "   'multiplicative_terms_lower': 0.0,\n",
       "   'multiplicative_terms_upper': 0.0,\n",
       "   'trend': 132.34254152111754,\n",
       "   'trend_lower': 132.34254152111754,\n",
       "   'trend_upper': 132.34254152111754,\n",
       "   'yearly': -22.755467151874733,\n",
       "   'yearly_lower': -22.755467151874733,\n",
       "   'yearly_upper': -22.755467151874733,\n",
       "   'yhat': 109.5870743692428,\n",
       "   'yhat_lower': 83.42744184453315,\n",
       "   'yhat_upper': 139.21174461396427},\n",
       "  {'additive_terms': -32.01657144137741,\n",
       "   'additive_terms_lower': -32.01657144137741,\n",
       "   'additive_terms_upper': -32.01657144137741,\n",
       "   'ds': 'Wed, 01 Feb 1950 00:00:00 GMT',\n",
       "   'multiplicative_terms': 0.0,\n",
       "   'multiplicative_terms_lower': 0.0,\n",
       "   'multiplicative_terms_upper': 0.0,\n",
       "   'trend': 134.51504804419645,\n",
       "   'trend_lower': 134.51504804419645,\n",
       "   'trend_upper': 134.51504804419645,\n",
       "   'yearly': -32.01657144137741,\n",
       "   'yearly_lower': -32.01657144137741,\n",
       "   'yearly_upper': -32.01657144137741,\n",
       "   'yhat': 102.49847660281904,\n",
       "   'yhat_lower': 72.40347072999961,\n",
       "   'yhat_upper': 129.56589845203942},\n",
       "  {'additive_terms': 0.7318329088599671,\n",
       "   'additive_terms_lower': 0.7318329088599671,\n",
       "   'additive_terms_upper': 0.7318329088599671,\n",
       "   'ds': 'Wed, 01 Mar 1950 00:00:00 GMT',\n",
       "   'multiplicative_terms': 0.0,\n",
       "   'multiplicative_terms_lower': 0.0,\n",
       "   'multiplicative_terms_upper': 0.0,\n",
       "   'trend': 136.47731200052576,\n",
       "   'trend_lower': 136.47731200052576,\n",
       "   'trend_upper': 136.47731200052576,\n",
       "   'yearly': 0.7318329088599671,\n",
       "   'yearly_lower': 0.7318329088599671,\n",
       "   'yearly_upper': 0.7318329088599671,\n",
       "   'yhat': 137.2091449093857,\n",
       "   'yhat_lower': 107.22378941568991,\n",
       "   'yhat_upper': 166.15702362257298},\n",
       "  {'additive_terms': -6.067076176908129,\n",
       "   'additive_terms_lower': -6.067076176908129,\n",
       "   'additive_terms_upper': -6.067076176908129,\n",
       "   'ds': 'Sat, 01 Apr 1950 00:00:00 GMT',\n",
       "   'multiplicative_terms': 0.0,\n",
       "   'multiplicative_terms_lower': 0.0,\n",
       "   'multiplicative_terms_upper': 0.0,\n",
       "   'trend': 138.64981851846105,\n",
       "   'trend_lower': 138.64981851846105,\n",
       "   'trend_upper': 138.64981851846105,\n",
       "   'yearly': -6.067076176908129,\n",
       "   'yearly_lower': -6.067076176908129,\n",
       "   'yearly_upper': -6.067076176908129,\n",
       "   'yhat': 132.58274234155292,\n",
       "   'yhat_lower': 103.40353773107815,\n",
       "   'yhat_upper': 163.45105875608743},\n",
       "  {'additive_terms': -3.1100798911794234,\n",
       "   'additive_terms_lower': -3.1100798911794234,\n",
       "   'additive_terms_upper': -3.1100798911794234,\n",
       "   'ds': 'Mon, 01 May 1950 00:00:00 GMT',\n",
       "   'multiplicative_terms': 0.0,\n",
       "   'multiplicative_terms_lower': 0.0,\n",
       "   'multiplicative_terms_upper': 0.0,\n",
       "   'trend': 140.75224418097903,\n",
       "   'trend_lower': 140.75224418097903,\n",
       "   'trend_upper': 140.75224418097903,\n",
       "   'yearly': -3.1100798911794234,\n",
       "   'yearly_lower': -3.1100798911794234,\n",
       "   'yearly_upper': -3.1100798911794234,\n",
       "   'yhat': 137.6421642897996,\n",
       "   'yhat_lower': 108.73481153155353,\n",
       "   'yhat_upper': 165.11326150101658},\n",
       "  {'additive_terms': 33.388942954508174,\n",
       "   'additive_terms_lower': 33.388942954508174,\n",
       "   'additive_terms_upper': 33.388942954508174,\n",
       "   'ds': 'Thu, 01 Jun 1950 00:00:00 GMT',\n",
       "   'multiplicative_terms': 0.0,\n",
       "   'multiplicative_terms_lower': 0.0,\n",
       "   'multiplicative_terms_upper': 0.0,\n",
       "   'trend': 142.9247506989143,\n",
       "   'trend_lower': 142.9247506989143,\n",
       "   'trend_upper': 142.9247506989143,\n",
       "   'yearly': 33.388942954508174,\n",
       "   'yearly_lower': 33.388942954508174,\n",
       "   'yearly_upper': 33.388942954508174,\n",
       "   'yhat': 176.31369365342246,\n",
       "   'yhat_lower': 147.97258720345798,\n",
       "   'yhat_upper': 207.52813163940516},\n",
       "  {'additive_terms': 70.87440691328617,\n",
       "   'additive_terms_lower': 70.87440691328617,\n",
       "   'additive_terms_upper': 70.87440691328617,\n",
       "   'ds': 'Sat, 01 Jul 1950 00:00:00 GMT',\n",
       "   'multiplicative_terms': 0.0,\n",
       "   'multiplicative_terms_lower': 0.0,\n",
       "   'multiplicative_terms_upper': 0.0,\n",
       "   'trend': 145.0271763614323,\n",
       "   'trend_lower': 145.0271763614323,\n",
       "   'trend_upper': 145.0271763614323,\n",
       "   'yearly': 70.87440691328617,\n",
       "   'yearly_lower': 70.87440691328617,\n",
       "   'yearly_upper': 70.87440691328617,\n",
       "   'yhat': 215.90158327471846,\n",
       "   'yhat_lower': 184.2369153501542,\n",
       "   'yhat_upper': 247.12387195127923},\n",
       "  {'additive_terms': 67.6808760686564,\n",
       "   'additive_terms_lower': 67.6808760686564,\n",
       "   'additive_terms_upper': 67.6808760686564,\n",
       "   'ds': 'Tue, 01 Aug 1950 00:00:00 GMT',\n",
       "   'multiplicative_terms': 0.0,\n",
       "   'multiplicative_terms_lower': 0.0,\n",
       "   'multiplicative_terms_upper': 0.0,\n",
       "   'trend': 147.19968287120665,\n",
       "   'trend_lower': 147.19968287120665,\n",
       "   'trend_upper': 147.19968287120665,\n",
       "   'yearly': 67.6808760686564,\n",
       "   'yearly_lower': 67.6808760686564,\n",
       "   'yearly_upper': 67.6808760686564,\n",
       "   'yhat': 214.88055893986305,\n",
       "   'yhat_lower': 185.9435341268519,\n",
       "   'yhat_upper': 243.73053713629542},\n",
       "  {'additive_terms': 16.55884813567062,\n",
       "   'additive_terms_lower': 16.55884813567062,\n",
       "   'additive_terms_upper': 16.55884813567062,\n",
       "   'ds': 'Fri, 01 Sep 1950 00:00:00 GMT',\n",
       "   'multiplicative_terms': 0.0,\n",
       "   'multiplicative_terms_lower': 0.0,\n",
       "   'multiplicative_terms_upper': 0.0,\n",
       "   'trend': 149.372189380981,\n",
       "   'trend_lower': 149.372189380981,\n",
       "   'trend_upper': 149.372189380981,\n",
       "   'yearly': 16.55884813567062,\n",
       "   'yearly_lower': 16.55884813567062,\n",
       "   'yearly_upper': 16.55884813567062,\n",
       "   'yhat': 165.93103751665163,\n",
       "   'yhat_lower': 136.37559427415724,\n",
       "   'yhat_upper': 194.15917608541045},\n",
       "  {'additive_terms': -22.095830024486908,\n",
       "   'additive_terms_lower': -22.095830024486908,\n",
       "   'additive_terms_upper': -22.095830024486908,\n",
       "   'ds': 'Sun, 01 Oct 1950 00:00:00 GMT',\n",
       "   'multiplicative_terms': 0.0,\n",
       "   'multiplicative_terms_lower': 0.0,\n",
       "   'multiplicative_terms_upper': 0.0,\n",
       "   'trend': 151.47461503560137,\n",
       "   'trend_lower': 151.47461503560137,\n",
       "   'trend_upper': 151.47461503560137,\n",
       "   'yearly': -22.095830024486908,\n",
       "   'yearly_lower': -22.095830024486908,\n",
       "   'yearly_upper': -22.095830024486908,\n",
       "   'yhat': 129.37878501111447,\n",
       "   'yhat_lower': 99.40328713376917,\n",
       "   'yhat_upper': 158.95699528467637},\n",
       "  {'additive_terms': -58.11085453019319,\n",
       "   'additive_terms_lower': -58.11085453019319,\n",
       "   'additive_terms_upper': -58.11085453019319,\n",
       "   'ds': 'Wed, 01 Nov 1950 00:00:00 GMT',\n",
       "   'multiplicative_terms': 0.0,\n",
       "   'multiplicative_terms_lower': 0.0,\n",
       "   'multiplicative_terms_upper': 0.0,\n",
       "   'trend': 153.64712154537574,\n",
       "   'trend_lower': 153.64712154537574,\n",
       "   'trend_upper': 153.64712154537574,\n",
       "   'yearly': -58.11085453019319,\n",
       "   'yearly_lower': -58.11085453019319,\n",
       "   'yearly_upper': -58.11085453019319,\n",
       "   'yhat': 95.53626701518255,\n",
       "   'yhat_lower': 69.67502279383868,\n",
       "   'yhat_upper': 124.95947659846053},\n",
       "  {'additive_terms': -31.632745270149822,\n",
       "   'additive_terms_lower': -31.632745270149822,\n",
       "   'additive_terms_upper': -31.632745270149822,\n",
       "   'ds': 'Fri, 01 Dec 1950 00:00:00 GMT',\n",
       "   'multiplicative_terms': 0.0,\n",
       "   'multiplicative_terms_lower': 0.0,\n",
       "   'multiplicative_terms_upper': 0.0,\n",
       "   'trend': 155.74954719999607,\n",
       "   'trend_lower': 155.74954719999607,\n",
       "   'trend_upper': 155.74954719999607,\n",
       "   'yearly': -31.632745270149822,\n",
       "   'yearly_lower': -31.632745270149822,\n",
       "   'yearly_upper': -31.632745270149822,\n",
       "   'yhat': 124.11680192984625,\n",
       "   'yhat_lower': 94.00013543975749,\n",
       "   'yhat_upper': 152.4850497286135},\n",
       "  {'additive_terms': -23.61016348646486,\n",
       "   'additive_terms_lower': -23.61016348646486,\n",
       "   'additive_terms_upper': -23.61016348646486,\n",
       "   'ds': 'Mon, 01 Jan 1951 00:00:00 GMT',\n",
       "   'multiplicative_terms': 0.0,\n",
       "   'multiplicative_terms_lower': 0.0,\n",
       "   'multiplicative_terms_upper': 0.0,\n",
       "   'trend': 157.9220537063464,\n",
       "   'trend_lower': 157.9220537063464,\n",
       "   'trend_upper': 157.9220537063464,\n",
       "   'yearly': -23.61016348646486,\n",
       "   'yearly_lower': -23.61016348646486,\n",
       "   'yearly_upper': -23.61016348646486,\n",
       "   'yhat': 134.31189021988152,\n",
       "   'yhat_lower': 108.36621089535812,\n",
       "   'yhat_upper': 164.75894985230605},\n",
       "  {'additive_terms': -33.31838080266664,\n",
       "   'additive_terms_lower': -33.31838080266664,\n",
       "   'additive_terms_upper': -33.31838080266664,\n",
       "   'ds': 'Thu, 01 Feb 1951 00:00:00 GMT',\n",
       "   'multiplicative_terms': 0.0,\n",
       "   'multiplicative_terms_lower': 0.0,\n",
       "   'multiplicative_terms_upper': 0.0,\n",
       "   'trend': 160.09456021269668,\n",
       "   'trend_lower': 160.09456021269668,\n",
       "   'trend_upper': 160.09456021269668,\n",
       "   'yearly': -33.31838080266664,\n",
       "   'yearly_lower': -33.31838080266664,\n",
       "   'yearly_upper': -33.31838080266664,\n",
       "   'yhat': 126.77617941003004,\n",
       "   'yhat_lower': 96.61350096941737,\n",
       "   'yhat_upper': 153.71437473727178},\n",
       "  {'additive_terms': 1.9654910776590842,\n",
       "   'additive_terms_lower': 1.9654910776590842,\n",
       "   'additive_terms_upper': 1.9654910776590842,\n",
       "   'ds': 'Thu, 01 Mar 1951 00:00:00 GMT',\n",
       "   'multiplicative_terms': 0.0,\n",
       "   'multiplicative_terms_lower': 0.0,\n",
       "   'multiplicative_terms_upper': 0.0,\n",
       "   'trend': 162.05682415391627,\n",
       "   'trend_lower': 162.05682415391627,\n",
       "   'trend_upper': 162.05682415391627,\n",
       "   'yearly': 1.9654910776590842,\n",
       "   'yearly_lower': 1.9654910776590842,\n",
       "   'yearly_upper': 1.9654910776590842,\n",
       "   'yhat': 164.02231523157536,\n",
       "   'yhat_lower': 134.4138893332436,\n",
       "   'yhat_upper': 194.50531007006978},\n",
       "  {'additive_terms': -6.958890100999208,\n",
       "   'additive_terms_lower': -6.958890100999208,\n",
       "   'additive_terms_upper': -6.958890100999208,\n",
       "   'ds': 'Sun, 01 Apr 1951 00:00:00 GMT',\n",
       "   'multiplicative_terms': 0.0,\n",
       "   'multiplicative_terms_lower': 0.0,\n",
       "   'multiplicative_terms_upper': 0.0,\n",
       "   'trend': 164.22933066026658,\n",
       "   'trend_lower': 164.22933066026658,\n",
       "   'trend_upper': 164.22933066026658,\n",
       "   'yearly': -6.958890100999208,\n",
       "   'yearly_lower': -6.958890100999208,\n",
       "   'yearly_upper': -6.958890100999208,\n",
       "   'yhat': 157.27044055926737,\n",
       "   'yhat_lower': 128.25499672203665,\n",
       "   'yhat_upper': 186.45910951866182},\n",
       "  {'additive_terms': -2.4404083697160117,\n",
       "   'additive_terms_lower': -2.4404083697160117,\n",
       "   'additive_terms_upper': -2.4404083697160117,\n",
       "   'ds': 'Tue, 01 May 1951 00:00:00 GMT',\n",
       "   'multiplicative_terms': 0.0,\n",
       "   'multiplicative_terms_lower': 0.0,\n",
       "   'multiplicative_terms_upper': 0.0,\n",
       "   'trend': 166.33175632592452,\n",
       "   'trend_lower': 166.33175632592452,\n",
       "   'trend_upper': 166.33175632592452,\n",
       "   'yearly': -2.4404083697160117,\n",
       "   'yearly_lower': -2.4404083697160117,\n",
       "   'yearly_upper': -2.4404083697160117,\n",
       "   'yhat': 163.8913479562085,\n",
       "   'yhat_lower': 134.74223856578615,\n",
       "   'yhat_upper': 193.20343276275062},\n",
       "  {'additive_terms': 32.75004044681939,\n",
       "   'additive_terms_lower': 32.75004044681939,\n",
       "   'additive_terms_upper': 32.75004044681939,\n",
       "   'ds': 'Fri, 01 Jun 1951 00:00:00 GMT',\n",
       "   'multiplicative_terms': 0.0,\n",
       "   'multiplicative_terms_lower': 0.0,\n",
       "   'multiplicative_terms_upper': 0.0,\n",
       "   'trend': 168.50426284710446,\n",
       "   'trend_lower': 168.50426284710446,\n",
       "   'trend_upper': 168.50426284710446,\n",
       "   'yearly': 32.75004044681939,\n",
       "   'yearly_lower': 32.75004044681939,\n",
       "   'yearly_upper': 32.75004044681939,\n",
       "   'yhat': 201.25430329392384,\n",
       "   'yhat_lower': 172.19316383098422,\n",
       "   'yhat_upper': 233.04330744665586},\n",
       "  {'additive_terms': 71.09521819395917,\n",
       "   'additive_terms_lower': 71.09521819395917,\n",
       "   'additive_terms_upper': 71.09521819395917,\n",
       "   'ds': 'Sun, 01 Jul 1951 00:00:00 GMT',\n",
       "   'multiplicative_terms': 0.0,\n",
       "   'multiplicative_terms_lower': 0.0,\n",
       "   'multiplicative_terms_upper': 0.0,\n",
       "   'trend': 170.60668851276242,\n",
       "   'trend_lower': 170.60668851276242,\n",
       "   'trend_upper': 170.60668851276242,\n",
       "   'yearly': 71.09521819395917,\n",
       "   'yearly_lower': 71.09521819395917,\n",
       "   'yearly_upper': 71.09521819395917,\n",
       "   'yhat': 241.7019067067216,\n",
       "   'yhat_lower': 212.41549823700598,\n",
       "   'yhat_upper': 270.3340798918314},\n",
       "  {'additive_terms': 67.40451564277724,\n",
       "   'additive_terms_lower': 67.40451564277724,\n",
       "   'additive_terms_upper': 67.40451564277724,\n",
       "   'ds': 'Wed, 01 Aug 1951 00:00:00 GMT',\n",
       "   'multiplicative_terms': 0.0,\n",
       "   'multiplicative_terms_lower': 0.0,\n",
       "   'multiplicative_terms_upper': 0.0,\n",
       "   'trend': 172.7791950339423,\n",
       "   'trend_lower': 172.7791950339423,\n",
       "   'trend_upper': 172.7791950339423,\n",
       "   'yearly': 67.40451564277724,\n",
       "   'yearly_lower': 67.40451564277724,\n",
       "   'yearly_upper': 67.40451564277724,\n",
       "   'yhat': 240.18371067671956,\n",
       "   'yhat_lower': 211.53494469063529,\n",
       "   'yhat_upper': 267.02235470457987},\n",
       "  {'additive_terms': 16.789162477801415,\n",
       "   'additive_terms_lower': 16.789162477801415,\n",
       "   'additive_terms_upper': 16.789162477801415,\n",
       "   'ds': 'Sat, 01 Sep 1951 00:00:00 GMT',\n",
       "   'multiplicative_terms': 0.0,\n",
       "   'multiplicative_terms_lower': 0.0,\n",
       "   'multiplicative_terms_upper': 0.0,\n",
       "   'trend': 174.95170155512218,\n",
       "   'trend_lower': 174.95170155512218,\n",
       "   'trend_upper': 174.95170155512218,\n",
       "   'yearly': 16.789162477801415,\n",
       "   'yearly_lower': 16.789162477801415,\n",
       "   'yearly_upper': 16.789162477801415,\n",
       "   'yhat': 191.7408640329236,\n",
       "   'yhat_lower': 163.44295164355506,\n",
       "   'yhat_upper': 220.58304302694327},\n",
       "  {'additive_terms': -22.25410369754146,\n",
       "   'additive_terms_lower': -22.25410369754146,\n",
       "   'additive_terms_upper': -22.25410369754146,\n",
       "   'ds': 'Mon, 01 Oct 1951 00:00:00 GMT',\n",
       "   'multiplicative_terms': 0.0,\n",
       "   'multiplicative_terms_lower': 0.0,\n",
       "   'multiplicative_terms_upper': 0.0,\n",
       "   'trend': 177.0541272528686,\n",
       "   'trend_lower': 177.0541272528686,\n",
       "   'trend_upper': 177.0541272528686,\n",
       "   'yearly': -22.25410369754146,\n",
       "   'yearly_lower': -22.25410369754146,\n",
       "   'yearly_upper': -22.25410369754146,\n",
       "   'yhat': 154.80002355532713,\n",
       "   'yhat_lower': 127.86980580134738,\n",
       "   'yhat_upper': 185.00041465118767},\n",
       "  {'additive_terms': -57.33251355606369,\n",
       "   'additive_terms_lower': -57.33251355606369,\n",
       "   'additive_terms_upper': -57.33251355606369,\n",
       "   'ds': 'Thu, 01 Nov 1951 00:00:00 GMT',\n",
       "   'multiplicative_terms': 0.0,\n",
       "   'multiplicative_terms_lower': 0.0,\n",
       "   'multiplicative_terms_upper': 0.0,\n",
       "   'trend': 179.22663380720658,\n",
       "   'trend_lower': 179.22663380720658,\n",
       "   'trend_upper': 179.22663380720658,\n",
       "   'yearly': -57.33251355606369,\n",
       "   'yearly_lower': -57.33251355606369,\n",
       "   'yearly_upper': -57.33251355606369,\n",
       "   'yhat': 121.8941202511429,\n",
       "   'yhat_lower': 91.92873317454783,\n",
       "   'yhat_upper': 150.75692767563115},\n",
       "  {'additive_terms': -30.767540742873624,\n",
       "   'additive_terms_lower': -30.767540742873624,\n",
       "   'additive_terms_upper': -30.767540742873624,\n",
       "   'ds': 'Sat, 01 Dec 1951 00:00:00 GMT',\n",
       "   'multiplicative_terms': 0.0,\n",
       "   'multiplicative_terms_lower': 0.0,\n",
       "   'multiplicative_terms_upper': 0.0,\n",
       "   'trend': 181.32905950495297,\n",
       "   'trend_lower': 181.32905950495297,\n",
       "   'trend_upper': 181.32905950495297,\n",
       "   'yearly': -30.767540742873624,\n",
       "   'yearly_lower': -30.767540742873624,\n",
       "   'yearly_upper': -30.767540742873624,\n",
       "   'yhat': 150.56151876207934,\n",
       "   'yhat_lower': 122.1884489171841,\n",
       "   'yhat_upper': 177.21696093033984},\n",
       "  {'additive_terms': -24.49891172105641,\n",
       "   'additive_terms_lower': -24.49891172105641,\n",
       "   'additive_terms_upper': -24.49891172105641,\n",
       "   'ds': 'Tue, 01 Jan 1952 00:00:00 GMT',\n",
       "   'multiplicative_terms': 0.0,\n",
       "   'multiplicative_terms_lower': 0.0,\n",
       "   'multiplicative_terms_upper': 0.0,\n",
       "   'trend': 183.5015660592909,\n",
       "   'trend_lower': 183.5015660592909,\n",
       "   'trend_upper': 183.5015660592909,\n",
       "   'yearly': -24.49891172105641,\n",
       "   'yearly_lower': -24.49891172105641,\n",
       "   'yearly_upper': -24.49891172105641,\n",
       "   'yhat': 159.0026543382345,\n",
       "   'yhat_lower': 129.37379455453703,\n",
       "   'yhat_upper': 186.99299106087383},\n",
       "  {'additive_terms': -34.59399865420407,\n",
       "   'additive_terms_lower': -34.59399865420407,\n",
       "   'additive_terms_upper': -34.59399865420407,\n",
       "   'ds': 'Fri, 01 Feb 1952 00:00:00 GMT',\n",
       "   'multiplicative_terms': 0.0,\n",
       "   'multiplicative_terms_lower': 0.0,\n",
       "   'multiplicative_terms_upper': 0.0,\n",
       "   'trend': 185.67407343266194,\n",
       "   'trend_lower': 185.67407343266194,\n",
       "   'trend_upper': 185.67407343266194,\n",
       "   'yearly': -34.59399865420407,\n",
       "   'yearly_lower': -34.59399865420407,\n",
       "   'yearly_upper': -34.59399865420407,\n",
       "   'yhat': 151.08007477845786,\n",
       "   'yhat_lower': 121.70495522491956,\n",
       "   'yhat_upper': 179.96053336762628},\n",
       "  {'additive_terms': -1.7370259407018045,\n",
       "   'additive_terms_lower': -1.7370259407018045,\n",
       "   'additive_terms_upper': -1.7370259407018045,\n",
       "   'ds': 'Sat, 01 Mar 1952 00:00:00 GMT',\n",
       "   'multiplicative_terms': 0.0,\n",
       "   'multiplicative_terms_lower': 0.0,\n",
       "   'multiplicative_terms_upper': 0.0,\n",
       "   'trend': 187.70641904000902,\n",
       "   'trend_lower': 187.70641904000902,\n",
       "   'trend_upper': 187.70641904000902,\n",
       "   'yearly': -1.7370259407018045,\n",
       "   'yearly_lower': -1.7370259407018045,\n",
       "   'yearly_upper': -1.7370259407018045,\n",
       "   'yhat': 185.9693930993072,\n",
       "   'yhat_lower': 157.2871441151484,\n",
       "   'yhat_upper': 214.66489745655235},\n",
       "  {'additive_terms': -4.289615318118448,\n",
       "   'additive_terms_lower': -4.289615318118448,\n",
       "   'additive_terms_upper': -4.289615318118448,\n",
       "   'ds': 'Tue, 01 Apr 1952 00:00:00 GMT',\n",
       "   'multiplicative_terms': 0.0,\n",
       "   'multiplicative_terms_lower': 0.0,\n",
       "   'multiplicative_terms_upper': 0.0,\n",
       "   'trend': 189.87892641338004,\n",
       "   'trend_lower': 189.87892641338004,\n",
       "   'trend_upper': 189.87892641338004,\n",
       "   'yearly': -4.289615318118448,\n",
       "   'yearly_lower': -4.289615318118448,\n",
       "   'yearly_upper': -4.289615318118448,\n",
       "   'yhat': 185.5893110952616,\n",
       "   'yhat_lower': 158.13270155712706,\n",
       "   'yhat_upper': 216.4238031886422},\n",
       "  {'additive_terms': -4.423534293798042,\n",
       "   'additive_terms_lower': -4.423534293798042,\n",
       "   'additive_terms_upper': -4.423534293798042,\n",
       "   'ds': 'Thu, 01 May 1952 00:00:00 GMT',\n",
       "   'multiplicative_terms': 0.0,\n",
       "   'multiplicative_terms_lower': 0.0,\n",
       "   'multiplicative_terms_upper': 0.0,\n",
       "   'trend': 191.98135290373915,\n",
       "   'trend_lower': 191.98135290373915,\n",
       "   'trend_upper': 191.98135290373915,\n",
       "   'yearly': -4.423534293798042,\n",
       "   'yearly_lower': -4.423534293798042,\n",
       "   'yearly_upper': -4.423534293798042,\n",
       "   'yhat': 187.5578186099411,\n",
       "   'yhat_lower': 158.35040444569137,\n",
       "   'yhat_upper': 215.39436119533613},\n",
       "  {'additive_terms': 34.64728701274987,\n",
       "   'additive_terms_lower': 34.64728701274987,\n",
       "   'additive_terms_upper': 34.64728701274987,\n",
       "   'ds': 'Sun, 01 Jun 1952 00:00:00 GMT',\n",
       "   'multiplicative_terms': 0.0,\n",
       "   'multiplicative_terms_lower': 0.0,\n",
       "   'multiplicative_terms_upper': 0.0,\n",
       "   'trend': 194.1538602771102,\n",
       "   'trend_lower': 194.1538602771102,\n",
       "   'trend_upper': 194.1538602771102,\n",
       "   'yearly': 34.64728701274987,\n",
       "   'yearly_lower': 34.64728701274987,\n",
       "   'yearly_upper': 34.64728701274987,\n",
       "   'yhat': 228.80114728986007,\n",
       "   'yhat_lower': 201.45336283418345,\n",
       "   'yhat_upper': 258.82271048514724},\n",
       "  {'additive_terms': 70.39691995537511,\n",
       "   'additive_terms_lower': 70.39691995537511,\n",
       "   'additive_terms_upper': 70.39691995537511,\n",
       "   'ds': 'Tue, 01 Jul 1952 00:00:00 GMT',\n",
       "   'multiplicative_terms': 0.0,\n",
       "   'multiplicative_terms_lower': 0.0,\n",
       "   'multiplicative_terms_upper': 0.0,\n",
       "   'trend': 196.2562868404354,\n",
       "   'trend_lower': 196.2562868404354,\n",
       "   'trend_upper': 196.2562868404354,\n",
       "   'yearly': 70.39691995537511,\n",
       "   'yearly_lower': 70.39691995537511,\n",
       "   'yearly_upper': 70.39691995537511,\n",
       "   'yhat': 266.6532067958105,\n",
       "   'yhat_lower': 238.1087781551376,\n",
       "   'yhat_upper': 296.64291720998216},\n",
       "  {'additive_terms': 68.19214421182973,\n",
       "   'additive_terms_lower': 68.19214421182973,\n",
       "   'additive_terms_upper': 68.19214421182973,\n",
       "   'ds': 'Fri, 01 Aug 1952 00:00:00 GMT',\n",
       "   'multiplicative_terms': 0.0,\n",
       "   'multiplicative_terms_lower': 0.0,\n",
       "   'multiplicative_terms_upper': 0.0,\n",
       "   'trend': 198.42879428920475,\n",
       "   'trend_lower': 198.42879428920475,\n",
       "   'trend_upper': 198.42879428920475,\n",
       "   'yearly': 68.19214421182973,\n",
       "   'yearly_lower': 68.19214421182973,\n",
       "   'yearly_upper': 68.19214421182973,\n",
       "   'yhat': 266.62093850103446,\n",
       "   'yhat_lower': 237.88919837142603,\n",
       "   'yhat_upper': 294.56415445759507},\n",
       "  {'additive_terms': 16.114442795706324,\n",
       "   'additive_terms_lower': 16.114442795706324,\n",
       "   'additive_terms_upper': 16.114442795706324,\n",
       "   'ds': 'Mon, 01 Sep 1952 00:00:00 GMT',\n",
       "   'multiplicative_terms': 0.0,\n",
       "   'multiplicative_terms_lower': 0.0,\n",
       "   'multiplicative_terms_upper': 0.0,\n",
       "   'trend': 200.60130173797413,\n",
       "   'trend_lower': 200.60130173797413,\n",
       "   'trend_upper': 200.60130173797413,\n",
       "   'yearly': 16.114442795706324,\n",
       "   'yearly_lower': 16.114442795706324,\n",
       "   'yearly_upper': 16.114442795706324,\n",
       "   'yhat': 216.71574453368044,\n",
       "   'yhat_lower': 187.7948472719704,\n",
       "   'yhat_upper': 247.1089040207556},\n",
       "  {'additive_terms': -21.724985115939052,\n",
       "   'additive_terms_lower': -21.724985115939052,\n",
       "   'additive_terms_upper': -21.724985115939052,\n",
       "   'ds': 'Wed, 01 Oct 1952 00:00:00 GMT',\n",
       "   'multiplicative_terms': 0.0,\n",
       "   'multiplicative_terms_lower': 0.0,\n",
       "   'multiplicative_terms_upper': 0.0,\n",
       "   'trend': 202.7037283012993,\n",
       "   'trend_lower': 202.7037283012993,\n",
       "   'trend_upper': 202.7037283012993,\n",
       "   'yearly': -21.724985115939052,\n",
       "   'yearly_lower': -21.724985115939052,\n",
       "   'yearly_upper': -21.724985115939052,\n",
       "   'yhat': 180.97874318536023,\n",
       "   'yhat_lower': 154.1942554834297,\n",
       "   'yhat_upper': 209.30857836248447},\n",
       "  {'additive_terms': -59.58504171495141,\n",
       "   'additive_terms_lower': -59.58504171495141,\n",
       "   'additive_terms_upper': -59.58504171495141,\n",
       "   'ds': 'Sat, 01 Nov 1952 00:00:00 GMT',\n",
       "   'multiplicative_terms': 0.0,\n",
       "   'multiplicative_terms_lower': 0.0,\n",
       "   'multiplicative_terms_upper': 0.0,\n",
       "   'trend': 204.87623575006867,\n",
       "   'trend_lower': 204.87623575006867,\n",
       "   'trend_upper': 204.87623575006867,\n",
       "   'yearly': -59.58504171495141,\n",
       "   'yearly_lower': -59.58504171495141,\n",
       "   'yearly_upper': -59.58504171495141,\n",
       "   'yhat': 145.29119403511726,\n",
       "   'yhat_lower': 115.19102861000118,\n",
       "   'yhat_upper': 174.1054484955656},\n",
       "  {'additive_terms': -33.452170462724325,\n",
       "   'additive_terms_lower': -33.452170462724325,\n",
       "   'additive_terms_upper': -33.452170462724325,\n",
       "   'ds': 'Mon, 01 Dec 1952 00:00:00 GMT',\n",
       "   'multiplicative_terms': 0.0,\n",
       "   'multiplicative_terms_lower': 0.0,\n",
       "   'multiplicative_terms_upper': 0.0,\n",
       "   'trend': 206.97866306455518,\n",
       "   'trend_lower': 206.97866306455518,\n",
       "   'trend_upper': 206.97866306455518,\n",
       "   'yearly': -33.452170462724325,\n",
       "   'yearly_lower': -33.452170462724325,\n",
       "   'yearly_upper': -33.452170462724325,\n",
       "   'yhat': 173.52649260183085,\n",
       "   'yhat_lower': 143.18055544922217,\n",
       "   'yhat_upper': 202.76695812729525},\n",
       "  {'additive_terms': -21.935881955098278,\n",
       "   'additive_terms_lower': -21.935881955098278,\n",
       "   'additive_terms_upper': -21.935881955098278,\n",
       "   'ds': 'Thu, 01 Jan 1953 00:00:00 GMT',\n",
       "   'multiplicative_terms': 0.0,\n",
       "   'multiplicative_terms_lower': 0.0,\n",
       "   'multiplicative_terms_upper': 0.0,\n",
       "   'trend': 209.1511712895245,\n",
       "   'trend_lower': 209.1511712895245,\n",
       "   'trend_upper': 209.1511712895245,\n",
       "   'yearly': -21.935881955098278,\n",
       "   'yearly_lower': -21.935881955098278,\n",
       "   'yearly_upper': -21.935881955098278,\n",
       "   'yhat': 187.21528933442625,\n",
       "   'yhat_lower': 158.8942976944337,\n",
       "   'yhat_upper': 216.16153341861968},\n",
       "  {'additive_terms': -30.689955998653478,\n",
       "   'additive_terms_lower': -30.689955998653478,\n",
       "   'additive_terms_upper': -30.689955998653478,\n",
       "   'ds': 'Sun, 01 Feb 1953 00:00:00 GMT',\n",
       "   'multiplicative_terms': 0.0,\n",
       "   'multiplicative_terms_lower': 0.0,\n",
       "   'multiplicative_terms_upper': 0.0,\n",
       "   'trend': 211.3236795144939,\n",
       "   'trend_lower': 211.3236795144939,\n",
       "   'trend_upper': 211.3236795144939,\n",
       "   'yearly': -30.689955998653478,\n",
       "   'yearly_lower': -30.689955998653478,\n",
       "   'yearly_upper': -30.689955998653478,\n",
       "   'yhat': 180.63372351584042,\n",
       "   'yhat_lower': 150.403021819171,\n",
       "   'yhat_upper': 208.4268019263652},\n",
       "  {'additive_terms': -0.5027205910484858,\n",
       "   'additive_terms_lower': -0.5027205910484858,\n",
       "   'additive_terms_upper': -0.5027205910484858,\n",
       "   'ds': 'Sun, 01 Mar 1953 00:00:00 GMT',\n",
       "   'multiplicative_terms': 0.0,\n",
       "   'multiplicative_terms_lower': 0.0,\n",
       "   'multiplicative_terms_upper': 0.0,\n",
       "   'trend': 213.2859450080146,\n",
       "   'trend_lower': 213.2859450080146,\n",
       "   'trend_upper': 213.2859450080146,\n",
       "   'yearly': -0.5027205910484858,\n",
       "   'yearly_lower': -0.5027205910484858,\n",
       "   'yearly_upper': -0.5027205910484858,\n",
       "   'yhat': 212.78322441696614,\n",
       "   'yhat_lower': 184.64655013757564,\n",
       "   'yhat_upper': 239.76189765320893},\n",
       "  {'additive_terms': -5.177145054568494,\n",
       "   'additive_terms_lower': -5.177145054568494,\n",
       "   'additive_terms_upper': -5.177145054568494,\n",
       "   'ds': 'Wed, 01 Apr 1953 00:00:00 GMT',\n",
       "   'multiplicative_terms': 0.0,\n",
       "   'multiplicative_terms_lower': 0.0,\n",
       "   'multiplicative_terms_upper': 0.0,\n",
       "   'trend': 215.4585461860444,\n",
       "   'trend_lower': 215.4585461860444,\n",
       "   'trend_upper': 215.4585461860444,\n",
       "   'yearly': -5.177145054568494,\n",
       "   'yearly_lower': -5.177145054568494,\n",
       "   'yearly_upper': -5.177145054568494,\n",
       "   'yhat': 210.28140113147592,\n",
       "   'yhat_lower': 181.52611009722915,\n",
       "   'yhat_upper': 240.02346056341452},\n",
       "  {'additive_terms': -3.771356347708265,\n",
       "   'additive_terms_lower': -3.771356347708265,\n",
       "   'additive_terms_upper': -3.771356347708265,\n",
       "   'ds': 'Fri, 01 May 1953 00:00:00 GMT',\n",
       "   'multiplicative_terms': 0.0,\n",
       "   'multiplicative_terms_lower': 0.0,\n",
       "   'multiplicative_terms_upper': 0.0,\n",
       "   'trend': 217.56106345510548,\n",
       "   'trend_lower': 217.56106345510548,\n",
       "   'trend_upper': 217.56106345510548,\n",
       "   'yearly': -3.771356347708265,\n",
       "   'yearly_lower': -3.771356347708265,\n",
       "   'yearly_upper': -3.771356347708265,\n",
       "   'yhat': 213.78970710739722,\n",
       "   'yhat_lower': 185.92845664853482,\n",
       "   'yhat_upper': 241.74710015364735},\n",
       "  {'additive_terms': 34.02135422751424,\n",
       "   'additive_terms_lower': 34.02135422751424,\n",
       "   'additive_terms_upper': 34.02135422751424,\n",
       "   'ds': 'Mon, 01 Jun 1953 00:00:00 GMT',\n",
       "   'multiplicative_terms': 0.0,\n",
       "   'multiplicative_terms_lower': 0.0,\n",
       "   'multiplicative_terms_upper': 0.0,\n",
       "   'trend': 219.73366463313525,\n",
       "   'trend_lower': 219.73366463313525,\n",
       "   'trend_upper': 219.73366463313525,\n",
       "   'yearly': 34.02135422751424,\n",
       "   'yearly_lower': 34.02135422751424,\n",
       "   'yearly_upper': 34.02135422751424,\n",
       "   'yhat': 253.7550188606495,\n",
       "   'yhat_lower': 222.22266078456195,\n",
       "   'yhat_upper': 281.5663846524266},\n",
       "  {'additive_terms': 70.64155754712218,\n",
       "   'additive_terms_lower': 70.64155754712218,\n",
       "   'additive_terms_upper': 70.64155754712218,\n",
       "   'ds': 'Wed, 01 Jul 1953 00:00:00 GMT',\n",
       "   'multiplicative_terms': 0.0,\n",
       "   'multiplicative_terms_lower': 0.0,\n",
       "   'multiplicative_terms_upper': 0.0,\n",
       "   'trend': 221.8361819021963,\n",
       "   'trend_lower': 221.8361819021963,\n",
       "   'trend_upper': 221.8361819021963,\n",
       "   'yearly': 70.64155754712218,\n",
       "   'yearly_lower': 70.64155754712218,\n",
       "   'yearly_upper': 70.64155754712218,\n",
       "   'yhat': 292.4777394493185,\n",
       "   'yhat_lower': 266.95540486390234,\n",
       "   'yhat_upper': 319.1282020692659},\n",
       "  {'additive_terms': 67.94361695594547,\n",
       "   'additive_terms_lower': 67.94361695594547,\n",
       "   'additive_terms_upper': 67.94361695594547,\n",
       "   'ds': 'Sat, 01 Aug 1953 00:00:00 GMT',\n",
       "   'multiplicative_terms': 0.0,\n",
       "   'multiplicative_terms_lower': 0.0,\n",
       "   'multiplicative_terms_upper': 0.0,\n",
       "   'trend': 224.00878308022604,\n",
       "   'trend_lower': 224.00878308022604,\n",
       "   'trend_upper': 224.00878308022604,\n",
       "   'yearly': 67.94361695594547,\n",
       "   'yearly_lower': 67.94361695594547,\n",
       "   'yearly_upper': 67.94361695594547,\n",
       "   'yhat': 291.9524000361715,\n",
       "   'yhat_lower': 262.9166665012706,\n",
       "   'yhat_upper': 321.39123095825767},\n",
       "  {'additive_terms': 16.334110814549952,\n",
       "   'additive_terms_lower': 16.334110814549952,\n",
       "   'additive_terms_upper': 16.334110814549952,\n",
       "   'ds': 'Tue, 01 Sep 1953 00:00:00 GMT',\n",
       "   'multiplicative_terms': 0.0,\n",
       "   'multiplicative_terms_lower': 0.0,\n",
       "   'multiplicative_terms_upper': 0.0,\n",
       "   'trend': 226.30504239992086,\n",
       "   'trend_lower': 226.30504239992086,\n",
       "   'trend_upper': 226.30504239992086,\n",
       "   'yearly': 16.334110814549952,\n",
       "   'yearly_lower': 16.334110814549952,\n",
       "   'yearly_upper': 16.334110814549952,\n",
       "   'yhat': 242.6391532144708,\n",
       "   'yhat_lower': 214.54407481759182,\n",
       "   'yhat_upper': 271.7255124061},\n",
       "  {'additive_terms': -21.919321046910607,\n",
       "   'additive_terms_lower': -21.919321046910607,\n",
       "   'additive_terms_upper': -21.919321046910607,\n",
       "   'ds': 'Thu, 01 Oct 1953 00:00:00 GMT',\n",
       "   'multiplicative_terms': 0.0,\n",
       "   'multiplicative_terms_lower': 0.0,\n",
       "   'multiplicative_terms_upper': 0.0,\n",
       "   'trend': 228.52722883833516,\n",
       "   'trend_lower': 228.52722883833516,\n",
       "   'trend_upper': 228.52722883833516,\n",
       "   'yearly': -21.919321046910607,\n",
       "   'yearly_lower': -21.919321046910607,\n",
       "   'yearly_upper': -21.919321046910607,\n",
       "   'yhat': 206.60790779142457,\n",
       "   'yhat_lower': 178.31872436611826,\n",
       "   'yhat_upper': 234.84044748801048},\n",
       "  {'additive_terms': -58.862043158602404,\n",
       "   'additive_terms_lower': -58.862043158602404,\n",
       "   'additive_terms_upper': -58.862043158602404,\n",
       "   'ds': 'Sun, 01 Nov 1953 00:00:00 GMT',\n",
       "   'multiplicative_terms': 0.0,\n",
       "   'multiplicative_terms_lower': 0.0,\n",
       "   'multiplicative_terms_upper': 0.0,\n",
       "   'trend': 230.82348815802993,\n",
       "   'trend_lower': 230.82348815802993,\n",
       "   'trend_upper': 230.82348815802993,\n",
       "   'yearly': -58.862043158602404,\n",
       "   'yearly_lower': -58.862043158602404,\n",
       "   'yearly_upper': -58.862043158602404,\n",
       "   'yhat': 171.96144499942753,\n",
       "   'yhat_lower': 142.58887032929525,\n",
       "   'yhat_upper': 199.14003279531047},\n",
       "  {'additive_terms': -32.528031059510006,\n",
       "   'additive_terms_lower': -32.528031059510006,\n",
       "   'additive_terms_upper': -32.528031059510006,\n",
       "   'ds': 'Tue, 01 Dec 1953 00:00:00 GMT',\n",
       "   'multiplicative_terms': 0.0,\n",
       "   'multiplicative_terms_lower': 0.0,\n",
       "   'multiplicative_terms_upper': 0.0,\n",
       "   'trend': 233.0456745964442,\n",
       "   'trend_lower': 233.0456745964442,\n",
       "   'trend_upper': 233.0456745964442,\n",
       "   'yearly': -32.528031059510006,\n",
       "   'yearly_lower': -32.528031059510006,\n",
       "   'yearly_upper': -32.528031059510006,\n",
       "   'yhat': 200.5176435369342,\n",
       "   'yhat_lower': 171.51247998743452,\n",
       "   'yhat_upper': 230.49900635296302},\n",
       "  {'additive_terms': -22.755467151878754,\n",
       "   'additive_terms_lower': -22.755467151878754,\n",
       "   'additive_terms_upper': -22.755467151878754,\n",
       "   'ds': 'Fri, 01 Jan 1954 00:00:00 GMT',\n",
       "   'multiplicative_terms': 0.0,\n",
       "   'multiplicative_terms_lower': 0.0,\n",
       "   'multiplicative_terms_upper': 0.0,\n",
       "   'trend': 235.52896945242378,\n",
       "   'trend_lower': 235.52896945242378,\n",
       "   'trend_upper': 235.52896945242378,\n",
       "   'yearly': -22.755467151878754,\n",
       "   'yearly_lower': -22.755467151878754,\n",
       "   'yearly_upper': -22.755467151878754,\n",
       "   'yhat': 212.77350230054503,\n",
       "   'yhat_lower': 185.3572093180563,\n",
       "   'yhat_upper': 242.9851550150382},\n",
       "  {'additive_terms': -32.016571441381934,\n",
       "   'additive_terms_lower': -32.016571441381934,\n",
       "   'additive_terms_upper': -32.016571441381934,\n",
       "   'ds': 'Mon, 01 Feb 1954 00:00:00 GMT',\n",
       "   'multiplicative_terms': 0.0,\n",
       "   'multiplicative_terms_lower': 0.0,\n",
       "   'multiplicative_terms_upper': 0.0,\n",
       "   'trend': 238.0122643084034,\n",
       "   'trend_lower': 238.0122643084034,\n",
       "   'trend_upper': 238.0122643084034,\n",
       "   'yearly': -32.016571441381934,\n",
       "   'yearly_lower': -32.016571441381934,\n",
       "   'yearly_upper': -32.016571441381934,\n",
       "   'yhat': 205.99569286702146,\n",
       "   'yhat_lower': 176.37132955759733,\n",
       "   'yhat_upper': 235.72172109869882},\n",
       "  {'additive_terms': 0.7318329088667885,\n",
       "   'additive_terms_lower': 0.7318329088667885,\n",
       "   'additive_terms_upper': 0.7318329088667885,\n",
       "   'ds': 'Mon, 01 Mar 1954 00:00:00 GMT',\n",
       "   'multiplicative_terms': 0.0,\n",
       "   'multiplicative_terms_lower': 0.0,\n",
       "   'multiplicative_terms_upper': 0.0,\n",
       "   'trend': 240.25524030735266,\n",
       "   'trend_lower': 240.25524030735266,\n",
       "   'trend_upper': 240.25524030735266,\n",
       "   'yearly': 0.7318329088667885,\n",
       "   'yearly_lower': 0.7318329088667885,\n",
       "   'yearly_upper': 0.7318329088667885,\n",
       "   'yhat': 240.98707321621944,\n",
       "   'yhat_lower': 212.9467286373672,\n",
       "   'yhat_upper': 269.33293499137164},\n",
       "  {'additive_terms': -6.067076176912235,\n",
       "   'additive_terms_lower': -6.067076176912235,\n",
       "   'additive_terms_upper': -6.067076176912235,\n",
       "   'ds': 'Thu, 01 Apr 1954 00:00:00 GMT',\n",
       "   'multiplicative_terms': 0.0,\n",
       "   'multiplicative_terms_lower': 0.0,\n",
       "   'multiplicative_terms_upper': 0.0,\n",
       "   'trend': 242.73853516333227,\n",
       "   'trend_lower': 242.73853516333227,\n",
       "   'trend_upper': 242.73853516333227,\n",
       "   'yearly': -6.067076176912235,\n",
       "   'yearly_lower': -6.067076176912235,\n",
       "   'yearly_upper': -6.067076176912235,\n",
       "   'yhat': 236.67145898642005,\n",
       "   'yhat_lower': 207.1118642960244,\n",
       "   'yhat_upper': 266.95369377284226},\n",
       "  {'additive_terms': -3.1100798911749474,\n",
       "   'additive_terms_lower': -3.1100798911749474,\n",
       "   'additive_terms_upper': -3.1100798911749474,\n",
       "   'ds': 'Sat, 01 May 1954 00:00:00 GMT',\n",
       "   'multiplicative_terms': 0.0,\n",
       "   'multiplicative_terms_lower': 0.0,\n",
       "   'multiplicative_terms_upper': 0.0,\n",
       "   'trend': 245.1417237336351,\n",
       "   'trend_lower': 245.1417237336351,\n",
       "   'trend_upper': 245.1417237336351,\n",
       "   'yearly': -3.1100798911749474,\n",
       "   'yearly_lower': -3.1100798911749474,\n",
       "   'yearly_upper': -3.1100798911749474,\n",
       "   'yhat': 242.03164384246017,\n",
       "   'yhat_lower': 209.5699161018418,\n",
       "   'yhat_upper': 270.46795878566235},\n",
       "  {'additive_terms': 33.38894295450354,\n",
       "   'additive_terms_lower': 33.38894295450354,\n",
       "   'additive_terms_upper': 33.38894295450354,\n",
       "   'ds': 'Tue, 01 Jun 1954 00:00:00 GMT',\n",
       "   'multiplicative_terms': 0.0,\n",
       "   'multiplicative_terms_lower': 0.0,\n",
       "   'multiplicative_terms_upper': 0.0,\n",
       "   'trend': 247.86689693415863,\n",
       "   'trend_lower': 247.86689693415863,\n",
       "   'trend_upper': 247.86689693415863,\n",
       "   'yearly': 33.38894295450354,\n",
       "   'yearly_lower': 33.38894295450354,\n",
       "   'yearly_upper': 33.38894295450354,\n",
       "   'yhat': 281.2558398886622,\n",
       "   'yhat_lower': 253.88837525491672,\n",
       "   'yhat_upper': 309.4526334427936},\n",
       "  {'additive_terms': 70.87440691328668,\n",
       "   'additive_terms_lower': 70.87440691328668,\n",
       "   'additive_terms_upper': 70.87440691328668,\n",
       "   'ds': 'Thu, 01 Jul 1954 00:00:00 GMT',\n",
       "   'multiplicative_terms': 0.0,\n",
       "   'multiplicative_terms_lower': 0.0,\n",
       "   'multiplicative_terms_upper': 0.0,\n",
       "   'trend': 250.50416132176207,\n",
       "   'trend_lower': 250.50416132176207,\n",
       "   'trend_upper': 250.50416132176207,\n",
       "   'yearly': 70.87440691328668,\n",
       "   'yearly_lower': 70.87440691328668,\n",
       "   'yearly_upper': 70.87440691328668,\n",
       "   'yhat': 321.37856823504876,\n",
       "   'yhat_lower': 291.05755243690396,\n",
       "   'yhat_upper': 348.75786170258965},\n",
       "  {'additive_terms': 67.6808760686542,\n",
       "   'additive_terms_lower': 67.6808760686542,\n",
       "   'additive_terms_upper': 67.6808760686542,\n",
       "   'ds': 'Sun, 01 Aug 1954 00:00:00 GMT',\n",
       "   'multiplicative_terms': 0.0,\n",
       "   'multiplicative_terms_lower': 0.0,\n",
       "   'multiplicative_terms_upper': 0.0,\n",
       "   'trend': 253.2293345222856,\n",
       "   'trend_lower': 253.2293345222856,\n",
       "   'trend_upper': 253.2293345222856,\n",
       "   'yearly': 67.6808760686542,\n",
       "   'yearly_lower': 67.6808760686542,\n",
       "   'yearly_upper': 67.6808760686542,\n",
       "   'yhat': 320.9102105909398,\n",
       "   'yhat_lower': 292.06447031153857,\n",
       "   'yhat_upper': 350.90536926709797},\n",
       "  {'additive_terms': 16.55884813567096,\n",
       "   'additive_terms_lower': 16.55884813567096,\n",
       "   'additive_terms_upper': 16.55884813567096,\n",
       "   'ds': 'Wed, 01 Sep 1954 00:00:00 GMT',\n",
       "   'multiplicative_terms': 0.0,\n",
       "   'multiplicative_terms_lower': 0.0,\n",
       "   'multiplicative_terms_upper': 0.0,\n",
       "   'trend': 255.9545077228091,\n",
       "   'trend_lower': 255.9545077228091,\n",
       "   'trend_upper': 255.9545077228091,\n",
       "   'yearly': 16.55884813567096,\n",
       "   'yearly_lower': 16.55884813567096,\n",
       "   'yearly_upper': 16.55884813567096,\n",
       "   'yhat': 272.51335585848005,\n",
       "   'yhat_lower': 243.82215052939182,\n",
       "   'yhat_upper': 300.39355514272205},\n",
       "  {'additive_terms': -22.095830024487288,\n",
       "   'additive_terms_lower': -22.095830024487288,\n",
       "   'additive_terms_upper': -22.095830024487288,\n",
       "   'ds': 'Fri, 01 Oct 1954 00:00:00 GMT',\n",
       "   'multiplicative_terms': 0.0,\n",
       "   'multiplicative_terms_lower': 0.0,\n",
       "   'multiplicative_terms_upper': 0.0,\n",
       "   'trend': 258.8119080136925,\n",
       "   'trend_lower': 258.8119080136925,\n",
       "   'trend_upper': 258.8119080136925,\n",
       "   'yearly': -22.095830024487288,\n",
       "   'yearly_lower': -22.095830024487288,\n",
       "   'yearly_upper': -22.095830024487288,\n",
       "   'yhat': 236.71607798920522,\n",
       "   'yhat_lower': 207.7514105181923,\n",
       "   'yhat_upper': 265.42068451336235},\n",
       "  {'additive_terms': -58.11085453018889,\n",
       "   'additive_terms_lower': -58.11085453018889,\n",
       "   'additive_terms_upper': -58.11085453018889,\n",
       "   'ds': 'Mon, 01 Nov 1954 00:00:00 GMT',\n",
       "   'multiplicative_terms': 0.0,\n",
       "   'multiplicative_terms_lower': 0.0,\n",
       "   'multiplicative_terms_upper': 0.0,\n",
       "   'trend': 261.7645549809387,\n",
       "   'trend_lower': 261.7645549809387,\n",
       "   'trend_upper': 261.7645549809387,\n",
       "   'yearly': -58.11085453018889,\n",
       "   'yearly_lower': -58.11085453018889,\n",
       "   'yearly_upper': -58.11085453018889,\n",
       "   'yhat': 203.65370045074985,\n",
       "   'yhat_lower': 175.30514551344237,\n",
       "   'yhat_upper': 231.6127666006915},\n",
       "  {'additive_terms': -31.632745270147286,\n",
       "   'additive_terms_lower': -31.632745270147286,\n",
       "   'additive_terms_upper': -31.632745270147286,\n",
       "   'ds': 'Wed, 01 Dec 1954 00:00:00 GMT',\n",
       "   'multiplicative_terms': 0.0,\n",
       "   'multiplicative_terms_lower': 0.0,\n",
       "   'multiplicative_terms_upper': 0.0,\n",
       "   'trend': 264.62195527182206,\n",
       "   'trend_lower': 264.62195527182206,\n",
       "   'trend_upper': 264.62195527182206,\n",
       "   'yearly': -31.632745270147286,\n",
       "   'yearly_lower': -31.632745270147286,\n",
       "   'yearly_upper': -31.632745270147286,\n",
       "   'yhat': 232.98921000167476,\n",
       "   'yhat_lower': 203.16014882686426,\n",
       "   'yhat_upper': 261.1150843639678},\n",
       "  {'additive_terms': -23.610163486465254,\n",
       "   'additive_terms_lower': -23.610163486465254,\n",
       "   'additive_terms_upper': -23.610163486465254,\n",
       "   'ds': 'Sat, 01 Jan 1955 00:00:00 GMT',\n",
       "   'multiplicative_terms': 0.0,\n",
       "   'multiplicative_terms_lower': 0.0,\n",
       "   'multiplicative_terms_upper': 0.0,\n",
       "   'trend': 267.57460223906827,\n",
       "   'trend_lower': 267.57460223906827,\n",
       "   'trend_upper': 267.57460223906827,\n",
       "   'yearly': -23.610163486465254,\n",
       "   'yearly_lower': -23.610163486465254,\n",
       "   'yearly_upper': -23.610163486465254,\n",
       "   'yhat': 243.96443875260303,\n",
       "   'yhat_lower': 215.9392719170149,\n",
       "   'yhat_upper': 272.82156029900295},\n",
       "  {'additive_terms': -33.318380802669026,\n",
       "   'additive_terms_lower': -33.318380802669026,\n",
       "   'additive_terms_upper': -33.318380802669026,\n",
       "   'ds': 'Tue, 01 Feb 1955 00:00:00 GMT',\n",
       "   'multiplicative_terms': 0.0,\n",
       "   'multiplicative_terms_lower': 0.0,\n",
       "   'multiplicative_terms_upper': 0.0,\n",
       "   'trend': 270.5272492063144,\n",
       "   'trend_lower': 270.5272492063144,\n",
       "   'trend_upper': 270.5272492063144,\n",
       "   'yearly': -33.318380802669026,\n",
       "   'yearly_lower': -33.318380802669026,\n",
       "   'yearly_upper': -33.318380802669026,\n",
       "   'yhat': 237.2088684036454,\n",
       "   'yhat_lower': 208.84778592795524,\n",
       "   'yhat_upper': 264.9140455224161},\n",
       "  {'additive_terms': 1.9654910776576189,\n",
       "   'additive_terms_lower': 1.9654910776576189,\n",
       "   'additive_terms_upper': 1.9654910776576189,\n",
       "   'ds': 'Tue, 01 Mar 1955 00:00:00 GMT',\n",
       "   'multiplicative_terms': 0.0,\n",
       "   'multiplicative_terms_lower': 0.0,\n",
       "   'multiplicative_terms_upper': 0.0,\n",
       "   'trend': 273.3189489546082,\n",
       "   'trend_lower': 273.3189489546082,\n",
       "   'trend_upper': 273.3189489546082,\n",
       "   'yearly': 1.9654910776576189,\n",
       "   'yearly_lower': 1.9654910776576189,\n",
       "   'yearly_upper': 1.9654910776576189,\n",
       "   'yhat': 275.2844400322658,\n",
       "   'yhat_lower': 245.27899936412413,\n",
       "   'yhat_upper': 304.7113313825658},\n",
       "  {'additive_terms': -6.958890101000195,\n",
       "   'additive_terms_lower': -6.958890101000195,\n",
       "   'additive_terms_upper': -6.958890101000195,\n",
       "   'ds': 'Fri, 01 Apr 1955 00:00:00 GMT',\n",
       "   'multiplicative_terms': 0.0,\n",
       "   'multiplicative_terms_lower': 0.0,\n",
       "   'multiplicative_terms_upper': 0.0,\n",
       "   'trend': 276.40975939021916,\n",
       "   'trend_lower': 276.40975939021916,\n",
       "   'trend_upper': 276.40975939021916,\n",
       "   'yearly': -6.958890101000195,\n",
       "   'yearly_lower': -6.958890101000195,\n",
       "   'yearly_upper': -6.958890101000195,\n",
       "   'yhat': 269.450869289219,\n",
       "   'yhat_lower': 240.48907267312117,\n",
       "   'yhat_upper': 298.00754633950623},\n",
       "  {'additive_terms': -2.4404083697146826,\n",
       "   'additive_terms_lower': -2.4404083697146826,\n",
       "   'additive_terms_upper': -2.4404083697146826,\n",
       "   'ds': 'Sun, 01 May 1955 00:00:00 GMT',\n",
       "   'multiplicative_terms': 0.0,\n",
       "   'multiplicative_terms_lower': 0.0,\n",
       "   'multiplicative_terms_upper': 0.0,\n",
       "   'trend': 279.40086626339104,\n",
       "   'trend_lower': 279.40086626339104,\n",
       "   'trend_upper': 279.40086626339104,\n",
       "   'yearly': -2.4404083697146826,\n",
       "   'yearly_lower': -2.4404083697146826,\n",
       "   'yearly_upper': -2.4404083697146826,\n",
       "   'yhat': 276.96045789367633,\n",
       "   'yhat_lower': 247.5447957390834,\n",
       "   'yhat_upper': 305.27496213019316},\n",
       "  {'additive_terms': 32.750040446817565,\n",
       "   'additive_terms_lower': 32.750040446817565,\n",
       "   'additive_terms_upper': 32.750040446817565,\n",
       "   'ds': 'Wed, 01 Jun 1955 00:00:00 GMT',\n",
       "   'multiplicative_terms': 0.0,\n",
       "   'multiplicative_terms_lower': 0.0,\n",
       "   'multiplicative_terms_upper': 0.0,\n",
       "   'trend': 282.49167669900197,\n",
       "   'trend_lower': 282.49167669900197,\n",
       "   'trend_upper': 282.49167669900197,\n",
       "   'yearly': 32.750040446817565,\n",
       "   'yearly_lower': 32.750040446817565,\n",
       "   'yearly_upper': 32.750040446817565,\n",
       "   'yhat': 315.2417171458195,\n",
       "   'yhat_lower': 286.0754422825966,\n",
       "   'yhat_upper': 342.4152988299893},\n",
       "  {'additive_terms': 71.09521819395927,\n",
       "   'additive_terms_lower': 71.09521819395927,\n",
       "   'additive_terms_upper': 71.09521819395927,\n",
       "   'ds': 'Fri, 01 Jul 1955 00:00:00 GMT',\n",
       "   'multiplicative_terms': 0.0,\n",
       "   'multiplicative_terms_lower': 0.0,\n",
       "   'multiplicative_terms_upper': 0.0,\n",
       "   'trend': 285.4827835721739,\n",
       "   'trend_lower': 285.4827835721739,\n",
       "   'trend_upper': 285.4827835721739,\n",
       "   'yearly': 71.09521819395927,\n",
       "   'yearly_lower': 71.09521819395927,\n",
       "   'yearly_upper': 71.09521819395927,\n",
       "   'yhat': 356.5780017661332,\n",
       "   'yhat_lower': 327.98217708445884,\n",
       "   'yhat_upper': 387.28270427406295},\n",
       "  {'additive_terms': 67.40451564277525,\n",
       "   'additive_terms_lower': 67.40451564277525,\n",
       "   'additive_terms_upper': 67.40451564277525,\n",
       "   'ds': 'Mon, 01 Aug 1955 00:00:00 GMT',\n",
       "   'multiplicative_terms': 0.0,\n",
       "   'multiplicative_terms_lower': 0.0,\n",
       "   'multiplicative_terms_upper': 0.0,\n",
       "   'trend': 288.5974031178344,\n",
       "   'trend_lower': 288.5974031178344,\n",
       "   'trend_upper': 288.5974031178344,\n",
       "   'yearly': 67.40451564277525,\n",
       "   'yearly_lower': 67.40451564277525,\n",
       "   'yearly_upper': 67.40451564277525,\n",
       "   'yhat': 356.00191876060967,\n",
       "   'yhat_lower': 326.7364981414001,\n",
       "   'yhat_upper': 385.8962200171296},\n",
       "  {'additive_terms': 16.78916247780349,\n",
       "   'additive_terms_lower': 16.78916247780349,\n",
       "   'additive_terms_upper': 16.78916247780349,\n",
       "   'ds': 'Thu, 01 Sep 1955 00:00:00 GMT',\n",
       "   'multiplicative_terms': 0.0,\n",
       "   'multiplicative_terms_lower': 0.0,\n",
       "   'multiplicative_terms_upper': 0.0,\n",
       "   'trend': 291.712022663495,\n",
       "   'trend_lower': 291.712022663495,\n",
       "   'trend_upper': 291.712022663495,\n",
       "   'yearly': 16.78916247780349,\n",
       "   'yearly_lower': 16.78916247780349,\n",
       "   'yearly_upper': 16.78916247780349,\n",
       "   'yhat': 308.5011851412985,\n",
       "   'yhat_lower': 279.43284293613317,\n",
       "   'yhat_upper': 335.7187264546084},\n",
       "  {'additive_terms': -22.254103697541957,\n",
       "   'additive_terms_lower': -22.254103697541957,\n",
       "   'additive_terms_upper': -22.254103697541957,\n",
       "   'ds': 'Sat, 01 Oct 1955 00:00:00 GMT',\n",
       "   'multiplicative_terms': 0.0,\n",
       "   'multiplicative_terms_lower': 0.0,\n",
       "   'multiplicative_terms_upper': 0.0,\n",
       "   'trend': 294.7261706109084,\n",
       "   'trend_lower': 294.7261706109084,\n",
       "   'trend_upper': 294.7261706109084,\n",
       "   'yearly': -22.254103697541957,\n",
       "   'yearly_lower': -22.254103697541957,\n",
       "   'yearly_upper': -22.254103697541957,\n",
       "   'yhat': 272.47206691336646,\n",
       "   'yhat_lower': 242.83666574318752,\n",
       "   'yhat_upper': 301.99311239948423},\n",
       "  {'additive_terms': -57.33251355606314,\n",
       "   'additive_terms_lower': -57.33251355606314,\n",
       "   'additive_terms_upper': -57.33251355606314,\n",
       "   'ds': 'Tue, 01 Nov 1955 00:00:00 GMT',\n",
       "   'multiplicative_terms': 0.0,\n",
       "   'multiplicative_terms_lower': 0.0,\n",
       "   'multiplicative_terms_upper': 0.0,\n",
       "   'trend': 297.84079015656897,\n",
       "   'trend_lower': 297.84079015656897,\n",
       "   'trend_upper': 297.84079015656897,\n",
       "   'yearly': -57.33251355606314,\n",
       "   'yearly_lower': -57.33251355606314,\n",
       "   'yearly_upper': -57.33251355606314,\n",
       "   'yhat': 240.50827660050584,\n",
       "   'yhat_lower': 212.4905934317585,\n",
       "   'yhat_upper': 271.23740310032565},\n",
       "  {'additive_terms': -30.767540742873464,\n",
       "   'additive_terms_lower': -30.767540742873464,\n",
       "   'additive_terms_upper': -30.767540742873464,\n",
       "   'ds': 'Thu, 01 Dec 1955 00:00:00 GMT',\n",
       "   'multiplicative_terms': 0.0,\n",
       "   'multiplicative_terms_lower': 0.0,\n",
       "   'multiplicative_terms_upper': 0.0,\n",
       "   'trend': 300.85493812174565,\n",
       "   'trend_lower': 300.85493812174565,\n",
       "   'trend_upper': 300.85493812174565,\n",
       "   'yearly': -30.767540742873464,\n",
       "   'yearly_lower': -30.767540742873464,\n",
       "   'yearly_upper': -30.767540742873464,\n",
       "   'yhat': 270.0873973788722,\n",
       "   'yhat_lower': 239.99449644151005,\n",
       "   'yhat_upper': 300.40317716872266},\n",
       "  {'additive_terms': -24.49891172105609,\n",
       "   'additive_terms_lower': -24.49891172105609,\n",
       "   'additive_terms_upper': -24.49891172105609,\n",
       "   'ds': 'Sun, 01 Jan 1956 00:00:00 GMT',\n",
       "   'multiplicative_terms': 0.0,\n",
       "   'multiplicative_terms_lower': 0.0,\n",
       "   'multiplicative_terms_upper': 0.0,\n",
       "   'trend': 303.9695576857615,\n",
       "   'trend_lower': 303.9695576857615,\n",
       "   'trend_upper': 303.9695576857615,\n",
       "   'yearly': -24.49891172105609,\n",
       "   'yearly_lower': -24.49891172105609,\n",
       "   'yearly_upper': -24.49891172105609,\n",
       "   'yhat': 279.47064596470545,\n",
       "   'yhat_lower': 249.07885647403842,\n",
       "   'yhat_upper': 307.96680434935695},\n",
       "  {'additive_terms': -34.59399865420523,\n",
       "   'additive_terms_lower': -34.59399865420523,\n",
       "   'additive_terms_upper': -34.59399865420523,\n",
       "   'ds': 'Wed, 01 Feb 1956 00:00:00 GMT',\n",
       "   'multiplicative_terms': 0.0,\n",
       "   'multiplicative_terms_lower': 0.0,\n",
       "   'multiplicative_terms_upper': 0.0,\n",
       "   'trend': 307.08417724977744,\n",
       "   'trend_lower': 307.08417724977744,\n",
       "   'trend_upper': 307.08417724977744,\n",
       "   'yearly': -34.59399865420523,\n",
       "   'yearly_lower': -34.59399865420523,\n",
       "   'yearly_upper': -34.59399865420523,\n",
       "   'yhat': 272.4901785955722,\n",
       "   'yhat_lower': 243.50776388107093,\n",
       "   'yhat_upper': 301.5385700798825},\n",
       "  {'additive_terms': -1.7370259406995665,\n",
       "   'additive_terms_lower': -1.7370259406995665,\n",
       "   'additive_terms_upper': -1.7370259406995665,\n",
       "   'ds': 'Thu, 01 Mar 1956 00:00:00 GMT',\n",
       "   'multiplicative_terms': 0.0,\n",
       "   'multiplicative_terms_lower': 0.0,\n",
       "   'multiplicative_terms_upper': 0.0,\n",
       "   'trend': 309.9978536161149,\n",
       "   'trend_lower': 309.9978536161149,\n",
       "   'trend_upper': 309.9978536161149,\n",
       "   'yearly': -1.7370259406995665,\n",
       "   'yearly_lower': -1.7370259406995665,\n",
       "   'yearly_upper': -1.7370259406995665,\n",
       "   'yhat': 308.2608276754154,\n",
       "   'yhat_lower': 280.68357225317516,\n",
       "   'yhat_upper': 337.48686855023425},\n",
       "  {'additive_terms': -4.289615318120114,\n",
       "   'additive_terms_lower': -4.289615318120114,\n",
       "   'additive_terms_upper': -4.289615318120114,\n",
       "   'ds': 'Sun, 01 Apr 1956 00:00:00 GMT',\n",
       "   'multiplicative_terms': 0.0,\n",
       "   'multiplicative_terms_lower': 0.0,\n",
       "   'multiplicative_terms_upper': 0.0,\n",
       "   'trend': 313.1124731801308,\n",
       "   'trend_lower': 313.1124731801308,\n",
       "   'trend_upper': 313.1124731801308,\n",
       "   'yearly': -4.289615318120114,\n",
       "   'yearly_lower': -4.289615318120114,\n",
       "   'yearly_upper': -4.289615318120114,\n",
       "   'yhat': 308.82285786201066,\n",
       "   'yhat_lower': 280.82685698152716,\n",
       "   'yhat_upper': 336.37518780348563},\n",
       "  {'additive_terms': -4.423534293801204,\n",
       "   'additive_terms_lower': -4.423534293801204,\n",
       "   'additive_terms_upper': -4.423534293801204,\n",
       "   'ds': 'Tue, 01 May 1956 00:00:00 GMT',\n",
       "   'multiplicative_terms': 0.0,\n",
       "   'multiplicative_terms_lower': 0.0,\n",
       "   'multiplicative_terms_upper': 0.0,\n",
       "   'trend': 316.12662114189226,\n",
       "   'trend_lower': 316.12662114189226,\n",
       "   'trend_upper': 316.12662114189226,\n",
       "   'yearly': -4.423534293801204,\n",
       "   'yearly_lower': -4.423534293801204,\n",
       "   'yearly_upper': -4.423534293801204,\n",
       "   'yhat': 311.70308684809106,\n",
       "   'yhat_lower': 285.1832028090234,\n",
       "   'yhat_upper': 340.5971751343162},\n",
       "  {'additive_terms': 34.64728701275246,\n",
       "   'additive_terms_lower': 34.64728701275246,\n",
       "   'additive_terms_upper': 34.64728701275246,\n",
       "   'ds': 'Fri, 01 Jun 1956 00:00:00 GMT',\n",
       "   'multiplicative_terms': 0.0,\n",
       "   'multiplicative_terms_lower': 0.0,\n",
       "   'multiplicative_terms_upper': 0.0,\n",
       "   'trend': 319.24124070237906,\n",
       "   'trend_lower': 319.24124070237906,\n",
       "   'trend_upper': 319.24124070237906,\n",
       "   'yearly': 34.64728701275246,\n",
       "   'yearly_lower': 34.64728701275246,\n",
       "   'yearly_upper': 34.64728701275246,\n",
       "   'yhat': 353.88852771513154,\n",
       "   'yhat_lower': 323.9785381205644,\n",
       "   'yhat_upper': 383.1890252581312},\n",
       "  {'additive_terms': 70.39691995537727,\n",
       "   'additive_terms_lower': 70.39691995537727,\n",
       "   'additive_terms_upper': 70.39691995537727,\n",
       "   'ds': 'Sun, 01 Jul 1956 00:00:00 GMT',\n",
       "   'multiplicative_terms': 0.0,\n",
       "   'multiplicative_terms_lower': 0.0,\n",
       "   'multiplicative_terms_upper': 0.0,\n",
       "   'trend': 322.2553886641405,\n",
       "   'trend_lower': 322.2553886641405,\n",
       "   'trend_upper': 322.2553886641405,\n",
       "   'yearly': 70.39691995537727,\n",
       "   'yearly_lower': 70.39691995537727,\n",
       "   'yearly_upper': 70.39691995537727,\n",
       "   'yhat': 392.6523086195178,\n",
       "   'yhat_lower': 363.4819186530231,\n",
       "   'yhat_upper': 421.5316952359934},\n",
       "  {'additive_terms': 68.19214421183027,\n",
       "   'additive_terms_lower': 68.19214421183027,\n",
       "   'additive_terms_upper': 68.19214421183027,\n",
       "   'ds': 'Wed, 01 Aug 1956 00:00:00 GMT',\n",
       "   'multiplicative_terms': 0.0,\n",
       "   'multiplicative_terms_lower': 0.0,\n",
       "   'multiplicative_terms_upper': 0.0,\n",
       "   'trend': 325.37000822462727,\n",
       "   'trend_lower': 325.37000822462727,\n",
       "   'trend_upper': 325.37000822462727,\n",
       "   'yearly': 68.19214421183027,\n",
       "   'yearly_lower': 68.19214421183027,\n",
       "   'yearly_upper': 68.19214421183027,\n",
       "   'yhat': 393.56215243645755,\n",
       "   'yhat_lower': 365.3181836494035,\n",
       "   'yhat_upper': 420.42784180576734},\n",
       "  {'additive_terms': 16.114442795705124,\n",
       "   'additive_terms_lower': 16.114442795705124,\n",
       "   'additive_terms_upper': 16.114442795705124,\n",
       "   'ds': 'Sat, 01 Sep 1956 00:00:00 GMT',\n",
       "   'multiplicative_terms': 0.0,\n",
       "   'multiplicative_terms_lower': 0.0,\n",
       "   'multiplicative_terms_upper': 0.0,\n",
       "   'trend': 328.4846278516565,\n",
       "   'trend_lower': 328.4846278516565,\n",
       "   'trend_upper': 328.4846278516565,\n",
       "   'yearly': 16.114442795705124,\n",
       "   'yearly_lower': 16.114442795705124,\n",
       "   'yearly_upper': 16.114442795705124,\n",
       "   'yhat': 344.59907064736166,\n",
       "   'yhat_lower': 315.08288319971433,\n",
       "   'yhat_upper': 373.5163759240348},\n",
       "  {'additive_terms': -21.724985115938342,\n",
       "   'additive_terms_lower': -21.724985115938342,\n",
       "   'additive_terms_upper': -21.724985115938342,\n",
       "   'ds': 'Mon, 01 Oct 1956 00:00:00 GMT',\n",
       "   'multiplicative_terms': 0.0,\n",
       "   'multiplicative_terms_lower': 0.0,\n",
       "   'multiplicative_terms_upper': 0.0,\n",
       "   'trend': 331.4987758778137,\n",
       "   'trend_lower': 331.4987758778137,\n",
       "   'trend_upper': 331.4987758778137,\n",
       "   'yearly': -21.724985115938342,\n",
       "   'yearly_lower': -21.724985115938342,\n",
       "   'yearly_upper': -21.724985115938342,\n",
       "   'yhat': 309.7737907618754,\n",
       "   'yhat_lower': 278.455142698951,\n",
       "   'yhat_upper': 338.67305290614655},\n",
       "  {'additive_terms': -59.58504171495086,\n",
       "   'additive_terms_lower': -59.58504171495086,\n",
       "   'additive_terms_upper': -59.58504171495086,\n",
       "   'ds': 'Thu, 01 Nov 1956 00:00:00 GMT',\n",
       "   'multiplicative_terms': 0.0,\n",
       "   'multiplicative_terms_lower': 0.0,\n",
       "   'multiplicative_terms_upper': 0.0,\n",
       "   'trend': 334.61339550484286,\n",
       "   'trend_lower': 334.61339550484286,\n",
       "   'trend_upper': 334.61339550484286,\n",
       "   'yearly': -59.58504171495086,\n",
       "   'yearly_lower': -59.58504171495086,\n",
       "   'yearly_upper': -59.58504171495086,\n",
       "   'yhat': 275.028353789892,\n",
       "   'yhat_lower': 247.08936228419472,\n",
       "   'yhat_upper': 304.1876914133544},\n",
       "  {'additive_terms': -33.45217046272319,\n",
       "   'additive_terms_lower': -33.45217046272319,\n",
       "   'additive_terms_upper': -33.45217046272319,\n",
       "   'ds': 'Sat, 01 Dec 1956 00:00:00 GMT',\n",
       "   'multiplicative_terms': 0.0,\n",
       "   'multiplicative_terms_lower': 0.0,\n",
       "   'multiplicative_terms_upper': 0.0,\n",
       "   'trend': 337.62754353100013,\n",
       "   'trend_lower': 337.62754353100013,\n",
       "   'trend_upper': 337.62754353100013,\n",
       "   'yearly': -33.45217046272319,\n",
       "   'yearly_lower': -33.45217046272319,\n",
       "   'yearly_upper': -33.45217046272319,\n",
       "   'yhat': 304.17537306827694,\n",
       "   'yhat_lower': 274.32490513299194,\n",
       "   'yhat_upper': 334.10128687280974},\n",
       "  {'additive_terms': -21.935881955097983,\n",
       "   'additive_terms_lower': -21.935881955097983,\n",
       "   'additive_terms_upper': -21.935881955097983,\n",
       "   'ds': 'Tue, 01 Jan 1957 00:00:00 GMT',\n",
       "   'multiplicative_terms': 0.0,\n",
       "   'multiplicative_terms_lower': 0.0,\n",
       "   'multiplicative_terms_upper': 0.0,\n",
       "   'trend': 340.74216315802926,\n",
       "   'trend_lower': 340.74216315802926,\n",
       "   'trend_upper': 340.74216315802926,\n",
       "   'yearly': -21.935881955097983,\n",
       "   'yearly_lower': -21.935881955097983,\n",
       "   'yearly_upper': -21.935881955097983,\n",
       "   'yhat': 318.80628120293125,\n",
       "   'yhat_lower': 291.50363029715936,\n",
       "   'yhat_upper': 346.79066053724716},\n",
       "  {'additive_terms': -30.689955998650504,\n",
       "   'additive_terms_lower': -30.689955998650504,\n",
       "   'additive_terms_upper': -30.689955998650504,\n",
       "   'ds': 'Fri, 01 Feb 1957 00:00:00 GMT',\n",
       "   'multiplicative_terms': 0.0,\n",
       "   'multiplicative_terms_lower': 0.0,\n",
       "   'multiplicative_terms_upper': 0.0,\n",
       "   'trend': 343.856782791167,\n",
       "   'trend_lower': 343.856782791167,\n",
       "   'trend_upper': 343.856782791167,\n",
       "   'yearly': -30.689955998650504,\n",
       "   'yearly_lower': -30.689955998650504,\n",
       "   'yearly_upper': -30.689955998650504,\n",
       "   'yhat': 313.16682679251653,\n",
       "   'yhat_lower': 283.4996092100265,\n",
       "   'yhat_upper': 343.0517896653757},\n",
       "  {'additive_terms': -0.502720591051863,\n",
       "   'additive_terms_lower': -0.502720591051863,\n",
       "   'additive_terms_upper': -0.502720591051863,\n",
       "   'ds': 'Fri, 01 Mar 1957 00:00:00 GMT',\n",
       "   'multiplicative_terms': 0.0,\n",
       "   'multiplicative_terms_lower': 0.0,\n",
       "   'multiplicative_terms_upper': 0.0,\n",
       "   'trend': 346.66998762109785,\n",
       "   'trend_lower': 346.66998762109785,\n",
       "   'trend_upper': 346.66998762109785,\n",
       "   'yearly': -0.502720591051863,\n",
       "   'yearly_lower': -0.502720591051863,\n",
       "   'yearly_upper': -0.502720591051863,\n",
       "   'yhat': 346.167267030046,\n",
       "   'yhat_lower': 318.1079750103208,\n",
       "   'yhat_upper': 376.4272863282667},\n",
       "  {'additive_terms': -5.177145054563456,\n",
       "   'additive_terms_lower': -5.177145054563456,\n",
       "   'additive_terms_upper': -5.177145054563456,\n",
       "   'ds': 'Mon, 01 Apr 1957 00:00:00 GMT',\n",
       "   'multiplicative_terms': 0.0,\n",
       "   'multiplicative_terms_lower': 0.0,\n",
       "   'multiplicative_terms_upper': 0.0,\n",
       "   'trend': 349.78460725423565,\n",
       "   'trend_lower': 349.78460725423565,\n",
       "   'trend_upper': 349.78460725423565,\n",
       "   'yearly': -5.177145054563456,\n",
       "   'yearly_lower': -5.177145054563456,\n",
       "   'yearly_upper': -5.177145054563456,\n",
       "   'yhat': 344.60746219967217,\n",
       "   'yhat_lower': 316.764339161115,\n",
       "   'yhat_upper': 373.4557873819589},\n",
       "  {'additive_terms': -3.771356347712443,\n",
       "   'additive_terms_lower': -3.771356347712443,\n",
       "   'additive_terms_upper': -3.771356347712443,\n",
       "   'ds': 'Wed, 01 May 1957 00:00:00 GMT',\n",
       "   'multiplicative_terms': 0.0,\n",
       "   'multiplicative_terms_lower': 0.0,\n",
       "   'multiplicative_terms_upper': 0.0,\n",
       "   'trend': 352.7987552863044,\n",
       "   'trend_lower': 352.7987552863044,\n",
       "   'trend_upper': 352.7987552863044,\n",
       "   'yearly': -3.771356347712443,\n",
       "   'yearly_lower': -3.771356347712443,\n",
       "   'yearly_upper': -3.771356347712443,\n",
       "   'yhat': 349.02739893859194,\n",
       "   'yhat_lower': 319.76945269587816,\n",
       "   'yhat_upper': 376.2748481049073},\n",
       "  {'additive_terms': 34.02135422751453,\n",
       "   'additive_terms_lower': 34.02135422751453,\n",
       "   'additive_terms_upper': 34.02135422751453,\n",
       "   'ds': 'Sat, 01 Jun 1957 00:00:00 GMT',\n",
       "   'multiplicative_terms': 0.0,\n",
       "   'multiplicative_terms_lower': 0.0,\n",
       "   'multiplicative_terms_upper': 0.0,\n",
       "   'trend': 355.9133749141213,\n",
       "   'trend_lower': 355.9133749141213,\n",
       "   'trend_upper': 355.9133749141213,\n",
       "   'yearly': 34.02135422751453,\n",
       "   'yearly_lower': 34.02135422751453,\n",
       "   'yearly_upper': 34.02135422751453,\n",
       "   'yhat': 389.9347291416358,\n",
       "   'yhat_lower': 359.8929816792887,\n",
       "   'yhat_upper': 416.97148057055864},\n",
       "  {'additive_terms': 70.64155754712226,\n",
       "   'additive_terms_lower': 70.64155754712226,\n",
       "   'additive_terms_upper': 70.64155754712226,\n",
       "   'ds': 'Mon, 01 Jul 1957 00:00:00 GMT',\n",
       "   'multiplicative_terms': 0.0,\n",
       "   'multiplicative_terms_lower': 0.0,\n",
       "   'multiplicative_terms_upper': 0.0,\n",
       "   'trend': 358.92752294104093,\n",
       "   'trend_lower': 358.92752294104093,\n",
       "   'trend_upper': 358.92752294104093,\n",
       "   'yearly': 70.64155754712226,\n",
       "   'yearly_lower': 70.64155754712226,\n",
       "   'yearly_upper': 70.64155754712226,\n",
       "   'yhat': 429.5690804881632,\n",
       "   'yhat_lower': 399.2003354333694,\n",
       "   'yhat_upper': 456.7005618600253},\n",
       "  {'additive_terms': 67.94361695594627,\n",
       "   'additive_terms_lower': 67.94361695594627,\n",
       "   'additive_terms_upper': 67.94361695594627,\n",
       "   'ds': 'Thu, 01 Aug 1957 00:00:00 GMT',\n",
       "   'multiplicative_terms': 0.0,\n",
       "   'multiplicative_terms_lower': 0.0,\n",
       "   'multiplicative_terms_upper': 0.0,\n",
       "   'trend': 362.0421425688578,\n",
       "   'trend_lower': 362.0421425688578,\n",
       "   'trend_upper': 362.0421425688578,\n",
       "   'yearly': 67.94361695594627,\n",
       "   'yearly_lower': 67.94361695594627,\n",
       "   'yearly_upper': 67.94361695594627,\n",
       "   'yhat': 429.98575952480405,\n",
       "   'yhat_lower': 401.40000608615077,\n",
       "   'yhat_upper': 461.197348162296},\n",
       "  {'additive_terms': 16.33411081454806,\n",
       "   'additive_terms_lower': 16.33411081454806,\n",
       "   'additive_terms_upper': 16.33411081454806,\n",
       "   'ds': 'Sun, 01 Sep 1957 00:00:00 GMT',\n",
       "   'multiplicative_terms': 0.0,\n",
       "   'multiplicative_terms_lower': 0.0,\n",
       "   'multiplicative_terms_upper': 0.0,\n",
       "   'trend': 365.1567621966747,\n",
       "   'trend_lower': 365.1567621966747,\n",
       "   'trend_upper': 365.1567621966747,\n",
       "   'yearly': 16.33411081454806,\n",
       "   'yearly_lower': 16.33411081454806,\n",
       "   'yearly_upper': 16.33411081454806,\n",
       "   'yhat': 381.4908730112228,\n",
       "   'yhat_lower': 351.17932917853386,\n",
       "   'yhat_upper': 411.57287896149757},\n",
       "  {'additive_terms': -21.919321046909054,\n",
       "   'additive_terms_lower': -21.919321046909054,\n",
       "   'additive_terms_upper': -21.919321046909054,\n",
       "   'ds': 'Tue, 01 Oct 1957 00:00:00 GMT',\n",
       "   'multiplicative_terms': 0.0,\n",
       "   'multiplicative_terms_lower': 0.0,\n",
       "   'multiplicative_terms_upper': 0.0,\n",
       "   'trend': 368.1709102235943,\n",
       "   'trend_lower': 368.1709102235943,\n",
       "   'trend_upper': 368.1709102235943,\n",
       "   'yearly': -21.919321046909054,\n",
       "   'yearly_lower': -21.919321046909054,\n",
       "   'yearly_upper': -21.919321046909054,\n",
       "   'yhat': 346.2515891766853,\n",
       "   'yhat_lower': 317.2967995747635,\n",
       "   'yhat_upper': 374.46891706679935},\n",
       "  {'additive_terms': -58.86204315860415,\n",
       "   'additive_terms_lower': -58.86204315860415,\n",
       "   'additive_terms_upper': -58.86204315860415,\n",
       "   'ds': 'Fri, 01 Nov 1957 00:00:00 GMT',\n",
       "   'multiplicative_terms': 0.0,\n",
       "   'multiplicative_terms_lower': 0.0,\n",
       "   'multiplicative_terms_upper': 0.0,\n",
       "   'trend': 371.2855301645873,\n",
       "   'trend_lower': 371.2855301645873,\n",
       "   'trend_upper': 371.2855301645873,\n",
       "   'yearly': -58.86204315860415,\n",
       "   'yearly_lower': -58.86204315860415,\n",
       "   'yearly_upper': -58.86204315860415,\n",
       "   'yhat': 312.4234870059832,\n",
       "   'yhat_lower': 283.6943379899573,\n",
       "   'yhat_upper': 342.02835681302975},\n",
       "  {'additive_terms': -32.528031059513175,\n",
       "   'additive_terms_lower': -32.528031059513175,\n",
       "   'additive_terms_upper': -32.528031059513175,\n",
       "   'ds': 'Sun, 01 Dec 1957 00:00:00 GMT',\n",
       "   'multiplicative_terms': 0.0,\n",
       "   'multiplicative_terms_lower': 0.0,\n",
       "   'multiplicative_terms_upper': 0.0,\n",
       "   'trend': 374.29967849458063,\n",
       "   'trend_lower': 374.29967849458063,\n",
       "   'trend_upper': 374.29967849458063,\n",
       "   'yearly': -32.528031059513175,\n",
       "   'yearly_lower': -32.528031059513175,\n",
       "   'yearly_upper': -32.528031059513175,\n",
       "   'yhat': 341.77164743506745,\n",
       "   'yhat_lower': 313.6621672909397,\n",
       "   'yhat_upper': 372.3420526367803},\n",
       "  {'additive_terms': -22.75546715187564,\n",
       "   'additive_terms_lower': -22.75546715187564,\n",
       "   'additive_terms_upper': -22.75546715187564,\n",
       "   'ds': 'Wed, 01 Jan 1958 00:00:00 GMT',\n",
       "   'multiplicative_terms': 0.0,\n",
       "   'multiplicative_terms_lower': 0.0,\n",
       "   'multiplicative_terms_upper': 0.0,\n",
       "   'trend': 377.4142984355737,\n",
       "   'trend_lower': 377.4142984355737,\n",
       "   'trend_upper': 377.4142984355737,\n",
       "   'yearly': -22.75546715187564,\n",
       "   'yearly_lower': -22.75546715187564,\n",
       "   'yearly_upper': -22.75546715187564,\n",
       "   'yhat': 354.6588312836981,\n",
       "   'yhat_lower': 325.9163173378418,\n",
       "   'yhat_upper': 386.2191985015408},\n",
       "  {'additive_terms': -32.016571441377536,\n",
       "   'additive_terms_lower': -32.016571441377536,\n",
       "   'additive_terms_upper': -32.016571441377536,\n",
       "   'ds': 'Sat, 01 Feb 1958 00:00:00 GMT',\n",
       "   'multiplicative_terms': 0.0,\n",
       "   'multiplicative_terms_lower': 0.0,\n",
       "   'multiplicative_terms_upper': 0.0,\n",
       "   'trend': 380.52891837656676,\n",
       "   'trend_lower': 380.52891837656676,\n",
       "   'trend_upper': 380.52891837656676,\n",
       "   'yearly': -32.016571441377536,\n",
       "   'yearly_lower': -32.016571441377536,\n",
       "   'yearly_upper': -32.016571441377536,\n",
       "   'yhat': 348.5123469351892,\n",
       "   'yhat_lower': 315.3650796900504,\n",
       "   'yhat_upper': 376.2130350246647},\n",
       "  {'additive_terms': 0.7318329088640327,\n",
       "   'additive_terms_lower': 0.7318329088640327,\n",
       "   'additive_terms_upper': 0.7318329088640327,\n",
       "   'ds': 'Sat, 01 Mar 1958 00:00:00 GMT',\n",
       "   'multiplicative_terms': 0.0,\n",
       "   'multiplicative_terms_lower': 0.0,\n",
       "   'multiplicative_terms_upper': 0.0,\n",
       "   'trend': 383.3421235426369,\n",
       "   'trend_lower': 383.3421235426369,\n",
       "   'trend_upper': 383.3421235426369,\n",
       "   'yearly': 0.7318329088640327,\n",
       "   'yearly_lower': 0.7318329088640327,\n",
       "   'yearly_upper': 0.7318329088640327,\n",
       "   'yhat': 384.0739564515009,\n",
       "   'yhat_lower': 355.73541911835355,\n",
       "   'yhat_upper': 412.9884203451498},\n",
       "  {'additive_terms': -6.067076176909413,\n",
       "   'additive_terms_lower': -6.067076176909413,\n",
       "   'additive_terms_upper': -6.067076176909413,\n",
       "   'ds': 'Tue, 01 Apr 1958 00:00:00 GMT',\n",
       "   'multiplicative_terms': 0.0,\n",
       "   'multiplicative_terms_lower': 0.0,\n",
       "   'multiplicative_terms_upper': 0.0,\n",
       "   'trend': 386.45674354792885,\n",
       "   'trend_lower': 386.45674354792885,\n",
       "   'trend_upper': 386.45674354792885,\n",
       "   'yearly': -6.067076176909413,\n",
       "   'yearly_lower': -6.067076176909413,\n",
       "   'yearly_upper': -6.067076176909413,\n",
       "   'yhat': 380.3896673710194,\n",
       "   'yhat_lower': 353.33575955885533,\n",
       "   'yhat_upper': 408.15035431169133},\n",
       "  {'additive_terms': -3.1100798911765986,\n",
       "   'additive_terms_lower': -3.1100798911765986,\n",
       "   'additive_terms_upper': -3.1100798911765986,\n",
       "   'ds': 'Thu, 01 May 1958 00:00:00 GMT',\n",
       "   'multiplicative_terms': 0.0,\n",
       "   'multiplicative_terms_lower': 0.0,\n",
       "   'multiplicative_terms_upper': 0.0,\n",
       "   'trend': 389.4708919401468,\n",
       "   'trend_lower': 389.4708919401468,\n",
       "   'trend_upper': 389.4708919401468,\n",
       "   'yearly': -3.1100798911765986,\n",
       "   'yearly_lower': -3.1100798911765986,\n",
       "   'yearly_upper': -3.1100798911765986,\n",
       "   'yhat': 386.3608120489702,\n",
       "   'yhat_lower': 358.7163811576042,\n",
       "   'yhat_upper': 413.9295328617498},\n",
       "  {'additive_terms': 33.388942954507804,\n",
       "   'additive_terms_lower': 33.388942954507804,\n",
       "   'additive_terms_upper': 33.388942954507804,\n",
       "   'ds': 'Sun, 01 Jun 1958 00:00:00 GMT',\n",
       "   'multiplicative_terms': 0.0,\n",
       "   'multiplicative_terms_lower': 0.0,\n",
       "   'multiplicative_terms_upper': 0.0,\n",
       "   'trend': 392.5855119454388,\n",
       "   'trend_lower': 392.5855119454388,\n",
       "   'trend_upper': 392.5855119454388,\n",
       "   'yearly': 33.388942954507804,\n",
       "   'yearly_lower': 33.388942954507804,\n",
       "   'yearly_upper': 33.388942954507804,\n",
       "   'yhat': 425.9744548999466,\n",
       "   'yhat_lower': 398.1079176591821,\n",
       "   'yhat_upper': 454.92344886630525},\n",
       "  {'additive_terms': 70.87440691328645,\n",
       "   'additive_terms_lower': 70.87440691328645,\n",
       "   'additive_terms_upper': 70.87440691328645,\n",
       "   'ds': 'Tue, 01 Jul 1958 00:00:00 GMT',\n",
       "   'multiplicative_terms': 0.0,\n",
       "   'multiplicative_terms_lower': 0.0,\n",
       "   'multiplicative_terms_upper': 0.0,\n",
       "   'trend': 395.5996603376568,\n",
       "   'trend_lower': 395.5996603376568,\n",
       "   'trend_upper': 395.5996603376568,\n",
       "   'yearly': 70.87440691328645,\n",
       "   'yearly_lower': 70.87440691328645,\n",
       "   'yearly_upper': 70.87440691328645,\n",
       "   'yhat': 466.4740672509433,\n",
       "   'yhat_lower': 439.1678576903495,\n",
       "   'yhat_upper': 494.0108705566016},\n",
       "  {'additive_terms': 67.68087606865478,\n",
       "   'additive_terms_lower': 67.68087606865478,\n",
       "   'additive_terms_upper': 67.68087606865478,\n",
       "   'ds': 'Fri, 01 Aug 1958 00:00:00 GMT',\n",
       "   'multiplicative_terms': 0.0,\n",
       "   'multiplicative_terms_lower': 0.0,\n",
       "   'multiplicative_terms_upper': 0.0,\n",
       "   'trend': 398.7142805266334,\n",
       "   'trend_lower': 398.7142805266334,\n",
       "   'trend_upper': 398.7142805266334,\n",
       "   'yearly': 67.68087606865478,\n",
       "   'yearly_lower': 67.68087606865478,\n",
       "   'yearly_upper': 67.68087606865478,\n",
       "   'yhat': 466.3951565952882,\n",
       "   'yhat_lower': 437.9757222163156,\n",
       "   'yhat_upper': 497.2338034315354},\n",
       "  {'additive_terms': 16.558848135666455,\n",
       "   'additive_terms_lower': 16.558848135666455,\n",
       "   'additive_terms_upper': 16.558848135666455,\n",
       "   'ds': 'Mon, 01 Sep 1958 00:00:00 GMT',\n",
       "   'multiplicative_terms': 0.0,\n",
       "   'multiplicative_terms_lower': 0.0,\n",
       "   'multiplicative_terms_upper': 0.0,\n",
       "   'trend': 401.82890071561,\n",
       "   'trend_lower': 401.82890071561,\n",
       "   'trend_upper': 401.82890071561,\n",
       "   'yearly': 16.558848135666455,\n",
       "   'yearly_lower': 16.558848135666455,\n",
       "   'yearly_upper': 16.558848135666455,\n",
       "   'yhat': 418.38774885127646,\n",
       "   'yhat_lower': 388.60266876263006,\n",
       "   'yhat_upper': 446.50086754754994},\n",
       "  {'additive_terms': -22.09583002448757,\n",
       "   'additive_terms_lower': -22.09583002448757,\n",
       "   'additive_terms_upper': -22.09583002448757,\n",
       "   'ds': 'Wed, 01 Oct 1958 00:00:00 GMT',\n",
       "   'multiplicative_terms': 0.0,\n",
       "   'multiplicative_terms_lower': 0.0,\n",
       "   'multiplicative_terms_upper': 0.0,\n",
       "   'trend': 404.84304928558737,\n",
       "   'trend_lower': 404.84304928558737,\n",
       "   'trend_upper': 404.84304928558737,\n",
       "   'yearly': -22.09583002448757,\n",
       "   'yearly_lower': -22.09583002448757,\n",
       "   'yearly_upper': -22.09583002448757,\n",
       "   'yhat': 382.7472192610998,\n",
       "   'yhat_lower': 354.67969998436024,\n",
       "   'yhat_upper': 410.3371559965244},\n",
       "  {'additive_terms': -58.110854530193016,\n",
       "   'additive_terms_lower': -58.110854530193016,\n",
       "   'additive_terms_upper': -58.110854530193016,\n",
       "   'ds': 'Sat, 01 Nov 1958 00:00:00 GMT',\n",
       "   'multiplicative_terms': 0.0,\n",
       "   'multiplicative_terms_lower': 0.0,\n",
       "   'multiplicative_terms_upper': 0.0,\n",
       "   'trend': 407.957669474564,\n",
       "   'trend_lower': 407.957669474564,\n",
       "   'trend_upper': 407.957669474564,\n",
       "   'yearly': -58.110854530193016,\n",
       "   'yearly_lower': -58.110854530193016,\n",
       "   'yearly_upper': -58.110854530193016,\n",
       "   'yhat': 349.846814944371,\n",
       "   'yhat_lower': 319.1829251547212,\n",
       "   'yhat_upper': 377.6874261593819},\n",
       "  {'additive_terms': -31.63274527014737,\n",
       "   'additive_terms_lower': -31.63274527014737,\n",
       "   'additive_terms_upper': -31.63274527014737,\n",
       "   'ds': 'Mon, 01 Dec 1958 00:00:00 GMT',\n",
       "   'multiplicative_terms': 0.0,\n",
       "   'multiplicative_terms_lower': 0.0,\n",
       "   'multiplicative_terms_upper': 0.0,\n",
       "   'trend': 410.9718180445414,\n",
       "   'trend_lower': 410.9718180445414,\n",
       "   'trend_upper': 410.9718180445414,\n",
       "   'yearly': -31.63274527014737,\n",
       "   'yearly_lower': -31.63274527014737,\n",
       "   'yearly_upper': -31.63274527014737,\n",
       "   'yhat': 379.339072774394,\n",
       "   'yhat_lower': 349.51220267798857,\n",
       "   'yhat_upper': 408.46012609804893},\n",
       "  {'additive_terms': -23.610163486463545,\n",
       "   'additive_terms_lower': -23.610163486463545,\n",
       "   'additive_terms_upper': -23.610163486463545,\n",
       "   'ds': 'Thu, 01 Jan 1959 00:00:00 GMT',\n",
       "   'multiplicative_terms': 0.0,\n",
       "   'multiplicative_terms_lower': 0.0,\n",
       "   'multiplicative_terms_upper': 0.0,\n",
       "   'trend': 414.0864382335179,\n",
       "   'trend_lower': 414.0864382335179,\n",
       "   'trend_upper': 414.0864382335179,\n",
       "   'yearly': -23.610163486463545,\n",
       "   'yearly_lower': -23.610163486463545,\n",
       "   'yearly_upper': -23.610163486463545,\n",
       "   'yhat': 390.4762747470544,\n",
       "   'yhat_lower': 364.27835624215936,\n",
       "   'yhat_upper': 420.09314974486824},\n",
       "  {'additive_terms': -33.31838080266807,\n",
       "   'additive_terms_lower': -33.31838080266807,\n",
       "   'additive_terms_upper': -33.31838080266807,\n",
       "   'ds': 'Sun, 01 Feb 1959 00:00:00 GMT',\n",
       "   'multiplicative_terms': 0.0,\n",
       "   'multiplicative_terms_lower': 0.0,\n",
       "   'multiplicative_terms_upper': 0.0,\n",
       "   'trend': 417.20105842249455,\n",
       "   'trend_lower': 417.20105842249455,\n",
       "   'trend_upper': 417.20105842249455,\n",
       "   'yearly': -33.31838080266807,\n",
       "   'yearly_lower': -33.31838080266807,\n",
       "   'yearly_upper': -33.31838080266807,\n",
       "   'yhat': 383.8826776198265,\n",
       "   'yhat_lower': 355.191686484185,\n",
       "   'yhat_upper': 412.50275390014576},\n",
       "  {'additive_terms': 1.965491077657852,\n",
       "   'additive_terms_lower': 1.965491077657852,\n",
       "   'additive_terms_upper': 1.965491077657852,\n",
       "   'ds': 'Sun, 01 Mar 1959 00:00:00 GMT',\n",
       "   'multiplicative_terms': 0.0,\n",
       "   'multiplicative_terms_lower': 0.0,\n",
       "   'multiplicative_terms_upper': 0.0,\n",
       "   'trend': 420.01426375447346,\n",
       "   'trend_lower': 420.01426375447346,\n",
       "   'trend_upper': 420.01426375447346,\n",
       "   'yearly': 1.965491077657852,\n",
       "   'yearly_lower': 1.965491077657852,\n",
       "   'yearly_upper': 1.965491077657852,\n",
       "   'yhat': 421.97975483213133,\n",
       "   'yhat_lower': 392.9340227858565,\n",
       "   'yhat_upper': 450.62825607022455},\n",
       "  {'additive_terms': -6.958890101000462,\n",
       "   'additive_terms_lower': -6.958890101000462,\n",
       "   'additive_terms_upper': -6.958890101000462,\n",
       "   'ds': 'Wed, 01 Apr 1959 00:00:00 GMT',\n",
       "   'multiplicative_terms': 0.0,\n",
       "   'multiplicative_terms_lower': 0.0,\n",
       "   'multiplicative_terms_upper': 0.0,\n",
       "   'trend': 423.1288839434501,\n",
       "   'trend_lower': 423.1288839434501,\n",
       "   'trend_upper': 423.1288839434501,\n",
       "   'yearly': -6.958890101000462,\n",
       "   'yearly_lower': -6.958890101000462,\n",
       "   'yearly_upper': -6.958890101000462,\n",
       "   'yhat': 416.1699938424496,\n",
       "   'yhat_lower': 388.52277248431176,\n",
       "   'yhat_upper': 446.71588932020535},\n",
       "  {'additive_terms': -2.4404083697153696,\n",
       "   'additive_terms_lower': -2.4404083697153696,\n",
       "   'additive_terms_upper': -2.4404083697153696,\n",
       "   'ds': 'Fri, 01 May 1959 00:00:00 GMT',\n",
       "   'multiplicative_terms': 0.0,\n",
       "   'multiplicative_terms_lower': 0.0,\n",
       "   'multiplicative_terms_upper': 0.0,\n",
       "   'trend': 426.14303251342744,\n",
       "   'trend_lower': 426.14303251342744,\n",
       "   'trend_upper': 426.14303251342744,\n",
       "   'yearly': -2.4404083697153696,\n",
       "   'yearly_lower': -2.4404083697153696,\n",
       "   'yearly_upper': -2.4404083697153696,\n",
       "   'yhat': 423.70262414371206,\n",
       "   'yhat_lower': 395.52712399018174,\n",
       "   'yhat_upper': 450.8678088267406},\n",
       "  {'additive_terms': 32.75004044681853,\n",
       "   'additive_terms_lower': 32.75004044681853,\n",
       "   'additive_terms_upper': 32.75004044681853,\n",
       "   'ds': 'Mon, 01 Jun 1959 00:00:00 GMT',\n",
       "   'multiplicative_terms': 0.0,\n",
       "   'multiplicative_terms_lower': 0.0,\n",
       "   'multiplicative_terms_upper': 0.0,\n",
       "   'trend': 429.2576527024041,\n",
       "   'trend_lower': 429.2576527024041,\n",
       "   'trend_upper': 429.2576527024041,\n",
       "   'yearly': 32.75004044681853,\n",
       "   'yearly_lower': 32.75004044681853,\n",
       "   'yearly_upper': 32.75004044681853,\n",
       "   'yhat': 462.00769314922263,\n",
       "   'yhat_lower': 434.04642503497143,\n",
       "   'yhat_upper': 491.8533918461159},\n",
       "  {'additive_terms': 71.09521819396063,\n",
       "   'additive_terms_lower': 71.09521819396063,\n",
       "   'additive_terms_upper': 71.09521819396063,\n",
       "   'ds': 'Wed, 01 Jul 1959 00:00:00 GMT',\n",
       "   'multiplicative_terms': 0.0,\n",
       "   'multiplicative_terms_lower': 0.0,\n",
       "   'multiplicative_terms_upper': 0.0,\n",
       "   'trend': 432.27180127238137,\n",
       "   'trend_lower': 432.27180127238137,\n",
       "   'trend_upper': 432.27180127238137,\n",
       "   'yearly': 71.09521819396063,\n",
       "   'yearly_lower': 71.09521819396063,\n",
       "   'yearly_upper': 71.09521819396063,\n",
       "   'yhat': 503.367019466342,\n",
       "   'yhat_lower': 475.5091511562992,\n",
       "   'yhat_upper': 533.8650642221962},\n",
       "  {'additive_terms': 67.40451564277599,\n",
       "   'additive_terms_lower': 67.40451564277599,\n",
       "   'additive_terms_upper': 67.40451564277599,\n",
       "   'ds': 'Sat, 01 Aug 1959 00:00:00 GMT',\n",
       "   'multiplicative_terms': 0.0,\n",
       "   'multiplicative_terms_lower': 0.0,\n",
       "   'multiplicative_terms_upper': 0.0,\n",
       "   'trend': 435.386421461358,\n",
       "   'trend_lower': 435.386421461358,\n",
       "   'trend_upper': 435.386421461358,\n",
       "   'yearly': 67.40451564277599,\n",
       "   'yearly_lower': 67.40451564277599,\n",
       "   'yearly_upper': 67.40451564277599,\n",
       "   'yhat': 502.790937104134,\n",
       "   'yhat_lower': 473.205631665196,\n",
       "   'yhat_upper': 531.5033626912383},\n",
       "  {'additive_terms': 16.78916247780416,\n",
       "   'additive_terms_lower': 16.78916247780416,\n",
       "   'additive_terms_upper': 16.78916247780416,\n",
       "   'ds': 'Tue, 01 Sep 1959 00:00:00 GMT',\n",
       "   'multiplicative_terms': 0.0,\n",
       "   'multiplicative_terms_lower': 0.0,\n",
       "   'multiplicative_terms_upper': 0.0,\n",
       "   'trend': 438.5010416503346,\n",
       "   'trend_lower': 438.5010416503346,\n",
       "   'trend_upper': 438.5010416503346,\n",
       "   'yearly': 16.78916247780416,\n",
       "   'yearly_lower': 16.78916247780416,\n",
       "   'yearly_upper': 16.78916247780416,\n",
       "   'yhat': 455.2902041281388,\n",
       "   'yhat_lower': 427.9295293322365,\n",
       "   'yhat_upper': 484.85127362125417},\n",
       "  {'additive_terms': -22.25410369754457,\n",
       "   'additive_terms_lower': -22.25410369754457,\n",
       "   'additive_terms_upper': -22.25410369754457,\n",
       "   'ds': 'Thu, 01 Oct 1959 00:00:00 GMT',\n",
       "   'multiplicative_terms': 0.0,\n",
       "   'multiplicative_terms_lower': 0.0,\n",
       "   'multiplicative_terms_upper': 0.0,\n",
       "   'trend': 441.515190220312,\n",
       "   'trend_lower': 441.515190220312,\n",
       "   'trend_upper': 441.515190220312,\n",
       "   'yearly': -22.25410369754457,\n",
       "   'yearly_lower': -22.25410369754457,\n",
       "   'yearly_upper': -22.25410369754457,\n",
       "   'yhat': 419.2610865227674,\n",
       "   'yhat_lower': 391.6643068054279,\n",
       "   'yhat_upper': 446.430209320816},\n",
       "  {'additive_terms': -57.332513556063205,\n",
       "   'additive_terms_lower': -57.332513556063205,\n",
       "   'additive_terms_upper': -57.332513556063205,\n",
       "   'ds': 'Sun, 01 Nov 1959 00:00:00 GMT',\n",
       "   'multiplicative_terms': 0.0,\n",
       "   'multiplicative_terms_lower': 0.0,\n",
       "   'multiplicative_terms_upper': 0.0,\n",
       "   'trend': 444.6298104092886,\n",
       "   'trend_lower': 444.6298104092886,\n",
       "   'trend_upper': 444.6298104092886,\n",
       "   'yearly': -57.332513556063205,\n",
       "   'yearly_lower': -57.332513556063205,\n",
       "   'yearly_upper': -57.332513556063205,\n",
       "   'yhat': 387.2972968532254,\n",
       "   'yhat_lower': 358.6169157684552,\n",
       "   'yhat_upper': 414.85367437004277},\n",
       "  {'additive_terms': -30.76754074287291,\n",
       "   'additive_terms_lower': -30.76754074287291,\n",
       "   'additive_terms_upper': -30.76754074287291,\n",
       "   'ds': 'Tue, 01 Dec 1959 00:00:00 GMT',\n",
       "   'multiplicative_terms': 0.0,\n",
       "   'multiplicative_terms_lower': 0.0,\n",
       "   'multiplicative_terms_upper': 0.0,\n",
       "   'trend': 447.64395897926596,\n",
       "   'trend_lower': 447.64395897926596,\n",
       "   'trend_upper': 447.64395897926596,\n",
       "   'yearly': -30.76754074287291,\n",
       "   'yearly_lower': -30.76754074287291,\n",
       "   'yearly_upper': -30.76754074287291,\n",
       "   'yhat': 416.8764182363931,\n",
       "   'yhat_lower': 387.86914898746295,\n",
       "   'yhat_upper': 446.7940860830551},\n",
       "  {'additive_terms': -24.498911721056437,\n",
       "   'additive_terms_lower': -24.498911721056437,\n",
       "   'additive_terms_upper': -24.498911721056437,\n",
       "   'ds': 'Fri, 01 Jan 1960 00:00:00 GMT',\n",
       "   'multiplicative_terms': 0.0,\n",
       "   'multiplicative_terms_lower': 0.0,\n",
       "   'multiplicative_terms_upper': 0.0,\n",
       "   'trend': 450.7585791682426,\n",
       "   'trend_lower': 450.7585791682426,\n",
       "   'trend_upper': 450.7585791682426,\n",
       "   'yearly': -24.498911721056437,\n",
       "   'yearly_lower': -24.498911721056437,\n",
       "   'yearly_upper': -24.498911721056437,\n",
       "   'yhat': 426.25966744718613,\n",
       "   'yhat_lower': 398.5454315176165,\n",
       "   'yhat_upper': 452.39266042844474},\n",
       "  {'additive_terms': -34.59399865420463,\n",
       "   'additive_terms_lower': -34.59399865420463,\n",
       "   'additive_terms_upper': -34.59399865420463,\n",
       "   'ds': 'Mon, 01 Feb 1960 00:00:00 GMT',\n",
       "   'multiplicative_terms': 0.0,\n",
       "   'multiplicative_terms_lower': 0.0,\n",
       "   'multiplicative_terms_upper': 0.0,\n",
       "   'trend': 453.87319935721916,\n",
       "   'trend_lower': 453.87319935721916,\n",
       "   'trend_upper': 453.87319935721916,\n",
       "   'yearly': -34.59399865420463,\n",
       "   'yearly_lower': -34.59399865420463,\n",
       "   'yearly_upper': -34.59399865420463,\n",
       "   'yhat': 419.2792007030145,\n",
       "   'yhat_lower': 391.85165549761103,\n",
       "   'yhat_upper': 448.8022512352662},\n",
       "  {'additive_terms': -1.7370259407001816,\n",
       "   'additive_terms_lower': -1.7370259407001816,\n",
       "   'additive_terms_upper': -1.7370259407001816,\n",
       "   'ds': 'Tue, 01 Mar 1960 00:00:00 GMT',\n",
       "   'multiplicative_terms': 0.0,\n",
       "   'multiplicative_terms_lower': 0.0,\n",
       "   'multiplicative_terms_upper': 0.0,\n",
       "   'trend': 456.7868763081973,\n",
       "   'trend_lower': 456.7868763081973,\n",
       "   'trend_upper': 456.7868763081973,\n",
       "   'yearly': -1.7370259407001816,\n",
       "   'yearly_lower': -1.7370259407001816,\n",
       "   'yearly_upper': -1.7370259407001816,\n",
       "   'yhat': 455.04985036749713,\n",
       "   'yhat_lower': 425.8794172617059,\n",
       "   'yhat_upper': 484.2724981253987},\n",
       "  {'additive_terms': -4.289615318118878,\n",
       "   'additive_terms_lower': -4.289615318118878,\n",
       "   'additive_terms_upper': -4.289615318118878,\n",
       "   'ds': 'Fri, 01 Apr 1960 00:00:00 GMT',\n",
       "   'multiplicative_terms': 0.0,\n",
       "   'multiplicative_terms_lower': 0.0,\n",
       "   'multiplicative_terms_upper': 0.0,\n",
       "   'trend': 459.9014964971739,\n",
       "   'trend_lower': 459.9014964971739,\n",
       "   'trend_upper': 459.9014964971739,\n",
       "   'yearly': -4.289615318118878,\n",
       "   'yearly_lower': -4.289615318118878,\n",
       "   'yearly_upper': -4.289615318118878,\n",
       "   'yhat': 455.61188117905505,\n",
       "   'yhat_lower': 426.38661372139495,\n",
       "   'yhat_upper': 484.2301084431789},\n",
       "  {'additive_terms': -4.4235342937990865,\n",
       "   'additive_terms_lower': -4.4235342937990865,\n",
       "   'additive_terms_upper': -4.4235342937990865,\n",
       "   'ds': 'Sun, 01 May 1960 00:00:00 GMT',\n",
       "   'multiplicative_terms': 0.0,\n",
       "   'multiplicative_terms_lower': 0.0,\n",
       "   'multiplicative_terms_upper': 0.0,\n",
       "   'trend': 462.9156450671513,\n",
       "   'trend_lower': 462.9156450671513,\n",
       "   'trend_upper': 462.9156450671513,\n",
       "   'yearly': -4.4235342937990865,\n",
       "   'yearly_lower': -4.4235342937990865,\n",
       "   'yearly_upper': -4.4235342937990865,\n",
       "   'yhat': 458.4921107733522,\n",
       "   'yhat_lower': 427.1042361844649,\n",
       "   'yhat_upper': 486.1607653198787},\n",
       "  {'additive_terms': 34.647287012753424,\n",
       "   'additive_terms_lower': 34.647287012753424,\n",
       "   'additive_terms_upper': 34.647287012753424,\n",
       "   'ds': 'Wed, 01 Jun 1960 00:00:00 GMT',\n",
       "   'multiplicative_terms': 0.0,\n",
       "   'multiplicative_terms_lower': 0.0,\n",
       "   'multiplicative_terms_upper': 0.0,\n",
       "   'trend': 466.0302652561279,\n",
       "   'trend_lower': 466.0302652561279,\n",
       "   'trend_upper': 466.0302652561279,\n",
       "   'yearly': 34.647287012753424,\n",
       "   'yearly_lower': 34.647287012753424,\n",
       "   'yearly_upper': 34.647287012753424,\n",
       "   'yhat': 500.6775522688813,\n",
       "   'yhat_lower': 471.5178305997628,\n",
       "   'yhat_upper': 528.8100774087596},\n",
       "  {'additive_terms': 70.39691995537477,\n",
       "   'additive_terms_lower': 70.39691995537477,\n",
       "   'additive_terms_upper': 70.39691995537477,\n",
       "   'ds': 'Fri, 01 Jul 1960 00:00:00 GMT',\n",
       "   'multiplicative_terms': 0.0,\n",
       "   'multiplicative_terms_lower': 0.0,\n",
       "   'multiplicative_terms_upper': 0.0,\n",
       "   'trend': 469.0444138261052,\n",
       "   'trend_lower': 469.0444138261052,\n",
       "   'trend_upper': 469.0444138261052,\n",
       "   'yearly': 70.39691995537477,\n",
       "   'yearly_lower': 70.39691995537477,\n",
       "   'yearly_upper': 70.39691995537477,\n",
       "   'yhat': 539.44133378148,\n",
       "   'yhat_lower': 512.4173604261741,\n",
       "   'yhat_upper': 568.7185776457752},\n",
       "  {'additive_terms': 68.19214421183025,\n",
       "   'additive_terms_lower': 68.19214421183025,\n",
       "   'additive_terms_upper': 68.19214421183025,\n",
       "   'ds': 'Mon, 01 Aug 1960 00:00:00 GMT',\n",
       "   'multiplicative_terms': 0.0,\n",
       "   'multiplicative_terms_lower': 0.0,\n",
       "   'multiplicative_terms_upper': 0.0,\n",
       "   'trend': 472.1590340150818,\n",
       "   'trend_lower': 472.1590340150818,\n",
       "   'trend_upper': 472.1590340150818,\n",
       "   'yearly': 68.19214421183025,\n",
       "   'yearly_lower': 68.19214421183025,\n",
       "   'yearly_upper': 68.19214421183025,\n",
       "   'yhat': 540.351178226912,\n",
       "   'yhat_lower': 513.5599066055113,\n",
       "   'yhat_upper': 568.7589754424606},\n",
       "  {'additive_terms': 16.114442795707756,\n",
       "   'additive_terms_lower': 16.114442795707756,\n",
       "   'additive_terms_upper': 16.114442795707756,\n",
       "   'ds': 'Thu, 01 Sep 1960 00:00:00 GMT',\n",
       "   'multiplicative_terms': 0.0,\n",
       "   'multiplicative_terms_lower': 0.0,\n",
       "   'multiplicative_terms_upper': 0.0,\n",
       "   'trend': 475.27365420405846,\n",
       "   'trend_lower': 475.27365420405846,\n",
       "   'trend_upper': 475.27365420405846,\n",
       "   'yearly': 16.114442795707756,\n",
       "   'yearly_lower': 16.114442795707756,\n",
       "   'yearly_upper': 16.114442795707756,\n",
       "   'yhat': 491.3880969997662,\n",
       "   'yhat_lower': 463.2930688399401,\n",
       "   'yhat_upper': 519.4463480619482},\n",
       "  {'additive_terms': -21.724985115937816,\n",
       "   'additive_terms_lower': -21.724985115937816,\n",
       "   'additive_terms_upper': -21.724985115937816,\n",
       "   'ds': 'Sat, 01 Oct 1960 00:00:00 GMT',\n",
       "   'multiplicative_terms': 0.0,\n",
       "   'multiplicative_terms_lower': 0.0,\n",
       "   'multiplicative_terms_upper': 0.0,\n",
       "   'trend': 478.2878027740358,\n",
       "   'trend_lower': 478.2878027740358,\n",
       "   'trend_upper': 478.2878027740358,\n",
       "   'yearly': -21.724985115937816,\n",
       "   'yearly_lower': -21.724985115937816,\n",
       "   'yearly_upper': -21.724985115937816,\n",
       "   'yhat': 456.56281765809797,\n",
       "   'yhat_lower': 428.5109852390024,\n",
       "   'yhat_upper': 486.2408055797379},\n",
       "  {'additive_terms': -59.58504171495199,\n",
       "   'additive_terms_lower': -59.58504171495199,\n",
       "   'additive_terms_upper': -59.58504171495199,\n",
       "   'ds': 'Tue, 01 Nov 1960 00:00:00 GMT',\n",
       "   'multiplicative_terms': 0.0,\n",
       "   'multiplicative_terms_lower': 0.0,\n",
       "   'multiplicative_terms_upper': 0.0,\n",
       "   'trend': 481.40242296301244,\n",
       "   'trend_lower': 481.40242296301244,\n",
       "   'trend_upper': 481.40242296301244,\n",
       "   'yearly': -59.58504171495199,\n",
       "   'yearly_lower': -59.58504171495199,\n",
       "   'yearly_upper': -59.58504171495199,\n",
       "   'yhat': 421.8173812480604,\n",
       "   'yhat_lower': 393.4665200924757,\n",
       "   'yhat_upper': 451.3625786230838},\n",
       "  {'additive_terms': -33.45217046272297,\n",
       "   'additive_terms_lower': -33.45217046272297,\n",
       "   'additive_terms_upper': -33.45217046272297,\n",
       "   'ds': 'Thu, 01 Dec 1960 00:00:00 GMT',\n",
       "   'multiplicative_terms': 0.0,\n",
       "   'multiplicative_terms_lower': 0.0,\n",
       "   'multiplicative_terms_upper': 0.0,\n",
       "   'trend': 484.4165715329898,\n",
       "   'trend_lower': 484.4165715329898,\n",
       "   'trend_upper': 484.4165715329898,\n",
       "   'yearly': -33.45217046272297,\n",
       "   'yearly_lower': -33.45217046272297,\n",
       "   'yearly_upper': -33.45217046272297,\n",
       "   'yhat': 450.96440107026683,\n",
       "   'yhat_lower': 422.5105490512648,\n",
       "   'yhat_upper': 479.3041475185321},\n",
       "  {'additive_terms': -37.411068744442666,\n",
       "   'additive_terms_lower': -37.411068744442666,\n",
       "   'additive_terms_upper': -37.411068744442666,\n",
       "   'ds': 'Fri, 02 Dec 1960 00:00:00 GMT',\n",
       "   'multiplicative_terms': 0.0,\n",
       "   'multiplicative_terms_lower': 0.0,\n",
       "   'multiplicative_terms_upper': 0.0,\n",
       "   'trend': 484.517043151989,\n",
       "   'trend_lower': 484.517043151989,\n",
       "   'trend_upper': 484.517043151989,\n",
       "   'yearly': -37.411068744442666,\n",
       "   'yearly_lower': -37.411068744442666,\n",
       "   'yearly_upper': -37.411068744442666,\n",
       "   'yhat': 447.10597440754634,\n",
       "   'yhat_lower': 417.0970297843698,\n",
       "   'yhat_upper': 475.50499275422527}],\n",
       " 'status': 'success'}"
      ]
     },
     "execution_count": 79,
     "metadata": {},
     "output_type": "execute_result"
    }
   ],
   "source": [
    "response.json()"
   ]
  },
  {
   "cell_type": "code",
   "execution_count": null,
   "metadata": {},
   "outputs": [],
   "source": []
  }
 ],
 "metadata": {
  "kernelspec": {
   "display_name": "Python 3.10.5 64-bit",
   "language": "python",
   "name": "python3"
  },
  "language_info": {
   "codemirror_mode": {
    "name": "ipython",
    "version": 3
   },
   "file_extension": ".py",
   "mimetype": "text/x-python",
   "name": "python",
   "nbconvert_exporter": "python",
   "pygments_lexer": "ipython3",
   "version": "3.10.5"
  },
  "orig_nbformat": 4,
  "vscode": {
   "interpreter": {
    "hash": "aee8b7b246df8f9039afb4144a1f6fd8d2ca17a180786b69acc140d282b71a49"
   }
  }
 },
 "nbformat": 4,
 "nbformat_minor": 2
}
