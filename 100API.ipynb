{
 "cells": [
  {
   "cell_type": "code",
   "execution_count": 1,
   "metadata": {},
   "outputs": [],
   "source": [
    "import requests\n",
    "import os"
   ]
  },
  {
   "cell_type": "code",
   "execution_count": 16,
   "metadata": {},
   "outputs": [
    {
     "name": "stdout",
     "output_type": "stream",
     "text": [
      "{'input_source_hash': 'QmahGzqFngQnQ81gpWf5o6UkPWEH9BYWUigoeCTxSqAFsV'}\n",
      "{'Hash': 'QmZcMhLCSmXmboqhYfRrDLtTXdTkQPuPFYQS4fc9VLuAWP', 'Name': 'file', 'Size': '7922'}\n"
     ]
    }
   ],
   "source": [
    "#CV001\n",
    "url = 'https://100api.orai.dev/cv001'\n",
    "data = {'input_source_hash': 'QmahGzqFngQnQ81gpWf5o6UkPWEH9BYWUigoeCTxSqAFsV'}\n",
    "headers = {\n",
    "        'Authorization': 'ai_market'\n",
    "    }\n",
    "response = requests.post(url, data=data, headers=headers)\n",
    "print(data)\n",
    "print(response.json())"
   ]
  },
  {
   "cell_type": "code",
   "execution_count": 4,
   "metadata": {},
   "outputs": [
    {
     "name": "stdout",
     "output_type": "stream",
     "text": [
      "{'input_source_hash': 'QmahGzqFngQnQ81gpWf5o6UkPWEH9BYWUigoeCTxSqAFsV'}\n",
      "{'Hash': 'QmaQEmMm8C5tE7CQFoVk54bzEtTNUSH1u5iTprRkPLD6z8', 'Name': 'file', 'Size': '7294'}\n"
     ]
    }
   ],
   "source": [
    "#CV001_2\n",
    "url = 'https://100api.orai.dev/cv001_2'\n",
    "data = {'input_source_hash': 'QmahGzqFngQnQ81gpWf5o6UkPWEH9BYWUigoeCTxSqAFsV'}\n",
    "headers = {\n",
    "        'Authorization': 'ai_market'\n",
    "    }\n",
    "response = requests.post(url, data=data, headers=headers)\n",
    "print(data)\n",
    "print(response.json())"
   ]
  },
  {
   "cell_type": "code",
   "execution_count": 5,
   "metadata": {},
   "outputs": [
    {
     "name": "stdout",
     "output_type": "stream",
     "text": [
      "{'input_source_hash': 'QmahGzqFngQnQ81gpWf5o6UkPWEH9BYWUigoeCTxSqAFsV'}\n",
      "{'Hash': 'QmQ97rXSpoa31QSbKSrPWnwSBUrvkC1wM6QWYv63P6jtcs', 'Name': 'file', 'Size': '20296'}\n"
     ]
    }
   ],
   "source": [
    "#CV002\n",
    "url = 'https://100api.orai.dev/cv002'\n",
    "data = {'input_source_hash': 'QmahGzqFngQnQ81gpWf5o6UkPWEH9BYWUigoeCTxSqAFsV'}\n",
    "headers = { \n",
    "        'Authorization': 'ai_market'\n",
    "    }\n",
    "response = requests.post(url, data=data, headers=headers)\n",
    "print(data)\n",
    "print(response.json())"
   ]
  },
  {
   "cell_type": "code",
   "execution_count": 7,
   "metadata": {},
   "outputs": [
    {
     "name": "stdout",
     "output_type": "stream",
     "text": [
      "{'input_source_hash': 'QmahGzqFngQnQ81gpWf5o6UkPWEH9BYWUigoeCTxSqAFsV'}\n",
      "{'Hash': 'QmWYtM7zp3s698EKK1ybWkwpBKg8eNLvEf2bSRtLtzpBnw', 'Name': 'file', 'Size': '11918'}\n"
     ]
    }
   ],
   "source": [
    "#CV002_2\n",
    "url = 'https://100api.orai.dev/cv002_2'\n",
    "data = {'input_source_hash': 'QmahGzqFngQnQ81gpWf5o6UkPWEH9BYWUigoeCTxSqAFsV'}\n",
    "headers = {\n",
    "        'Authorization': 'ai_market'\n",
    "    }\n",
    "response = requests.post(url, data=data, headers=headers)\n",
    "print(data)\n",
    "print(response.json())"
   ]
  },
  {
   "cell_type": "code",
   "execution_count": 8,
   "metadata": {},
   "outputs": [
    {
     "name": "stdout",
     "output_type": "stream",
     "text": [
      "{'input_source_hash': 'QmahGzqFngQnQ81gpWf5o6UkPWEH9BYWUigoeCTxSqAFsV'}\n",
      "{'Hash': 'QmdD7TjPfwXYgJjLZQQ4dpaVAjZyCS4cv2o6vKJ5eB2P1k', 'Name': 'output_1661764306.6392357.jpg', 'Size': '25576'}\n"
     ]
    }
   ],
   "source": [
    "#CV002_3\n",
    "url = 'https://100api.orai.dev/cv002_3'\n",
    "data = {'input_source_hash': 'QmahGzqFngQnQ81gpWf5o6UkPWEH9BYWUigoeCTxSqAFsV'}\n",
    "headers = {\n",
    "        'Authorization': 'ai_market'\n",
    "    }\n",
    "response = requests.post(url, data=data, headers=headers)\n",
    "print(data)\n",
    "print(response.json())"
   ]
  },
  {
   "cell_type": "code",
   "execution_count": 14,
   "metadata": {},
   "outputs": [
    {
     "name": "stdout",
     "output_type": "stream",
     "text": [
      "{'input_source_hash': 'QmahGzqFngQnQ81gpWf5o6UkPWEH9BYWUigoeCTxSqAFsV'}\n",
      "{'data': 'empty range for randrange() (0, 0, 0)', 'status': 'error'}\n"
     ]
    }
   ],
   "source": [
    "#CV003_1\n",
    "url = 'https://100api.orai.dev/cv003_1'\n",
    "data = {'input_source_hash': 'QmahGzqFngQnQ81gpWf5o6UkPWEH9BYWUigoeCTxSqAFsV'}\n",
    "headers = {\n",
    "        'Authorization': 'ai_market'\n",
    "    }\n",
    "response = requests.post(url, data=data, headers=headers)\n",
    "print(data)\n",
    "print(response.json())"
   ]
  },
  {
   "cell_type": "code",
   "execution_count": 15,
   "metadata": {},
   "outputs": [
    {
     "name": "stdout",
     "output_type": "stream",
     "text": [
      "{'input_source_hash': 'QmahGzqFngQnQ81gpWf5o6UkPWEH9BYWUigoeCTxSqAFsV'}\n",
      "{'data': 'empty range for randrange() (0, 0, 0)', 'status': 'error'}\n"
     ]
    }
   ],
   "source": [
    "#CV003_2\n",
    "url = 'https://100api.orai.dev/cv003_2'\n",
    "data = {'input_source_hash': 'QmahGzqFngQnQ81gpWf5o6UkPWEH9BYWUigoeCTxSqAFsV'}\n",
    "headers = {\n",
    "        'Authorization': 'ai_market'\n",
    "    }\n",
    "response = requests.post(url, data=data, headers=headers)\n",
    "print(data)\n",
    "print(response.json())"
   ]
  },
  {
   "cell_type": "code",
   "execution_count": 18,
   "metadata": {},
   "outputs": [
    {
     "name": "stdout",
     "output_type": "stream",
     "text": [
      "{'input_source_hash': 'QmahGzqFngQnQ81gpWf5o6UkPWEH9BYWUigoeCTxSqAFsV', 'label': 'flower'}\n",
      "{'Hash': 'QmTtyNFLSshwpvC76a1tBa6tQaxGkoZSmPRLaVFdGyppqn', 'Name': 'file', 'Size': '8333'}\n"
     ]
    }
   ],
   "source": [
    "#CV004\n",
    "url = 'https://100api.orai.dev/cv004'\n",
    "data = {'input_source_hash': 'QmahGzqFngQnQ81gpWf5o6UkPWEH9BYWUigoeCTxSqAFsV',\n",
    "        'label':'flower'}\n",
    "headers = {\n",
    "        'Authorization': 'ai_market'\n",
    "    }\n",
    "response = requests.post(url, data=data, headers=headers)\n",
    "print(data)\n",
    "print(response.json())"
   ]
  },
  {
   "cell_type": "code",
   "execution_count": 28,
   "metadata": {},
   "outputs": [
    {
     "name": "stdout",
     "output_type": "stream",
     "text": [
      "{'input_source_hash': 'QmZyuS3R4k9RqPQQcVUTTHNmqZuRjyLygM72rdNYtYcQd6', 'lang': 'eng'}\n",
      "{'data': \"name 'os' is not defined\", 'status': 'error'}\n"
     ]
    }
   ],
   "source": [
    "#CV006\n",
    "# QmZyuS3R4k9RqPQQcVUTTHNmqZuRjyLygM72rdNYtYcQd6\n",
    "\n",
    "\n",
    "url = 'https://100api.orai.dev/cv006'\n",
    "data = {'input_source_hash': 'QmekXZPCVQcdeZsZiHrzjF2jxahWkktavV735DCvpxbVPj',\n",
    "        'lang':'eng'}\n",
    "headers = {\n",
    "        'Authorization': 'ai_market'\n",
    "    }\n",
    "response = requests.post(url, data=data, headers=headers)\n",
    "print(data)\n",
    "print(response.json())"
   ]
  },
  {
   "cell_type": "code",
   "execution_count": 29,
   "metadata": {},
   "outputs": [
    {
     "name": "stdout",
     "output_type": "stream",
     "text": [
      "{'input_source_hash': 'QmZcmLZdMShfEMyV5Z7wpSUyYmJLYMKLMWm9NEVNjSAiz4', 'input_ref_hash': 'QmPoXoBmDdkBeKUGWwGGCykPHVtfspWmFUWyd8T6VzAfJV'}\n"
     ]
    },
    {
     "ename": "JSONDecodeError",
     "evalue": "Expecting value: line 1 column 1 (char 0)",
     "output_type": "error",
     "traceback": [
      "\u001b[0;31m---------------------------------------------------------------------------\u001b[0m",
      "\u001b[0;31mJSONDecodeError\u001b[0m                           Traceback (most recent call last)",
      "File \u001b[0;32m/Library/Frameworks/Python.framework/Versions/3.10/lib/python3.10/site-packages/requests/models.py:971\u001b[0m, in \u001b[0;36mResponse.json\u001b[0;34m(self, **kwargs)\u001b[0m\n\u001b[1;32m    970\u001b[0m \u001b[39mtry\u001b[39;00m:\n\u001b[0;32m--> 971\u001b[0m     \u001b[39mreturn\u001b[39;00m complexjson\u001b[39m.\u001b[39;49mloads(\u001b[39mself\u001b[39;49m\u001b[39m.\u001b[39;49mtext, \u001b[39m*\u001b[39;49m\u001b[39m*\u001b[39;49mkwargs)\n\u001b[1;32m    972\u001b[0m \u001b[39mexcept\u001b[39;00m JSONDecodeError \u001b[39mas\u001b[39;00m e:\n\u001b[1;32m    973\u001b[0m     \u001b[39m# Catch JSON-related errors and raise as requests.JSONDecodeError\u001b[39;00m\n\u001b[1;32m    974\u001b[0m     \u001b[39m# This aliases json.JSONDecodeError and simplejson.JSONDecodeError\u001b[39;00m\n",
      "File \u001b[0;32m/Library/Frameworks/Python.framework/Versions/3.10/lib/python3.10/json/__init__.py:346\u001b[0m, in \u001b[0;36mloads\u001b[0;34m(s, cls, object_hook, parse_float, parse_int, parse_constant, object_pairs_hook, **kw)\u001b[0m\n\u001b[1;32m    343\u001b[0m \u001b[39mif\u001b[39;00m (\u001b[39mcls\u001b[39m \u001b[39mis\u001b[39;00m \u001b[39mNone\u001b[39;00m \u001b[39mand\u001b[39;00m object_hook \u001b[39mis\u001b[39;00m \u001b[39mNone\u001b[39;00m \u001b[39mand\u001b[39;00m\n\u001b[1;32m    344\u001b[0m         parse_int \u001b[39mis\u001b[39;00m \u001b[39mNone\u001b[39;00m \u001b[39mand\u001b[39;00m parse_float \u001b[39mis\u001b[39;00m \u001b[39mNone\u001b[39;00m \u001b[39mand\u001b[39;00m\n\u001b[1;32m    345\u001b[0m         parse_constant \u001b[39mis\u001b[39;00m \u001b[39mNone\u001b[39;00m \u001b[39mand\u001b[39;00m object_pairs_hook \u001b[39mis\u001b[39;00m \u001b[39mNone\u001b[39;00m \u001b[39mand\u001b[39;00m \u001b[39mnot\u001b[39;00m kw):\n\u001b[0;32m--> 346\u001b[0m     \u001b[39mreturn\u001b[39;00m _default_decoder\u001b[39m.\u001b[39;49mdecode(s)\n\u001b[1;32m    347\u001b[0m \u001b[39mif\u001b[39;00m \u001b[39mcls\u001b[39m \u001b[39mis\u001b[39;00m \u001b[39mNone\u001b[39;00m:\n",
      "File \u001b[0;32m/Library/Frameworks/Python.framework/Versions/3.10/lib/python3.10/json/decoder.py:337\u001b[0m, in \u001b[0;36mJSONDecoder.decode\u001b[0;34m(self, s, _w)\u001b[0m\n\u001b[1;32m    333\u001b[0m \u001b[39m\"\"\"Return the Python representation of ``s`` (a ``str`` instance\u001b[39;00m\n\u001b[1;32m    334\u001b[0m \u001b[39mcontaining a JSON document).\u001b[39;00m\n\u001b[1;32m    335\u001b[0m \n\u001b[1;32m    336\u001b[0m \u001b[39m\"\"\"\u001b[39;00m\n\u001b[0;32m--> 337\u001b[0m obj, end \u001b[39m=\u001b[39m \u001b[39mself\u001b[39;49m\u001b[39m.\u001b[39;49mraw_decode(s, idx\u001b[39m=\u001b[39;49m_w(s, \u001b[39m0\u001b[39;49m)\u001b[39m.\u001b[39;49mend())\n\u001b[1;32m    338\u001b[0m end \u001b[39m=\u001b[39m _w(s, end)\u001b[39m.\u001b[39mend()\n",
      "File \u001b[0;32m/Library/Frameworks/Python.framework/Versions/3.10/lib/python3.10/json/decoder.py:355\u001b[0m, in \u001b[0;36mJSONDecoder.raw_decode\u001b[0;34m(self, s, idx)\u001b[0m\n\u001b[1;32m    354\u001b[0m \u001b[39mexcept\u001b[39;00m \u001b[39mStopIteration\u001b[39;00m \u001b[39mas\u001b[39;00m err:\n\u001b[0;32m--> 355\u001b[0m     \u001b[39mraise\u001b[39;00m JSONDecodeError(\u001b[39m\"\u001b[39m\u001b[39mExpecting value\u001b[39m\u001b[39m\"\u001b[39m, s, err\u001b[39m.\u001b[39mvalue) \u001b[39mfrom\u001b[39;00m \u001b[39mNone\u001b[39m\n\u001b[1;32m    356\u001b[0m \u001b[39mreturn\u001b[39;00m obj, end\n",
      "\u001b[0;31mJSONDecodeError\u001b[0m: Expecting value: line 1 column 1 (char 0)",
      "\nDuring handling of the above exception, another exception occurred:\n",
      "\u001b[0;31mJSONDecodeError\u001b[0m                           Traceback (most recent call last)",
      "\u001b[1;32m/Users/oraichain/Desktop/test 100 api/100API.ipynb Cell 11\u001b[0m in \u001b[0;36m<cell line: 11>\u001b[0;34m()\u001b[0m\n\u001b[1;32m      <a href='vscode-notebook-cell:/Users/oraichain/Desktop/test%20100%20api/100API.ipynb#ch0000009?line=8'>9</a>\u001b[0m response \u001b[39m=\u001b[39m requests\u001b[39m.\u001b[39mpost(url, data\u001b[39m=\u001b[39mdata, headers\u001b[39m=\u001b[39mheaders)\n\u001b[1;32m     <a href='vscode-notebook-cell:/Users/oraichain/Desktop/test%20100%20api/100API.ipynb#ch0000009?line=9'>10</a>\u001b[0m \u001b[39mprint\u001b[39m(data)\n\u001b[0;32m---> <a href='vscode-notebook-cell:/Users/oraichain/Desktop/test%20100%20api/100API.ipynb#ch0000009?line=10'>11</a>\u001b[0m \u001b[39mprint\u001b[39m(response\u001b[39m.\u001b[39;49mjson())\n",
      "File \u001b[0;32m/Library/Frameworks/Python.framework/Versions/3.10/lib/python3.10/site-packages/requests/models.py:975\u001b[0m, in \u001b[0;36mResponse.json\u001b[0;34m(self, **kwargs)\u001b[0m\n\u001b[1;32m    971\u001b[0m     \u001b[39mreturn\u001b[39;00m complexjson\u001b[39m.\u001b[39mloads(\u001b[39mself\u001b[39m\u001b[39m.\u001b[39mtext, \u001b[39m*\u001b[39m\u001b[39m*\u001b[39mkwargs)\n\u001b[1;32m    972\u001b[0m \u001b[39mexcept\u001b[39;00m JSONDecodeError \u001b[39mas\u001b[39;00m e:\n\u001b[1;32m    973\u001b[0m     \u001b[39m# Catch JSON-related errors and raise as requests.JSONDecodeError\u001b[39;00m\n\u001b[1;32m    974\u001b[0m     \u001b[39m# This aliases json.JSONDecodeError and simplejson.JSONDecodeError\u001b[39;00m\n\u001b[0;32m--> 975\u001b[0m     \u001b[39mraise\u001b[39;00m RequestsJSONDecodeError(e\u001b[39m.\u001b[39mmsg, e\u001b[39m.\u001b[39mdoc, e\u001b[39m.\u001b[39mpos)\n",
      "\u001b[0;31mJSONDecodeError\u001b[0m: Expecting value: line 1 column 1 (char 0)"
     ]
    }
   ],
   "source": [
    "#CV007\n",
    "\n",
    "url = 'https://100api.orai.dev/cv007'\n",
    "data = {'input_source_hash': 'QmZcmLZdMShfEMyV5Z7wpSUyYmJLYMKLMWm9NEVNjSAiz4',\n",
    "        'input_ref_hash':'QmPoXoBmDdkBeKUGWwGGCykPHVtfspWmFUWyd8T6VzAfJV'}\n",
    "headers = {\n",
    "        'Authorization': 'ai_market'\n",
    "    }\n",
    "response = requests.post(url, data=data, headers=headers)\n",
    "print(data)\n",
    "print(response.json())"
   ]
  },
  {
   "cell_type": "code",
   "execution_count": 33,
   "metadata": {},
   "outputs": [
    {
     "name": "stdout",
     "output_type": "stream",
     "text": [
      "{'input_source_hash': 'QmZcmLZdMShfEMyV5Z7wpSUyYmJLYMKLMWm9NEVNjSAiz4'}\n",
      "{'Hash': 'QmRywaKNWuShXXMTeLq4edpxbm5fBfwxUeKbfThm46mgHk', 'Name': 'file', 'Size': '31453'}\n"
     ]
    }
   ],
   "source": [
    "#CV008\n",
    "\n",
    "url = 'https://100api.orai.dev/cv008'\n",
    "data = {'input_source_hash': 'QmZcmLZdMShfEMyV5Z7wpSUyYmJLYMKLMWm9NEVNjSAiz4'}\n",
    "headers = {\n",
    "        'Authorization': 'ai_market'\n",
    "    }\n",
    "response = requests.post(url, data=data, headers=headers)\n",
    "print(data)\n",
    "print(response.json())"
   ]
  },
  {
   "cell_type": "code",
   "execution_count": 36,
   "metadata": {},
   "outputs": [
    {
     "name": "stdout",
     "output_type": "stream",
     "text": [
      "{'input_source_hash': 'QmRV4JwvohUjzsW9x8Y8kdxiQdLLZvQqr6iy5jzbVWzUBQ'}\n",
      "{'data': [{'label': 'castle', 'score': 65.26073455810547}, {'label': 'palace', 'score': 10.183137893676758}, {'label': 'mosque', 'score': 8.16793441772461}, {'label': 'church', 'score': 7.302755832672119}, {'label': 'stupa', 'score': 1.5817433595657349}], 'status': 'success'}\n"
     ]
    }
   ],
   "source": [
    "#CV009\n",
    "\n",
    "url = 'https://100api.orai.dev/cv009'\n",
    "data = {'input_source_hash': 'QmRV4JwvohUjzsW9x8Y8kdxiQdLLZvQqr6iy5jzbVWzUBQ'}\n",
    "headers = {\n",
    "        'Authorization': 'ai_market'\n",
    "    }\n",
    "response = requests.post(url, data=data, headers=headers)\n",
    "print(data)\n",
    "print(response.json())"
   ]
  },
  {
   "cell_type": "code",
   "execution_count": 37,
   "metadata": {},
   "outputs": [
    {
     "name": "stdout",
     "output_type": "stream",
     "text": [
      "{'input_source_hash': 'QmRFw3YZhvx6F4VZr7AyJXcrnKDoZCrystWG72wRaGPpgN'}\n",
      "{'data': [{'label': 'garden phlox', 'score': 99}], 'status': 'success'}\n"
     ]
    }
   ],
   "source": [
    "#CV010\n",
    "\n",
    "url = 'https://100api.orai.dev/cv010'\n",
    "data = {'input_source_hash': 'QmRFw3YZhvx6F4VZr7AyJXcrnKDoZCrystWG72wRaGPpgN'}\n",
    "headers = {\n",
    "        'Authorization': 'ai_market'\n",
    "    }\n",
    "response = requests.post(url, data=data, headers=headers)\n",
    "print(data)\n",
    "print(response.json())"
   ]
  },
  {
   "cell_type": "code",
   "execution_count": 39,
   "metadata": {},
   "outputs": [
    {
     "name": "stdout",
     "output_type": "stream",
     "text": [
      "{'input_source_hash': 'QmbkxNwVFyMjzt2kJVAfxnvQsYZ42rN2CvtFigxFa8FgGD'}\n",
      "{'data': [{'label': 'surrealism', 'score': 65}, {'label': 'kitsch', 'score': 13}], 'status': 'success'}\n"
     ]
    }
   ],
   "source": [
    "#CV011\n",
    "\n",
    "url = 'https://100api.orai.dev/cv011'\n",
    "data = {'input_source_hash': 'QmbkxNwVFyMjzt2kJVAfxnvQsYZ42rN2CvtFigxFa8FgGD'}\n",
    "headers = {\n",
    "        'Authorization': 'ai_market'\n",
    "    }\n",
    "response = requests.post(url, data=data, headers=headers)\n",
    "print(data)\n",
    "print(response.json())"
   ]
  },
  {
   "cell_type": "code",
   "execution_count": 40,
   "metadata": {},
   "outputs": [
    {
     "name": "stdout",
     "output_type": "stream",
     "text": [
      "{'input_source_hash': 'QmU6F8uP65entJxU9BoQE6pMmE3EfmhK2Rooq4DdFK4ms8', 'mask_img_hash': 'QmS2VbpTzT4P4vYcm3dZH8JHsDd47xA7Lks4ncYHtsTdrn'}\n",
      "{'data': 'Device index must not be negative', 'status': 'error'}\n"
     ]
    }
   ],
   "source": [
    "#CV012\n",
    "\n",
    "url = 'https://100api.orai.dev/cv012'\n",
    "data = {'input_source_hash': 'QmU6F8uP65entJxU9BoQE6pMmE3EfmhK2Rooq4DdFK4ms8',\n",
    "        'mask_img_hash':'QmS2VbpTzT4P4vYcm3dZH8JHsDd47xA7Lks4ncYHtsTdrn'}\n",
    "headers = {\n",
    "        'Authorization': 'ai_market'\n",
    "    }\n",
    "response = requests.post(url, data=data, headers=headers)\n",
    "print(data)\n",
    "print(response.json())"
   ]
  },
  {
   "cell_type": "code",
   "execution_count": 41,
   "metadata": {},
   "outputs": [
    {
     "name": "stdout",
     "output_type": "stream",
     "text": [
      "{'input_source_hash': 'QmZcmLZdMShfEMyV5Z7wpSUyYmJLYMKLMWm9NEVNjSAiz4', 'mask_img_hash': 'QmRywaKNWuShXXMTeLq4edpxbm5fBfwxUeKbfThm46mgHk'}\n",
      "{'data': \"local variable 'image' referenced before assignment\", 'status': 'error'}\n"
     ]
    }
   ],
   "source": [
    "#CV013\n",
    "\n",
    "url = 'https://100api.orai.dev/cv013'\n",
    "data = {'input_source_hash': 'QmZcmLZdMShfEMyV5Z7wpSUyYmJLYMKLMWm9NEVNjSAiz4',\n",
    "        'mask_img_hash':'QmRywaKNWuShXXMTeLq4edpxbm5fBfwxUeKbfThm46mgHk'}\n",
    "headers = {\n",
    "        'Authorization': 'ai_market'\n",
    "    }\n",
    "response = requests.post(url, data=data, headers=headers)\n",
    "print(data)\n",
    "print(response.json())"
   ]
  },
  {
   "cell_type": "code",
   "execution_count": 42,
   "metadata": {},
   "outputs": [
    {
     "name": "stdout",
     "output_type": "stream",
     "text": [
      "{'input_source_hash': 'QmPu57nyGX2ty7cAgnEZZyqNNJ6FTMQcUY8KRBN2fP1ai2'}\n",
      "{'data': {'prediction': 'space', 'probability': '0.7877'}, 'status': 'success'}\n"
     ]
    }
   ],
   "source": [
    "#CV014\n",
    "\n",
    "url = 'https://100api.orai.dev/cv014'\n",
    "data = {'input_source_hash': 'QmPu57nyGX2ty7cAgnEZZyqNNJ6FTMQcUY8KRBN2fP1ai2'}\n",
    "headers = {\n",
    "        'Authorization': 'ai_market'\n",
    "    }\n",
    "response = requests.post(url, data=data, headers=headers)\n",
    "print(data)\n",
    "print(response.json())"
   ]
  },
  {
   "cell_type": "code",
   "execution_count": 43,
   "metadata": {},
   "outputs": [
    {
     "name": "stdout",
     "output_type": "stream",
     "text": [
      "{'input_source_hash': 'QmVvt8t6BCJhxCuAaq6PCzspAXJfDiDtoRPkqza6CGP8Y1'}\n",
      "{'data': \"Command './darknet detector test cfg/coco.data cfg/yolov4-tiny.cfg yolov4-tiny.weights /tmp/cv015_input_1661769607.682496.jpg -dont_show -ext_output ' returned non-zero exit status 127.\", 'status': 'error'}\n"
     ]
    }
   ],
   "source": [
    "#CV015\n",
    "\n",
    "url = 'https://100api.orai.dev/cv015'\n",
    "data = {'input_source_hash': 'QmVvt8t6BCJhxCuAaq6PCzspAXJfDiDtoRPkqza6CGP8Y1'}\n",
    "headers = {\n",
    "        'Authorization': 'ai_market'\n",
    "    }\n",
    "response = requests.post(url, data=data, headers=headers)\n",
    "print(data)\n",
    "print(response.json())"
   ]
  },
  {
   "cell_type": "code",
   "execution_count": 3,
   "metadata": {},
   "outputs": [
    {
     "name": "stdout",
     "output_type": "stream",
     "text": [
      "{'input_source_hash': 'QmQYvJE9Tg4mXNxP4e4n7Lau3LrgwCeZ7i2588Q1emqK8o'}\n",
      "{'data': {'h': None, 'label': None, 'w': None, 'x': None, 'y': None}, 'status': 'success'}\n"
     ]
    }
   ],
   "source": [
    "#CV016\n",
    "\n",
    "url = 'https://100api.orai.dev/cv016'\n",
    "data = {'input_source_hash': 'QmQYvJE9Tg4mXNxP4e4n7Lau3LrgwCeZ7i2588Q1emqK8o'}\n",
    "headers = {\n",
    "        'Authorization': 'ai_market'\n",
    "    }\n",
    "response = requests.post(url, data=data, headers=headers)\n",
    "print(data)\n",
    "print(response.json())"
   ]
  },
  {
   "cell_type": "code",
   "execution_count": 4,
   "metadata": {},
   "outputs": [
    {
     "name": "stdout",
     "output_type": "stream",
     "text": [
      "{'input_source_hash': 'QmcJMgBv9s3hDu9K9wNf1SJVSpueyivRqU2L3w8mtZ1xFM'}\n",
      "{'data': {'bounding_box': [], 'output_image': None}, 'status': 'success'}\n"
     ]
    }
   ],
   "source": [
    "#CV017\n",
    "\n",
    "url = 'https://100api.orai.dev/cv017'\n",
    "data = {'input_source_hash': 'QmcJMgBv9s3hDu9K9wNf1SJVSpueyivRqU2L3w8mtZ1xFM'}\n",
    "headers = {\n",
    "        'Authorization': 'ai_market'\n",
    "    }\n",
    "response = requests.post(url, data=data, headers=headers)\n",
    "print(data)\n",
    "print(response.json())"
   ]
  },
  {
   "cell_type": "code",
   "execution_count": 7,
   "metadata": {},
   "outputs": [
    {
     "name": "stdout",
     "output_type": "stream",
     "text": [
      "{'input_source_hash': 'Qmd5sAc8rHTgDzgqaKyWDiyNvJP94JErwtaHZFxRKSb3CA'}\n",
      "{'Hash': 'QmbedBrmtwo6VPZxVExymdH6d3qawDqRh9UsdZgtNENTAS', 'Name': 'file', 'Size': '8761'}\n"
     ]
    }
   ],
   "source": [
    "#CV018\n",
    "\n",
    "url = 'https://100api.orai.dev/cv018'\n",
    "data = {'input_source_hash': 'Qmd5sAc8rHTgDzgqaKyWDiyNvJP94JErwtaHZFxRKSb3CA'}\n",
    "headers = {\n",
    "        'Authorization': 'ai_market'\n",
    "    }\n",
    "response = requests.post(url, data=data, headers=headers)\n",
    "print(data)\n",
    "print(response.json())"
   ]
  },
  {
   "cell_type": "code",
   "execution_count": 8,
   "metadata": {},
   "outputs": [
    {
     "name": "stdout",
     "output_type": "stream",
     "text": [
      "{'input_source_hash': 'QmU6h69HavNH1CJas4FVtHREiVP7QPvDdAZ3dpr7oyDHSA'}\n",
      "{'data': 'empty range for randrange() (0, 0, 0)', 'status': 'error'}\n"
     ]
    }
   ],
   "source": [
    "#CV020\n",
    "url = 'https://100api.orai.dev/cv020'\n",
    "data = {'input_source_hash': 'QmU6h69HavNH1CJas4FVtHREiVP7QPvDdAZ3dpr7oyDHSA'}\n",
    "headers = {\n",
    "        'Authorization': 'ai_market'\n",
    "    }\n",
    "response = requests.post(url, data=data, headers=headers)\n",
    "print(data)\n",
    "print(response.json())"
   ]
  },
  {
   "cell_type": "code",
   "execution_count": 10,
   "metadata": {},
   "outputs": [
    {
     "name": "stdout",
     "output_type": "stream",
     "text": [
      "{'input_source_hash': 'QmU6h69HavNH1CJas4FVtHREiVP7QPvDdAZ3dpr7oyDHSA', 'iterations': 5, 'num_octaves': 5}\n"
     ]
    },
    {
     "ename": "JSONDecodeError",
     "evalue": "Expecting value: line 1 column 1 (char 0)",
     "output_type": "error",
     "traceback": [
      "\u001b[0;31m---------------------------------------------------------------------------\u001b[0m",
      "\u001b[0;31mJSONDecodeError\u001b[0m                           Traceback (most recent call last)",
      "File \u001b[0;32m/Library/Frameworks/Python.framework/Versions/3.10/lib/python3.10/site-packages/requests/models.py:971\u001b[0m, in \u001b[0;36mResponse.json\u001b[0;34m(self, **kwargs)\u001b[0m\n\u001b[1;32m    970\u001b[0m \u001b[39mtry\u001b[39;00m:\n\u001b[0;32m--> 971\u001b[0m     \u001b[39mreturn\u001b[39;00m complexjson\u001b[39m.\u001b[39;49mloads(\u001b[39mself\u001b[39;49m\u001b[39m.\u001b[39;49mtext, \u001b[39m*\u001b[39;49m\u001b[39m*\u001b[39;49mkwargs)\n\u001b[1;32m    972\u001b[0m \u001b[39mexcept\u001b[39;00m JSONDecodeError \u001b[39mas\u001b[39;00m e:\n\u001b[1;32m    973\u001b[0m     \u001b[39m# Catch JSON-related errors and raise as requests.JSONDecodeError\u001b[39;00m\n\u001b[1;32m    974\u001b[0m     \u001b[39m# This aliases json.JSONDecodeError and simplejson.JSONDecodeError\u001b[39;00m\n",
      "File \u001b[0;32m/Library/Frameworks/Python.framework/Versions/3.10/lib/python3.10/json/__init__.py:346\u001b[0m, in \u001b[0;36mloads\u001b[0;34m(s, cls, object_hook, parse_float, parse_int, parse_constant, object_pairs_hook, **kw)\u001b[0m\n\u001b[1;32m    343\u001b[0m \u001b[39mif\u001b[39;00m (\u001b[39mcls\u001b[39m \u001b[39mis\u001b[39;00m \u001b[39mNone\u001b[39;00m \u001b[39mand\u001b[39;00m object_hook \u001b[39mis\u001b[39;00m \u001b[39mNone\u001b[39;00m \u001b[39mand\u001b[39;00m\n\u001b[1;32m    344\u001b[0m         parse_int \u001b[39mis\u001b[39;00m \u001b[39mNone\u001b[39;00m \u001b[39mand\u001b[39;00m parse_float \u001b[39mis\u001b[39;00m \u001b[39mNone\u001b[39;00m \u001b[39mand\u001b[39;00m\n\u001b[1;32m    345\u001b[0m         parse_constant \u001b[39mis\u001b[39;00m \u001b[39mNone\u001b[39;00m \u001b[39mand\u001b[39;00m object_pairs_hook \u001b[39mis\u001b[39;00m \u001b[39mNone\u001b[39;00m \u001b[39mand\u001b[39;00m \u001b[39mnot\u001b[39;00m kw):\n\u001b[0;32m--> 346\u001b[0m     \u001b[39mreturn\u001b[39;00m _default_decoder\u001b[39m.\u001b[39;49mdecode(s)\n\u001b[1;32m    347\u001b[0m \u001b[39mif\u001b[39;00m \u001b[39mcls\u001b[39m \u001b[39mis\u001b[39;00m \u001b[39mNone\u001b[39;00m:\n",
      "File \u001b[0;32m/Library/Frameworks/Python.framework/Versions/3.10/lib/python3.10/json/decoder.py:337\u001b[0m, in \u001b[0;36mJSONDecoder.decode\u001b[0;34m(self, s, _w)\u001b[0m\n\u001b[1;32m    333\u001b[0m \u001b[39m\"\"\"Return the Python representation of ``s`` (a ``str`` instance\u001b[39;00m\n\u001b[1;32m    334\u001b[0m \u001b[39mcontaining a JSON document).\u001b[39;00m\n\u001b[1;32m    335\u001b[0m \n\u001b[1;32m    336\u001b[0m \u001b[39m\"\"\"\u001b[39;00m\n\u001b[0;32m--> 337\u001b[0m obj, end \u001b[39m=\u001b[39m \u001b[39mself\u001b[39;49m\u001b[39m.\u001b[39;49mraw_decode(s, idx\u001b[39m=\u001b[39;49m_w(s, \u001b[39m0\u001b[39;49m)\u001b[39m.\u001b[39;49mend())\n\u001b[1;32m    338\u001b[0m end \u001b[39m=\u001b[39m _w(s, end)\u001b[39m.\u001b[39mend()\n",
      "File \u001b[0;32m/Library/Frameworks/Python.framework/Versions/3.10/lib/python3.10/json/decoder.py:355\u001b[0m, in \u001b[0;36mJSONDecoder.raw_decode\u001b[0;34m(self, s, idx)\u001b[0m\n\u001b[1;32m    354\u001b[0m \u001b[39mexcept\u001b[39;00m \u001b[39mStopIteration\u001b[39;00m \u001b[39mas\u001b[39;00m err:\n\u001b[0;32m--> 355\u001b[0m     \u001b[39mraise\u001b[39;00m JSONDecodeError(\u001b[39m\"\u001b[39m\u001b[39mExpecting value\u001b[39m\u001b[39m\"\u001b[39m, s, err\u001b[39m.\u001b[39mvalue) \u001b[39mfrom\u001b[39;00m \u001b[39mNone\u001b[39m\n\u001b[1;32m    356\u001b[0m \u001b[39mreturn\u001b[39;00m obj, end\n",
      "\u001b[0;31mJSONDecodeError\u001b[0m: Expecting value: line 1 column 1 (char 0)",
      "\nDuring handling of the above exception, another exception occurred:\n",
      "\u001b[0;31mJSONDecodeError\u001b[0m                           Traceback (most recent call last)",
      "\u001b[1;32m/Users/oraichain/Desktop/test 100 api/100API.ipynb Cell 24\u001b[0m in \u001b[0;36m<cell line: 11>\u001b[0;34m()\u001b[0m\n\u001b[1;32m      <a href='vscode-notebook-cell:/Users/oraichain/Desktop/test%20100%20api/100API.ipynb#ch0000023?line=8'>9</a>\u001b[0m response \u001b[39m=\u001b[39m requests\u001b[39m.\u001b[39mpost(url, data\u001b[39m=\u001b[39mdata, headers\u001b[39m=\u001b[39mheaders)\n\u001b[1;32m     <a href='vscode-notebook-cell:/Users/oraichain/Desktop/test%20100%20api/100API.ipynb#ch0000023?line=9'>10</a>\u001b[0m \u001b[39mprint\u001b[39m(data)\n\u001b[0;32m---> <a href='vscode-notebook-cell:/Users/oraichain/Desktop/test%20100%20api/100API.ipynb#ch0000023?line=10'>11</a>\u001b[0m \u001b[39mprint\u001b[39m(response\u001b[39m.\u001b[39;49mjson())\n",
      "File \u001b[0;32m/Library/Frameworks/Python.framework/Versions/3.10/lib/python3.10/site-packages/requests/models.py:975\u001b[0m, in \u001b[0;36mResponse.json\u001b[0;34m(self, **kwargs)\u001b[0m\n\u001b[1;32m    971\u001b[0m     \u001b[39mreturn\u001b[39;00m complexjson\u001b[39m.\u001b[39mloads(\u001b[39mself\u001b[39m\u001b[39m.\u001b[39mtext, \u001b[39m*\u001b[39m\u001b[39m*\u001b[39mkwargs)\n\u001b[1;32m    972\u001b[0m \u001b[39mexcept\u001b[39;00m JSONDecodeError \u001b[39mas\u001b[39;00m e:\n\u001b[1;32m    973\u001b[0m     \u001b[39m# Catch JSON-related errors and raise as requests.JSONDecodeError\u001b[39;00m\n\u001b[1;32m    974\u001b[0m     \u001b[39m# This aliases json.JSONDecodeError and simplejson.JSONDecodeError\u001b[39;00m\n\u001b[0;32m--> 975\u001b[0m     \u001b[39mraise\u001b[39;00m RequestsJSONDecodeError(e\u001b[39m.\u001b[39mmsg, e\u001b[39m.\u001b[39mdoc, e\u001b[39m.\u001b[39mpos)\n",
      "\u001b[0;31mJSONDecodeError\u001b[0m: Expecting value: line 1 column 1 (char 0)"
     ]
    }
   ],
   "source": [
    "#CV021\n",
    "url = 'https://100api.orai.dev/cv021'\n",
    "data = {'input_source_hash': 'QmU6h69HavNH1CJas4FVtHREiVP7QPvDdAZ3dpr7oyDHSA',\n",
    "        'iterations': 5,\n",
    "        'num_octaves': 5}\n",
    "headers = {\n",
    "        'Authorization': 'ai_market'\n",
    "    }\n",
    "response = requests.post(url, data=data, headers=headers)\n",
    "print(data)\n",
    "print(response.json())"
   ]
  },
  {
   "cell_type": "code",
   "execution_count": 11,
   "metadata": {},
   "outputs": [
    {
     "name": "stdout",
     "output_type": "stream",
     "text": [
      "{'input_source_hash': 'QmU782k1ScVwtzFwD86Eq4KiGoh5xtnjXuC4CmMznBGVw6'}\n",
      "{'data': 'empty range for randrange() (0, 0, 0)', 'status': 'error'}\n"
     ]
    }
   ],
   "source": [
    "#CV022\n",
    "url = 'https://100api.orai.dev/cv022'\n",
    "data = {'input_source_hash': 'QmU782k1ScVwtzFwD86Eq4KiGoh5xtnjXuC4CmMznBGVw6'}\n",
    "headers = {\n",
    "        'Authorization': 'ai_market'\n",
    "    }\n",
    "response = requests.post(url, data=data, headers=headers)\n",
    "print(data)\n",
    "print(response.json())"
   ]
  },
  {
   "cell_type": "code",
   "execution_count": 13,
   "metadata": {},
   "outputs": [
    {
     "name": "stdout",
     "output_type": "stream",
     "text": [
      "{}\n",
      "{'Hash': 'QmYF1QjpX4wTeYnTeypPhwZX7bLajZLmsNrhU3Qmj6F1at', 'Name': 'file', 'Size': '11362'}\n"
     ]
    }
   ],
   "source": [
    "#CV023\n",
    "url = 'https://100api.orai.dev/cv023'\n",
    "data = {}\n",
    "headers = {\n",
    "        'Authorization': 'ai_market'\n",
    "    }\n",
    "response = requests.post(url, data=data, headers=headers)\n",
    "print(data)\n",
    "print(response.json())"
   ]
  },
  {
   "cell_type": "code",
   "execution_count": 14,
   "metadata": {},
   "outputs": [
    {
     "name": "stdout",
     "output_type": "stream",
     "text": [
      "{}\n",
      "{'Hash': 'QmazTomrUNFfaHoNVyCz5NKPQoqSQvLXKfgkYQVzPE44EN', 'Name': 'file', 'Size': '2158'}\n"
     ]
    }
   ],
   "source": [
    "#CV024\n",
    "url = 'https://100api.orai.dev/cv024'\n",
    "data = {}\n",
    "headers = {\n",
    "        'Authorization': 'ai_market'\n",
    "    }\n",
    "response = requests.post(url, data=data, headers=headers)\n",
    "print(data)\n",
    "print(response.json())"
   ]
  },
  {
   "cell_type": "code",
   "execution_count": 15,
   "metadata": {},
   "outputs": [
    {
     "name": "stdout",
     "output_type": "stream",
     "text": [
      "{'input_source_hash': 'QmbyhZfG1LYyMdCbuZTGpRQzd1rpfJUYLWhsKG8BaZDzoi'}\n",
      "{'Hash': 'Qmf1BEUuTJh9JkbCDpF6dHNFhV3Kv3Lqr38EpKunj86ZMo', 'Name': 'file', 'Size': '16880'}\n"
     ]
    }
   ],
   "source": [
    "#CV026\n",
    "url = 'https://100api.orai.dev/cv026'\n",
    "data = {'input_source_hash': 'QmbyhZfG1LYyMdCbuZTGpRQzd1rpfJUYLWhsKG8BaZDzoi'}\n",
    "headers = {\n",
    "        'Authorization': 'ai_market'\n",
    "    }\n",
    "response = requests.post(url, data=data, headers=headers)\n",
    "print(data)\n",
    "print(response.json())"
   ]
  },
  {
   "cell_type": "code",
   "execution_count": 18,
   "metadata": {},
   "outputs": [
    {
     "name": "stdout",
     "output_type": "stream",
     "text": [
      "{'input_source_hash': 'Qmf6aMDqz7hkGuxsfRhKnpw6R8M8jen44ZgqVfrdS9uhaA'}\n"
     ]
    },
    {
     "ename": "JSONDecodeError",
     "evalue": "Expecting value: line 1 column 1 (char 0)",
     "output_type": "error",
     "traceback": [
      "\u001b[0;31m---------------------------------------------------------------------------\u001b[0m",
      "\u001b[0;31mJSONDecodeError\u001b[0m                           Traceback (most recent call last)",
      "File \u001b[0;32m/Library/Frameworks/Python.framework/Versions/3.10/lib/python3.10/site-packages/requests/models.py:971\u001b[0m, in \u001b[0;36mResponse.json\u001b[0;34m(self, **kwargs)\u001b[0m\n\u001b[1;32m    970\u001b[0m \u001b[39mtry\u001b[39;00m:\n\u001b[0;32m--> 971\u001b[0m     \u001b[39mreturn\u001b[39;00m complexjson\u001b[39m.\u001b[39;49mloads(\u001b[39mself\u001b[39;49m\u001b[39m.\u001b[39;49mtext, \u001b[39m*\u001b[39;49m\u001b[39m*\u001b[39;49mkwargs)\n\u001b[1;32m    972\u001b[0m \u001b[39mexcept\u001b[39;00m JSONDecodeError \u001b[39mas\u001b[39;00m e:\n\u001b[1;32m    973\u001b[0m     \u001b[39m# Catch JSON-related errors and raise as requests.JSONDecodeError\u001b[39;00m\n\u001b[1;32m    974\u001b[0m     \u001b[39m# This aliases json.JSONDecodeError and simplejson.JSONDecodeError\u001b[39;00m\n",
      "File \u001b[0;32m/Library/Frameworks/Python.framework/Versions/3.10/lib/python3.10/json/__init__.py:346\u001b[0m, in \u001b[0;36mloads\u001b[0;34m(s, cls, object_hook, parse_float, parse_int, parse_constant, object_pairs_hook, **kw)\u001b[0m\n\u001b[1;32m    343\u001b[0m \u001b[39mif\u001b[39;00m (\u001b[39mcls\u001b[39m \u001b[39mis\u001b[39;00m \u001b[39mNone\u001b[39;00m \u001b[39mand\u001b[39;00m object_hook \u001b[39mis\u001b[39;00m \u001b[39mNone\u001b[39;00m \u001b[39mand\u001b[39;00m\n\u001b[1;32m    344\u001b[0m         parse_int \u001b[39mis\u001b[39;00m \u001b[39mNone\u001b[39;00m \u001b[39mand\u001b[39;00m parse_float \u001b[39mis\u001b[39;00m \u001b[39mNone\u001b[39;00m \u001b[39mand\u001b[39;00m\n\u001b[1;32m    345\u001b[0m         parse_constant \u001b[39mis\u001b[39;00m \u001b[39mNone\u001b[39;00m \u001b[39mand\u001b[39;00m object_pairs_hook \u001b[39mis\u001b[39;00m \u001b[39mNone\u001b[39;00m \u001b[39mand\u001b[39;00m \u001b[39mnot\u001b[39;00m kw):\n\u001b[0;32m--> 346\u001b[0m     \u001b[39mreturn\u001b[39;00m _default_decoder\u001b[39m.\u001b[39;49mdecode(s)\n\u001b[1;32m    347\u001b[0m \u001b[39mif\u001b[39;00m \u001b[39mcls\u001b[39m \u001b[39mis\u001b[39;00m \u001b[39mNone\u001b[39;00m:\n",
      "File \u001b[0;32m/Library/Frameworks/Python.framework/Versions/3.10/lib/python3.10/json/decoder.py:337\u001b[0m, in \u001b[0;36mJSONDecoder.decode\u001b[0;34m(self, s, _w)\u001b[0m\n\u001b[1;32m    333\u001b[0m \u001b[39m\"\"\"Return the Python representation of ``s`` (a ``str`` instance\u001b[39;00m\n\u001b[1;32m    334\u001b[0m \u001b[39mcontaining a JSON document).\u001b[39;00m\n\u001b[1;32m    335\u001b[0m \n\u001b[1;32m    336\u001b[0m \u001b[39m\"\"\"\u001b[39;00m\n\u001b[0;32m--> 337\u001b[0m obj, end \u001b[39m=\u001b[39m \u001b[39mself\u001b[39;49m\u001b[39m.\u001b[39;49mraw_decode(s, idx\u001b[39m=\u001b[39;49m_w(s, \u001b[39m0\u001b[39;49m)\u001b[39m.\u001b[39;49mend())\n\u001b[1;32m    338\u001b[0m end \u001b[39m=\u001b[39m _w(s, end)\u001b[39m.\u001b[39mend()\n",
      "File \u001b[0;32m/Library/Frameworks/Python.framework/Versions/3.10/lib/python3.10/json/decoder.py:355\u001b[0m, in \u001b[0;36mJSONDecoder.raw_decode\u001b[0;34m(self, s, idx)\u001b[0m\n\u001b[1;32m    354\u001b[0m \u001b[39mexcept\u001b[39;00m \u001b[39mStopIteration\u001b[39;00m \u001b[39mas\u001b[39;00m err:\n\u001b[0;32m--> 355\u001b[0m     \u001b[39mraise\u001b[39;00m JSONDecodeError(\u001b[39m\"\u001b[39m\u001b[39mExpecting value\u001b[39m\u001b[39m\"\u001b[39m, s, err\u001b[39m.\u001b[39mvalue) \u001b[39mfrom\u001b[39;00m \u001b[39mNone\u001b[39m\n\u001b[1;32m    356\u001b[0m \u001b[39mreturn\u001b[39;00m obj, end\n",
      "\u001b[0;31mJSONDecodeError\u001b[0m: Expecting value: line 1 column 1 (char 0)",
      "\nDuring handling of the above exception, another exception occurred:\n",
      "\u001b[0;31mJSONDecodeError\u001b[0m                           Traceback (most recent call last)",
      "\u001b[1;32m/Users/oraichain/Desktop/test 100 api/100API.ipynb Cell 29\u001b[0m in \u001b[0;36m<cell line: 9>\u001b[0;34m()\u001b[0m\n\u001b[1;32m      <a href='vscode-notebook-cell:/Users/oraichain/Desktop/test%20100%20api/100API.ipynb#ch0000028?line=6'>7</a>\u001b[0m response \u001b[39m=\u001b[39m requests\u001b[39m.\u001b[39mpost(url, data\u001b[39m=\u001b[39mdata, headers\u001b[39m=\u001b[39mheaders)\n\u001b[1;32m      <a href='vscode-notebook-cell:/Users/oraichain/Desktop/test%20100%20api/100API.ipynb#ch0000028?line=7'>8</a>\u001b[0m \u001b[39mprint\u001b[39m(data)\n\u001b[0;32m----> <a href='vscode-notebook-cell:/Users/oraichain/Desktop/test%20100%20api/100API.ipynb#ch0000028?line=8'>9</a>\u001b[0m \u001b[39mprint\u001b[39m(response\u001b[39m.\u001b[39;49mjson())\n",
      "File \u001b[0;32m/Library/Frameworks/Python.framework/Versions/3.10/lib/python3.10/site-packages/requests/models.py:975\u001b[0m, in \u001b[0;36mResponse.json\u001b[0;34m(self, **kwargs)\u001b[0m\n\u001b[1;32m    971\u001b[0m     \u001b[39mreturn\u001b[39;00m complexjson\u001b[39m.\u001b[39mloads(\u001b[39mself\u001b[39m\u001b[39m.\u001b[39mtext, \u001b[39m*\u001b[39m\u001b[39m*\u001b[39mkwargs)\n\u001b[1;32m    972\u001b[0m \u001b[39mexcept\u001b[39;00m JSONDecodeError \u001b[39mas\u001b[39;00m e:\n\u001b[1;32m    973\u001b[0m     \u001b[39m# Catch JSON-related errors and raise as requests.JSONDecodeError\u001b[39;00m\n\u001b[1;32m    974\u001b[0m     \u001b[39m# This aliases json.JSONDecodeError and simplejson.JSONDecodeError\u001b[39;00m\n\u001b[0;32m--> 975\u001b[0m     \u001b[39mraise\u001b[39;00m RequestsJSONDecodeError(e\u001b[39m.\u001b[39mmsg, e\u001b[39m.\u001b[39mdoc, e\u001b[39m.\u001b[39mpos)\n",
      "\u001b[0;31mJSONDecodeError\u001b[0m: Expecting value: line 1 column 1 (char 0)"
     ]
    }
   ],
   "source": [
    "#CV027\n",
    "url = 'https://100api.orai.dev/cv027'\n",
    "data = {'input_source_hash': 'Qmf6aMDqz7hkGuxsfRhKnpw6R8M8jen44ZgqVfrdS9uhaA'}\n",
    "headers = {\n",
    "        'Authorization': 'ai_market'\n",
    "    }\n",
    "response = requests.post(url, data=data, headers=headers)\n",
    "print(data)\n",
    "print(response.json())"
   ]
  },
  {
   "cell_type": "code",
   "execution_count": 19,
   "metadata": {},
   "outputs": [
    {
     "name": "stdout",
     "output_type": "stream",
     "text": [
      "{'input_source_hash': 'QmPoAqLmHcf7AAgrWwym2NseKdqUSLBKRmtgjaCMkdqBxh'}\n",
      "{'Hash': 'QmPiUNiukyvcLwXgYpiNFYbdhUurTMG8wQmDQSM53Hf3FG', 'Name': 'file', 'Size': '40993'}\n"
     ]
    }
   ],
   "source": [
    "#CV029_1\n",
    "url = 'https://100api.orai.dev/cv029_1'\n",
    "data = {'input_source_hash': 'QmPoAqLmHcf7AAgrWwym2NseKdqUSLBKRmtgjaCMkdqBxh'}\n",
    "headers = {\n",
    "        'Authorization': 'ai_market'\n",
    "    }\n",
    "response = requests.post(url, data=data, headers=headers)\n",
    "print(data)\n",
    "print(response.json())"
   ]
  },
  {
   "cell_type": "code",
   "execution_count": 20,
   "metadata": {},
   "outputs": [
    {
     "name": "stdout",
     "output_type": "stream",
     "text": [
      "{'input_source_hash': 'QmPoAqLmHcf7AAgrWwym2NseKdqUSLBKRmtgjaCMkdqBxh'}\n",
      "{'Hash': 'QmYRr9DRMqQ497oBGfytiEGp3QPcdLiukq5SmwDf2JsnVh', 'Name': 'file', 'Size': '36629'}\n"
     ]
    }
   ],
   "source": [
    "#CV029_2\n",
    "url = 'https://100api.orai.dev/cv029_2'\n",
    "data = {'input_source_hash': 'QmPoAqLmHcf7AAgrWwym2NseKdqUSLBKRmtgjaCMkdqBxh'}\n",
    "headers = {\n",
    "        'Authorization': 'ai_market'\n",
    "    }\n",
    "response = requests.post(url, data=data, headers=headers)\n",
    "print(data)\n",
    "print(response.json())"
   ]
  },
  {
   "cell_type": "code",
   "execution_count": 21,
   "metadata": {},
   "outputs": [
    {
     "name": "stdout",
     "output_type": "stream",
     "text": [
      "{'input_source_hash': 'QmPoAqLmHcf7AAgrWwym2NseKdqUSLBKRmtgjaCMkdqBxh'}\n",
      "{'Hash': 'QmWFyR7ko1BTWWPSMyithgBhC2oZtfdeDdDBRzLiPxwU92', 'Name': 'file', 'Size': '38806'}\n"
     ]
    }
   ],
   "source": [
    "#CV029_3\n",
    "url = 'https://100api.orai.dev/cv029_3'\n",
    "data = {'input_source_hash': 'QmPoAqLmHcf7AAgrWwym2NseKdqUSLBKRmtgjaCMkdqBxh'}\n",
    "headers = {\n",
    "        'Authorization': 'ai_market'\n",
    "    }\n",
    "response = requests.post(url, data=data, headers=headers)\n",
    "print(data)\n",
    "print(response.json())"
   ]
  },
  {
   "cell_type": "code",
   "execution_count": 22,
   "metadata": {},
   "outputs": [
    {
     "name": "stdout",
     "output_type": "stream",
     "text": [
      "{'input_source_hash': 'QmPoAqLmHcf7AAgrWwym2NseKdqUSLBKRmtgjaCMkdqBxh'}\n",
      "{'Hash': 'QmYm52ECijcYCEPfHaD51zhSTH3QgAHUJBXYa1ghbaJJU8', 'Name': 'file', 'Size': '48160'}\n"
     ]
    }
   ],
   "source": [
    "#CV029_4\n",
    "url = 'https://100api.orai.dev/cv029_4'\n",
    "data = {'input_source_hash': 'QmPoAqLmHcf7AAgrWwym2NseKdqUSLBKRmtgjaCMkdqBxh'}\n",
    "headers = {\n",
    "        'Authorization': 'ai_market'\n",
    "    }\n",
    "response = requests.post(url, data=data, headers=headers)\n",
    "print(data)\n",
    "print(response.json())"
   ]
  },
  {
   "cell_type": "code",
   "execution_count": 23,
   "metadata": {},
   "outputs": [
    {
     "name": "stdout",
     "output_type": "stream",
     "text": [
      "{'input_source_hash': 'QmezFG2Coe5d86Cd1UPdtwaqhjr1Mox6XrMNN9ATynJoge'}\n",
      "{'Hash': 'QmcEc3KVCay5yTosZyVSsyCNiBqLh3o4gSLFscWwkGrx2m', 'Name': 'file', 'Size': '14940'}\n"
     ]
    }
   ],
   "source": [
    "#CV030_1\n",
    "url = 'https://100api.orai.dev/cv030_1'\n",
    "data = {'input_source_hash': 'QmezFG2Coe5d86Cd1UPdtwaqhjr1Mox6XrMNN9ATynJoge'}\n",
    "headers = {\n",
    "        'Authorization': 'ai_market'\n",
    "    }\n",
    "response = requests.post(url, data=data, headers=headers)\n",
    "print(data)\n",
    "print(response.json())"
   ]
  },
  {
   "cell_type": "code",
   "execution_count": 25,
   "metadata": {},
   "outputs": [
    {
     "name": "stdout",
     "output_type": "stream",
     "text": [
      "{'input_source_hash': 'QmcEc3KVCay5yTosZyVSsyCNiBqLh3o4gSLFscWwkGrx2m'}\n",
      "{'Hash': 'QmXVRtZ9e36PWbA5rKynkEk6pcTJg7qRZA39U1UF4dczcB', 'Name': 'file', 'Size': '14705'}\n"
     ]
    }
   ],
   "source": [
    "#CV030_2\n",
    "url = 'https://100api.orai.dev/cv030_2'\n",
    "data = {'input_source_hash': 'QmcEc3KVCay5yTosZyVSsyCNiBqLh3o4gSLFscWwkGrx2m'}\n",
    "headers = {\n",
    "        'Authorization': 'ai_market'\n",
    "    }\n",
    "response = requests.post(url, data=data, headers=headers)\n",
    "print(data)\n",
    "print(response.json())"
   ]
  },
  {
   "cell_type": "code",
   "execution_count": 26,
   "metadata": {},
   "outputs": [],
   "source": [
    "#CV031\n",
    "url = 'https://100api.orai.dev/cv031'\n",
    "data = {'input_source_hash': 'QmcEc3KVCay5yTosZyVSsyCNiBqLh3o4gSLFscWwkGrx2m'}\n",
    "headers = {\n",
    "        'Authorization': 'ai_market'\n",
    "    }\n",
    "response = requests.post(url, data=data, headers=headers)\n",
    "print(data)\n",
    "print(response.json())"
   ]
  },
  {
   "cell_type": "code",
   "execution_count": null,
   "metadata": {},
   "outputs": [],
   "source": []
  }
 ],
 "metadata": {
  "kernelspec": {
   "display_name": "Python 3.10.5 64-bit",
   "language": "python",
   "name": "python3"
  },
  "language_info": {
   "codemirror_mode": {
    "name": "ipython",
    "version": 3
   },
   "file_extension": ".py",
   "mimetype": "text/x-python",
   "name": "python",
   "nbconvert_exporter": "python",
   "pygments_lexer": "ipython3",
   "version": "3.10.5"
  },
  "orig_nbformat": 4,
  "vscode": {
   "interpreter": {
    "hash": "aee8b7b246df8f9039afb4144a1f6fd8d2ca17a180786b69acc140d282b71a49"
   }
  }
 },
 "nbformat": 4,
 "nbformat_minor": 2
}
