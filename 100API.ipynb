{
 "cells": [
  {
   "cell_type": "code",
   "execution_count": 1,
   "metadata": {},
   "outputs": [],
   "source": [
    "import requests"
   ]
  },
  {
   "cell_type": "code",
   "execution_count": 3,
   "metadata": {},
   "outputs": [
    {
     "name": "stdout",
     "output_type": "stream",
     "text": [
      "{'input_source_hash': 'QmahGzqFngQnQ81gpWf5o6UkPWEH9BYWUigoeCTxSqAFsV'}\n",
      "{'Hash': 'QmZcMhLCSmXmboqhYfRrDLtTXdTkQPuPFYQS4fc9VLuAWP', 'Name': 'file', 'Size': '7922'}\n"
     ]
    }
   ],
   "source": [
    "#CV001\n",
    "url = 'https://100api.orai.dev/cv001'\n",
    "data = {'input_source_hash': 'QmahGzqFngQnQ81gpWf5o6UkPWEH9BYWUigoeCTxSqAFsV'}\n",
    "headers = {\n",
    "        'Authorization': 'ai_market'\n",
    "    }\n",
    "response = requests.post(url, data=data, headers=headers)\n",
    "print(data)\n",
    "print(response.json())"
   ]
  },
  {
   "cell_type": "code",
   "execution_count": 4,
   "metadata": {},
   "outputs": [
    {
     "name": "stdout",
     "output_type": "stream",
     "text": [
      "{'input_source_hash': 'QmahGzqFngQnQ81gpWf5o6UkPWEH9BYWUigoeCTxSqAFsV'}\n",
      "{'Hash': 'QmaQEmMm8C5tE7CQFoVk54bzEtTNUSH1u5iTprRkPLD6z8', 'Name': 'file', 'Size': '7294'}\n"
     ]
    }
   ],
   "source": [
    "#CV001_2\n",
    "url = 'https://100api.orai.dev/cv001_2'\n",
    "data = {'input_source_hash': 'QmahGzqFngQnQ81gpWf5o6UkPWEH9BYWUigoeCTxSqAFsV'}\n",
    "headers = {\n",
    "        'Authorization': 'ai_market'\n",
    "    }\n",
    "response = requests.post(url, data=data, headers=headers)\n",
    "print(data)\n",
    "print(response.json())"
   ]
  },
  {
   "cell_type": "code",
   "execution_count": 5,
   "metadata": {},
   "outputs": [
    {
     "name": "stdout",
     "output_type": "stream",
     "text": [
      "{'input_source_hash': 'QmahGzqFngQnQ81gpWf5o6UkPWEH9BYWUigoeCTxSqAFsV'}\n",
      "{'Hash': 'QmQ97rXSpoa31QSbKSrPWnwSBUrvkC1wM6QWYv63P6jtcs', 'Name': 'file', 'Size': '20296'}\n"
     ]
    }
   ],
   "source": [
    "#CV002\n",
    "url = 'https://100api.orai.dev/cv002'\n",
    "data = {'input_source_hash': 'QmahGzqFngQnQ81gpWf5o6UkPWEH9BYWUigoeCTxSqAFsV'}\n",
    "headers = {\n",
    "        'Authorization': 'ai_market'\n",
    "    }\n",
    "response = requests.post(url, data=data, headers=headers)\n",
    "print(data)\n",
    "print(response.json())"
   ]
  },
  {
   "cell_type": "code",
   "execution_count": 7,
   "metadata": {},
   "outputs": [
    {
     "name": "stdout",
     "output_type": "stream",
     "text": [
      "{'input_source_hash': 'QmahGzqFngQnQ81gpWf5o6UkPWEH9BYWUigoeCTxSqAFsV'}\n",
      "{'Hash': 'QmWYtM7zp3s698EKK1ybWkwpBKg8eNLvEf2bSRtLtzpBnw', 'Name': 'file', 'Size': '11918'}\n"
     ]
    }
   ],
   "source": [
    "#CV002_2\n",
    "url = 'https://100api.orai.dev/cv002_2'\n",
    "data = {'input_source_hash': 'QmahGzqFngQnQ81gpWf5o6UkPWEH9BYWUigoeCTxSqAFsV'}\n",
    "headers = {\n",
    "        'Authorization': 'ai_market'\n",
    "    }\n",
    "response = requests.post(url, data=data, headers=headers)\n",
    "print(data)\n",
    "print(response.json())"
   ]
  },
  {
   "cell_type": "code",
   "execution_count": 8,
   "metadata": {},
   "outputs": [
    {
     "name": "stdout",
     "output_type": "stream",
     "text": [
      "{'input_source_hash': 'QmahGzqFngQnQ81gpWf5o6UkPWEH9BYWUigoeCTxSqAFsV'}\n",
      "{'Hash': 'QmdD7TjPfwXYgJjLZQQ4dpaVAjZyCS4cv2o6vKJ5eB2P1k', 'Name': 'output_1661764306.6392357.jpg', 'Size': '25576'}\n"
     ]
    }
   ],
   "source": [
    "#CV002_3\n",
    "url = 'https://100api.orai.dev/cv002_3'\n",
    "data = {'input_source_hash': 'QmahGzqFngQnQ81gpWf5o6UkPWEH9BYWUigoeCTxSqAFsV'}\n",
    "headers = {\n",
    "        'Authorization': 'ai_market'\n",
    "    }\n",
    "response = requests.post(url, data=data, headers=headers)\n",
    "print(data)\n",
    "print(response.json())"
   ]
  },
  {
   "cell_type": "code",
   "execution_count": 12,
   "metadata": {},
   "outputs": [
    {
     "name": "stdout",
     "output_type": "stream",
     "text": [
      "{'input_source_hash': 'QmZcMhLCSmXmboqhYfRrDLtTXdTkQPuPFYQS4fc9VLuAWP'}\n",
      "{'data': 'empty range for randrange() (0, 0, 0)', 'status': 'error'}\n"
     ]
    }
   ],
   "source": [
    "#CV003_1\n",
    "url = 'https://100api.orai.dev/cv003_1'\n",
    "data = {'input_source_hash': 'QmZcMhLCSmXmboqhYfRrDLtTXdTkQPuPFYQS4fc9VLuAWP'}\n",
    "headers = {\n",
    "        'Authorization': 'ai_market'\n",
    "    }\n",
    "response = requests.post(url, data=data, headers=headers)\n",
    "print(data)\n",
    "print(response.json())"
   ]
  },
  {
   "cell_type": "code",
   "execution_count": null,
   "metadata": {},
   "outputs": [],
   "source": [
    "#CV003_2\n",
    "url = 'https://100api.orai.dev/cv003_2'\n",
    "data = {'input_source_hash': 'QmZcMhLCSmXmboqhYfRrDLtTXdTkQPuPFYQS4fc9VLuAWP'}\n",
    "headers = {\n",
    "        'Authorization': 'ai_market'\n",
    "    }\n",
    "response = requests.post(url, data=data, headers=headers)\n",
    "print(data)\n",
    "print(response.json())"
   ]
  },
  {
   "cell_type": "code",
   "execution_count": null,
   "metadata": {},
   "outputs": [],
   "source": []
  },
  {
   "cell_type": "code",
   "execution_count": null,
   "metadata": {},
   "outputs": [],
   "source": []
  },
  {
   "cell_type": "code",
   "execution_count": null,
   "metadata": {},
   "outputs": [],
   "source": []
  },
  {
   "cell_type": "code",
   "execution_count": null,
   "metadata": {},
   "outputs": [],
   "source": []
  },
  {
   "cell_type": "code",
   "execution_count": null,
   "metadata": {},
   "outputs": [],
   "source": []
  },
  {
   "cell_type": "code",
   "execution_count": null,
   "metadata": {},
   "outputs": [],
   "source": []
  }
 ],
 "metadata": {
  "kernelspec": {
   "display_name": "Python 3.10.5 64-bit",
   "language": "python",
   "name": "python3"
  },
  "language_info": {
   "codemirror_mode": {
    "name": "ipython",
    "version": 3
   },
   "file_extension": ".py",
   "mimetype": "text/x-python",
   "name": "python",
   "nbconvert_exporter": "python",
   "pygments_lexer": "ipython3",
   "version": "3.10.5"
  },
  "orig_nbformat": 4,
  "vscode": {
   "interpreter": {
    "hash": "aee8b7b246df8f9039afb4144a1f6fd8d2ca17a180786b69acc140d282b71a49"
   }
  }
 },
 "nbformat": 4,
 "nbformat_minor": 2
}
